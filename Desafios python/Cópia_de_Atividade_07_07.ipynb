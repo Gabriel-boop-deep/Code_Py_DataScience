{
  "nbformat": 4,
  "nbformat_minor": 0,
  "metadata": {
    "colab": {
      "name": "Cópia de Atividade_07_07.ipynb",
      "provenance": [],
      "collapsed_sections": []
    },
    "kernelspec": {
      "name": "python3",
      "display_name": "Python 3"
    },
    "language_info": {
      "name": "python"
    }
  },
  "cells": [
    {
      "cell_type": "markdown",
      "source": [
        "# Atividades - Encontro 07/07\n",
        "\n",
        "Para as atividades de hoje, você vai precisar gerar um dataset contendo dados educacionais de uma amostra aleatória de mil municípios a partir do Google BigQuery.\n",
        "\n",
        "Utilize a Query abaixo e importe o CSV resultante no ambiente do Colab/Deepnote.\n",
        "\n",
        "`SELECT * FROM basedosdados.br_inep_ideb.escola WHERE ano=2019 AND nota_saeb_matematica IS NOT NULL AND anos_escolares = 'iniciais (1-5)' ORDER BY RAND() LIMIT 1000;`\n",
        "\n",
        "Este dataset contém a média das notas de alunos do Sistema de Avaliação da Educação Básica (SAEB) por município, o ìndice de Desenvolvimento da Educação Básica (IDEB) do município, entre outras informações relacionadas. Para mais detalhes podem consultar o dicionário de dados no site da [Base dos Dados](https://basedosdados.org/dataset/br-inep-ideb?bdm_table=escola).\n",
        "\n",
        "Note que estamos trabalhando apenas com o ano de 2019."
      ],
      "metadata": {
        "id": "jHxAzior5elu"
      }
    },
    {
      "cell_type": "markdown",
      "source": [
        "### Atividade 1: Gerando Estatísticas Descritivas"
      ],
      "metadata": {
        "id": "Xhu6KDbcq1gS"
      }
    },
    {
      "cell_type": "code",
      "execution_count": 72,
      "metadata": {
        "id": "GWOFDrCyiq0p"
      },
      "outputs": [],
      "source": [
        "import pandas as pd\n",
        "import seaborn as sns\n",
        "import plotly.express as px\n",
        "import numpy as np\n",
        "from google.cloud import bigquery\n",
        "from google.oauth2 import service_account"
      ]
    },
    {
      "cell_type": "markdown",
      "source": [
        "Importe o arquivo CSV em Pandas"
      ],
      "metadata": {
        "id": "HjMXNHHZ8FnL"
      }
    },
    {
      "cell_type": "code",
      "source": [
        "# código\n",
        "credencial=service_account.Credentials.from_service_account_file(\n",
        "    '/content/drive/MyDrive/SIRIUS/Dados/Chaves/gabriel-sirius-e7b998baf018.json'\n",
        ")"
      ],
      "metadata": {
        "id": "9yHTGrThmN6I"
      },
      "execution_count": 73,
      "outputs": []
    },
    {
      "cell_type": "code",
      "source": [
        "cliente=bigquery.Client(project=credencial.project_id,credentials=credencial)"
      ],
      "metadata": {
        "id": "A6DGyCFsQ0kE"
      },
      "execution_count": 74,
      "outputs": []
    },
    {
      "cell_type": "code",
      "source": [
        "df_ideb=cliente.query(\n",
        "    '''\n",
        "    SELECT * FROM basedosdados.br_inep_ideb.escola WHERE ano=2019 AND nota_saeb_matematica IS NOT NULL AND anos_escolares = 'iniciais (1-5)' ORDER BY RAND() LIMIT 1000;\n",
        "    ''').to_dataframe()"
      ],
      "metadata": {
        "id": "p_sApUsaRDAN"
      },
      "execution_count": 75,
      "outputs": []
    },
    {
      "cell_type": "code",
      "source": [
        "from google.colab import drive\n",
        "drive.mount('/content/drive')"
      ],
      "metadata": {
        "colab": {
          "base_uri": "https://localhost:8080/"
        },
        "id": "BLnpOmqqQdYt",
        "outputId": "58bfb35e-9366-436c-c15d-32a091743df6"
      },
      "execution_count": 76,
      "outputs": [
        {
          "output_type": "stream",
          "name": "stdout",
          "text": [
            "Drive already mounted at /content/drive; to attempt to forcibly remount, call drive.mount(\"/content/drive\", force_remount=True).\n"
          ]
        }
      ]
    },
    {
      "cell_type": "code",
      "source": [
        "df_ideb.shape"
      ],
      "metadata": {
        "colab": {
          "base_uri": "https://localhost:8080/"
        },
        "id": "xWwG9CpU-Xjl",
        "outputId": "f3dfd924-9b82-400f-caaa-5c7ff512666d"
      },
      "execution_count": 77,
      "outputs": [
        {
          "output_type": "execute_result",
          "data": {
            "text/plain": [
              "(1000, 14)"
            ]
          },
          "metadata": {},
          "execution_count": 77
        }
      ]
    },
    {
      "cell_type": "markdown",
      "source": [
        "Gere uma tabela descritiva dos dados e compare medidas de tendência central, dispersão e quartis entre diferentes estados brasileiros para o valor do IDEB.\n",
        "\n",
        "Dica: Crie diferentes dataframes com as medidas usando 'groupby' e em seguida integre todas as colunas em um novo DataFrame. No final, você pode ordenar por IDEB (do maior para o menor)."
      ],
      "metadata": {
        "id": "JRQJnXfeWpod"
      }
    },
    {
      "cell_type": "code",
      "source": [
        "# código\n",
        "df_trata=df_ideb.groupby('sigla_uf')['ideb'].agg([np.mean,np.std,np.median,np.var]).head()"
      ],
      "metadata": {
        "id": "BSfj7iiyRZ37"
      },
      "execution_count": 78,
      "outputs": []
    },
    {
      "cell_type": "code",
      "source": [
        "df_trata"
      ],
      "metadata": {
        "colab": {
          "base_uri": "https://localhost:8080/",
          "height": 238
        },
        "id": "EO60O0rpC5AP",
        "outputId": "15ff3cd3-fb33-4744-fbf9-b0bec8a2f34d"
      },
      "execution_count": 79,
      "outputs": [
        {
          "output_type": "execute_result",
          "data": {
            "text/plain": [
              "              mean       std  median       var\n",
              "sigla_uf                                      \n",
              "AC        5.757143  1.045398    5.50  1.092857\n",
              "AL        5.190476  0.920274    5.40  0.846905\n",
              "AM        4.668421  1.145063    4.60  1.311170\n",
              "AP        4.425000  0.877021    4.15  0.769167\n",
              "BA        4.608081  0.989916    4.60  0.979934"
            ],
            "text/html": [
              "\n",
              "  <div id=\"df-668d5cfb-2641-4e69-8410-53bfb7e6f3dd\">\n",
              "    <div class=\"colab-df-container\">\n",
              "      <div>\n",
              "<style scoped>\n",
              "    .dataframe tbody tr th:only-of-type {\n",
              "        vertical-align: middle;\n",
              "    }\n",
              "\n",
              "    .dataframe tbody tr th {\n",
              "        vertical-align: top;\n",
              "    }\n",
              "\n",
              "    .dataframe thead th {\n",
              "        text-align: right;\n",
              "    }\n",
              "</style>\n",
              "<table border=\"1\" class=\"dataframe\">\n",
              "  <thead>\n",
              "    <tr style=\"text-align: right;\">\n",
              "      <th></th>\n",
              "      <th>mean</th>\n",
              "      <th>std</th>\n",
              "      <th>median</th>\n",
              "      <th>var</th>\n",
              "    </tr>\n",
              "    <tr>\n",
              "      <th>sigla_uf</th>\n",
              "      <th></th>\n",
              "      <th></th>\n",
              "      <th></th>\n",
              "      <th></th>\n",
              "    </tr>\n",
              "  </thead>\n",
              "  <tbody>\n",
              "    <tr>\n",
              "      <th>AC</th>\n",
              "      <td>5.757143</td>\n",
              "      <td>1.045398</td>\n",
              "      <td>5.50</td>\n",
              "      <td>1.092857</td>\n",
              "    </tr>\n",
              "    <tr>\n",
              "      <th>AL</th>\n",
              "      <td>5.190476</td>\n",
              "      <td>0.920274</td>\n",
              "      <td>5.40</td>\n",
              "      <td>0.846905</td>\n",
              "    </tr>\n",
              "    <tr>\n",
              "      <th>AM</th>\n",
              "      <td>4.668421</td>\n",
              "      <td>1.145063</td>\n",
              "      <td>4.60</td>\n",
              "      <td>1.311170</td>\n",
              "    </tr>\n",
              "    <tr>\n",
              "      <th>AP</th>\n",
              "      <td>4.425000</td>\n",
              "      <td>0.877021</td>\n",
              "      <td>4.15</td>\n",
              "      <td>0.769167</td>\n",
              "    </tr>\n",
              "    <tr>\n",
              "      <th>BA</th>\n",
              "      <td>4.608081</td>\n",
              "      <td>0.989916</td>\n",
              "      <td>4.60</td>\n",
              "      <td>0.979934</td>\n",
              "    </tr>\n",
              "  </tbody>\n",
              "</table>\n",
              "</div>\n",
              "      <button class=\"colab-df-convert\" onclick=\"convertToInteractive('df-668d5cfb-2641-4e69-8410-53bfb7e6f3dd')\"\n",
              "              title=\"Convert this dataframe to an interactive table.\"\n",
              "              style=\"display:none;\">\n",
              "        \n",
              "  <svg xmlns=\"http://www.w3.org/2000/svg\" height=\"24px\"viewBox=\"0 0 24 24\"\n",
              "       width=\"24px\">\n",
              "    <path d=\"M0 0h24v24H0V0z\" fill=\"none\"/>\n",
              "    <path d=\"M18.56 5.44l.94 2.06.94-2.06 2.06-.94-2.06-.94-.94-2.06-.94 2.06-2.06.94zm-11 1L8.5 8.5l.94-2.06 2.06-.94-2.06-.94L8.5 2.5l-.94 2.06-2.06.94zm10 10l.94 2.06.94-2.06 2.06-.94-2.06-.94-.94-2.06-.94 2.06-2.06.94z\"/><path d=\"M17.41 7.96l-1.37-1.37c-.4-.4-.92-.59-1.43-.59-.52 0-1.04.2-1.43.59L10.3 9.45l-7.72 7.72c-.78.78-.78 2.05 0 2.83L4 21.41c.39.39.9.59 1.41.59.51 0 1.02-.2 1.41-.59l7.78-7.78 2.81-2.81c.8-.78.8-2.07 0-2.86zM5.41 20L4 18.59l7.72-7.72 1.47 1.35L5.41 20z\"/>\n",
              "  </svg>\n",
              "      </button>\n",
              "      \n",
              "  <style>\n",
              "    .colab-df-container {\n",
              "      display:flex;\n",
              "      flex-wrap:wrap;\n",
              "      gap: 12px;\n",
              "    }\n",
              "\n",
              "    .colab-df-convert {\n",
              "      background-color: #E8F0FE;\n",
              "      border: none;\n",
              "      border-radius: 50%;\n",
              "      cursor: pointer;\n",
              "      display: none;\n",
              "      fill: #1967D2;\n",
              "      height: 32px;\n",
              "      padding: 0 0 0 0;\n",
              "      width: 32px;\n",
              "    }\n",
              "\n",
              "    .colab-df-convert:hover {\n",
              "      background-color: #E2EBFA;\n",
              "      box-shadow: 0px 1px 2px rgba(60, 64, 67, 0.3), 0px 1px 3px 1px rgba(60, 64, 67, 0.15);\n",
              "      fill: #174EA6;\n",
              "    }\n",
              "\n",
              "    [theme=dark] .colab-df-convert {\n",
              "      background-color: #3B4455;\n",
              "      fill: #D2E3FC;\n",
              "    }\n",
              "\n",
              "    [theme=dark] .colab-df-convert:hover {\n",
              "      background-color: #434B5C;\n",
              "      box-shadow: 0px 1px 3px 1px rgba(0, 0, 0, 0.15);\n",
              "      filter: drop-shadow(0px 1px 2px rgba(0, 0, 0, 0.3));\n",
              "      fill: #FFFFFF;\n",
              "    }\n",
              "  </style>\n",
              "\n",
              "      <script>\n",
              "        const buttonEl =\n",
              "          document.querySelector('#df-668d5cfb-2641-4e69-8410-53bfb7e6f3dd button.colab-df-convert');\n",
              "        buttonEl.style.display =\n",
              "          google.colab.kernel.accessAllowed ? 'block' : 'none';\n",
              "\n",
              "        async function convertToInteractive(key) {\n",
              "          const element = document.querySelector('#df-668d5cfb-2641-4e69-8410-53bfb7e6f3dd');\n",
              "          const dataTable =\n",
              "            await google.colab.kernel.invokeFunction('convertToInteractive',\n",
              "                                                     [key], {});\n",
              "          if (!dataTable) return;\n",
              "\n",
              "          const docLinkHtml = 'Like what you see? Visit the ' +\n",
              "            '<a target=\"_blank\" href=https://colab.research.google.com/notebooks/data_table.ipynb>data table notebook</a>'\n",
              "            + ' to learn more about interactive tables.';\n",
              "          element.innerHTML = '';\n",
              "          dataTable['output_type'] = 'display_data';\n",
              "          await google.colab.output.renderOutput(dataTable, element);\n",
              "          const docLink = document.createElement('div');\n",
              "          docLink.innerHTML = docLinkHtml;\n",
              "          element.appendChild(docLink);\n",
              "        }\n",
              "      </script>\n",
              "    </div>\n",
              "  </div>\n",
              "  "
            ]
          },
          "metadata": {},
          "execution_count": 79
        }
      ]
    },
    {
      "cell_type": "code",
      "source": [
        "df_25=df_ideb[['sigla_uf','ideb']].groupby('sigla_uf').quantile(0.25)"
      ],
      "metadata": {
        "id": "UwawLxeHZrii"
      },
      "execution_count": 80,
      "outputs": []
    },
    {
      "cell_type": "code",
      "source": [
        "df_25"
      ],
      "metadata": {
        "colab": {
          "base_uri": "https://localhost:8080/",
          "height": 927
        },
        "id": "9gJ9-i-kF1zg",
        "outputId": "27cf19c8-c24b-4b03-ae5e-b1d01ae519f4"
      },
      "execution_count": 81,
      "outputs": [
        {
          "output_type": "execute_result",
          "data": {
            "text/plain": [
              "           ideb\n",
              "sigla_uf       \n",
              "AC        5.050\n",
              "AL        4.400\n",
              "AM        3.700\n",
              "AP        4.000\n",
              "BA        3.800\n",
              "CE        5.700\n",
              "DF        5.400\n",
              "ES        5.425\n",
              "GO        5.275\n",
              "MA        3.900\n",
              "MG        5.500\n",
              "MS        4.700\n",
              "MT        5.300\n",
              "PA        3.725\n",
              "PB        4.500\n",
              "PE        4.600\n",
              "PI        4.200\n",
              "PR        5.900\n",
              "RJ        4.750\n",
              "RN        3.850\n",
              "RO        4.850\n",
              "RR        3.150\n",
              "RS        5.375\n",
              "SC        5.800\n",
              "SE        3.850\n",
              "SP        6.000\n",
              "TO        4.550"
            ],
            "text/html": [
              "\n",
              "  <div id=\"df-96b64a33-f95f-45fa-894b-b66839bc0ced\">\n",
              "    <div class=\"colab-df-container\">\n",
              "      <div>\n",
              "<style scoped>\n",
              "    .dataframe tbody tr th:only-of-type {\n",
              "        vertical-align: middle;\n",
              "    }\n",
              "\n",
              "    .dataframe tbody tr th {\n",
              "        vertical-align: top;\n",
              "    }\n",
              "\n",
              "    .dataframe thead th {\n",
              "        text-align: right;\n",
              "    }\n",
              "</style>\n",
              "<table border=\"1\" class=\"dataframe\">\n",
              "  <thead>\n",
              "    <tr style=\"text-align: right;\">\n",
              "      <th></th>\n",
              "      <th>ideb</th>\n",
              "    </tr>\n",
              "    <tr>\n",
              "      <th>sigla_uf</th>\n",
              "      <th></th>\n",
              "    </tr>\n",
              "  </thead>\n",
              "  <tbody>\n",
              "    <tr>\n",
              "      <th>AC</th>\n",
              "      <td>5.050</td>\n",
              "    </tr>\n",
              "    <tr>\n",
              "      <th>AL</th>\n",
              "      <td>4.400</td>\n",
              "    </tr>\n",
              "    <tr>\n",
              "      <th>AM</th>\n",
              "      <td>3.700</td>\n",
              "    </tr>\n",
              "    <tr>\n",
              "      <th>AP</th>\n",
              "      <td>4.000</td>\n",
              "    </tr>\n",
              "    <tr>\n",
              "      <th>BA</th>\n",
              "      <td>3.800</td>\n",
              "    </tr>\n",
              "    <tr>\n",
              "      <th>CE</th>\n",
              "      <td>5.700</td>\n",
              "    </tr>\n",
              "    <tr>\n",
              "      <th>DF</th>\n",
              "      <td>5.400</td>\n",
              "    </tr>\n",
              "    <tr>\n",
              "      <th>ES</th>\n",
              "      <td>5.425</td>\n",
              "    </tr>\n",
              "    <tr>\n",
              "      <th>GO</th>\n",
              "      <td>5.275</td>\n",
              "    </tr>\n",
              "    <tr>\n",
              "      <th>MA</th>\n",
              "      <td>3.900</td>\n",
              "    </tr>\n",
              "    <tr>\n",
              "      <th>MG</th>\n",
              "      <td>5.500</td>\n",
              "    </tr>\n",
              "    <tr>\n",
              "      <th>MS</th>\n",
              "      <td>4.700</td>\n",
              "    </tr>\n",
              "    <tr>\n",
              "      <th>MT</th>\n",
              "      <td>5.300</td>\n",
              "    </tr>\n",
              "    <tr>\n",
              "      <th>PA</th>\n",
              "      <td>3.725</td>\n",
              "    </tr>\n",
              "    <tr>\n",
              "      <th>PB</th>\n",
              "      <td>4.500</td>\n",
              "    </tr>\n",
              "    <tr>\n",
              "      <th>PE</th>\n",
              "      <td>4.600</td>\n",
              "    </tr>\n",
              "    <tr>\n",
              "      <th>PI</th>\n",
              "      <td>4.200</td>\n",
              "    </tr>\n",
              "    <tr>\n",
              "      <th>PR</th>\n",
              "      <td>5.900</td>\n",
              "    </tr>\n",
              "    <tr>\n",
              "      <th>RJ</th>\n",
              "      <td>4.750</td>\n",
              "    </tr>\n",
              "    <tr>\n",
              "      <th>RN</th>\n",
              "      <td>3.850</td>\n",
              "    </tr>\n",
              "    <tr>\n",
              "      <th>RO</th>\n",
              "      <td>4.850</td>\n",
              "    </tr>\n",
              "    <tr>\n",
              "      <th>RR</th>\n",
              "      <td>3.150</td>\n",
              "    </tr>\n",
              "    <tr>\n",
              "      <th>RS</th>\n",
              "      <td>5.375</td>\n",
              "    </tr>\n",
              "    <tr>\n",
              "      <th>SC</th>\n",
              "      <td>5.800</td>\n",
              "    </tr>\n",
              "    <tr>\n",
              "      <th>SE</th>\n",
              "      <td>3.850</td>\n",
              "    </tr>\n",
              "    <tr>\n",
              "      <th>SP</th>\n",
              "      <td>6.000</td>\n",
              "    </tr>\n",
              "    <tr>\n",
              "      <th>TO</th>\n",
              "      <td>4.550</td>\n",
              "    </tr>\n",
              "  </tbody>\n",
              "</table>\n",
              "</div>\n",
              "      <button class=\"colab-df-convert\" onclick=\"convertToInteractive('df-96b64a33-f95f-45fa-894b-b66839bc0ced')\"\n",
              "              title=\"Convert this dataframe to an interactive table.\"\n",
              "              style=\"display:none;\">\n",
              "        \n",
              "  <svg xmlns=\"http://www.w3.org/2000/svg\" height=\"24px\"viewBox=\"0 0 24 24\"\n",
              "       width=\"24px\">\n",
              "    <path d=\"M0 0h24v24H0V0z\" fill=\"none\"/>\n",
              "    <path d=\"M18.56 5.44l.94 2.06.94-2.06 2.06-.94-2.06-.94-.94-2.06-.94 2.06-2.06.94zm-11 1L8.5 8.5l.94-2.06 2.06-.94-2.06-.94L8.5 2.5l-.94 2.06-2.06.94zm10 10l.94 2.06.94-2.06 2.06-.94-2.06-.94-.94-2.06-.94 2.06-2.06.94z\"/><path d=\"M17.41 7.96l-1.37-1.37c-.4-.4-.92-.59-1.43-.59-.52 0-1.04.2-1.43.59L10.3 9.45l-7.72 7.72c-.78.78-.78 2.05 0 2.83L4 21.41c.39.39.9.59 1.41.59.51 0 1.02-.2 1.41-.59l7.78-7.78 2.81-2.81c.8-.78.8-2.07 0-2.86zM5.41 20L4 18.59l7.72-7.72 1.47 1.35L5.41 20z\"/>\n",
              "  </svg>\n",
              "      </button>\n",
              "      \n",
              "  <style>\n",
              "    .colab-df-container {\n",
              "      display:flex;\n",
              "      flex-wrap:wrap;\n",
              "      gap: 12px;\n",
              "    }\n",
              "\n",
              "    .colab-df-convert {\n",
              "      background-color: #E8F0FE;\n",
              "      border: none;\n",
              "      border-radius: 50%;\n",
              "      cursor: pointer;\n",
              "      display: none;\n",
              "      fill: #1967D2;\n",
              "      height: 32px;\n",
              "      padding: 0 0 0 0;\n",
              "      width: 32px;\n",
              "    }\n",
              "\n",
              "    .colab-df-convert:hover {\n",
              "      background-color: #E2EBFA;\n",
              "      box-shadow: 0px 1px 2px rgba(60, 64, 67, 0.3), 0px 1px 3px 1px rgba(60, 64, 67, 0.15);\n",
              "      fill: #174EA6;\n",
              "    }\n",
              "\n",
              "    [theme=dark] .colab-df-convert {\n",
              "      background-color: #3B4455;\n",
              "      fill: #D2E3FC;\n",
              "    }\n",
              "\n",
              "    [theme=dark] .colab-df-convert:hover {\n",
              "      background-color: #434B5C;\n",
              "      box-shadow: 0px 1px 3px 1px rgba(0, 0, 0, 0.15);\n",
              "      filter: drop-shadow(0px 1px 2px rgba(0, 0, 0, 0.3));\n",
              "      fill: #FFFFFF;\n",
              "    }\n",
              "  </style>\n",
              "\n",
              "      <script>\n",
              "        const buttonEl =\n",
              "          document.querySelector('#df-96b64a33-f95f-45fa-894b-b66839bc0ced button.colab-df-convert');\n",
              "        buttonEl.style.display =\n",
              "          google.colab.kernel.accessAllowed ? 'block' : 'none';\n",
              "\n",
              "        async function convertToInteractive(key) {\n",
              "          const element = document.querySelector('#df-96b64a33-f95f-45fa-894b-b66839bc0ced');\n",
              "          const dataTable =\n",
              "            await google.colab.kernel.invokeFunction('convertToInteractive',\n",
              "                                                     [key], {});\n",
              "          if (!dataTable) return;\n",
              "\n",
              "          const docLinkHtml = 'Like what you see? Visit the ' +\n",
              "            '<a target=\"_blank\" href=https://colab.research.google.com/notebooks/data_table.ipynb>data table notebook</a>'\n",
              "            + ' to learn more about interactive tables.';\n",
              "          element.innerHTML = '';\n",
              "          dataTable['output_type'] = 'display_data';\n",
              "          await google.colab.output.renderOutput(dataTable, element);\n",
              "          const docLink = document.createElement('div');\n",
              "          docLink.innerHTML = docLinkHtml;\n",
              "          element.appendChild(docLink);\n",
              "        }\n",
              "      </script>\n",
              "    </div>\n",
              "  </div>\n",
              "  "
            ]
          },
          "metadata": {},
          "execution_count": 81
        }
      ]
    },
    {
      "cell_type": "code",
      "source": [
        "df_trata['1q']=df_25"
      ],
      "metadata": {
        "id": "_nglDxzTCli-"
      },
      "execution_count": 82,
      "outputs": []
    },
    {
      "cell_type": "code",
      "source": [
        "df_trata"
      ],
      "metadata": {
        "colab": {
          "base_uri": "https://localhost:8080/",
          "height": 238
        },
        "id": "ljHzE6ciDE-0",
        "outputId": "07136abe-98d3-4c2d-8079-c718b300c54a"
      },
      "execution_count": 83,
      "outputs": [
        {
          "output_type": "execute_result",
          "data": {
            "text/plain": [
              "              mean       std  median       var    1q\n",
              "sigla_uf                                            \n",
              "AC        5.757143  1.045398    5.50  1.092857  5.05\n",
              "AL        5.190476  0.920274    5.40  0.846905  4.40\n",
              "AM        4.668421  1.145063    4.60  1.311170  3.70\n",
              "AP        4.425000  0.877021    4.15  0.769167  4.00\n",
              "BA        4.608081  0.989916    4.60  0.979934  3.80"
            ],
            "text/html": [
              "\n",
              "  <div id=\"df-f888e73d-be5f-42ed-af2d-847b445048d0\">\n",
              "    <div class=\"colab-df-container\">\n",
              "      <div>\n",
              "<style scoped>\n",
              "    .dataframe tbody tr th:only-of-type {\n",
              "        vertical-align: middle;\n",
              "    }\n",
              "\n",
              "    .dataframe tbody tr th {\n",
              "        vertical-align: top;\n",
              "    }\n",
              "\n",
              "    .dataframe thead th {\n",
              "        text-align: right;\n",
              "    }\n",
              "</style>\n",
              "<table border=\"1\" class=\"dataframe\">\n",
              "  <thead>\n",
              "    <tr style=\"text-align: right;\">\n",
              "      <th></th>\n",
              "      <th>mean</th>\n",
              "      <th>std</th>\n",
              "      <th>median</th>\n",
              "      <th>var</th>\n",
              "      <th>1q</th>\n",
              "    </tr>\n",
              "    <tr>\n",
              "      <th>sigla_uf</th>\n",
              "      <th></th>\n",
              "      <th></th>\n",
              "      <th></th>\n",
              "      <th></th>\n",
              "      <th></th>\n",
              "    </tr>\n",
              "  </thead>\n",
              "  <tbody>\n",
              "    <tr>\n",
              "      <th>AC</th>\n",
              "      <td>5.757143</td>\n",
              "      <td>1.045398</td>\n",
              "      <td>5.50</td>\n",
              "      <td>1.092857</td>\n",
              "      <td>5.05</td>\n",
              "    </tr>\n",
              "    <tr>\n",
              "      <th>AL</th>\n",
              "      <td>5.190476</td>\n",
              "      <td>0.920274</td>\n",
              "      <td>5.40</td>\n",
              "      <td>0.846905</td>\n",
              "      <td>4.40</td>\n",
              "    </tr>\n",
              "    <tr>\n",
              "      <th>AM</th>\n",
              "      <td>4.668421</td>\n",
              "      <td>1.145063</td>\n",
              "      <td>4.60</td>\n",
              "      <td>1.311170</td>\n",
              "      <td>3.70</td>\n",
              "    </tr>\n",
              "    <tr>\n",
              "      <th>AP</th>\n",
              "      <td>4.425000</td>\n",
              "      <td>0.877021</td>\n",
              "      <td>4.15</td>\n",
              "      <td>0.769167</td>\n",
              "      <td>4.00</td>\n",
              "    </tr>\n",
              "    <tr>\n",
              "      <th>BA</th>\n",
              "      <td>4.608081</td>\n",
              "      <td>0.989916</td>\n",
              "      <td>4.60</td>\n",
              "      <td>0.979934</td>\n",
              "      <td>3.80</td>\n",
              "    </tr>\n",
              "  </tbody>\n",
              "</table>\n",
              "</div>\n",
              "      <button class=\"colab-df-convert\" onclick=\"convertToInteractive('df-f888e73d-be5f-42ed-af2d-847b445048d0')\"\n",
              "              title=\"Convert this dataframe to an interactive table.\"\n",
              "              style=\"display:none;\">\n",
              "        \n",
              "  <svg xmlns=\"http://www.w3.org/2000/svg\" height=\"24px\"viewBox=\"0 0 24 24\"\n",
              "       width=\"24px\">\n",
              "    <path d=\"M0 0h24v24H0V0z\" fill=\"none\"/>\n",
              "    <path d=\"M18.56 5.44l.94 2.06.94-2.06 2.06-.94-2.06-.94-.94-2.06-.94 2.06-2.06.94zm-11 1L8.5 8.5l.94-2.06 2.06-.94-2.06-.94L8.5 2.5l-.94 2.06-2.06.94zm10 10l.94 2.06.94-2.06 2.06-.94-2.06-.94-.94-2.06-.94 2.06-2.06.94z\"/><path d=\"M17.41 7.96l-1.37-1.37c-.4-.4-.92-.59-1.43-.59-.52 0-1.04.2-1.43.59L10.3 9.45l-7.72 7.72c-.78.78-.78 2.05 0 2.83L4 21.41c.39.39.9.59 1.41.59.51 0 1.02-.2 1.41-.59l7.78-7.78 2.81-2.81c.8-.78.8-2.07 0-2.86zM5.41 20L4 18.59l7.72-7.72 1.47 1.35L5.41 20z\"/>\n",
              "  </svg>\n",
              "      </button>\n",
              "      \n",
              "  <style>\n",
              "    .colab-df-container {\n",
              "      display:flex;\n",
              "      flex-wrap:wrap;\n",
              "      gap: 12px;\n",
              "    }\n",
              "\n",
              "    .colab-df-convert {\n",
              "      background-color: #E8F0FE;\n",
              "      border: none;\n",
              "      border-radius: 50%;\n",
              "      cursor: pointer;\n",
              "      display: none;\n",
              "      fill: #1967D2;\n",
              "      height: 32px;\n",
              "      padding: 0 0 0 0;\n",
              "      width: 32px;\n",
              "    }\n",
              "\n",
              "    .colab-df-convert:hover {\n",
              "      background-color: #E2EBFA;\n",
              "      box-shadow: 0px 1px 2px rgba(60, 64, 67, 0.3), 0px 1px 3px 1px rgba(60, 64, 67, 0.15);\n",
              "      fill: #174EA6;\n",
              "    }\n",
              "\n",
              "    [theme=dark] .colab-df-convert {\n",
              "      background-color: #3B4455;\n",
              "      fill: #D2E3FC;\n",
              "    }\n",
              "\n",
              "    [theme=dark] .colab-df-convert:hover {\n",
              "      background-color: #434B5C;\n",
              "      box-shadow: 0px 1px 3px 1px rgba(0, 0, 0, 0.15);\n",
              "      filter: drop-shadow(0px 1px 2px rgba(0, 0, 0, 0.3));\n",
              "      fill: #FFFFFF;\n",
              "    }\n",
              "  </style>\n",
              "\n",
              "      <script>\n",
              "        const buttonEl =\n",
              "          document.querySelector('#df-f888e73d-be5f-42ed-af2d-847b445048d0 button.colab-df-convert');\n",
              "        buttonEl.style.display =\n",
              "          google.colab.kernel.accessAllowed ? 'block' : 'none';\n",
              "\n",
              "        async function convertToInteractive(key) {\n",
              "          const element = document.querySelector('#df-f888e73d-be5f-42ed-af2d-847b445048d0');\n",
              "          const dataTable =\n",
              "            await google.colab.kernel.invokeFunction('convertToInteractive',\n",
              "                                                     [key], {});\n",
              "          if (!dataTable) return;\n",
              "\n",
              "          const docLinkHtml = 'Like what you see? Visit the ' +\n",
              "            '<a target=\"_blank\" href=https://colab.research.google.com/notebooks/data_table.ipynb>data table notebook</a>'\n",
              "            + ' to learn more about interactive tables.';\n",
              "          element.innerHTML = '';\n",
              "          dataTable['output_type'] = 'display_data';\n",
              "          await google.colab.output.renderOutput(dataTable, element);\n",
              "          const docLink = document.createElement('div');\n",
              "          docLink.innerHTML = docLinkHtml;\n",
              "          element.appendChild(docLink);\n",
              "        }\n",
              "      </script>\n",
              "    </div>\n",
              "  </div>\n",
              "  "
            ]
          },
          "metadata": {},
          "execution_count": 83
        }
      ]
    },
    {
      "cell_type": "code",
      "source": [
        "df_50=df_ideb.groupby('sigla_uf')['ideb'].quantile(0.50)"
      ],
      "metadata": {
        "id": "Ff34G-D4B209"
      },
      "execution_count": 84,
      "outputs": []
    },
    {
      "cell_type": "code",
      "source": [
        "df_trata['2q']=df_50"
      ],
      "metadata": {
        "id": "01h8UwEGDMaz"
      },
      "execution_count": 85,
      "outputs": []
    },
    {
      "cell_type": "code",
      "source": [
        "df_75=df_ideb.groupby('sigla_uf')['ideb'].quantile(0.75)"
      ],
      "metadata": {
        "id": "FUFbnBqYB8Dc"
      },
      "execution_count": 86,
      "outputs": []
    },
    {
      "cell_type": "code",
      "source": [
        "df_trata['3q']=df_75"
      ],
      "metadata": {
        "id": "bZzkyBCHDOvZ"
      },
      "execution_count": 87,
      "outputs": []
    },
    {
      "cell_type": "code",
      "source": [
        "df_trata.rename(columns={'mean':'media_ideb'},inplace=True)"
      ],
      "metadata": {
        "id": "lv1ZIaSYE1mI"
      },
      "execution_count": 88,
      "outputs": []
    },
    {
      "cell_type": "code",
      "source": [
        "df_trata=df_trata.sort_values('media_ideb',ascending=False)"
      ],
      "metadata": {
        "id": "8ueK21dgDVkr"
      },
      "execution_count": 89,
      "outputs": []
    },
    {
      "cell_type": "markdown",
      "source": [
        "Gere uma tabulação cruzada contendo a média das notas do IDEB, para diferentes estados e tipo de escola (municipal ou estadual)."
      ],
      "metadata": {
        "id": "ta3vViEvXH55"
      }
    },
    {
      "cell_type": "markdown",
      "source": [
        "Utilize apenas os seguintes estados na análise: MG, RS e SP (rode o código abaixo para filtrar a base de dados)."
      ],
      "metadata": {
        "id": "fJZORFD6kzMh"
      }
    },
    {
      "cell_type": "code",
      "source": [
        "df_filtrado = df_ideb[(df_ideb['sigla_uf'] =='MG') | (df_ideb['sigla_uf'] == 'SP') | (df_ideb['sigla_uf'] == 'RS')]\n",
        "df_filtrado"
      ],
      "metadata": {
        "id": "79QZoffbk_yL",
        "colab": {
          "base_uri": "https://localhost:8080/",
          "height": 424
        },
        "outputId": "359db3d3-feca-40d0-99ee-e7a9201efcf0"
      },
      "execution_count": 90,
      "outputs": [
        {
          "output_type": "execute_result",
          "data": {
            "text/plain": [
              "      ano sigla_uf id_municipio id_escola       rede       ensino  \\\n",
              "0    2019       MG      3120805  31172430  municipal  fundamental   \n",
              "3    2019       SP      3505500  35206404  municipal  fundamental   \n",
              "5    2019       MG      3169901  31244244  municipal  fundamental   \n",
              "7    2019       RS      4317954  43138926   estadual  fundamental   \n",
              "12   2019       SP      3515004  35912578   estadual  fundamental   \n",
              "..    ...      ...          ...       ...        ...          ...   \n",
              "967  2019       RS      4305108  43043100   estadual  fundamental   \n",
              "971  2019       SP      3522208  35075255  municipal  fundamental   \n",
              "981  2019       MG      3130309  31033642  municipal  fundamental   \n",
              "983  2019       MG      3162500  31136808  municipal  fundamental   \n",
              "988  2019       SP      3505906  35906759   estadual  fundamental   \n",
              "\n",
              "     anos_escolares  taxa_aprovacao  indicador_rendimento  \\\n",
              "0    iniciais (1-5)            97.0              0.970562   \n",
              "3    iniciais (1-5)            94.4              0.948370   \n",
              "5    iniciais (1-5)            90.5              0.895263   \n",
              "7    iniciais (1-5)           100.0              1.000000   \n",
              "12   iniciais (1-5)            99.2              0.993010   \n",
              "..              ...             ...                   ...   \n",
              "967  iniciais (1-5)           100.0              1.000000   \n",
              "971  iniciais (1-5)           100.0              1.000000   \n",
              "981  iniciais (1-5)           100.0              1.000000   \n",
              "983  iniciais (1-5)            94.5              0.939623   \n",
              "988  iniciais (1-5)            98.0              0.980530   \n",
              "\n",
              "     nota_saeb_matematica  nota_saeb_lingua_portuguesa  \\\n",
              "0                  215.97                       198.88   \n",
              "3                  241.07                       224.83   \n",
              "5                  243.66                       237.30   \n",
              "7                  239.91                       233.94   \n",
              "12                 245.11                       219.97   \n",
              "..                    ...                          ...   \n",
              "967                247.41                       246.75   \n",
              "971                233.24                       229.99   \n",
              "981                218.13                       209.60   \n",
              "983                232.17                       210.16   \n",
              "988                242.52                       214.38   \n",
              "\n",
              "     nota_saeb_media_padronizada  ideb  projecao  \n",
              "0                       5.701618   5.5       5.6  \n",
              "3                       6.652443   6.3       5.8  \n",
              "5                       6.928789   6.2       6.3  \n",
              "7                       6.795942   6.8       5.6  \n",
              "12                      6.641361   6.6       5.6  \n",
              "..                           ...   ...       ...  \n",
              "967                     7.172354   7.2       6.7  \n",
              "971                     6.596834   6.6       NaN  \n",
              "981                     5.937748   5.9       6.9  \n",
              "983                     6.216241   5.8       6.3  \n",
              "988                     6.490488   6.4       6.3  \n",
              "\n",
              "[265 rows x 14 columns]"
            ],
            "text/html": [
              "\n",
              "  <div id=\"df-25723714-bd27-4479-a644-0ce71614b655\">\n",
              "    <div class=\"colab-df-container\">\n",
              "      <div>\n",
              "<style scoped>\n",
              "    .dataframe tbody tr th:only-of-type {\n",
              "        vertical-align: middle;\n",
              "    }\n",
              "\n",
              "    .dataframe tbody tr th {\n",
              "        vertical-align: top;\n",
              "    }\n",
              "\n",
              "    .dataframe thead th {\n",
              "        text-align: right;\n",
              "    }\n",
              "</style>\n",
              "<table border=\"1\" class=\"dataframe\">\n",
              "  <thead>\n",
              "    <tr style=\"text-align: right;\">\n",
              "      <th></th>\n",
              "      <th>ano</th>\n",
              "      <th>sigla_uf</th>\n",
              "      <th>id_municipio</th>\n",
              "      <th>id_escola</th>\n",
              "      <th>rede</th>\n",
              "      <th>ensino</th>\n",
              "      <th>anos_escolares</th>\n",
              "      <th>taxa_aprovacao</th>\n",
              "      <th>indicador_rendimento</th>\n",
              "      <th>nota_saeb_matematica</th>\n",
              "      <th>nota_saeb_lingua_portuguesa</th>\n",
              "      <th>nota_saeb_media_padronizada</th>\n",
              "      <th>ideb</th>\n",
              "      <th>projecao</th>\n",
              "    </tr>\n",
              "  </thead>\n",
              "  <tbody>\n",
              "    <tr>\n",
              "      <th>0</th>\n",
              "      <td>2019</td>\n",
              "      <td>MG</td>\n",
              "      <td>3120805</td>\n",
              "      <td>31172430</td>\n",
              "      <td>municipal</td>\n",
              "      <td>fundamental</td>\n",
              "      <td>iniciais (1-5)</td>\n",
              "      <td>97.0</td>\n",
              "      <td>0.970562</td>\n",
              "      <td>215.97</td>\n",
              "      <td>198.88</td>\n",
              "      <td>5.701618</td>\n",
              "      <td>5.5</td>\n",
              "      <td>5.6</td>\n",
              "    </tr>\n",
              "    <tr>\n",
              "      <th>3</th>\n",
              "      <td>2019</td>\n",
              "      <td>SP</td>\n",
              "      <td>3505500</td>\n",
              "      <td>35206404</td>\n",
              "      <td>municipal</td>\n",
              "      <td>fundamental</td>\n",
              "      <td>iniciais (1-5)</td>\n",
              "      <td>94.4</td>\n",
              "      <td>0.948370</td>\n",
              "      <td>241.07</td>\n",
              "      <td>224.83</td>\n",
              "      <td>6.652443</td>\n",
              "      <td>6.3</td>\n",
              "      <td>5.8</td>\n",
              "    </tr>\n",
              "    <tr>\n",
              "      <th>5</th>\n",
              "      <td>2019</td>\n",
              "      <td>MG</td>\n",
              "      <td>3169901</td>\n",
              "      <td>31244244</td>\n",
              "      <td>municipal</td>\n",
              "      <td>fundamental</td>\n",
              "      <td>iniciais (1-5)</td>\n",
              "      <td>90.5</td>\n",
              "      <td>0.895263</td>\n",
              "      <td>243.66</td>\n",
              "      <td>237.30</td>\n",
              "      <td>6.928789</td>\n",
              "      <td>6.2</td>\n",
              "      <td>6.3</td>\n",
              "    </tr>\n",
              "    <tr>\n",
              "      <th>7</th>\n",
              "      <td>2019</td>\n",
              "      <td>RS</td>\n",
              "      <td>4317954</td>\n",
              "      <td>43138926</td>\n",
              "      <td>estadual</td>\n",
              "      <td>fundamental</td>\n",
              "      <td>iniciais (1-5)</td>\n",
              "      <td>100.0</td>\n",
              "      <td>1.000000</td>\n",
              "      <td>239.91</td>\n",
              "      <td>233.94</td>\n",
              "      <td>6.795942</td>\n",
              "      <td>6.8</td>\n",
              "      <td>5.6</td>\n",
              "    </tr>\n",
              "    <tr>\n",
              "      <th>12</th>\n",
              "      <td>2019</td>\n",
              "      <td>SP</td>\n",
              "      <td>3515004</td>\n",
              "      <td>35912578</td>\n",
              "      <td>estadual</td>\n",
              "      <td>fundamental</td>\n",
              "      <td>iniciais (1-5)</td>\n",
              "      <td>99.2</td>\n",
              "      <td>0.993010</td>\n",
              "      <td>245.11</td>\n",
              "      <td>219.97</td>\n",
              "      <td>6.641361</td>\n",
              "      <td>6.6</td>\n",
              "      <td>5.6</td>\n",
              "    </tr>\n",
              "    <tr>\n",
              "      <th>...</th>\n",
              "      <td>...</td>\n",
              "      <td>...</td>\n",
              "      <td>...</td>\n",
              "      <td>...</td>\n",
              "      <td>...</td>\n",
              "      <td>...</td>\n",
              "      <td>...</td>\n",
              "      <td>...</td>\n",
              "      <td>...</td>\n",
              "      <td>...</td>\n",
              "      <td>...</td>\n",
              "      <td>...</td>\n",
              "      <td>...</td>\n",
              "      <td>...</td>\n",
              "    </tr>\n",
              "    <tr>\n",
              "      <th>967</th>\n",
              "      <td>2019</td>\n",
              "      <td>RS</td>\n",
              "      <td>4305108</td>\n",
              "      <td>43043100</td>\n",
              "      <td>estadual</td>\n",
              "      <td>fundamental</td>\n",
              "      <td>iniciais (1-5)</td>\n",
              "      <td>100.0</td>\n",
              "      <td>1.000000</td>\n",
              "      <td>247.41</td>\n",
              "      <td>246.75</td>\n",
              "      <td>7.172354</td>\n",
              "      <td>7.2</td>\n",
              "      <td>6.7</td>\n",
              "    </tr>\n",
              "    <tr>\n",
              "      <th>971</th>\n",
              "      <td>2019</td>\n",
              "      <td>SP</td>\n",
              "      <td>3522208</td>\n",
              "      <td>35075255</td>\n",
              "      <td>municipal</td>\n",
              "      <td>fundamental</td>\n",
              "      <td>iniciais (1-5)</td>\n",
              "      <td>100.0</td>\n",
              "      <td>1.000000</td>\n",
              "      <td>233.24</td>\n",
              "      <td>229.99</td>\n",
              "      <td>6.596834</td>\n",
              "      <td>6.6</td>\n",
              "      <td>NaN</td>\n",
              "    </tr>\n",
              "    <tr>\n",
              "      <th>981</th>\n",
              "      <td>2019</td>\n",
              "      <td>MG</td>\n",
              "      <td>3130309</td>\n",
              "      <td>31033642</td>\n",
              "      <td>municipal</td>\n",
              "      <td>fundamental</td>\n",
              "      <td>iniciais (1-5)</td>\n",
              "      <td>100.0</td>\n",
              "      <td>1.000000</td>\n",
              "      <td>218.13</td>\n",
              "      <td>209.60</td>\n",
              "      <td>5.937748</td>\n",
              "      <td>5.9</td>\n",
              "      <td>6.9</td>\n",
              "    </tr>\n",
              "    <tr>\n",
              "      <th>983</th>\n",
              "      <td>2019</td>\n",
              "      <td>MG</td>\n",
              "      <td>3162500</td>\n",
              "      <td>31136808</td>\n",
              "      <td>municipal</td>\n",
              "      <td>fundamental</td>\n",
              "      <td>iniciais (1-5)</td>\n",
              "      <td>94.5</td>\n",
              "      <td>0.939623</td>\n",
              "      <td>232.17</td>\n",
              "      <td>210.16</td>\n",
              "      <td>6.216241</td>\n",
              "      <td>5.8</td>\n",
              "      <td>6.3</td>\n",
              "    </tr>\n",
              "    <tr>\n",
              "      <th>988</th>\n",
              "      <td>2019</td>\n",
              "      <td>SP</td>\n",
              "      <td>3505906</td>\n",
              "      <td>35906759</td>\n",
              "      <td>estadual</td>\n",
              "      <td>fundamental</td>\n",
              "      <td>iniciais (1-5)</td>\n",
              "      <td>98.0</td>\n",
              "      <td>0.980530</td>\n",
              "      <td>242.52</td>\n",
              "      <td>214.38</td>\n",
              "      <td>6.490488</td>\n",
              "      <td>6.4</td>\n",
              "      <td>6.3</td>\n",
              "    </tr>\n",
              "  </tbody>\n",
              "</table>\n",
              "<p>265 rows × 14 columns</p>\n",
              "</div>\n",
              "      <button class=\"colab-df-convert\" onclick=\"convertToInteractive('df-25723714-bd27-4479-a644-0ce71614b655')\"\n",
              "              title=\"Convert this dataframe to an interactive table.\"\n",
              "              style=\"display:none;\">\n",
              "        \n",
              "  <svg xmlns=\"http://www.w3.org/2000/svg\" height=\"24px\"viewBox=\"0 0 24 24\"\n",
              "       width=\"24px\">\n",
              "    <path d=\"M0 0h24v24H0V0z\" fill=\"none\"/>\n",
              "    <path d=\"M18.56 5.44l.94 2.06.94-2.06 2.06-.94-2.06-.94-.94-2.06-.94 2.06-2.06.94zm-11 1L8.5 8.5l.94-2.06 2.06-.94-2.06-.94L8.5 2.5l-.94 2.06-2.06.94zm10 10l.94 2.06.94-2.06 2.06-.94-2.06-.94-.94-2.06-.94 2.06-2.06.94z\"/><path d=\"M17.41 7.96l-1.37-1.37c-.4-.4-.92-.59-1.43-.59-.52 0-1.04.2-1.43.59L10.3 9.45l-7.72 7.72c-.78.78-.78 2.05 0 2.83L4 21.41c.39.39.9.59 1.41.59.51 0 1.02-.2 1.41-.59l7.78-7.78 2.81-2.81c.8-.78.8-2.07 0-2.86zM5.41 20L4 18.59l7.72-7.72 1.47 1.35L5.41 20z\"/>\n",
              "  </svg>\n",
              "      </button>\n",
              "      \n",
              "  <style>\n",
              "    .colab-df-container {\n",
              "      display:flex;\n",
              "      flex-wrap:wrap;\n",
              "      gap: 12px;\n",
              "    }\n",
              "\n",
              "    .colab-df-convert {\n",
              "      background-color: #E8F0FE;\n",
              "      border: none;\n",
              "      border-radius: 50%;\n",
              "      cursor: pointer;\n",
              "      display: none;\n",
              "      fill: #1967D2;\n",
              "      height: 32px;\n",
              "      padding: 0 0 0 0;\n",
              "      width: 32px;\n",
              "    }\n",
              "\n",
              "    .colab-df-convert:hover {\n",
              "      background-color: #E2EBFA;\n",
              "      box-shadow: 0px 1px 2px rgba(60, 64, 67, 0.3), 0px 1px 3px 1px rgba(60, 64, 67, 0.15);\n",
              "      fill: #174EA6;\n",
              "    }\n",
              "\n",
              "    [theme=dark] .colab-df-convert {\n",
              "      background-color: #3B4455;\n",
              "      fill: #D2E3FC;\n",
              "    }\n",
              "\n",
              "    [theme=dark] .colab-df-convert:hover {\n",
              "      background-color: #434B5C;\n",
              "      box-shadow: 0px 1px 3px 1px rgba(0, 0, 0, 0.15);\n",
              "      filter: drop-shadow(0px 1px 2px rgba(0, 0, 0, 0.3));\n",
              "      fill: #FFFFFF;\n",
              "    }\n",
              "  </style>\n",
              "\n",
              "      <script>\n",
              "        const buttonEl =\n",
              "          document.querySelector('#df-25723714-bd27-4479-a644-0ce71614b655 button.colab-df-convert');\n",
              "        buttonEl.style.display =\n",
              "          google.colab.kernel.accessAllowed ? 'block' : 'none';\n",
              "\n",
              "        async function convertToInteractive(key) {\n",
              "          const element = document.querySelector('#df-25723714-bd27-4479-a644-0ce71614b655');\n",
              "          const dataTable =\n",
              "            await google.colab.kernel.invokeFunction('convertToInteractive',\n",
              "                                                     [key], {});\n",
              "          if (!dataTable) return;\n",
              "\n",
              "          const docLinkHtml = 'Like what you see? Visit the ' +\n",
              "            '<a target=\"_blank\" href=https://colab.research.google.com/notebooks/data_table.ipynb>data table notebook</a>'\n",
              "            + ' to learn more about interactive tables.';\n",
              "          element.innerHTML = '';\n",
              "          dataTable['output_type'] = 'display_data';\n",
              "          await google.colab.output.renderOutput(dataTable, element);\n",
              "          const docLink = document.createElement('div');\n",
              "          docLink.innerHTML = docLinkHtml;\n",
              "          element.appendChild(docLink);\n",
              "        }\n",
              "      </script>\n",
              "    </div>\n",
              "  </div>\n",
              "  "
            ]
          },
          "metadata": {},
          "execution_count": 90
        }
      ]
    },
    {
      "cell_type": "code",
      "source": [
        "# código\n",
        "pd.crosstab(df_filtrado.sigla_uf,df_filtrado.rede,values=df_filtrado.ideb,aggfunc=np.average,margins=True)"
      ],
      "metadata": {
        "id": "xBnZTtrPYhFC",
        "colab": {
          "base_uri": "https://localhost:8080/",
          "height": 206
        },
        "outputId": "9956e088-7863-4d17-9e89-cd28b2d7db4f"
      },
      "execution_count": 91,
      "outputs": [
        {
          "output_type": "execute_result",
          "data": {
            "text/plain": [
              "rede      estadual  municipal       All\n",
              "sigla_uf                               \n",
              "MG        6.250000   5.905455  6.021687\n",
              "RS        6.059259   5.742424  5.885000\n",
              "SP        6.596552   6.483871  6.510656\n",
              "All       6.308333   6.172928  6.215849"
            ],
            "text/html": [
              "\n",
              "  <div id=\"df-0e5e88da-0f32-42e9-88b4-bcf8dad86bff\">\n",
              "    <div class=\"colab-df-container\">\n",
              "      <div>\n",
              "<style scoped>\n",
              "    .dataframe tbody tr th:only-of-type {\n",
              "        vertical-align: middle;\n",
              "    }\n",
              "\n",
              "    .dataframe tbody tr th {\n",
              "        vertical-align: top;\n",
              "    }\n",
              "\n",
              "    .dataframe thead th {\n",
              "        text-align: right;\n",
              "    }\n",
              "</style>\n",
              "<table border=\"1\" class=\"dataframe\">\n",
              "  <thead>\n",
              "    <tr style=\"text-align: right;\">\n",
              "      <th>rede</th>\n",
              "      <th>estadual</th>\n",
              "      <th>municipal</th>\n",
              "      <th>All</th>\n",
              "    </tr>\n",
              "    <tr>\n",
              "      <th>sigla_uf</th>\n",
              "      <th></th>\n",
              "      <th></th>\n",
              "      <th></th>\n",
              "    </tr>\n",
              "  </thead>\n",
              "  <tbody>\n",
              "    <tr>\n",
              "      <th>MG</th>\n",
              "      <td>6.250000</td>\n",
              "      <td>5.905455</td>\n",
              "      <td>6.021687</td>\n",
              "    </tr>\n",
              "    <tr>\n",
              "      <th>RS</th>\n",
              "      <td>6.059259</td>\n",
              "      <td>5.742424</td>\n",
              "      <td>5.885000</td>\n",
              "    </tr>\n",
              "    <tr>\n",
              "      <th>SP</th>\n",
              "      <td>6.596552</td>\n",
              "      <td>6.483871</td>\n",
              "      <td>6.510656</td>\n",
              "    </tr>\n",
              "    <tr>\n",
              "      <th>All</th>\n",
              "      <td>6.308333</td>\n",
              "      <td>6.172928</td>\n",
              "      <td>6.215849</td>\n",
              "    </tr>\n",
              "  </tbody>\n",
              "</table>\n",
              "</div>\n",
              "      <button class=\"colab-df-convert\" onclick=\"convertToInteractive('df-0e5e88da-0f32-42e9-88b4-bcf8dad86bff')\"\n",
              "              title=\"Convert this dataframe to an interactive table.\"\n",
              "              style=\"display:none;\">\n",
              "        \n",
              "  <svg xmlns=\"http://www.w3.org/2000/svg\" height=\"24px\"viewBox=\"0 0 24 24\"\n",
              "       width=\"24px\">\n",
              "    <path d=\"M0 0h24v24H0V0z\" fill=\"none\"/>\n",
              "    <path d=\"M18.56 5.44l.94 2.06.94-2.06 2.06-.94-2.06-.94-.94-2.06-.94 2.06-2.06.94zm-11 1L8.5 8.5l.94-2.06 2.06-.94-2.06-.94L8.5 2.5l-.94 2.06-2.06.94zm10 10l.94 2.06.94-2.06 2.06-.94-2.06-.94-.94-2.06-.94 2.06-2.06.94z\"/><path d=\"M17.41 7.96l-1.37-1.37c-.4-.4-.92-.59-1.43-.59-.52 0-1.04.2-1.43.59L10.3 9.45l-7.72 7.72c-.78.78-.78 2.05 0 2.83L4 21.41c.39.39.9.59 1.41.59.51 0 1.02-.2 1.41-.59l7.78-7.78 2.81-2.81c.8-.78.8-2.07 0-2.86zM5.41 20L4 18.59l7.72-7.72 1.47 1.35L5.41 20z\"/>\n",
              "  </svg>\n",
              "      </button>\n",
              "      \n",
              "  <style>\n",
              "    .colab-df-container {\n",
              "      display:flex;\n",
              "      flex-wrap:wrap;\n",
              "      gap: 12px;\n",
              "    }\n",
              "\n",
              "    .colab-df-convert {\n",
              "      background-color: #E8F0FE;\n",
              "      border: none;\n",
              "      border-radius: 50%;\n",
              "      cursor: pointer;\n",
              "      display: none;\n",
              "      fill: #1967D2;\n",
              "      height: 32px;\n",
              "      padding: 0 0 0 0;\n",
              "      width: 32px;\n",
              "    }\n",
              "\n",
              "    .colab-df-convert:hover {\n",
              "      background-color: #E2EBFA;\n",
              "      box-shadow: 0px 1px 2px rgba(60, 64, 67, 0.3), 0px 1px 3px 1px rgba(60, 64, 67, 0.15);\n",
              "      fill: #174EA6;\n",
              "    }\n",
              "\n",
              "    [theme=dark] .colab-df-convert {\n",
              "      background-color: #3B4455;\n",
              "      fill: #D2E3FC;\n",
              "    }\n",
              "\n",
              "    [theme=dark] .colab-df-convert:hover {\n",
              "      background-color: #434B5C;\n",
              "      box-shadow: 0px 1px 3px 1px rgba(0, 0, 0, 0.15);\n",
              "      filter: drop-shadow(0px 1px 2px rgba(0, 0, 0, 0.3));\n",
              "      fill: #FFFFFF;\n",
              "    }\n",
              "  </style>\n",
              "\n",
              "      <script>\n",
              "        const buttonEl =\n",
              "          document.querySelector('#df-0e5e88da-0f32-42e9-88b4-bcf8dad86bff button.colab-df-convert');\n",
              "        buttonEl.style.display =\n",
              "          google.colab.kernel.accessAllowed ? 'block' : 'none';\n",
              "\n",
              "        async function convertToInteractive(key) {\n",
              "          const element = document.querySelector('#df-0e5e88da-0f32-42e9-88b4-bcf8dad86bff');\n",
              "          const dataTable =\n",
              "            await google.colab.kernel.invokeFunction('convertToInteractive',\n",
              "                                                     [key], {});\n",
              "          if (!dataTable) return;\n",
              "\n",
              "          const docLinkHtml = 'Like what you see? Visit the ' +\n",
              "            '<a target=\"_blank\" href=https://colab.research.google.com/notebooks/data_table.ipynb>data table notebook</a>'\n",
              "            + ' to learn more about interactive tables.';\n",
              "          element.innerHTML = '';\n",
              "          dataTable['output_type'] = 'display_data';\n",
              "          await google.colab.output.renderOutput(dataTable, element);\n",
              "          const docLink = document.createElement('div');\n",
              "          docLink.innerHTML = docLinkHtml;\n",
              "          element.appendChild(docLink);\n",
              "        }\n",
              "      </script>\n",
              "    </div>\n",
              "  </div>\n",
              "  "
            ]
          },
          "metadata": {},
          "execution_count": 91
        }
      ]
    },
    {
      "cell_type": "markdown",
      "source": [
        "# Atividade 2: Outliers\n",
        "\n"
      ],
      "metadata": {
        "id": "RStLjXr_mWic"
      }
    },
    {
      "cell_type": "markdown",
      "source": [
        "Gere um boxplot para cada uma das variáveis a seguir e observe graficamente se há outliers: `taxa_aprovacao`, `indicador_rendimento`, `nota_saeb_matematica`, `nota_saeb_lingua_portuguesa`, `nota_saeb_media_padronizada`, `ideb`.\n",
        "\n",
        "Se houver outlier, calcule o intervalo interquartil e a partir deste obtenha quais são os municípios outliers.\n",
        "\n",
        "\n",
        "Dicas:\n",
        "\n",
        "1) Você pode utilizar tanto a biblioteca Seaborn quando a Plotly Express;\n",
        "\n",
        "2) O intervalo interquartil é calculo por $Q3-Q1$"
      ],
      "metadata": {
        "id": "WzAdtYVXrGr9"
      }
    },
    {
      "cell_type": "markdown",
      "source": [
        "**Taxa Aprovação**"
      ],
      "metadata": {
        "id": "CglT9r5Cuit3"
      }
    },
    {
      "cell_type": "markdown",
      "source": [
        ""
      ],
      "metadata": {
        "id": "fPLNyLtKRgko"
      }
    },
    {
      "cell_type": "code",
      "source": [
        "# Boxplot\n",
        "import plotly.express as px\n",
        "def boxplot(coluna):\n",
        "  return px.box(df_ideb,y=coluna).show()\n",
        "boxplot('taxa_aprovacao')\n"
      ],
      "metadata": {
        "id": "pvB2qtubmY7Q",
        "colab": {
          "base_uri": "https://localhost:8080/",
          "height": 542
        },
        "outputId": "e0dd9e68-8ab4-4ba6-8d54-62d0028dc40a"
      },
      "execution_count": 92,
      "outputs": [
        {
          "output_type": "display_data",
          "data": {
            "text/html": [
              "<html>\n",
              "<head><meta charset=\"utf-8\" /></head>\n",
              "<body>\n",
              "    <div>            <script src=\"https://cdnjs.cloudflare.com/ajax/libs/mathjax/2.7.5/MathJax.js?config=TeX-AMS-MML_SVG\"></script><script type=\"text/javascript\">if (window.MathJax) {MathJax.Hub.Config({SVG: {font: \"STIX-Web\"}});}</script>                <script type=\"text/javascript\">window.PlotlyConfig = {MathJaxConfig: 'local'};</script>\n",
              "        <script src=\"https://cdn.plot.ly/plotly-2.8.3.min.js\"></script>                <div id=\"8577ac64-e965-4709-a4cd-eabb84639946\" class=\"plotly-graph-div\" style=\"height:525px; width:100%;\"></div>            <script type=\"text/javascript\">                                    window.PLOTLYENV=window.PLOTLYENV || {};                                    if (document.getElementById(\"8577ac64-e965-4709-a4cd-eabb84639946\")) {                    Plotly.newPlot(                        \"8577ac64-e965-4709-a4cd-eabb84639946\",                        [{\"alignmentgroup\":\"True\",\"hovertemplate\":\"taxa_aprovacao=%{y}<extra></extra>\",\"legendgroup\":\"\",\"marker\":{\"color\":\"#636efa\"},\"name\":\"\",\"notched\":false,\"offsetgroup\":\"\",\"orientation\":\"v\",\"showlegend\":false,\"x0\":\" \",\"xaxis\":\"x\",\"y\":[97.0,90.9,93.9,94.4,68.5,90.5,88.0,100.0,72.4,96.9,78.8,98.4,99.2,100.0,99.8,100.0,88.6,100.0,99.2,80.1,96.2,90.9,77.8,91.4,95.9,99.3,88.3,98.4,96.2,97.0,93.7,97.7,85.7,100.0,98.2,82.5,97.7,93.4,91.5,94.7,96.9,92.6,97.9,97.4,100.0,99.4,97.5,94.3,86.4,82.0,89.3,84.4,99.5,96.5,95.3,97.7,94.6,94.2,96.1,96.3,88.9,98.7,87.8,96.3,94.8,95.9,98.2,99.8,88.2,94.5,89.2,83.7,97.5,97.4,100.0,99.6,97.6,93.7,84.8,87.7,86.0,99.7,100.0,88.9,75.4,91.9,100.0,100.0,100.0,95.0,95.3,95.3,99.0,96.6,80.0,79.3,99.7,95.2,93.9,79.4,100.0,88.7,79.7,98.6,97.7,100.0,99.3,92.9,87.7,79.6,100.0,98.2,99.9,94.3,96.8,92.6,84.9,93.8,94.7,88.3,68.3,91.1,81.7,95.1,91.1,92.2,91.8,99.7,99.3,96.0,80.8,98.0,99.1,100.0,94.2,91.1,89.6,88.4,87.0,92.9,100.0,98.1,92.9,99.5,92.7,79.7,98.9,88.1,96.4,91.5,85.2,78.6,97.7,84.3,81.1,100.0,99.6,97.6,100.0,100.0,86.8,99.5,95.0,95.4,100.0,100.0,94.1,94.2,83.1,99.5,92.4,100.0,99.5,96.4,97.0,87.9,94.8,100.0,98.6,65.8,100.0,96.9,100.0,100.0,90.1,99.0,99.4,97.3,95.4,100.0,90.5,94.2,72.5,100.0,96.9,99.1,90.3,99.0,96.2,95.7,100.0,86.3,82.2,98.8,97.4,87.4,100.0,94.0,100.0,100.0,100.0,93.9,94.0,99.3,95.6,97.5,91.1,74.1,93.5,88.7,97.9,98.0,99.4,95.3,87.0,100.0,100.0,97.3,97.4,95.1,90.4,94.4,88.7,97.6,85.1,100.0,89.3,100.0,100.0,98.1,100.0,98.3,91.4,83.0,98.8,99.5,90.9,99.2,98.2,96.0,97.3,97.6,97.0,86.9,90.4,86.7,94.0,83.8,92.4,100.0,86.3,98.4,100.0,92.3,95.5,100.0,96.0,95.0,84.0,86.9,99.3,95.8,96.1,97.8,88.2,92.7,72.9,97.9,100.0,93.8,100.0,98.2,86.7,89.0,77.2,94.3,97.1,97.6,95.5,97.7,99.4,92.0,93.3,99.3,99.7,99.2,95.6,94.8,89.4,98.8,100.0,93.3,95.8,97.6,100.0,91.2,100.0,100.0,88.0,98.9,100.0,95.3,100.0,69.4,98.8,99.1,95.4,96.4,96.1,95.5,100.0,98.5,98.9,85.1,99.4,82.7,100.0,96.1,100.0,100.0,96.6,81.3,95.7,98.1,96.3,100.0,94.1,100.0,96.3,99.7,93.1,99.4,99.2,93.9,100.0,95.8,97.3,84.0,99.0,97.6,83.7,98.9,96.1,97.3,100.0,82.5,97.4,82.9,97.4,99.6,75.4,98.1,65.0,100.0,94.0,97.4,61.7,96.6,89.7,94.3,97.6,88.9,100.0,96.1,87.4,90.7,97.9,94.5,95.7,99.6,99.4,100.0,99.7,98.9,99.4,95.3,89.7,79.1,100.0,71.9,100.0,92.4,98.0,96.9,98.4,96.8,99.6,89.1,80.0,96.4,99.3,88.1,97.8,93.4,98.7,84.6,99.0,90.0,100.0,91.1,91.1,100.0,100.0,99.4,96.2,100.0,94.0,95.3,99.3,93.5,84.5,96.8,100.0,87.1,94.4,81.5,94.4,92.6,88.0,93.1,78.3,99.1,96.7,92.9,89.1,91.6,96.8,82.9,99.2,93.1,91.7,68.5,85.0,100.0,87.8,90.7,90.5,97.9,96.8,99.8,96.0,96.0,91.6,92.8,85.8,91.8,98.9,98.6,94.3,96.5,91.7,98.0,66.7,88.8,100.0,97.5,100.0,100.0,97.2,78.4,95.9,84.1,99.6,100.0,95.2,92.2,100.0,99.6,92.0,94.9,99.3,99.6,93.4,90.9,91.8,100.0,100.0,92.4,91.2,98.8,100.0,99.2,100.0,92.7,99.7,99.0,100.0,98.3,100.0,100.0,100.0,88.8,93.3,96.1,85.5,95.3,98.5,96.9,95.8,94.4,94.9,94.4,97.6,82.8,90.2,91.9,92.7,100.0,92.5,97.3,66.7,93.4,87.3,86.2,85.3,90.8,95.8,97.4,73.0,94.3,97.2,84.9,98.1,91.2,95.0,88.2,91.5,100.0,94.6,84.3,96.7,82.2,95.3,98.4,100.0,99.6,95.7,99.7,92.3,95.5,92.0,91.8,100.0,88.8,99.4,94.0,96.1,99.4,100.0,81.2,75.0,92.6,82.1,100.0,99.8,91.3,99.7,95.4,100.0,87.4,98.8,94.9,97.5,94.5,94.8,100.0,81.6,100.0,99.8,94.4,76.4,93.6,81.5,77.4,95.6,85.7,98.6,87.1,96.1,66.7,97.9,100.0,89.2,100.0,99.4,99.6,100.0,95.1,93.3,93.7,100.0,98.0,97.8,97.1,97.2,91.9,98.8,97.9,82.1,91.4,98.1,96.3,63.8,94.9,54.6,85.4,98.4,94.1,95.7,100.0,92.0,91.4,100.0,86.4,100.0,92.7,97.9,99.0,94.6,100.0,100.0,95.9,98.7,90.2,100.0,100.0,96.6,91.6,82.4,91.9,95.1,95.7,100.0,98.1,96.3,81.6,100.0,97.3,97.3,91.1,97.7,96.6,91.5,92.2,97.2,100.0,98.1,96.1,90.4,95.8,97.8,100.0,96.4,92.2,95.0,93.4,92.3,86.8,89.3,92.0,95.3,99.8,87.7,93.6,98.9,99.7,90.1,98.2,100.0,96.4,100.0,77.4,93.3,91.1,99.2,85.5,84.4,96.0,83.9,99.5,92.2,100.0,92.1,97.7,85.5,100.0,90.9,99.4,89.0,95.3,94.7,90.1,99.3,94.5,99.8,100.0,90.3,74.4,84.6,99.1,98.5,98.9,91.5,83.9,94.7,86.4,98.7,97.3,98.0,94.9,94.9,96.4,89.2,97.1,79.5,100.0,98.2,93.0,98.4,87.8,100.0,98.1,95.3,87.7,94.9,96.3,94.0,91.7,87.4,97.3,97.7,94.7,95.2,95.0,100.0,100.0,100.0,93.7,90.8,98.3,95.9,99.8,100.0,98.5,93.4,97.0,96.0,91.2,95.7,93.5,99.3,93.4,99.6,100.0,94.9,100.0,95.7,100.0,93.1,100.0,96.2,94.7,87.9,100.0,94.1,95.5,100.0,78.8,99.2,97.5,90.2,89.2,90.1,86.8,94.7,100.0,94.6,95.8,98.5,94.0,85.3,100.0,92.8,94.7,100.0,93.5,89.9,74.7,93.9,78.2,97.4,96.6,100.0,95.0,87.7,95.2,91.2,86.0,81.1,97.5,99.0,87.6,95.8,86.1,97.7,94.2,100.0,94.5,89.8,89.7,92.4,93.6,91.5,85.2,95.6,92.8,91.2,90.7,98.0,98.0,99.6,95.7,98.5,96.6,74.5,100.0,100.0,98.0,100.0,93.8,99.2,96.8,94.1,74.6,86.7,93.8,86.6,93.5,98.8,100.0,81.4,94.4,67.7,77.9,95.5,97.0,94.3,89.4,100.0,96.7,86.9,99.5,78.8,92.7,87.5,95.7,87.5,82.2,99.3,99.4,93.3,98.4,97.7,95.7,94.4,95.9,92.5,86.8,96.2,95.4,91.2,97.2,96.5,100.0,97.4,100.0,98.8,91.7,75.0,62.9,99.7,92.9,100.0,100.0,98.6,100.0,99.8,95.0,100.0,98.7,93.6,100.0,98.8,83.8,83.5,88.9,90.4,88.6,85.0,91.3,94.9,85.0,100.0,100.0,97.8,97.6,93.2,81.9,96.4,91.6,98.9,96.1,99.5,100.0,97.4,99.1,95.5,100.0,94.4,95.1,96.3,89.8,88.7,100.0,99.3,93.4,81.7,99.4,94.6,84.1,94.1,99.1,88.2,98.9,88.7,98.0,90.5,95.9,90.5,81.1,100.0,87.2,100.0,87.3,87.9,100.0,84.7,94.3,84.3,97.9,100.0,77.9,99.3,97.3,95.5,90.2,98.5,100.0,91.2,100.0,98.1,100.0,99.1,87.4,98.7,81.3,89.2,100.0,95.7,91.9,87.7,100.0,100.0,94.5,98.4,98.5,98.3,97.3,98.0,92.1,91.9,92.7,97.6,100.0,97.2,89.5,77.9,98.0,99.0,92.7],\"y0\":\" \",\"yaxis\":\"y\",\"type\":\"box\"}],                        {\"template\":{\"data\":{\"bar\":[{\"error_x\":{\"color\":\"#2a3f5f\"},\"error_y\":{\"color\":\"#2a3f5f\"},\"marker\":{\"line\":{\"color\":\"#E5ECF6\",\"width\":0.5},\"pattern\":{\"fillmode\":\"overlay\",\"size\":10,\"solidity\":0.2}},\"type\":\"bar\"}],\"barpolar\":[{\"marker\":{\"line\":{\"color\":\"#E5ECF6\",\"width\":0.5},\"pattern\":{\"fillmode\":\"overlay\",\"size\":10,\"solidity\":0.2}},\"type\":\"barpolar\"}],\"carpet\":[{\"aaxis\":{\"endlinecolor\":\"#2a3f5f\",\"gridcolor\":\"white\",\"linecolor\":\"white\",\"minorgridcolor\":\"white\",\"startlinecolor\":\"#2a3f5f\"},\"baxis\":{\"endlinecolor\":\"#2a3f5f\",\"gridcolor\":\"white\",\"linecolor\":\"white\",\"minorgridcolor\":\"white\",\"startlinecolor\":\"#2a3f5f\"},\"type\":\"carpet\"}],\"choropleth\":[{\"colorbar\":{\"outlinewidth\":0,\"ticks\":\"\"},\"type\":\"choropleth\"}],\"contour\":[{\"colorbar\":{\"outlinewidth\":0,\"ticks\":\"\"},\"colorscale\":[[0.0,\"#0d0887\"],[0.1111111111111111,\"#46039f\"],[0.2222222222222222,\"#7201a8\"],[0.3333333333333333,\"#9c179e\"],[0.4444444444444444,\"#bd3786\"],[0.5555555555555556,\"#d8576b\"],[0.6666666666666666,\"#ed7953\"],[0.7777777777777778,\"#fb9f3a\"],[0.8888888888888888,\"#fdca26\"],[1.0,\"#f0f921\"]],\"type\":\"contour\"}],\"contourcarpet\":[{\"colorbar\":{\"outlinewidth\":0,\"ticks\":\"\"},\"type\":\"contourcarpet\"}],\"heatmap\":[{\"colorbar\":{\"outlinewidth\":0,\"ticks\":\"\"},\"colorscale\":[[0.0,\"#0d0887\"],[0.1111111111111111,\"#46039f\"],[0.2222222222222222,\"#7201a8\"],[0.3333333333333333,\"#9c179e\"],[0.4444444444444444,\"#bd3786\"],[0.5555555555555556,\"#d8576b\"],[0.6666666666666666,\"#ed7953\"],[0.7777777777777778,\"#fb9f3a\"],[0.8888888888888888,\"#fdca26\"],[1.0,\"#f0f921\"]],\"type\":\"heatmap\"}],\"heatmapgl\":[{\"colorbar\":{\"outlinewidth\":0,\"ticks\":\"\"},\"colorscale\":[[0.0,\"#0d0887\"],[0.1111111111111111,\"#46039f\"],[0.2222222222222222,\"#7201a8\"],[0.3333333333333333,\"#9c179e\"],[0.4444444444444444,\"#bd3786\"],[0.5555555555555556,\"#d8576b\"],[0.6666666666666666,\"#ed7953\"],[0.7777777777777778,\"#fb9f3a\"],[0.8888888888888888,\"#fdca26\"],[1.0,\"#f0f921\"]],\"type\":\"heatmapgl\"}],\"histogram\":[{\"marker\":{\"pattern\":{\"fillmode\":\"overlay\",\"size\":10,\"solidity\":0.2}},\"type\":\"histogram\"}],\"histogram2d\":[{\"colorbar\":{\"outlinewidth\":0,\"ticks\":\"\"},\"colorscale\":[[0.0,\"#0d0887\"],[0.1111111111111111,\"#46039f\"],[0.2222222222222222,\"#7201a8\"],[0.3333333333333333,\"#9c179e\"],[0.4444444444444444,\"#bd3786\"],[0.5555555555555556,\"#d8576b\"],[0.6666666666666666,\"#ed7953\"],[0.7777777777777778,\"#fb9f3a\"],[0.8888888888888888,\"#fdca26\"],[1.0,\"#f0f921\"]],\"type\":\"histogram2d\"}],\"histogram2dcontour\":[{\"colorbar\":{\"outlinewidth\":0,\"ticks\":\"\"},\"colorscale\":[[0.0,\"#0d0887\"],[0.1111111111111111,\"#46039f\"],[0.2222222222222222,\"#7201a8\"],[0.3333333333333333,\"#9c179e\"],[0.4444444444444444,\"#bd3786\"],[0.5555555555555556,\"#d8576b\"],[0.6666666666666666,\"#ed7953\"],[0.7777777777777778,\"#fb9f3a\"],[0.8888888888888888,\"#fdca26\"],[1.0,\"#f0f921\"]],\"type\":\"histogram2dcontour\"}],\"mesh3d\":[{\"colorbar\":{\"outlinewidth\":0,\"ticks\":\"\"},\"type\":\"mesh3d\"}],\"parcoords\":[{\"line\":{\"colorbar\":{\"outlinewidth\":0,\"ticks\":\"\"}},\"type\":\"parcoords\"}],\"pie\":[{\"automargin\":true,\"type\":\"pie\"}],\"scatter\":[{\"marker\":{\"colorbar\":{\"outlinewidth\":0,\"ticks\":\"\"}},\"type\":\"scatter\"}],\"scatter3d\":[{\"line\":{\"colorbar\":{\"outlinewidth\":0,\"ticks\":\"\"}},\"marker\":{\"colorbar\":{\"outlinewidth\":0,\"ticks\":\"\"}},\"type\":\"scatter3d\"}],\"scattercarpet\":[{\"marker\":{\"colorbar\":{\"outlinewidth\":0,\"ticks\":\"\"}},\"type\":\"scattercarpet\"}],\"scattergeo\":[{\"marker\":{\"colorbar\":{\"outlinewidth\":0,\"ticks\":\"\"}},\"type\":\"scattergeo\"}],\"scattergl\":[{\"marker\":{\"colorbar\":{\"outlinewidth\":0,\"ticks\":\"\"}},\"type\":\"scattergl\"}],\"scattermapbox\":[{\"marker\":{\"colorbar\":{\"outlinewidth\":0,\"ticks\":\"\"}},\"type\":\"scattermapbox\"}],\"scatterpolar\":[{\"marker\":{\"colorbar\":{\"outlinewidth\":0,\"ticks\":\"\"}},\"type\":\"scatterpolar\"}],\"scatterpolargl\":[{\"marker\":{\"colorbar\":{\"outlinewidth\":0,\"ticks\":\"\"}},\"type\":\"scatterpolargl\"}],\"scatterternary\":[{\"marker\":{\"colorbar\":{\"outlinewidth\":0,\"ticks\":\"\"}},\"type\":\"scatterternary\"}],\"surface\":[{\"colorbar\":{\"outlinewidth\":0,\"ticks\":\"\"},\"colorscale\":[[0.0,\"#0d0887\"],[0.1111111111111111,\"#46039f\"],[0.2222222222222222,\"#7201a8\"],[0.3333333333333333,\"#9c179e\"],[0.4444444444444444,\"#bd3786\"],[0.5555555555555556,\"#d8576b\"],[0.6666666666666666,\"#ed7953\"],[0.7777777777777778,\"#fb9f3a\"],[0.8888888888888888,\"#fdca26\"],[1.0,\"#f0f921\"]],\"type\":\"surface\"}],\"table\":[{\"cells\":{\"fill\":{\"color\":\"#EBF0F8\"},\"line\":{\"color\":\"white\"}},\"header\":{\"fill\":{\"color\":\"#C8D4E3\"},\"line\":{\"color\":\"white\"}},\"type\":\"table\"}]},\"layout\":{\"annotationdefaults\":{\"arrowcolor\":\"#2a3f5f\",\"arrowhead\":0,\"arrowwidth\":1},\"autotypenumbers\":\"strict\",\"coloraxis\":{\"colorbar\":{\"outlinewidth\":0,\"ticks\":\"\"}},\"colorscale\":{\"diverging\":[[0,\"#8e0152\"],[0.1,\"#c51b7d\"],[0.2,\"#de77ae\"],[0.3,\"#f1b6da\"],[0.4,\"#fde0ef\"],[0.5,\"#f7f7f7\"],[0.6,\"#e6f5d0\"],[0.7,\"#b8e186\"],[0.8,\"#7fbc41\"],[0.9,\"#4d9221\"],[1,\"#276419\"]],\"sequential\":[[0.0,\"#0d0887\"],[0.1111111111111111,\"#46039f\"],[0.2222222222222222,\"#7201a8\"],[0.3333333333333333,\"#9c179e\"],[0.4444444444444444,\"#bd3786\"],[0.5555555555555556,\"#d8576b\"],[0.6666666666666666,\"#ed7953\"],[0.7777777777777778,\"#fb9f3a\"],[0.8888888888888888,\"#fdca26\"],[1.0,\"#f0f921\"]],\"sequentialminus\":[[0.0,\"#0d0887\"],[0.1111111111111111,\"#46039f\"],[0.2222222222222222,\"#7201a8\"],[0.3333333333333333,\"#9c179e\"],[0.4444444444444444,\"#bd3786\"],[0.5555555555555556,\"#d8576b\"],[0.6666666666666666,\"#ed7953\"],[0.7777777777777778,\"#fb9f3a\"],[0.8888888888888888,\"#fdca26\"],[1.0,\"#f0f921\"]]},\"colorway\":[\"#636efa\",\"#EF553B\",\"#00cc96\",\"#ab63fa\",\"#FFA15A\",\"#19d3f3\",\"#FF6692\",\"#B6E880\",\"#FF97FF\",\"#FECB52\"],\"font\":{\"color\":\"#2a3f5f\"},\"geo\":{\"bgcolor\":\"white\",\"lakecolor\":\"white\",\"landcolor\":\"#E5ECF6\",\"showlakes\":true,\"showland\":true,\"subunitcolor\":\"white\"},\"hoverlabel\":{\"align\":\"left\"},\"hovermode\":\"closest\",\"mapbox\":{\"style\":\"light\"},\"paper_bgcolor\":\"white\",\"plot_bgcolor\":\"#E5ECF6\",\"polar\":{\"angularaxis\":{\"gridcolor\":\"white\",\"linecolor\":\"white\",\"ticks\":\"\"},\"bgcolor\":\"#E5ECF6\",\"radialaxis\":{\"gridcolor\":\"white\",\"linecolor\":\"white\",\"ticks\":\"\"}},\"scene\":{\"xaxis\":{\"backgroundcolor\":\"#E5ECF6\",\"gridcolor\":\"white\",\"gridwidth\":2,\"linecolor\":\"white\",\"showbackground\":true,\"ticks\":\"\",\"zerolinecolor\":\"white\"},\"yaxis\":{\"backgroundcolor\":\"#E5ECF6\",\"gridcolor\":\"white\",\"gridwidth\":2,\"linecolor\":\"white\",\"showbackground\":true,\"ticks\":\"\",\"zerolinecolor\":\"white\"},\"zaxis\":{\"backgroundcolor\":\"#E5ECF6\",\"gridcolor\":\"white\",\"gridwidth\":2,\"linecolor\":\"white\",\"showbackground\":true,\"ticks\":\"\",\"zerolinecolor\":\"white\"}},\"shapedefaults\":{\"line\":{\"color\":\"#2a3f5f\"}},\"ternary\":{\"aaxis\":{\"gridcolor\":\"white\",\"linecolor\":\"white\",\"ticks\":\"\"},\"baxis\":{\"gridcolor\":\"white\",\"linecolor\":\"white\",\"ticks\":\"\"},\"bgcolor\":\"#E5ECF6\",\"caxis\":{\"gridcolor\":\"white\",\"linecolor\":\"white\",\"ticks\":\"\"}},\"title\":{\"x\":0.05},\"xaxis\":{\"automargin\":true,\"gridcolor\":\"white\",\"linecolor\":\"white\",\"ticks\":\"\",\"title\":{\"standoff\":15},\"zerolinecolor\":\"white\",\"zerolinewidth\":2},\"yaxis\":{\"automargin\":true,\"gridcolor\":\"white\",\"linecolor\":\"white\",\"ticks\":\"\",\"title\":{\"standoff\":15},\"zerolinecolor\":\"white\",\"zerolinewidth\":2}}},\"xaxis\":{\"anchor\":\"y\",\"domain\":[0.0,1.0]},\"yaxis\":{\"anchor\":\"x\",\"domain\":[0.0,1.0],\"title\":{\"text\":\"taxa_aprovacao\"}},\"legend\":{\"tracegroupgap\":0},\"margin\":{\"t\":60},\"boxmode\":\"group\"},                        {\"responsive\": true}                    ).then(function(){\n",
              "                            \n",
              "var gd = document.getElementById('8577ac64-e965-4709-a4cd-eabb84639946');\n",
              "var x = new MutationObserver(function (mutations, observer) {{\n",
              "        var display = window.getComputedStyle(gd).display;\n",
              "        if (!display || display === 'none') {{\n",
              "            console.log([gd, 'removed!']);\n",
              "            Plotly.purge(gd);\n",
              "            observer.disconnect();\n",
              "        }}\n",
              "}});\n",
              "\n",
              "// Listen for the removal of the full notebook cells\n",
              "var notebookContainer = gd.closest('#notebook-container');\n",
              "if (notebookContainer) {{\n",
              "    x.observe(notebookContainer, {childList: true});\n",
              "}}\n",
              "\n",
              "// Listen for the clearing of the current output cell\n",
              "var outputEl = gd.closest('.output');\n",
              "if (outputEl) {{\n",
              "    x.observe(outputEl, {childList: true});\n",
              "}}\n",
              "\n",
              "                        })                };                            </script>        </div>\n",
              "</body>\n",
              "</html>"
            ]
          },
          "metadata": {}
        }
      ]
    },
    {
      "cell_type": "code",
      "source": [
        "def interquartil(coluna):\n",
        "  a=coluna.quantile(0.25)\n",
        "  b=coluna.quantile(0.75)\n",
        "  return round(b-a,2)"
      ],
      "metadata": {
        "id": "Z6sT-M-cJO_S"
      },
      "execution_count": 93,
      "outputs": []
    },
    {
      "cell_type": "code",
      "source": [
        ""
      ],
      "metadata": {
        "id": "obBXCNkzw57D"
      },
      "execution_count": 93,
      "outputs": []
    },
    {
      "cell_type": "code",
      "source": [
        "iq=interquartil(df_ideb.taxa_aprovacao)  \n",
        "iq"
      ],
      "metadata": {
        "colab": {
          "base_uri": "https://localhost:8080/"
        },
        "id": "hFxuA9UxHFQm",
        "outputId": "a3381388-0380-4195-8bce-2adeb7bd57d6"
      },
      "execution_count": 94,
      "outputs": [
        {
          "output_type": "execute_result",
          "data": {
            "text/plain": [
              "7.9"
            ]
          },
          "metadata": {},
          "execution_count": 94
        }
      ]
    },
    {
      "cell_type": "code",
      "source": [
        "df_ideb.taxa_aprovacao.describe()"
      ],
      "metadata": {
        "colab": {
          "base_uri": "https://localhost:8080/"
        },
        "id": "2EeYRocFwo71",
        "outputId": "ae5c27c4-cbe8-4aa3-ccdd-a95eac2b3f5b"
      },
      "execution_count": 95,
      "outputs": [
        {
          "output_type": "execute_result",
          "data": {
            "text/plain": [
              "count    1000.00000\n",
              "mean       93.73710\n",
              "std         6.84507\n",
              "min        54.60000\n",
              "25%        91.10000\n",
              "50%        95.70000\n",
              "75%        99.00000\n",
              "max       100.00000\n",
              "Name: taxa_aprovacao, dtype: float64"
            ]
          },
          "metadata": {},
          "execution_count": 95
        }
      ]
    },
    {
      "cell_type": "code",
      "source": [
        "# Limites a partir do intervalo interquartílico\n",
        "def limites(df_coluna):\n",
        "  q1=df_coluna.quantile(0.25)\n",
        "  q3=df_coluna.quantile(0.75)\n",
        "  return [round(q1-1.5*(q3-q1),2),round(q3+1.5*(q3-q1),2)]\n",
        "l_taxa_aprov=limites(df_ideb.taxa_aprovacao)\n",
        "l_taxa_aprov\n"
      ],
      "metadata": {
        "colab": {
          "base_uri": "https://localhost:8080/"
        },
        "id": "ujKwx3BzGWw0",
        "outputId": "d3a4f7ea-95f5-4d91-fb81-0a7b6dc775d1"
      },
      "execution_count": 96,
      "outputs": [
        {
          "output_type": "execute_result",
          "data": {
            "text/plain": [
              "[79.25, 110.85]"
            ]
          },
          "metadata": {},
          "execution_count": 96
        }
      ]
    },
    {
      "cell_type": "code",
      "source": [
        "# Recorte do Dataframe para compreender os outliers\n",
        "df_ideb[(df_ideb['taxa_aprovacao']<l_taxa_aprov[0])|(df_ideb['taxa_aprovacao']>l_taxa_aprov[1])].taxa_aprovacao"
      ],
      "metadata": {
        "id": "5AXPyhyiue50",
        "colab": {
          "base_uri": "https://localhost:8080/"
        },
        "outputId": "eb6d18a0-71eb-43ca-a95b-cd506bb1c913"
      },
      "execution_count": 97,
      "outputs": [
        {
          "output_type": "execute_result",
          "data": {
            "text/plain": [
              "4      68.5\n",
              "8      72.4\n",
              "10     78.8\n",
              "22     77.8\n",
              "84     75.4\n",
              "120    68.3\n",
              "151    78.6\n",
              "179    65.8\n",
              "192    72.5\n",
              "217    74.1\n",
              "276    72.9\n",
              "284    77.2\n",
              "313    69.4\n",
              "360    75.4\n",
              "362    65.0\n",
              "366    61.7\n",
              "387    79.1\n",
              "389    71.9\n",
              "430    78.3\n",
              "441    68.5\n",
              "462    66.7\n",
              "469    78.4\n",
              "520    66.7\n",
              "528    73.0\n",
              "560    75.0\n",
              "580    76.4\n",
              "583    77.4\n",
              "589    66.7\n",
              "612    63.8\n",
              "614    54.6\n",
              "681    77.4\n",
              "707    74.4\n",
              "777    78.8\n",
              "797    74.7\n",
              "799    78.2\n",
              "834    74.5\n",
              "843    74.6\n",
              "852    67.7\n",
              "853    77.9\n",
              "862    78.8\n",
              "888    75.0\n",
              "889    62.9\n",
              "961    77.9\n",
              "996    77.9\n",
              "Name: taxa_aprovacao, dtype: float64"
            ]
          },
          "metadata": {},
          "execution_count": 97
        }
      ]
    },
    {
      "cell_type": "markdown",
      "source": [
        "**Indicador Rendimento**"
      ],
      "metadata": {
        "id": "LPY-CvYuulB1"
      }
    },
    {
      "cell_type": "code",
      "source": [
        "# Boxplot\n",
        "boxplot(df_ideb.indicador_rendimento)"
      ],
      "metadata": {
        "id": "Gmu92snz9yaK",
        "colab": {
          "base_uri": "https://localhost:8080/",
          "height": 542
        },
        "outputId": "3701c7bd-c20e-486a-c553-9f9ace468085"
      },
      "execution_count": 98,
      "outputs": [
        {
          "output_type": "display_data",
          "data": {
            "text/html": [
              "<html>\n",
              "<head><meta charset=\"utf-8\" /></head>\n",
              "<body>\n",
              "    <div>            <script src=\"https://cdnjs.cloudflare.com/ajax/libs/mathjax/2.7.5/MathJax.js?config=TeX-AMS-MML_SVG\"></script><script type=\"text/javascript\">if (window.MathJax) {MathJax.Hub.Config({SVG: {font: \"STIX-Web\"}});}</script>                <script type=\"text/javascript\">window.PlotlyConfig = {MathJaxConfig: 'local'};</script>\n",
              "        <script src=\"https://cdn.plot.ly/plotly-2.8.3.min.js\"></script>                <div id=\"ae672d80-735b-46d2-8efa-5704770a1c01\" class=\"plotly-graph-div\" style=\"height:525px; width:100%;\"></div>            <script type=\"text/javascript\">                                    window.PLOTLYENV=window.PLOTLYENV || {};                                    if (document.getElementById(\"ae672d80-735b-46d2-8efa-5704770a1c01\")) {                    Plotly.newPlot(                        \"ae672d80-735b-46d2-8efa-5704770a1c01\",                        [{\"alignmentgroup\":\"True\",\"hovertemplate\":\"indicador_rendimento=%{y}<extra></extra>\",\"legendgroup\":\"\",\"marker\":{\"color\":\"#636efa\"},\"name\":\"\",\"notched\":false,\"offsetgroup\":\"\",\"orientation\":\"v\",\"showlegend\":false,\"x0\":\" \",\"xaxis\":\"x\",\"y\":[0.97056198,0.93539703,0.937895,0.94836998,0.67830497,0.89526302,0.86756498,1.0,0.72201997,0.969096,0.806566,0.98739499,0.99300998,1.0,0.99778003,1.0,0.89506698,1.0,0.99169803,0.81547803,0.96200001,0.887411,0.744542,0.91605401,0.96269703,0.99364197,0.88784599,0.98290598,0.95813102,0.97354299,0.91365999,0.97659701,0.86753899,1.0,0.98584098,0.801548,0.96385002,0.934057,0.91097099,0.941818,0.96994102,0.89916998,0.98358899,0.972875,1.0,0.994147,0.97444201,0.94332701,0.86725402,0.80901599,0.87145102,0.83116603,0.99475503,0.96281397,0.95108902,0.97881103,0.949027,0.94594598,0.95858699,0.96513402,0.89138401,0.99216199,0.878003,0.96101499,0.94664401,0.96246499,0.97713202,0.99818701,0.88933301,0.94089502,0.88644302,0.83887899,0.97871101,0.972202,1.0,0.99634701,0.96144998,0.933384,0.84472299,0.88055199,0.88143998,0.99634701,1.0,0.89097601,0.73706502,0.92111498,1.0,1.0,1.0,0.940687,0.95472097,0.95679402,0.99216199,0.96479499,0.77247,0.77428597,0.99696398,0.95484298,0.93978,0.81454903,1.0,0.88556302,0.79667902,0.98849398,0.97906101,1.0,0.99322098,0.897291,0.85731602,0.78787202,1.0,0.98129803,0.99899602,0.90698701,0.97956902,0.93260199,0.83997798,0.935489,0.94556999,0.87636101,0.676166,0.915012,0.82985997,0.95053899,0.92124897,0.91120201,0.91299999,0.997168,0.99291301,0.96539199,0.80561799,0.977018,0.98969501,1.0,0.95205301,0.902309,0.88837898,0.87909502,0.88065398,0.92900002,1.0,0.979671,0.92737597,0.99469,0.91498297,0.73604298,0.984945,0.884049,0.96436697,0.91283399,0.84548002,0.73473501,0.96518499,0.83702499,0.82859403,1.0,0.99510598,0.97466302,1.0,1.0,0.86253899,0.99593502,0.95815301,0.95331597,1.0,1.0,0.93846899,0.94106698,0.83993298,0.995314,0.93235302,1.0,0.99572802,0.963247,0.95995498,0.84375602,0.94921398,1.0,0.98695302,0.61950099,1.0,0.96729898,1.0,1.0,0.89876699,0.99109399,0.99313003,0.961752,0.94978499,1.0,0.915007,0.93939,0.714113,1.0,0.96530801,0.98853701,0.914159,0.99168903,0.96195602,0.94487202,1.0,0.71616298,0.83064598,0.99173599,0.97324598,0.87310898,1.0,0.934277,1.0,1.0,1.0,0.93921202,0.93423802,0.99152201,0.964782,0.97283602,0.91451001,0.76226002,0.938564,0.91472203,0.98674297,0.978661,0.992374,0.95769799,0.81223202,1.0,1.0,0.96539199,0.97529799,0.94209099,0.899553,0.94623202,0.88127702,0.97619402,0.85111499,1.0,0.88840199,1.0,1.0,0.979554,1.0,0.98038399,0.91067499,0.75026202,0.98566502,0.99596798,0.91346502,0.98979998,0.98250502,0.94675702,0.97124201,0.97222197,0.96705502,0.80422902,0.88801903,0.88128299,0.937711,0.85980701,0.92392802,1.0,0.84631002,0.98488599,1.0,0.935745,0.96136397,1.0,0.95372897,0.95074397,0.846349,0.85985899,0.99154103,0.95641398,0.95794499,0.98221898,0.87916398,0.91315198,0.71957099,0.97752601,1.0,0.92482102,1.0,0.978894,0.86699998,0.89206803,0.77224201,0.93831998,0.97251397,0.970891,0.94458997,0.97707403,0.99469,0.921731,0.92902499,0.99292499,0.99614102,0.99109399,0.95336199,0.94349098,0.90972698,0.98835498,1.0,0.93754601,0.95518202,0.97600502,1.0,0.913351,1.0,1.0,0.87694001,0.98875898,1.0,0.95523399,1.0,0.69400001,0.988931,0.99194902,0.953107,0.96262997,0.964872,0.94902802,1.0,0.99169499,0.989595,0.86839998,0.99322098,0.82201201,1.0,0.95597202,1.0,1.0,0.97698498,0.81895298,0.96188998,0.97852498,0.965859,1.0,0.94577497,1.0,0.964351,0.997168,0.930498,0.994349,0.99066401,0.938178,1.0,0.94725502,0.97023302,0.87039101,0.98456699,0.980865,0.843346,0.98958302,0.96550202,0.973566,1.0,0.81867599,0.97412503,0.84936398,0.97662401,0.99448103,0.73025799,0.98156202,0.84383202,1.0,0.92028701,0.97484398,0.61463201,0.966286,0.90842199,0.94048899,0.979047,0.88706303,1.0,0.957986,0.86505902,0.91256499,0.98358899,0.94932699,0.95370197,0.996391,0.99300998,1.0,0.99510598,0.99109399,0.990017,0.95399398,0.89160103,0.79100001,1.0,0.69902802,1.0,0.92206597,0.98354101,0.96907997,0.98456699,0.96965098,0.995785,0.87954801,0.76014501,0.97123098,0.99173599,0.86474198,0.976574,0.92402399,0.990017,0.82199198,0.98958302,0.898426,1.0,0.91679299,0.92060399,1.0,1.0,0.99313003,0.96920699,1.0,0.93675101,0.95631099,0.99397397,0.927293,0.86928099,0.95546901,1.0,0.87999898,0.94930899,0.843153,0.94487101,0.91779,0.89909899,0.92677897,0.79738802,0.99130797,0.97345102,0.903548,0.88344002,0.91328001,0.96814698,0.82235199,0.99109399,0.92686099,0.92005002,0.67974299,0.84711999,1.0,0.873245,0.90507603,0.89043599,0.97701102,0.96886402,0.99778003,0.95845503,0.96400398,0.92288297,0.92606503,0.848203,0.92122602,0.98584098,0.98736602,0.937361,0.96689498,0.92049098,0.98358899,0.647852,0.89674997,1.0,0.97392899,1.0,1.0,0.97680998,0.78909999,0.95754403,0.83721501,0.996759,1.0,0.95630002,0.93392599,1.0,0.99634701,0.91453701,0.94633901,0.99372399,0.996553,0.93996102,0.90894699,0.91951501,1.0,1.0,0.91923702,0.91124398,0.984945,1.0,0.99069297,1.0,0.92764401,0.996553,0.99231201,1.0,0.981686,1.0,1.0,1.0,0.87459999,0.932046,0.95909798,0.83333302,0.95761299,0.98741001,0.97139603,0.96763599,0.93905801,0.95253003,0.92416602,0.984945,0.804443,0.90840203,0.92343599,0.91637099,1.0,0.92827702,0.97312701,0.66346699,0.89011401,0.898871,0.84535801,0.85102302,0.90330201,0.95707101,0.97755003,0.69690597,0.93171799,0.96739602,0.79487997,0.984649,0.90993702,0.95225698,0.89222902,0.91887897,1.0,0.93953001,0.84479302,0.96400398,0.81944901,0.94972903,0.983814,1.0,0.996553,0.95700002,0.99757701,0.92834997,0.95733601,0.92645901,0.92250401,1.0,0.89113402,0.99455601,0.94388998,0.95672101,0.99469,1.0,0.80500001,0.74952197,0.922894,0.81787801,1.0,0.99798399,0.89952999,0.996759,0.95009601,1.0,0.873182,0.990017,0.95484102,0.96823698,0.950109,0.95075202,1.0,0.82760501,1.0,0.99778003,0.93283099,0.73329997,0.93715,0.82793301,0.77614301,0.963395,0.86009598,0.98558903,0.86648798,0.96325201,0.76275301,0.97903001,1.0,0.88390398,1.0,0.99489802,0.99614102,1.0,0.95199102,0.93882,0.93725002,1.0,0.98136401,0.98079997,0.97250998,0.97248101,0.92225403,0.98560202,0.97669202,0.80190998,0.909859,0.98284203,0.96423399,0.64149702,0.95330697,0.55823898,0.85757101,0.983307,0.934403,0.94969898,1.0,0.91312099,0.92259997,1.0,0.86464602,1.0,0.85711402,0.978975,0.98988497,0.954409,1.0,1.0,0.95713001,0.98721999,0.89454597,1.0,1.0,0.97023302,0.90252,0.81628603,0.91416597,0.95188802,0.94937998,1.0,0.98050499,0.96144998,0.833134,1.0,0.97563702,0.972875,0.918594,0.97766,0.96735799,0.91955698,0.92050099,0.97456598,1.0,0.98094302,0.96470702,0.89581501,0.95398301,0.97776401,1.0,0.96651298,0.91588998,0.931095,0.93615001,0.914105,0.86957598,0.88106602,0.904028,0.93940002,0.99778003,0.86288798,0.900814,0.98584098,0.996759,0.87372398,0.98366702,1.0,0.96652102,1.0,0.75260901,0.938241,0.92251003,0.99186999,0.85808402,0.83909303,0.97098202,0.84638703,0.99448103,0.923711,1.0,0.92123002,0.980847,0.84688902,1.0,0.903602,0.99312598,0.892582,0.94859201,0.950275,0.89821202,0.99169803,0.94365102,0.99737298,1.0,0.89806199,0.73303199,0.85241199,0.99205202,0.99216199,0.98871201,0.91889,0.840626,0.94776398,0.86175603,0.986543,0.95737702,0.982077,0.94801998,0.95496899,0.949251,0.90827501,0.96501303,0.786336,1.0,0.982463,0.93247902,0.98356497,0.85873097,1.0,0.97558397,0.94882601,0.879426,0.94682401,0.95853198,0.94478601,0.88902998,0.87058598,0.96457398,0.97585499,0.94218802,0.95040202,0.96303898,1.0,1.0,1.0,0.91872603,0.90181798,0.98441702,0.952106,0.99818701,1.0,0.98402601,0.92514998,0.97617698,0.96048701,0.90956599,0.90921497,0.97558397,0.98695302,0.93507999,0.997168,1.0,0.95419002,1.0,0.95175397,1.0,0.93191803,1.0,0.95708799,0.94028997,0.86072397,1.0,0.93941498,0.953924,1.0,0.770675,0.988931,0.97196198,0.89927202,0.89053702,0.90621901,0.88887602,0.94828999,1.0,0.96042401,0.95481199,0.98590302,0.94734502,0.84572798,1.0,0.92405599,0.948309,1.0,0.93817902,0.895437,0.72036999,0.94242102,0.78895199,0.97120601,0.96485603,1.0,0.95739698,0.885961,0.951446,0.90458,0.89216,0.81537902,0.97570097,0.99126399,0.874695,0.95699602,0.83864498,0.98092997,0.93449998,1.0,0.938236,0.890212,0.88592499,0.932221,0.93936801,0.91500002,0.85875398,0.95530099,0.94502801,0.92386502,0.90235603,0.98012799,0.984945,0.99593502,0.965819,0.985394,0.97222197,0.79173201,1.0,1.0,0.97745401,1.0,0.929919,0.99251598,0.96880502,0.94752502,0.72286302,0.87274301,0.94383699,0.891931,0.93546498,0.98812199,1.0,0.80498099,0.94546199,0.67920601,0.77542299,0.95619601,0.972574,0.94291401,0.901057,1.0,0.95862001,0.85800499,0.99455601,0.76183301,0.93527102,0.87082601,0.91684401,0.871292,0.82445699,0.99469,0.99414903,0.93304098,0.98304099,0.97809303,0.94603902,0.946953,0.967296,0.92799199,0.84088898,0.96298999,0.95586902,0.902704,0.97034901,0.96356601,1.0,0.97535098,1.0,0.98810601,0.92067999,0.65290302,0.62992901,0.99634701,0.93182898,1.0,1.0,0.98626798,1.0,0.99798399,0.946392,1.0,0.98708397,0.938528,1.0,0.98798698,0.82475299,0.847413,0.87286502,0.88998401,0.87693298,0.833296,0.90782797,0.94783902,0.84204102,1.0,1.0,0.97517598,0.97336298,0.93037301,0.81469601,0.961712,0.91824901,0.986287,0.962502,0.99552101,1.0,0.970828,0.99124998,0.95489103,1.0,0.94397002,0.94927299,0.96285498,0.86374199,0.88841999,1.0,0.993931,0.92351902,0.79969901,0.99469,0.94896197,0.81887501,0.943784,0.98827499,0.85285699,0.99173599,0.88509297,0.98304403,0.86710697,0.95424902,0.90626699,0.82899499,1.0,0.86943901,1.0,0.87788498,0.90195101,1.0,0.84554797,0.94419998,0.84437001,0.97394001,1.0,0.77198303,0.99251699,0.97742498,0.95051903,0.907166,0.98136699,1.0,0.907166,1.0,0.98311198,1.0,0.99109399,0.86756998,0.98827499,0.83375198,0.89262801,1.0,0.95081502,0.92058998,0.88994002,1.0,1.0,0.939623,0.98528701,0.97935301,0.98221898,0.97060901,0.98053002,0.89317501,0.91304302,0.92355698,0.97862899,1.0,0.97478098,0.89586103,0.77361,0.98103303,0.986301,0.93085402],\"y0\":\" \",\"yaxis\":\"y\",\"type\":\"box\"}],                        {\"template\":{\"data\":{\"bar\":[{\"error_x\":{\"color\":\"#2a3f5f\"},\"error_y\":{\"color\":\"#2a3f5f\"},\"marker\":{\"line\":{\"color\":\"#E5ECF6\",\"width\":0.5},\"pattern\":{\"fillmode\":\"overlay\",\"size\":10,\"solidity\":0.2}},\"type\":\"bar\"}],\"barpolar\":[{\"marker\":{\"line\":{\"color\":\"#E5ECF6\",\"width\":0.5},\"pattern\":{\"fillmode\":\"overlay\",\"size\":10,\"solidity\":0.2}},\"type\":\"barpolar\"}],\"carpet\":[{\"aaxis\":{\"endlinecolor\":\"#2a3f5f\",\"gridcolor\":\"white\",\"linecolor\":\"white\",\"minorgridcolor\":\"white\",\"startlinecolor\":\"#2a3f5f\"},\"baxis\":{\"endlinecolor\":\"#2a3f5f\",\"gridcolor\":\"white\",\"linecolor\":\"white\",\"minorgridcolor\":\"white\",\"startlinecolor\":\"#2a3f5f\"},\"type\":\"carpet\"}],\"choropleth\":[{\"colorbar\":{\"outlinewidth\":0,\"ticks\":\"\"},\"type\":\"choropleth\"}],\"contour\":[{\"colorbar\":{\"outlinewidth\":0,\"ticks\":\"\"},\"colorscale\":[[0.0,\"#0d0887\"],[0.1111111111111111,\"#46039f\"],[0.2222222222222222,\"#7201a8\"],[0.3333333333333333,\"#9c179e\"],[0.4444444444444444,\"#bd3786\"],[0.5555555555555556,\"#d8576b\"],[0.6666666666666666,\"#ed7953\"],[0.7777777777777778,\"#fb9f3a\"],[0.8888888888888888,\"#fdca26\"],[1.0,\"#f0f921\"]],\"type\":\"contour\"}],\"contourcarpet\":[{\"colorbar\":{\"outlinewidth\":0,\"ticks\":\"\"},\"type\":\"contourcarpet\"}],\"heatmap\":[{\"colorbar\":{\"outlinewidth\":0,\"ticks\":\"\"},\"colorscale\":[[0.0,\"#0d0887\"],[0.1111111111111111,\"#46039f\"],[0.2222222222222222,\"#7201a8\"],[0.3333333333333333,\"#9c179e\"],[0.4444444444444444,\"#bd3786\"],[0.5555555555555556,\"#d8576b\"],[0.6666666666666666,\"#ed7953\"],[0.7777777777777778,\"#fb9f3a\"],[0.8888888888888888,\"#fdca26\"],[1.0,\"#f0f921\"]],\"type\":\"heatmap\"}],\"heatmapgl\":[{\"colorbar\":{\"outlinewidth\":0,\"ticks\":\"\"},\"colorscale\":[[0.0,\"#0d0887\"],[0.1111111111111111,\"#46039f\"],[0.2222222222222222,\"#7201a8\"],[0.3333333333333333,\"#9c179e\"],[0.4444444444444444,\"#bd3786\"],[0.5555555555555556,\"#d8576b\"],[0.6666666666666666,\"#ed7953\"],[0.7777777777777778,\"#fb9f3a\"],[0.8888888888888888,\"#fdca26\"],[1.0,\"#f0f921\"]],\"type\":\"heatmapgl\"}],\"histogram\":[{\"marker\":{\"pattern\":{\"fillmode\":\"overlay\",\"size\":10,\"solidity\":0.2}},\"type\":\"histogram\"}],\"histogram2d\":[{\"colorbar\":{\"outlinewidth\":0,\"ticks\":\"\"},\"colorscale\":[[0.0,\"#0d0887\"],[0.1111111111111111,\"#46039f\"],[0.2222222222222222,\"#7201a8\"],[0.3333333333333333,\"#9c179e\"],[0.4444444444444444,\"#bd3786\"],[0.5555555555555556,\"#d8576b\"],[0.6666666666666666,\"#ed7953\"],[0.7777777777777778,\"#fb9f3a\"],[0.8888888888888888,\"#fdca26\"],[1.0,\"#f0f921\"]],\"type\":\"histogram2d\"}],\"histogram2dcontour\":[{\"colorbar\":{\"outlinewidth\":0,\"ticks\":\"\"},\"colorscale\":[[0.0,\"#0d0887\"],[0.1111111111111111,\"#46039f\"],[0.2222222222222222,\"#7201a8\"],[0.3333333333333333,\"#9c179e\"],[0.4444444444444444,\"#bd3786\"],[0.5555555555555556,\"#d8576b\"],[0.6666666666666666,\"#ed7953\"],[0.7777777777777778,\"#fb9f3a\"],[0.8888888888888888,\"#fdca26\"],[1.0,\"#f0f921\"]],\"type\":\"histogram2dcontour\"}],\"mesh3d\":[{\"colorbar\":{\"outlinewidth\":0,\"ticks\":\"\"},\"type\":\"mesh3d\"}],\"parcoords\":[{\"line\":{\"colorbar\":{\"outlinewidth\":0,\"ticks\":\"\"}},\"type\":\"parcoords\"}],\"pie\":[{\"automargin\":true,\"type\":\"pie\"}],\"scatter\":[{\"marker\":{\"colorbar\":{\"outlinewidth\":0,\"ticks\":\"\"}},\"type\":\"scatter\"}],\"scatter3d\":[{\"line\":{\"colorbar\":{\"outlinewidth\":0,\"ticks\":\"\"}},\"marker\":{\"colorbar\":{\"outlinewidth\":0,\"ticks\":\"\"}},\"type\":\"scatter3d\"}],\"scattercarpet\":[{\"marker\":{\"colorbar\":{\"outlinewidth\":0,\"ticks\":\"\"}},\"type\":\"scattercarpet\"}],\"scattergeo\":[{\"marker\":{\"colorbar\":{\"outlinewidth\":0,\"ticks\":\"\"}},\"type\":\"scattergeo\"}],\"scattergl\":[{\"marker\":{\"colorbar\":{\"outlinewidth\":0,\"ticks\":\"\"}},\"type\":\"scattergl\"}],\"scattermapbox\":[{\"marker\":{\"colorbar\":{\"outlinewidth\":0,\"ticks\":\"\"}},\"type\":\"scattermapbox\"}],\"scatterpolar\":[{\"marker\":{\"colorbar\":{\"outlinewidth\":0,\"ticks\":\"\"}},\"type\":\"scatterpolar\"}],\"scatterpolargl\":[{\"marker\":{\"colorbar\":{\"outlinewidth\":0,\"ticks\":\"\"}},\"type\":\"scatterpolargl\"}],\"scatterternary\":[{\"marker\":{\"colorbar\":{\"outlinewidth\":0,\"ticks\":\"\"}},\"type\":\"scatterternary\"}],\"surface\":[{\"colorbar\":{\"outlinewidth\":0,\"ticks\":\"\"},\"colorscale\":[[0.0,\"#0d0887\"],[0.1111111111111111,\"#46039f\"],[0.2222222222222222,\"#7201a8\"],[0.3333333333333333,\"#9c179e\"],[0.4444444444444444,\"#bd3786\"],[0.5555555555555556,\"#d8576b\"],[0.6666666666666666,\"#ed7953\"],[0.7777777777777778,\"#fb9f3a\"],[0.8888888888888888,\"#fdca26\"],[1.0,\"#f0f921\"]],\"type\":\"surface\"}],\"table\":[{\"cells\":{\"fill\":{\"color\":\"#EBF0F8\"},\"line\":{\"color\":\"white\"}},\"header\":{\"fill\":{\"color\":\"#C8D4E3\"},\"line\":{\"color\":\"white\"}},\"type\":\"table\"}]},\"layout\":{\"annotationdefaults\":{\"arrowcolor\":\"#2a3f5f\",\"arrowhead\":0,\"arrowwidth\":1},\"autotypenumbers\":\"strict\",\"coloraxis\":{\"colorbar\":{\"outlinewidth\":0,\"ticks\":\"\"}},\"colorscale\":{\"diverging\":[[0,\"#8e0152\"],[0.1,\"#c51b7d\"],[0.2,\"#de77ae\"],[0.3,\"#f1b6da\"],[0.4,\"#fde0ef\"],[0.5,\"#f7f7f7\"],[0.6,\"#e6f5d0\"],[0.7,\"#b8e186\"],[0.8,\"#7fbc41\"],[0.9,\"#4d9221\"],[1,\"#276419\"]],\"sequential\":[[0.0,\"#0d0887\"],[0.1111111111111111,\"#46039f\"],[0.2222222222222222,\"#7201a8\"],[0.3333333333333333,\"#9c179e\"],[0.4444444444444444,\"#bd3786\"],[0.5555555555555556,\"#d8576b\"],[0.6666666666666666,\"#ed7953\"],[0.7777777777777778,\"#fb9f3a\"],[0.8888888888888888,\"#fdca26\"],[1.0,\"#f0f921\"]],\"sequentialminus\":[[0.0,\"#0d0887\"],[0.1111111111111111,\"#46039f\"],[0.2222222222222222,\"#7201a8\"],[0.3333333333333333,\"#9c179e\"],[0.4444444444444444,\"#bd3786\"],[0.5555555555555556,\"#d8576b\"],[0.6666666666666666,\"#ed7953\"],[0.7777777777777778,\"#fb9f3a\"],[0.8888888888888888,\"#fdca26\"],[1.0,\"#f0f921\"]]},\"colorway\":[\"#636efa\",\"#EF553B\",\"#00cc96\",\"#ab63fa\",\"#FFA15A\",\"#19d3f3\",\"#FF6692\",\"#B6E880\",\"#FF97FF\",\"#FECB52\"],\"font\":{\"color\":\"#2a3f5f\"},\"geo\":{\"bgcolor\":\"white\",\"lakecolor\":\"white\",\"landcolor\":\"#E5ECF6\",\"showlakes\":true,\"showland\":true,\"subunitcolor\":\"white\"},\"hoverlabel\":{\"align\":\"left\"},\"hovermode\":\"closest\",\"mapbox\":{\"style\":\"light\"},\"paper_bgcolor\":\"white\",\"plot_bgcolor\":\"#E5ECF6\",\"polar\":{\"angularaxis\":{\"gridcolor\":\"white\",\"linecolor\":\"white\",\"ticks\":\"\"},\"bgcolor\":\"#E5ECF6\",\"radialaxis\":{\"gridcolor\":\"white\",\"linecolor\":\"white\",\"ticks\":\"\"}},\"scene\":{\"xaxis\":{\"backgroundcolor\":\"#E5ECF6\",\"gridcolor\":\"white\",\"gridwidth\":2,\"linecolor\":\"white\",\"showbackground\":true,\"ticks\":\"\",\"zerolinecolor\":\"white\"},\"yaxis\":{\"backgroundcolor\":\"#E5ECF6\",\"gridcolor\":\"white\",\"gridwidth\":2,\"linecolor\":\"white\",\"showbackground\":true,\"ticks\":\"\",\"zerolinecolor\":\"white\"},\"zaxis\":{\"backgroundcolor\":\"#E5ECF6\",\"gridcolor\":\"white\",\"gridwidth\":2,\"linecolor\":\"white\",\"showbackground\":true,\"ticks\":\"\",\"zerolinecolor\":\"white\"}},\"shapedefaults\":{\"line\":{\"color\":\"#2a3f5f\"}},\"ternary\":{\"aaxis\":{\"gridcolor\":\"white\",\"linecolor\":\"white\",\"ticks\":\"\"},\"baxis\":{\"gridcolor\":\"white\",\"linecolor\":\"white\",\"ticks\":\"\"},\"bgcolor\":\"#E5ECF6\",\"caxis\":{\"gridcolor\":\"white\",\"linecolor\":\"white\",\"ticks\":\"\"}},\"title\":{\"x\":0.05},\"xaxis\":{\"automargin\":true,\"gridcolor\":\"white\",\"linecolor\":\"white\",\"ticks\":\"\",\"title\":{\"standoff\":15},\"zerolinecolor\":\"white\",\"zerolinewidth\":2},\"yaxis\":{\"automargin\":true,\"gridcolor\":\"white\",\"linecolor\":\"white\",\"ticks\":\"\",\"title\":{\"standoff\":15},\"zerolinecolor\":\"white\",\"zerolinewidth\":2}}},\"xaxis\":{\"anchor\":\"y\",\"domain\":[0.0,1.0]},\"yaxis\":{\"anchor\":\"x\",\"domain\":[0.0,1.0],\"title\":{\"text\":\"indicador_rendimento\"}},\"legend\":{\"tracegroupgap\":0},\"margin\":{\"t\":60},\"boxmode\":\"group\"},                        {\"responsive\": true}                    ).then(function(){\n",
              "                            \n",
              "var gd = document.getElementById('ae672d80-735b-46d2-8efa-5704770a1c01');\n",
              "var x = new MutationObserver(function (mutations, observer) {{\n",
              "        var display = window.getComputedStyle(gd).display;\n",
              "        if (!display || display === 'none') {{\n",
              "            console.log([gd, 'removed!']);\n",
              "            Plotly.purge(gd);\n",
              "            observer.disconnect();\n",
              "        }}\n",
              "}});\n",
              "\n",
              "// Listen for the removal of the full notebook cells\n",
              "var notebookContainer = gd.closest('#notebook-container');\n",
              "if (notebookContainer) {{\n",
              "    x.observe(notebookContainer, {childList: true});\n",
              "}}\n",
              "\n",
              "// Listen for the clearing of the current output cell\n",
              "var outputEl = gd.closest('.output');\n",
              "if (outputEl) {{\n",
              "    x.observe(outputEl, {childList: true});\n",
              "}}\n",
              "\n",
              "                        })                };                            </script>        </div>\n",
              "</body>\n",
              "</html>"
            ]
          },
          "metadata": {}
        }
      ]
    },
    {
      "cell_type": "code",
      "source": [
        ""
      ],
      "metadata": {
        "id": "njxDrggu7_yq"
      },
      "execution_count": 98,
      "outputs": []
    },
    {
      "cell_type": "code",
      "source": [
        "# Limites a partir do intervalo interquartílico\n",
        "l_ind_rend=limites(df_ideb.indicador_rendimento)\n"
      ],
      "metadata": {
        "id": "ELaUVmh19yaL"
      },
      "execution_count": 99,
      "outputs": []
    },
    {
      "cell_type": "code",
      "source": [
        "# Recorte do Dataframe para compreender os outliers\n",
        "def recorte_df(df_colum,limite1,limite2):\n",
        "  return df_ideb[(df_colum<limite1)|(df_colum>limite2)]\n"
      ],
      "metadata": {
        "id": "im59SLGp9yaL"
      },
      "execution_count": 100,
      "outputs": []
    },
    {
      "cell_type": "code",
      "source": [
        "recorte_df(df_ideb['indicador_rendimento'],l_ind_rend[0],l_ind_rend[1])"
      ],
      "metadata": {
        "colab": {
          "base_uri": "https://localhost:8080/",
          "height": 1000
        },
        "id": "Ah8gT16z9rdO",
        "outputId": "44c1d134-1146-40f1-abbf-b12fa0450e4b"
      },
      "execution_count": 101,
      "outputs": [
        {
          "output_type": "execute_result",
          "data": {
            "text/plain": [
              "      ano sigla_uf id_municipio id_escola       rede       ensino  \\\n",
              "4    2019       PA      1507201  15094847  municipal  fundamental   \n",
              "8    2019       RJ      3305000  33096597  municipal  fundamental   \n",
              "22   2019       BA      2906808  29946727  municipal  fundamental   \n",
              "84   2019       PA      1501402  15034151   estadual  fundamental   \n",
              "94   2019       BA      2905909  29019214  municipal  fundamental   \n",
              "95   2019       RS      4300604  43013775  municipal  fundamental   \n",
              "120  2019       PA      1501006  15099300  municipal  fundamental   \n",
              "145  2019       MA      2100402  21234825  municipal  fundamental   \n",
              "151  2019       RN      2404705  24080179  municipal  fundamental   \n",
              "179  2019       BA      2932903  29406420  municipal  fundamental   \n",
              "192  2019       BA      2914000  29611601  municipal  fundamental   \n",
              "201  2019       PE      2610608  26091372  municipal  fundamental   \n",
              "217  2019       AM      1303106  13036858  municipal  fundamental   \n",
              "243  2019       AM      1303809  13002880   estadual  fundamental   \n",
              "276  2019       BA      2912905  29300797  municipal  fundamental   \n",
              "284  2019       MS      5005608  50002538  municipal  fundamental   \n",
              "313  2019       RN      2408300  24077151  municipal  fundamental   \n",
              "360  2019       PA      1505205  15077888  municipal  fundamental   \n",
              "366  2019       BA      2915809  29282535  municipal  fundamental   \n",
              "389  2019       RJ      3303500  33062030  municipal  fundamental   \n",
              "398  2019       BA      2902104  29134633  municipal  fundamental   \n",
              "441  2019       PA      1503309  15576043  municipal  fundamental   \n",
              "462  2019       BA      2908606  29156009  municipal  fundamental   \n",
              "520  2019       BA      2910800  29096340  municipal  fundamental   \n",
              "528  2019       RN      2403301  24013498  municipal  fundamental   \n",
              "560  2019       RJ      3304904  33090521  municipal  fundamental   \n",
              "580  2019       MA      2105005  21031134  municipal  fundamental   \n",
              "583  2019       RJ      3306008  33018588  municipal  fundamental   \n",
              "589  2019       BA      2919108  29140447  municipal  fundamental   \n",
              "612  2019       BA      2900702  29150981  municipal  fundamental   \n",
              "614  2019       PA      1501808  15025535  municipal  fundamental   \n",
              "681  2019       BA      2933208  29202426  municipal  fundamental   \n",
              "707  2019       BA      2915809  29282071  municipal  fundamental   \n",
              "777  2019       PE      2606002  26075377  municipal  fundamental   \n",
              "797  2019       PA      1503309  15072800  municipal  fundamental   \n",
              "843  2019       PA      1507755  15167410  municipal  fundamental   \n",
              "852  2019       PA      1502301  15088600  municipal  fundamental   \n",
              "853  2019       SE      2802106  28025024  municipal  fundamental   \n",
              "862  2019       BA      2926509  29132690  municipal  fundamental   \n",
              "888  2019       BA      2917607  29227330  municipal  fundamental   \n",
              "889  2019       RN      2414704  24050164  municipal  fundamental   \n",
              "961  2019       BA      2910008  29271924  municipal  fundamental   \n",
              "996  2019       RJ      3302270  33097488  municipal  fundamental   \n",
              "\n",
              "     anos_escolares  taxa_aprovacao  indicador_rendimento  \\\n",
              "4    iniciais (1-5)            68.5              0.678305   \n",
              "8    iniciais (1-5)            72.4              0.722020   \n",
              "22   iniciais (1-5)            77.8              0.744542   \n",
              "84   iniciais (1-5)            75.4              0.737065   \n",
              "94   iniciais (1-5)            80.0              0.772470   \n",
              "95   iniciais (1-5)            79.3              0.774286   \n",
              "120  iniciais (1-5)            68.3              0.676166   \n",
              "145  iniciais (1-5)            79.7              0.736043   \n",
              "151  iniciais (1-5)            78.6              0.734735   \n",
              "179  iniciais (1-5)            65.8              0.619501   \n",
              "192  iniciais (1-5)            72.5              0.714113   \n",
              "201  iniciais (1-5)            86.3              0.716163   \n",
              "217  iniciais (1-5)            74.1              0.762260   \n",
              "243  iniciais (1-5)            83.0              0.750262   \n",
              "276  iniciais (1-5)            72.9              0.719571   \n",
              "284  iniciais (1-5)            77.2              0.772242   \n",
              "313  iniciais (1-5)            69.4              0.694000   \n",
              "360  iniciais (1-5)            75.4              0.730258   \n",
              "366  iniciais (1-5)            61.7              0.614632   \n",
              "389  iniciais (1-5)            71.9              0.699028   \n",
              "398  iniciais (1-5)            80.0              0.760145   \n",
              "441  iniciais (1-5)            68.5              0.679743   \n",
              "462  iniciais (1-5)            66.7              0.647852   \n",
              "520  iniciais (1-5)            66.7              0.663467   \n",
              "528  iniciais (1-5)            73.0              0.696906   \n",
              "560  iniciais (1-5)            75.0              0.749522   \n",
              "580  iniciais (1-5)            76.4              0.733300   \n",
              "583  iniciais (1-5)            77.4              0.776143   \n",
              "589  iniciais (1-5)            66.7              0.762753   \n",
              "612  iniciais (1-5)            63.8              0.641497   \n",
              "614  iniciais (1-5)            54.6              0.558239   \n",
              "681  iniciais (1-5)            77.4              0.752609   \n",
              "707  iniciais (1-5)            74.4              0.733032   \n",
              "777  iniciais (1-5)            78.8              0.770675   \n",
              "797  iniciais (1-5)            74.7              0.720370   \n",
              "843  iniciais (1-5)            74.6              0.722863   \n",
              "852  iniciais (1-5)            67.7              0.679206   \n",
              "853  iniciais (1-5)            77.9              0.775423   \n",
              "862  iniciais (1-5)            78.8              0.761833   \n",
              "888  iniciais (1-5)            75.0              0.652903   \n",
              "889  iniciais (1-5)            62.9              0.629929   \n",
              "961  iniciais (1-5)            77.9              0.771983   \n",
              "996  iniciais (1-5)            77.9              0.773610   \n",
              "\n",
              "     nota_saeb_matematica  nota_saeb_lingua_portuguesa  \\\n",
              "4                  179.35                       159.00   \n",
              "8                  214.08                       211.03   \n",
              "22                 186.77                       167.78   \n",
              "84                 205.21                       191.49   \n",
              "94                 172.25                       142.08   \n",
              "95                 206.33                       191.83   \n",
              "120                173.58                       165.61   \n",
              "145                178.63                       152.91   \n",
              "151                163.49                       130.61   \n",
              "179                189.33                       177.36   \n",
              "192                199.58                       180.63   \n",
              "201                224.44                       211.91   \n",
              "217                176.27                       153.39   \n",
              "243                162.89                       147.75   \n",
              "276                213.66                       200.03   \n",
              "284                165.17                       163.27   \n",
              "313                186.47                       179.47   \n",
              "360                161.32                       137.17   \n",
              "366                168.14                       150.21   \n",
              "389                198.63                       185.58   \n",
              "398                160.35                       146.05   \n",
              "441                160.69                       143.71   \n",
              "462                192.46                       193.66   \n",
              "520                195.61                       194.66   \n",
              "528                211.22                       202.72   \n",
              "560                214.61                       204.58   \n",
              "580                173.22                       162.69   \n",
              "583                224.13                       218.75   \n",
              "589                188.80                       174.25   \n",
              "612                212.05                       207.33   \n",
              "614                144.99                       131.57   \n",
              "681                189.30                       188.00   \n",
              "707                187.80                       161.55   \n",
              "777                201.41                       193.13   \n",
              "797                173.38                       169.86   \n",
              "843                236.55                       214.50   \n",
              "852                192.35                       174.88   \n",
              "853                190.16                       182.38   \n",
              "862                191.00                       187.44   \n",
              "888                197.41                       178.47   \n",
              "889                177.49                       167.11   \n",
              "961                194.88                       178.00   \n",
              "996                186.94                       186.55   \n",
              "\n",
              "     nota_saeb_media_padronizada  ideb  projecao  \n",
              "4                       4.277672   2.9       4.3  \n",
              "8                       5.886640   4.3       4.9  \n",
              "22                      4.579093   3.4       3.7  \n",
              "84                      5.361910   4.0       4.1  \n",
              "94                      3.834539   3.0       3.5  \n",
              "95                      5.389657   4.2       5.1  \n",
              "120                     4.288112   2.9       3.6  \n",
              "145                     4.153577   3.1       4.6  \n",
              "151                     3.458818   2.5       3.6  \n",
              "179                     4.802321   3.0       5.1  \n",
              "192                     5.057204   3.6       4.4  \n",
              "201                     6.100359   4.4       4.8  \n",
              "217                     4.117266   3.1       NaN  \n",
              "243                     3.759195   2.8       3.9  \n",
              "276                     5.678625   4.1       4.8  \n",
              "284                     4.084888   3.2       3.5  \n",
              "313                     4.785731   3.3       5.5  \n",
              "360                     3.536861   2.6       4.1  \n",
              "366                     3.904113   2.4       4.0  \n",
              "389                     5.129074   3.6       5.8  \n",
              "398                     3.679622   2.8       3.7  \n",
              "441                     3.643756   2.5       3.6  \n",
              "462                     5.158044   3.3       4.5  \n",
              "520                     5.236532   3.5       2.7  \n",
              "528                     5.680978   4.0       NaN  \n",
              "560                     5.779491   4.3       5.2  \n",
              "580                     4.228151   3.1       4.3  \n",
              "583                     6.218797   4.8       5.4  \n",
              "589                     4.735470   3.6       3.9  \n",
              "612                     5.780817   3.7       4.7  \n",
              "614                     3.123219   1.7       NaN  \n",
              "681                     4.995021   3.8       3.6  \n",
              "707                     4.485295   3.3       NaN  \n",
              "777                     5.319210   4.1       4.9  \n",
              "797                     4.361195   3.1       3.4  \n",
              "843                     6.378366   4.6       NaN  \n",
              "852                     4.814491   3.3       NaN  \n",
              "853                     4.909251   3.8       4.2  \n",
              "862                     5.017282   3.8       4.9  \n",
              "888                     4.976519   3.2       4.9  \n",
              "889                     4.389630   2.8       3.9  \n",
              "961                     4.919500   3.8       3.8  \n",
              "996                     4.923619   3.8       5.4  "
            ],
            "text/html": [
              "\n",
              "  <div id=\"df-5d851f6e-b98c-42a9-a682-1ff9272409be\">\n",
              "    <div class=\"colab-df-container\">\n",
              "      <div>\n",
              "<style scoped>\n",
              "    .dataframe tbody tr th:only-of-type {\n",
              "        vertical-align: middle;\n",
              "    }\n",
              "\n",
              "    .dataframe tbody tr th {\n",
              "        vertical-align: top;\n",
              "    }\n",
              "\n",
              "    .dataframe thead th {\n",
              "        text-align: right;\n",
              "    }\n",
              "</style>\n",
              "<table border=\"1\" class=\"dataframe\">\n",
              "  <thead>\n",
              "    <tr style=\"text-align: right;\">\n",
              "      <th></th>\n",
              "      <th>ano</th>\n",
              "      <th>sigla_uf</th>\n",
              "      <th>id_municipio</th>\n",
              "      <th>id_escola</th>\n",
              "      <th>rede</th>\n",
              "      <th>ensino</th>\n",
              "      <th>anos_escolares</th>\n",
              "      <th>taxa_aprovacao</th>\n",
              "      <th>indicador_rendimento</th>\n",
              "      <th>nota_saeb_matematica</th>\n",
              "      <th>nota_saeb_lingua_portuguesa</th>\n",
              "      <th>nota_saeb_media_padronizada</th>\n",
              "      <th>ideb</th>\n",
              "      <th>projecao</th>\n",
              "    </tr>\n",
              "  </thead>\n",
              "  <tbody>\n",
              "    <tr>\n",
              "      <th>4</th>\n",
              "      <td>2019</td>\n",
              "      <td>PA</td>\n",
              "      <td>1507201</td>\n",
              "      <td>15094847</td>\n",
              "      <td>municipal</td>\n",
              "      <td>fundamental</td>\n",
              "      <td>iniciais (1-5)</td>\n",
              "      <td>68.5</td>\n",
              "      <td>0.678305</td>\n",
              "      <td>179.35</td>\n",
              "      <td>159.00</td>\n",
              "      <td>4.277672</td>\n",
              "      <td>2.9</td>\n",
              "      <td>4.3</td>\n",
              "    </tr>\n",
              "    <tr>\n",
              "      <th>8</th>\n",
              "      <td>2019</td>\n",
              "      <td>RJ</td>\n",
              "      <td>3305000</td>\n",
              "      <td>33096597</td>\n",
              "      <td>municipal</td>\n",
              "      <td>fundamental</td>\n",
              "      <td>iniciais (1-5)</td>\n",
              "      <td>72.4</td>\n",
              "      <td>0.722020</td>\n",
              "      <td>214.08</td>\n",
              "      <td>211.03</td>\n",
              "      <td>5.886640</td>\n",
              "      <td>4.3</td>\n",
              "      <td>4.9</td>\n",
              "    </tr>\n",
              "    <tr>\n",
              "      <th>22</th>\n",
              "      <td>2019</td>\n",
              "      <td>BA</td>\n",
              "      <td>2906808</td>\n",
              "      <td>29946727</td>\n",
              "      <td>municipal</td>\n",
              "      <td>fundamental</td>\n",
              "      <td>iniciais (1-5)</td>\n",
              "      <td>77.8</td>\n",
              "      <td>0.744542</td>\n",
              "      <td>186.77</td>\n",
              "      <td>167.78</td>\n",
              "      <td>4.579093</td>\n",
              "      <td>3.4</td>\n",
              "      <td>3.7</td>\n",
              "    </tr>\n",
              "    <tr>\n",
              "      <th>84</th>\n",
              "      <td>2019</td>\n",
              "      <td>PA</td>\n",
              "      <td>1501402</td>\n",
              "      <td>15034151</td>\n",
              "      <td>estadual</td>\n",
              "      <td>fundamental</td>\n",
              "      <td>iniciais (1-5)</td>\n",
              "      <td>75.4</td>\n",
              "      <td>0.737065</td>\n",
              "      <td>205.21</td>\n",
              "      <td>191.49</td>\n",
              "      <td>5.361910</td>\n",
              "      <td>4.0</td>\n",
              "      <td>4.1</td>\n",
              "    </tr>\n",
              "    <tr>\n",
              "      <th>94</th>\n",
              "      <td>2019</td>\n",
              "      <td>BA</td>\n",
              "      <td>2905909</td>\n",
              "      <td>29019214</td>\n",
              "      <td>municipal</td>\n",
              "      <td>fundamental</td>\n",
              "      <td>iniciais (1-5)</td>\n",
              "      <td>80.0</td>\n",
              "      <td>0.772470</td>\n",
              "      <td>172.25</td>\n",
              "      <td>142.08</td>\n",
              "      <td>3.834539</td>\n",
              "      <td>3.0</td>\n",
              "      <td>3.5</td>\n",
              "    </tr>\n",
              "    <tr>\n",
              "      <th>95</th>\n",
              "      <td>2019</td>\n",
              "      <td>RS</td>\n",
              "      <td>4300604</td>\n",
              "      <td>43013775</td>\n",
              "      <td>municipal</td>\n",
              "      <td>fundamental</td>\n",
              "      <td>iniciais (1-5)</td>\n",
              "      <td>79.3</td>\n",
              "      <td>0.774286</td>\n",
              "      <td>206.33</td>\n",
              "      <td>191.83</td>\n",
              "      <td>5.389657</td>\n",
              "      <td>4.2</td>\n",
              "      <td>5.1</td>\n",
              "    </tr>\n",
              "    <tr>\n",
              "      <th>120</th>\n",
              "      <td>2019</td>\n",
              "      <td>PA</td>\n",
              "      <td>1501006</td>\n",
              "      <td>15099300</td>\n",
              "      <td>municipal</td>\n",
              "      <td>fundamental</td>\n",
              "      <td>iniciais (1-5)</td>\n",
              "      <td>68.3</td>\n",
              "      <td>0.676166</td>\n",
              "      <td>173.58</td>\n",
              "      <td>165.61</td>\n",
              "      <td>4.288112</td>\n",
              "      <td>2.9</td>\n",
              "      <td>3.6</td>\n",
              "    </tr>\n",
              "    <tr>\n",
              "      <th>145</th>\n",
              "      <td>2019</td>\n",
              "      <td>MA</td>\n",
              "      <td>2100402</td>\n",
              "      <td>21234825</td>\n",
              "      <td>municipal</td>\n",
              "      <td>fundamental</td>\n",
              "      <td>iniciais (1-5)</td>\n",
              "      <td>79.7</td>\n",
              "      <td>0.736043</td>\n",
              "      <td>178.63</td>\n",
              "      <td>152.91</td>\n",
              "      <td>4.153577</td>\n",
              "      <td>3.1</td>\n",
              "      <td>4.6</td>\n",
              "    </tr>\n",
              "    <tr>\n",
              "      <th>151</th>\n",
              "      <td>2019</td>\n",
              "      <td>RN</td>\n",
              "      <td>2404705</td>\n",
              "      <td>24080179</td>\n",
              "      <td>municipal</td>\n",
              "      <td>fundamental</td>\n",
              "      <td>iniciais (1-5)</td>\n",
              "      <td>78.6</td>\n",
              "      <td>0.734735</td>\n",
              "      <td>163.49</td>\n",
              "      <td>130.61</td>\n",
              "      <td>3.458818</td>\n",
              "      <td>2.5</td>\n",
              "      <td>3.6</td>\n",
              "    </tr>\n",
              "    <tr>\n",
              "      <th>179</th>\n",
              "      <td>2019</td>\n",
              "      <td>BA</td>\n",
              "      <td>2932903</td>\n",
              "      <td>29406420</td>\n",
              "      <td>municipal</td>\n",
              "      <td>fundamental</td>\n",
              "      <td>iniciais (1-5)</td>\n",
              "      <td>65.8</td>\n",
              "      <td>0.619501</td>\n",
              "      <td>189.33</td>\n",
              "      <td>177.36</td>\n",
              "      <td>4.802321</td>\n",
              "      <td>3.0</td>\n",
              "      <td>5.1</td>\n",
              "    </tr>\n",
              "    <tr>\n",
              "      <th>192</th>\n",
              "      <td>2019</td>\n",
              "      <td>BA</td>\n",
              "      <td>2914000</td>\n",
              "      <td>29611601</td>\n",
              "      <td>municipal</td>\n",
              "      <td>fundamental</td>\n",
              "      <td>iniciais (1-5)</td>\n",
              "      <td>72.5</td>\n",
              "      <td>0.714113</td>\n",
              "      <td>199.58</td>\n",
              "      <td>180.63</td>\n",
              "      <td>5.057204</td>\n",
              "      <td>3.6</td>\n",
              "      <td>4.4</td>\n",
              "    </tr>\n",
              "    <tr>\n",
              "      <th>201</th>\n",
              "      <td>2019</td>\n",
              "      <td>PE</td>\n",
              "      <td>2610608</td>\n",
              "      <td>26091372</td>\n",
              "      <td>municipal</td>\n",
              "      <td>fundamental</td>\n",
              "      <td>iniciais (1-5)</td>\n",
              "      <td>86.3</td>\n",
              "      <td>0.716163</td>\n",
              "      <td>224.44</td>\n",
              "      <td>211.91</td>\n",
              "      <td>6.100359</td>\n",
              "      <td>4.4</td>\n",
              "      <td>4.8</td>\n",
              "    </tr>\n",
              "    <tr>\n",
              "      <th>217</th>\n",
              "      <td>2019</td>\n",
              "      <td>AM</td>\n",
              "      <td>1303106</td>\n",
              "      <td>13036858</td>\n",
              "      <td>municipal</td>\n",
              "      <td>fundamental</td>\n",
              "      <td>iniciais (1-5)</td>\n",
              "      <td>74.1</td>\n",
              "      <td>0.762260</td>\n",
              "      <td>176.27</td>\n",
              "      <td>153.39</td>\n",
              "      <td>4.117266</td>\n",
              "      <td>3.1</td>\n",
              "      <td>NaN</td>\n",
              "    </tr>\n",
              "    <tr>\n",
              "      <th>243</th>\n",
              "      <td>2019</td>\n",
              "      <td>AM</td>\n",
              "      <td>1303809</td>\n",
              "      <td>13002880</td>\n",
              "      <td>estadual</td>\n",
              "      <td>fundamental</td>\n",
              "      <td>iniciais (1-5)</td>\n",
              "      <td>83.0</td>\n",
              "      <td>0.750262</td>\n",
              "      <td>162.89</td>\n",
              "      <td>147.75</td>\n",
              "      <td>3.759195</td>\n",
              "      <td>2.8</td>\n",
              "      <td>3.9</td>\n",
              "    </tr>\n",
              "    <tr>\n",
              "      <th>276</th>\n",
              "      <td>2019</td>\n",
              "      <td>BA</td>\n",
              "      <td>2912905</td>\n",
              "      <td>29300797</td>\n",
              "      <td>municipal</td>\n",
              "      <td>fundamental</td>\n",
              "      <td>iniciais (1-5)</td>\n",
              "      <td>72.9</td>\n",
              "      <td>0.719571</td>\n",
              "      <td>213.66</td>\n",
              "      <td>200.03</td>\n",
              "      <td>5.678625</td>\n",
              "      <td>4.1</td>\n",
              "      <td>4.8</td>\n",
              "    </tr>\n",
              "    <tr>\n",
              "      <th>284</th>\n",
              "      <td>2019</td>\n",
              "      <td>MS</td>\n",
              "      <td>5005608</td>\n",
              "      <td>50002538</td>\n",
              "      <td>municipal</td>\n",
              "      <td>fundamental</td>\n",
              "      <td>iniciais (1-5)</td>\n",
              "      <td>77.2</td>\n",
              "      <td>0.772242</td>\n",
              "      <td>165.17</td>\n",
              "      <td>163.27</td>\n",
              "      <td>4.084888</td>\n",
              "      <td>3.2</td>\n",
              "      <td>3.5</td>\n",
              "    </tr>\n",
              "    <tr>\n",
              "      <th>313</th>\n",
              "      <td>2019</td>\n",
              "      <td>RN</td>\n",
              "      <td>2408300</td>\n",
              "      <td>24077151</td>\n",
              "      <td>municipal</td>\n",
              "      <td>fundamental</td>\n",
              "      <td>iniciais (1-5)</td>\n",
              "      <td>69.4</td>\n",
              "      <td>0.694000</td>\n",
              "      <td>186.47</td>\n",
              "      <td>179.47</td>\n",
              "      <td>4.785731</td>\n",
              "      <td>3.3</td>\n",
              "      <td>5.5</td>\n",
              "    </tr>\n",
              "    <tr>\n",
              "      <th>360</th>\n",
              "      <td>2019</td>\n",
              "      <td>PA</td>\n",
              "      <td>1505205</td>\n",
              "      <td>15077888</td>\n",
              "      <td>municipal</td>\n",
              "      <td>fundamental</td>\n",
              "      <td>iniciais (1-5)</td>\n",
              "      <td>75.4</td>\n",
              "      <td>0.730258</td>\n",
              "      <td>161.32</td>\n",
              "      <td>137.17</td>\n",
              "      <td>3.536861</td>\n",
              "      <td>2.6</td>\n",
              "      <td>4.1</td>\n",
              "    </tr>\n",
              "    <tr>\n",
              "      <th>366</th>\n",
              "      <td>2019</td>\n",
              "      <td>BA</td>\n",
              "      <td>2915809</td>\n",
              "      <td>29282535</td>\n",
              "      <td>municipal</td>\n",
              "      <td>fundamental</td>\n",
              "      <td>iniciais (1-5)</td>\n",
              "      <td>61.7</td>\n",
              "      <td>0.614632</td>\n",
              "      <td>168.14</td>\n",
              "      <td>150.21</td>\n",
              "      <td>3.904113</td>\n",
              "      <td>2.4</td>\n",
              "      <td>4.0</td>\n",
              "    </tr>\n",
              "    <tr>\n",
              "      <th>389</th>\n",
              "      <td>2019</td>\n",
              "      <td>RJ</td>\n",
              "      <td>3303500</td>\n",
              "      <td>33062030</td>\n",
              "      <td>municipal</td>\n",
              "      <td>fundamental</td>\n",
              "      <td>iniciais (1-5)</td>\n",
              "      <td>71.9</td>\n",
              "      <td>0.699028</td>\n",
              "      <td>198.63</td>\n",
              "      <td>185.58</td>\n",
              "      <td>5.129074</td>\n",
              "      <td>3.6</td>\n",
              "      <td>5.8</td>\n",
              "    </tr>\n",
              "    <tr>\n",
              "      <th>398</th>\n",
              "      <td>2019</td>\n",
              "      <td>BA</td>\n",
              "      <td>2902104</td>\n",
              "      <td>29134633</td>\n",
              "      <td>municipal</td>\n",
              "      <td>fundamental</td>\n",
              "      <td>iniciais (1-5)</td>\n",
              "      <td>80.0</td>\n",
              "      <td>0.760145</td>\n",
              "      <td>160.35</td>\n",
              "      <td>146.05</td>\n",
              "      <td>3.679622</td>\n",
              "      <td>2.8</td>\n",
              "      <td>3.7</td>\n",
              "    </tr>\n",
              "    <tr>\n",
              "      <th>441</th>\n",
              "      <td>2019</td>\n",
              "      <td>PA</td>\n",
              "      <td>1503309</td>\n",
              "      <td>15576043</td>\n",
              "      <td>municipal</td>\n",
              "      <td>fundamental</td>\n",
              "      <td>iniciais (1-5)</td>\n",
              "      <td>68.5</td>\n",
              "      <td>0.679743</td>\n",
              "      <td>160.69</td>\n",
              "      <td>143.71</td>\n",
              "      <td>3.643756</td>\n",
              "      <td>2.5</td>\n",
              "      <td>3.6</td>\n",
              "    </tr>\n",
              "    <tr>\n",
              "      <th>462</th>\n",
              "      <td>2019</td>\n",
              "      <td>BA</td>\n",
              "      <td>2908606</td>\n",
              "      <td>29156009</td>\n",
              "      <td>municipal</td>\n",
              "      <td>fundamental</td>\n",
              "      <td>iniciais (1-5)</td>\n",
              "      <td>66.7</td>\n",
              "      <td>0.647852</td>\n",
              "      <td>192.46</td>\n",
              "      <td>193.66</td>\n",
              "      <td>5.158044</td>\n",
              "      <td>3.3</td>\n",
              "      <td>4.5</td>\n",
              "    </tr>\n",
              "    <tr>\n",
              "      <th>520</th>\n",
              "      <td>2019</td>\n",
              "      <td>BA</td>\n",
              "      <td>2910800</td>\n",
              "      <td>29096340</td>\n",
              "      <td>municipal</td>\n",
              "      <td>fundamental</td>\n",
              "      <td>iniciais (1-5)</td>\n",
              "      <td>66.7</td>\n",
              "      <td>0.663467</td>\n",
              "      <td>195.61</td>\n",
              "      <td>194.66</td>\n",
              "      <td>5.236532</td>\n",
              "      <td>3.5</td>\n",
              "      <td>2.7</td>\n",
              "    </tr>\n",
              "    <tr>\n",
              "      <th>528</th>\n",
              "      <td>2019</td>\n",
              "      <td>RN</td>\n",
              "      <td>2403301</td>\n",
              "      <td>24013498</td>\n",
              "      <td>municipal</td>\n",
              "      <td>fundamental</td>\n",
              "      <td>iniciais (1-5)</td>\n",
              "      <td>73.0</td>\n",
              "      <td>0.696906</td>\n",
              "      <td>211.22</td>\n",
              "      <td>202.72</td>\n",
              "      <td>5.680978</td>\n",
              "      <td>4.0</td>\n",
              "      <td>NaN</td>\n",
              "    </tr>\n",
              "    <tr>\n",
              "      <th>560</th>\n",
              "      <td>2019</td>\n",
              "      <td>RJ</td>\n",
              "      <td>3304904</td>\n",
              "      <td>33090521</td>\n",
              "      <td>municipal</td>\n",
              "      <td>fundamental</td>\n",
              "      <td>iniciais (1-5)</td>\n",
              "      <td>75.0</td>\n",
              "      <td>0.749522</td>\n",
              "      <td>214.61</td>\n",
              "      <td>204.58</td>\n",
              "      <td>5.779491</td>\n",
              "      <td>4.3</td>\n",
              "      <td>5.2</td>\n",
              "    </tr>\n",
              "    <tr>\n",
              "      <th>580</th>\n",
              "      <td>2019</td>\n",
              "      <td>MA</td>\n",
              "      <td>2105005</td>\n",
              "      <td>21031134</td>\n",
              "      <td>municipal</td>\n",
              "      <td>fundamental</td>\n",
              "      <td>iniciais (1-5)</td>\n",
              "      <td>76.4</td>\n",
              "      <td>0.733300</td>\n",
              "      <td>173.22</td>\n",
              "      <td>162.69</td>\n",
              "      <td>4.228151</td>\n",
              "      <td>3.1</td>\n",
              "      <td>4.3</td>\n",
              "    </tr>\n",
              "    <tr>\n",
              "      <th>583</th>\n",
              "      <td>2019</td>\n",
              "      <td>RJ</td>\n",
              "      <td>3306008</td>\n",
              "      <td>33018588</td>\n",
              "      <td>municipal</td>\n",
              "      <td>fundamental</td>\n",
              "      <td>iniciais (1-5)</td>\n",
              "      <td>77.4</td>\n",
              "      <td>0.776143</td>\n",
              "      <td>224.13</td>\n",
              "      <td>218.75</td>\n",
              "      <td>6.218797</td>\n",
              "      <td>4.8</td>\n",
              "      <td>5.4</td>\n",
              "    </tr>\n",
              "    <tr>\n",
              "      <th>589</th>\n",
              "      <td>2019</td>\n",
              "      <td>BA</td>\n",
              "      <td>2919108</td>\n",
              "      <td>29140447</td>\n",
              "      <td>municipal</td>\n",
              "      <td>fundamental</td>\n",
              "      <td>iniciais (1-5)</td>\n",
              "      <td>66.7</td>\n",
              "      <td>0.762753</td>\n",
              "      <td>188.80</td>\n",
              "      <td>174.25</td>\n",
              "      <td>4.735470</td>\n",
              "      <td>3.6</td>\n",
              "      <td>3.9</td>\n",
              "    </tr>\n",
              "    <tr>\n",
              "      <th>612</th>\n",
              "      <td>2019</td>\n",
              "      <td>BA</td>\n",
              "      <td>2900702</td>\n",
              "      <td>29150981</td>\n",
              "      <td>municipal</td>\n",
              "      <td>fundamental</td>\n",
              "      <td>iniciais (1-5)</td>\n",
              "      <td>63.8</td>\n",
              "      <td>0.641497</td>\n",
              "      <td>212.05</td>\n",
              "      <td>207.33</td>\n",
              "      <td>5.780817</td>\n",
              "      <td>3.7</td>\n",
              "      <td>4.7</td>\n",
              "    </tr>\n",
              "    <tr>\n",
              "      <th>614</th>\n",
              "      <td>2019</td>\n",
              "      <td>PA</td>\n",
              "      <td>1501808</td>\n",
              "      <td>15025535</td>\n",
              "      <td>municipal</td>\n",
              "      <td>fundamental</td>\n",
              "      <td>iniciais (1-5)</td>\n",
              "      <td>54.6</td>\n",
              "      <td>0.558239</td>\n",
              "      <td>144.99</td>\n",
              "      <td>131.57</td>\n",
              "      <td>3.123219</td>\n",
              "      <td>1.7</td>\n",
              "      <td>NaN</td>\n",
              "    </tr>\n",
              "    <tr>\n",
              "      <th>681</th>\n",
              "      <td>2019</td>\n",
              "      <td>BA</td>\n",
              "      <td>2933208</td>\n",
              "      <td>29202426</td>\n",
              "      <td>municipal</td>\n",
              "      <td>fundamental</td>\n",
              "      <td>iniciais (1-5)</td>\n",
              "      <td>77.4</td>\n",
              "      <td>0.752609</td>\n",
              "      <td>189.30</td>\n",
              "      <td>188.00</td>\n",
              "      <td>4.995021</td>\n",
              "      <td>3.8</td>\n",
              "      <td>3.6</td>\n",
              "    </tr>\n",
              "    <tr>\n",
              "      <th>707</th>\n",
              "      <td>2019</td>\n",
              "      <td>BA</td>\n",
              "      <td>2915809</td>\n",
              "      <td>29282071</td>\n",
              "      <td>municipal</td>\n",
              "      <td>fundamental</td>\n",
              "      <td>iniciais (1-5)</td>\n",
              "      <td>74.4</td>\n",
              "      <td>0.733032</td>\n",
              "      <td>187.80</td>\n",
              "      <td>161.55</td>\n",
              "      <td>4.485295</td>\n",
              "      <td>3.3</td>\n",
              "      <td>NaN</td>\n",
              "    </tr>\n",
              "    <tr>\n",
              "      <th>777</th>\n",
              "      <td>2019</td>\n",
              "      <td>PE</td>\n",
              "      <td>2606002</td>\n",
              "      <td>26075377</td>\n",
              "      <td>municipal</td>\n",
              "      <td>fundamental</td>\n",
              "      <td>iniciais (1-5)</td>\n",
              "      <td>78.8</td>\n",
              "      <td>0.770675</td>\n",
              "      <td>201.41</td>\n",
              "      <td>193.13</td>\n",
              "      <td>5.319210</td>\n",
              "      <td>4.1</td>\n",
              "      <td>4.9</td>\n",
              "    </tr>\n",
              "    <tr>\n",
              "      <th>797</th>\n",
              "      <td>2019</td>\n",
              "      <td>PA</td>\n",
              "      <td>1503309</td>\n",
              "      <td>15072800</td>\n",
              "      <td>municipal</td>\n",
              "      <td>fundamental</td>\n",
              "      <td>iniciais (1-5)</td>\n",
              "      <td>74.7</td>\n",
              "      <td>0.720370</td>\n",
              "      <td>173.38</td>\n",
              "      <td>169.86</td>\n",
              "      <td>4.361195</td>\n",
              "      <td>3.1</td>\n",
              "      <td>3.4</td>\n",
              "    </tr>\n",
              "    <tr>\n",
              "      <th>843</th>\n",
              "      <td>2019</td>\n",
              "      <td>PA</td>\n",
              "      <td>1507755</td>\n",
              "      <td>15167410</td>\n",
              "      <td>municipal</td>\n",
              "      <td>fundamental</td>\n",
              "      <td>iniciais (1-5)</td>\n",
              "      <td>74.6</td>\n",
              "      <td>0.722863</td>\n",
              "      <td>236.55</td>\n",
              "      <td>214.50</td>\n",
              "      <td>6.378366</td>\n",
              "      <td>4.6</td>\n",
              "      <td>NaN</td>\n",
              "    </tr>\n",
              "    <tr>\n",
              "      <th>852</th>\n",
              "      <td>2019</td>\n",
              "      <td>PA</td>\n",
              "      <td>1502301</td>\n",
              "      <td>15088600</td>\n",
              "      <td>municipal</td>\n",
              "      <td>fundamental</td>\n",
              "      <td>iniciais (1-5)</td>\n",
              "      <td>67.7</td>\n",
              "      <td>0.679206</td>\n",
              "      <td>192.35</td>\n",
              "      <td>174.88</td>\n",
              "      <td>4.814491</td>\n",
              "      <td>3.3</td>\n",
              "      <td>NaN</td>\n",
              "    </tr>\n",
              "    <tr>\n",
              "      <th>853</th>\n",
              "      <td>2019</td>\n",
              "      <td>SE</td>\n",
              "      <td>2802106</td>\n",
              "      <td>28025024</td>\n",
              "      <td>municipal</td>\n",
              "      <td>fundamental</td>\n",
              "      <td>iniciais (1-5)</td>\n",
              "      <td>77.9</td>\n",
              "      <td>0.775423</td>\n",
              "      <td>190.16</td>\n",
              "      <td>182.38</td>\n",
              "      <td>4.909251</td>\n",
              "      <td>3.8</td>\n",
              "      <td>4.2</td>\n",
              "    </tr>\n",
              "    <tr>\n",
              "      <th>862</th>\n",
              "      <td>2019</td>\n",
              "      <td>BA</td>\n",
              "      <td>2926509</td>\n",
              "      <td>29132690</td>\n",
              "      <td>municipal</td>\n",
              "      <td>fundamental</td>\n",
              "      <td>iniciais (1-5)</td>\n",
              "      <td>78.8</td>\n",
              "      <td>0.761833</td>\n",
              "      <td>191.00</td>\n",
              "      <td>187.44</td>\n",
              "      <td>5.017282</td>\n",
              "      <td>3.8</td>\n",
              "      <td>4.9</td>\n",
              "    </tr>\n",
              "    <tr>\n",
              "      <th>888</th>\n",
              "      <td>2019</td>\n",
              "      <td>BA</td>\n",
              "      <td>2917607</td>\n",
              "      <td>29227330</td>\n",
              "      <td>municipal</td>\n",
              "      <td>fundamental</td>\n",
              "      <td>iniciais (1-5)</td>\n",
              "      <td>75.0</td>\n",
              "      <td>0.652903</td>\n",
              "      <td>197.41</td>\n",
              "      <td>178.47</td>\n",
              "      <td>4.976519</td>\n",
              "      <td>3.2</td>\n",
              "      <td>4.9</td>\n",
              "    </tr>\n",
              "    <tr>\n",
              "      <th>889</th>\n",
              "      <td>2019</td>\n",
              "      <td>RN</td>\n",
              "      <td>2414704</td>\n",
              "      <td>24050164</td>\n",
              "      <td>municipal</td>\n",
              "      <td>fundamental</td>\n",
              "      <td>iniciais (1-5)</td>\n",
              "      <td>62.9</td>\n",
              "      <td>0.629929</td>\n",
              "      <td>177.49</td>\n",
              "      <td>167.11</td>\n",
              "      <td>4.389630</td>\n",
              "      <td>2.8</td>\n",
              "      <td>3.9</td>\n",
              "    </tr>\n",
              "    <tr>\n",
              "      <th>961</th>\n",
              "      <td>2019</td>\n",
              "      <td>BA</td>\n",
              "      <td>2910008</td>\n",
              "      <td>29271924</td>\n",
              "      <td>municipal</td>\n",
              "      <td>fundamental</td>\n",
              "      <td>iniciais (1-5)</td>\n",
              "      <td>77.9</td>\n",
              "      <td>0.771983</td>\n",
              "      <td>194.88</td>\n",
              "      <td>178.00</td>\n",
              "      <td>4.919500</td>\n",
              "      <td>3.8</td>\n",
              "      <td>3.8</td>\n",
              "    </tr>\n",
              "    <tr>\n",
              "      <th>996</th>\n",
              "      <td>2019</td>\n",
              "      <td>RJ</td>\n",
              "      <td>3302270</td>\n",
              "      <td>33097488</td>\n",
              "      <td>municipal</td>\n",
              "      <td>fundamental</td>\n",
              "      <td>iniciais (1-5)</td>\n",
              "      <td>77.9</td>\n",
              "      <td>0.773610</td>\n",
              "      <td>186.94</td>\n",
              "      <td>186.55</td>\n",
              "      <td>4.923619</td>\n",
              "      <td>3.8</td>\n",
              "      <td>5.4</td>\n",
              "    </tr>\n",
              "  </tbody>\n",
              "</table>\n",
              "</div>\n",
              "      <button class=\"colab-df-convert\" onclick=\"convertToInteractive('df-5d851f6e-b98c-42a9-a682-1ff9272409be')\"\n",
              "              title=\"Convert this dataframe to an interactive table.\"\n",
              "              style=\"display:none;\">\n",
              "        \n",
              "  <svg xmlns=\"http://www.w3.org/2000/svg\" height=\"24px\"viewBox=\"0 0 24 24\"\n",
              "       width=\"24px\">\n",
              "    <path d=\"M0 0h24v24H0V0z\" fill=\"none\"/>\n",
              "    <path d=\"M18.56 5.44l.94 2.06.94-2.06 2.06-.94-2.06-.94-.94-2.06-.94 2.06-2.06.94zm-11 1L8.5 8.5l.94-2.06 2.06-.94-2.06-.94L8.5 2.5l-.94 2.06-2.06.94zm10 10l.94 2.06.94-2.06 2.06-.94-2.06-.94-.94-2.06-.94 2.06-2.06.94z\"/><path d=\"M17.41 7.96l-1.37-1.37c-.4-.4-.92-.59-1.43-.59-.52 0-1.04.2-1.43.59L10.3 9.45l-7.72 7.72c-.78.78-.78 2.05 0 2.83L4 21.41c.39.39.9.59 1.41.59.51 0 1.02-.2 1.41-.59l7.78-7.78 2.81-2.81c.8-.78.8-2.07 0-2.86zM5.41 20L4 18.59l7.72-7.72 1.47 1.35L5.41 20z\"/>\n",
              "  </svg>\n",
              "      </button>\n",
              "      \n",
              "  <style>\n",
              "    .colab-df-container {\n",
              "      display:flex;\n",
              "      flex-wrap:wrap;\n",
              "      gap: 12px;\n",
              "    }\n",
              "\n",
              "    .colab-df-convert {\n",
              "      background-color: #E8F0FE;\n",
              "      border: none;\n",
              "      border-radius: 50%;\n",
              "      cursor: pointer;\n",
              "      display: none;\n",
              "      fill: #1967D2;\n",
              "      height: 32px;\n",
              "      padding: 0 0 0 0;\n",
              "      width: 32px;\n",
              "    }\n",
              "\n",
              "    .colab-df-convert:hover {\n",
              "      background-color: #E2EBFA;\n",
              "      box-shadow: 0px 1px 2px rgba(60, 64, 67, 0.3), 0px 1px 3px 1px rgba(60, 64, 67, 0.15);\n",
              "      fill: #174EA6;\n",
              "    }\n",
              "\n",
              "    [theme=dark] .colab-df-convert {\n",
              "      background-color: #3B4455;\n",
              "      fill: #D2E3FC;\n",
              "    }\n",
              "\n",
              "    [theme=dark] .colab-df-convert:hover {\n",
              "      background-color: #434B5C;\n",
              "      box-shadow: 0px 1px 3px 1px rgba(0, 0, 0, 0.15);\n",
              "      filter: drop-shadow(0px 1px 2px rgba(0, 0, 0, 0.3));\n",
              "      fill: #FFFFFF;\n",
              "    }\n",
              "  </style>\n",
              "\n",
              "      <script>\n",
              "        const buttonEl =\n",
              "          document.querySelector('#df-5d851f6e-b98c-42a9-a682-1ff9272409be button.colab-df-convert');\n",
              "        buttonEl.style.display =\n",
              "          google.colab.kernel.accessAllowed ? 'block' : 'none';\n",
              "\n",
              "        async function convertToInteractive(key) {\n",
              "          const element = document.querySelector('#df-5d851f6e-b98c-42a9-a682-1ff9272409be');\n",
              "          const dataTable =\n",
              "            await google.colab.kernel.invokeFunction('convertToInteractive',\n",
              "                                                     [key], {});\n",
              "          if (!dataTable) return;\n",
              "\n",
              "          const docLinkHtml = 'Like what you see? Visit the ' +\n",
              "            '<a target=\"_blank\" href=https://colab.research.google.com/notebooks/data_table.ipynb>data table notebook</a>'\n",
              "            + ' to learn more about interactive tables.';\n",
              "          element.innerHTML = '';\n",
              "          dataTable['output_type'] = 'display_data';\n",
              "          await google.colab.output.renderOutput(dataTable, element);\n",
              "          const docLink = document.createElement('div');\n",
              "          docLink.innerHTML = docLinkHtml;\n",
              "          element.appendChild(docLink);\n",
              "        }\n",
              "      </script>\n",
              "    </div>\n",
              "  </div>\n",
              "  "
            ]
          },
          "metadata": {},
          "execution_count": 101
        }
      ]
    },
    {
      "cell_type": "markdown",
      "source": [
        "**SAEB Matemática**"
      ],
      "metadata": {
        "id": "VQZsxtSYvjix"
      }
    },
    {
      "cell_type": "code",
      "source": [
        "df_ideb.columns"
      ],
      "metadata": {
        "colab": {
          "base_uri": "https://localhost:8080/"
        },
        "id": "x64Q7LDr8XNs",
        "outputId": "9f39e699-de8b-46cf-d112-2b2b52ebba33"
      },
      "execution_count": 102,
      "outputs": [
        {
          "output_type": "execute_result",
          "data": {
            "text/plain": [
              "Index(['ano', 'sigla_uf', 'id_municipio', 'id_escola', 'rede', 'ensino',\n",
              "       'anos_escolares', 'taxa_aprovacao', 'indicador_rendimento',\n",
              "       'nota_saeb_matematica', 'nota_saeb_lingua_portuguesa',\n",
              "       'nota_saeb_media_padronizada', 'ideb', 'projecao'],\n",
              "      dtype='object')"
            ]
          },
          "metadata": {},
          "execution_count": 102
        }
      ]
    },
    {
      "cell_type": "code",
      "source": [
        "# Boxplot\n",
        "boxplot(df_ideb['nota_saeb_matematica'])"
      ],
      "metadata": {
        "id": "bQncRM7C92Fg",
        "colab": {
          "base_uri": "https://localhost:8080/",
          "height": 542
        },
        "outputId": "e2d0498e-ae3b-4a57-bd78-dc39c6e8c892"
      },
      "execution_count": 103,
      "outputs": [
        {
          "output_type": "display_data",
          "data": {
            "text/html": [
              "<html>\n",
              "<head><meta charset=\"utf-8\" /></head>\n",
              "<body>\n",
              "    <div>            <script src=\"https://cdnjs.cloudflare.com/ajax/libs/mathjax/2.7.5/MathJax.js?config=TeX-AMS-MML_SVG\"></script><script type=\"text/javascript\">if (window.MathJax) {MathJax.Hub.Config({SVG: {font: \"STIX-Web\"}});}</script>                <script type=\"text/javascript\">window.PlotlyConfig = {MathJaxConfig: 'local'};</script>\n",
              "        <script src=\"https://cdn.plot.ly/plotly-2.8.3.min.js\"></script>                <div id=\"e3d2fbef-218a-4cb2-bf9d-06d66f8d7834\" class=\"plotly-graph-div\" style=\"height:525px; width:100%;\"></div>            <script type=\"text/javascript\">                                    window.PLOTLYENV=window.PLOTLYENV || {};                                    if (document.getElementById(\"e3d2fbef-218a-4cb2-bf9d-06d66f8d7834\")) {                    Plotly.newPlot(                        \"e3d2fbef-218a-4cb2-bf9d-06d66f8d7834\",                        [{\"alignmentgroup\":\"True\",\"hovertemplate\":\"nota_saeb_matematica=%{y}<extra></extra>\",\"legendgroup\":\"\",\"marker\":{\"color\":\"#636efa\"},\"name\":\"\",\"notched\":false,\"offsetgroup\":\"\",\"orientation\":\"v\",\"showlegend\":false,\"x0\":\" \",\"xaxis\":\"x\",\"y\":[215.97,188.46,204.86,241.07,179.35,243.66,189.89,239.91,214.08,256.07,151.97,226.22,245.11,226.42,231.86,221.72,189.25,220.19,212.52,176.96,197.8,212.13,186.77,234.58,220.42,250.8,210.22,255.13,238.02,187.75,219.22,203.25,198.96,227.75,175.32,194.75,199.58,221.25,207.88,207.85,230.58,220.42,238.1,239.52,232.11,243.24,203.11,242.13,196.69,178.88,198.92,189.75,209.02,231.66,244.07,185.77,224.21,222.41,209.22,225.8,207.86,248.61,229.89,234.55,180.25,212.0,212.44,221.27,221.32,192.83,174.91,198.66,229.53,227.3,234.27,227.25,194.77,188.8,213.69,211.69,194.36,274.45,263.61,234.3,205.21,180.03,246.07,220.57,264.5,224.36,212.33,175.67,218.36,247.36,172.25,206.33,245.86,199.33,177.94,180.49,248.36,214.61,201.05,259.82,246.24,243.19,205.0,183.74,190.27,206.97,247.0,209.77,223.02,164.05,203.02,233.97,188.66,284.6,212.8,216.5,173.58,176.36,176.97,279.0,200.67,218.52,218.88,247.11,255.85,185.91,210.77,263.35,226.72,215.91,241.36,207.77,233.55,225.36,199.63,180.88,226.11,257.92,210.61,251.07,206.8,178.63,214.21,235.52,209.96,222.3,184.16,163.49,236.66,192.58,209.75,222.61,205.61,247.36,211.83,236.38,197.55,264.6,240.67,237.91,192.11,204.63,231.63,256.2,206.94,238.66,219.58,250.75,188.27,241.8,221.72,202.19,200.11,208.02,260.23,189.33,225.11,243.22,216.11,234.85,216.5,243.58,232.05,227.0,189.53,256.1,231.11,175.97,199.58,257.6,182.53,243.91,170.44,206.66,210.25,201.61,210.82,224.44,197.47,210.58,215.78,200.22,272.19,204.46,223.13,197.91,253.88,190.3,256.69,219.36,216.27,228.97,211.36,176.27,207.13,243.67,210.55,251.74,228.44,190.75,189.19,261.51,252.71,220.32,252.83,222.63,201.61,230.0,218.19,232.0,183.72,229.69,229.78,236.6,195.42,228.05,220.24,246.07,177.8,162.89,270.22,223.66,231.08,258.57,226.67,242.11,255.13,213.11,231.03,210.3,188.91,234.22,227.3,210.3,218.41,278.7,157.02,203.66,208.63,187.14,225.0,170.6,258.08,221.36,176.22,202.19,234.05,204.58,251.32,219.44,271.45,203.07,213.66,220.77,201.97,206.3,227.35,256.17,198.27,197.13,165.17,201.25,249.69,239.36,193.83,237.32,212.57,222.97,240.47,182.88,230.44,198.35,217.77,236.8,192.63,254.0,235.78,232.86,243.86,246.33,235.44,235.27,190.0,221.13,220.69,250.52,223.28,197.74,268.83,186.47,243.49,225.36,188.69,249.72,198.16,175.88,237.03,226.13,245.99,204.67,227.58,220.94,232.94,239.32,193.58,251.69,229.58,188.69,195.63,224.97,186.63,203.1,171.22,170.75,171.91,235.57,199.8,267.13,190.27,209.16,218.22,261.51,189.75,225.19,287.73,225.0,174.67,214.88,213.61,249.97,243.44,193.47,196.5,177.08,202.39,242.1,161.32,206.77,188.5,243.13,216.77,227.02,168.14,214.5,191.99,216.05,213.22,213.66,218.44,271.52,186.96,197.46,193.13,241.71,205.05,224.44,267.92,161.44,213.05,258.55,208.72,242.22,238.96,192.0,230.32,198.63,226.27,203.28,206.52,229.25,170.86,241.44,241.25,227.74,160.35,228.97,218.41,197.22,237.88,211.64,202.19,167.92,215.52,209.16,208.36,265.42,182.97,251.5,247.53,256.75,206.27,209.86,233.91,240.96,203.3,234.63,191.08,210.83,240.8,153.33,244.82,176.88,229.91,189.35,186.25,211.58,171.19,191.94,195.53,232.78,224.6,205.58,216.17,197.92,237.85,229.38,216.46,160.69,241.63,223.3,203.27,199.77,230.33,249.61,226.83,220.0,248.64,168.69,195.33,224.08,181.1,178.78,209.8,257.67,207.55,228.38,246.22,196.11,192.46,214.3,240.05,225.25,213.69,251.78,222.17,173.14,216.78,200.58,253.22,238.24,226.97,204.28,256.01,227.03,206.21,253.89,202.41,237.82,209.36,164.0,216.24,229.53,225.05,189.38,216.47,191.02,262.13,240.35,231.24,243.35,254.3,208.91,251.3,192.75,239.27,269.7,260.79,191.13,246.44,227.64,183.83,247.91,199.92,231.47,232.94,233.05,193.1,246.5,207.0,222.5,205.0,212.96,220.02,228.19,214.3,234.97,195.61,208.89,168.33,235.85,205.22,178.3,268.1,178.03,211.22,235.97,254.05,156.19,224.21,165.02,270.94,188.28,215.11,226.72,208.69,198.55,225.83,173.94,226.75,245.72,231.78,218.94,213.5,238.19,212.24,221.82,189.75,204.27,207.28,215.61,220.74,230.61,173.91,261.02,230.6,192.8,214.61,240.52,185.94,229.58,216.35,236.03,230.77,239.24,211.24,226.86,226.57,248.94,225.88,192.02,225.11,212.35,235.58,237.3,229.78,213.63,173.22,200.27,188.38,224.13,232.25,182.75,184.91,184.99,234.69,188.8,193.91,238.36,206.75,223.36,266.14,242.78,268.76,229.72,240.74,269.75,216.61,214.63,209.33,212.41,201.82,201.11,238.66,223.71,202.22,206.78,199.88,202.75,212.05,193.67,144.99,207.05,239.46,213.38,212.19,239.35,226.07,237.39,226.52,169.3,239.94,175.0,230.17,229.92,209.66,240.71,262.14,271.22,242.11,183.75,199.77,248.02,213.57,214.02,186.91,229.88,235.67,252.47,241.6,229.53,224.22,190.86,224.55,254.82,216.02,186.78,239.33,249.82,231.17,196.47,231.77,202.91,242.19,192.72,218.6,223.28,249.89,246.19,201.24,187.1,220.8,230.46,211.05,180.05,244.05,199.99,192.94,220.03,188.38,264.72,258.07,213.07,192.13,233.88,260.79,217.3,214.05,189.3,183.25,218.66,203.86,223.5,202.57,176.85,159.91,245.35,243.91,226.35,197.05,170.5,204.36,241.13,249.63,239.89,195.83,194.71,208.14,216.66,203.05,212.83,195.86,242.91,239.72,187.8,189.83,262.22,197.69,268.92,234.08,240.66,225.38,227.25,242.05,220.77,196.75,245.99,212.36,197.36,194.88,225.86,166.8,195.08,209.96,175.02,233.36,173.27,248.83,215.35,223.0,210.89,234.86,244.66,221.8,237.25,208.41,212.69,208.0,202.94,170.0,194.49,263.7,258.05,207.02,215.27,189.25,269.89,193.35,215.77,205.05,220.82,243.75,245.69,184.02,193.67,211.97,254.86,228.69,190.03,213.72,270.82,216.46,194.63,224.41,213.53,232.91,258.1,258.39,194.72,226.69,224.58,178.72,213.85,229.6,201.41,253.38,243.78,172.55,211.91,183.35,201.21,224.11,229.38,212.82,234.41,230.58,221.27,218.44,211.63,173.52,197.22,253.53,219.67,184.22,173.38,217.21,194.74,264.82,247.5,225.89,195.21,205.91,239.71,199.44,193.96,205.44,253.32,212.63,237.55,220.91,200.75,244.11,210.83,219.35,222.77,158.58,196.71,194.63,196.69,208.99,185.97,254.47,221.19,166.69,249.19,218.77,221.41,243.47,260.42,260.7,254.77,158.27,243.03,218.05,218.71,234.72,201.41,253.83,232.36,210.67,236.55,183.78,185.5,209.32,202.67,227.27,252.16,247.57,191.72,192.35,190.16,220.47,218.27,225.58,232.88,211.8,225.91,211.94,246.19,191.0,204.27,201.52,150.27,177.49,171.16,218.27,254.38,205.22,232.8,242.19,189.05,190.16,243.0,195.75,148.85,236.89,235.11,214.32,215.63,277.85,218.17,232.8,202.55,261.67,191.88,197.41,177.49,227.02,213.53,263.57,278.83,235.52,289.55,216.19,202.13,202.64,230.35,252.13,266.26,231.66,232.25,184.0,205.86,239.58,234.61,198.67,232.72,212.3,193.67,210.69,232.75,273.42,226.74,252.27,189.8,222.19,190.0,228.47,214.02,253.28,218.41,207.83,208.02,223.07,258.14,209.5,251.8,261.48,213.16,207.89,224.38,285.1,192.97,188.05,258.98,243.85,185.0,197.17,218.88,189.41,240.46,178.66,249.72,236.61,255.72,208.88,159.5,243.36,218.17,170.52,218.46,215.41,252.85,169.0,210.03,224.88,189.1,265.22,194.88,207.3,233.19,215.67,239.97,255.1,247.41,200.1,193.22,199.6,233.24,204.47,216.61,258.23,186.07,164.07,220.16,204.27,205.64,225.13,218.13,228.39,232.17,197.05,222.86,274.47,215.61,242.52,179.74,160.39,213.86,234.55,236.38,216.16,201.47,186.94,242.42,230.41,176.63],\"y0\":\" \",\"yaxis\":\"y\",\"type\":\"box\"}],                        {\"template\":{\"data\":{\"bar\":[{\"error_x\":{\"color\":\"#2a3f5f\"},\"error_y\":{\"color\":\"#2a3f5f\"},\"marker\":{\"line\":{\"color\":\"#E5ECF6\",\"width\":0.5},\"pattern\":{\"fillmode\":\"overlay\",\"size\":10,\"solidity\":0.2}},\"type\":\"bar\"}],\"barpolar\":[{\"marker\":{\"line\":{\"color\":\"#E5ECF6\",\"width\":0.5},\"pattern\":{\"fillmode\":\"overlay\",\"size\":10,\"solidity\":0.2}},\"type\":\"barpolar\"}],\"carpet\":[{\"aaxis\":{\"endlinecolor\":\"#2a3f5f\",\"gridcolor\":\"white\",\"linecolor\":\"white\",\"minorgridcolor\":\"white\",\"startlinecolor\":\"#2a3f5f\"},\"baxis\":{\"endlinecolor\":\"#2a3f5f\",\"gridcolor\":\"white\",\"linecolor\":\"white\",\"minorgridcolor\":\"white\",\"startlinecolor\":\"#2a3f5f\"},\"type\":\"carpet\"}],\"choropleth\":[{\"colorbar\":{\"outlinewidth\":0,\"ticks\":\"\"},\"type\":\"choropleth\"}],\"contour\":[{\"colorbar\":{\"outlinewidth\":0,\"ticks\":\"\"},\"colorscale\":[[0.0,\"#0d0887\"],[0.1111111111111111,\"#46039f\"],[0.2222222222222222,\"#7201a8\"],[0.3333333333333333,\"#9c179e\"],[0.4444444444444444,\"#bd3786\"],[0.5555555555555556,\"#d8576b\"],[0.6666666666666666,\"#ed7953\"],[0.7777777777777778,\"#fb9f3a\"],[0.8888888888888888,\"#fdca26\"],[1.0,\"#f0f921\"]],\"type\":\"contour\"}],\"contourcarpet\":[{\"colorbar\":{\"outlinewidth\":0,\"ticks\":\"\"},\"type\":\"contourcarpet\"}],\"heatmap\":[{\"colorbar\":{\"outlinewidth\":0,\"ticks\":\"\"},\"colorscale\":[[0.0,\"#0d0887\"],[0.1111111111111111,\"#46039f\"],[0.2222222222222222,\"#7201a8\"],[0.3333333333333333,\"#9c179e\"],[0.4444444444444444,\"#bd3786\"],[0.5555555555555556,\"#d8576b\"],[0.6666666666666666,\"#ed7953\"],[0.7777777777777778,\"#fb9f3a\"],[0.8888888888888888,\"#fdca26\"],[1.0,\"#f0f921\"]],\"type\":\"heatmap\"}],\"heatmapgl\":[{\"colorbar\":{\"outlinewidth\":0,\"ticks\":\"\"},\"colorscale\":[[0.0,\"#0d0887\"],[0.1111111111111111,\"#46039f\"],[0.2222222222222222,\"#7201a8\"],[0.3333333333333333,\"#9c179e\"],[0.4444444444444444,\"#bd3786\"],[0.5555555555555556,\"#d8576b\"],[0.6666666666666666,\"#ed7953\"],[0.7777777777777778,\"#fb9f3a\"],[0.8888888888888888,\"#fdca26\"],[1.0,\"#f0f921\"]],\"type\":\"heatmapgl\"}],\"histogram\":[{\"marker\":{\"pattern\":{\"fillmode\":\"overlay\",\"size\":10,\"solidity\":0.2}},\"type\":\"histogram\"}],\"histogram2d\":[{\"colorbar\":{\"outlinewidth\":0,\"ticks\":\"\"},\"colorscale\":[[0.0,\"#0d0887\"],[0.1111111111111111,\"#46039f\"],[0.2222222222222222,\"#7201a8\"],[0.3333333333333333,\"#9c179e\"],[0.4444444444444444,\"#bd3786\"],[0.5555555555555556,\"#d8576b\"],[0.6666666666666666,\"#ed7953\"],[0.7777777777777778,\"#fb9f3a\"],[0.8888888888888888,\"#fdca26\"],[1.0,\"#f0f921\"]],\"type\":\"histogram2d\"}],\"histogram2dcontour\":[{\"colorbar\":{\"outlinewidth\":0,\"ticks\":\"\"},\"colorscale\":[[0.0,\"#0d0887\"],[0.1111111111111111,\"#46039f\"],[0.2222222222222222,\"#7201a8\"],[0.3333333333333333,\"#9c179e\"],[0.4444444444444444,\"#bd3786\"],[0.5555555555555556,\"#d8576b\"],[0.6666666666666666,\"#ed7953\"],[0.7777777777777778,\"#fb9f3a\"],[0.8888888888888888,\"#fdca26\"],[1.0,\"#f0f921\"]],\"type\":\"histogram2dcontour\"}],\"mesh3d\":[{\"colorbar\":{\"outlinewidth\":0,\"ticks\":\"\"},\"type\":\"mesh3d\"}],\"parcoords\":[{\"line\":{\"colorbar\":{\"outlinewidth\":0,\"ticks\":\"\"}},\"type\":\"parcoords\"}],\"pie\":[{\"automargin\":true,\"type\":\"pie\"}],\"scatter\":[{\"marker\":{\"colorbar\":{\"outlinewidth\":0,\"ticks\":\"\"}},\"type\":\"scatter\"}],\"scatter3d\":[{\"line\":{\"colorbar\":{\"outlinewidth\":0,\"ticks\":\"\"}},\"marker\":{\"colorbar\":{\"outlinewidth\":0,\"ticks\":\"\"}},\"type\":\"scatter3d\"}],\"scattercarpet\":[{\"marker\":{\"colorbar\":{\"outlinewidth\":0,\"ticks\":\"\"}},\"type\":\"scattercarpet\"}],\"scattergeo\":[{\"marker\":{\"colorbar\":{\"outlinewidth\":0,\"ticks\":\"\"}},\"type\":\"scattergeo\"}],\"scattergl\":[{\"marker\":{\"colorbar\":{\"outlinewidth\":0,\"ticks\":\"\"}},\"type\":\"scattergl\"}],\"scattermapbox\":[{\"marker\":{\"colorbar\":{\"outlinewidth\":0,\"ticks\":\"\"}},\"type\":\"scattermapbox\"}],\"scatterpolar\":[{\"marker\":{\"colorbar\":{\"outlinewidth\":0,\"ticks\":\"\"}},\"type\":\"scatterpolar\"}],\"scatterpolargl\":[{\"marker\":{\"colorbar\":{\"outlinewidth\":0,\"ticks\":\"\"}},\"type\":\"scatterpolargl\"}],\"scatterternary\":[{\"marker\":{\"colorbar\":{\"outlinewidth\":0,\"ticks\":\"\"}},\"type\":\"scatterternary\"}],\"surface\":[{\"colorbar\":{\"outlinewidth\":0,\"ticks\":\"\"},\"colorscale\":[[0.0,\"#0d0887\"],[0.1111111111111111,\"#46039f\"],[0.2222222222222222,\"#7201a8\"],[0.3333333333333333,\"#9c179e\"],[0.4444444444444444,\"#bd3786\"],[0.5555555555555556,\"#d8576b\"],[0.6666666666666666,\"#ed7953\"],[0.7777777777777778,\"#fb9f3a\"],[0.8888888888888888,\"#fdca26\"],[1.0,\"#f0f921\"]],\"type\":\"surface\"}],\"table\":[{\"cells\":{\"fill\":{\"color\":\"#EBF0F8\"},\"line\":{\"color\":\"white\"}},\"header\":{\"fill\":{\"color\":\"#C8D4E3\"},\"line\":{\"color\":\"white\"}},\"type\":\"table\"}]},\"layout\":{\"annotationdefaults\":{\"arrowcolor\":\"#2a3f5f\",\"arrowhead\":0,\"arrowwidth\":1},\"autotypenumbers\":\"strict\",\"coloraxis\":{\"colorbar\":{\"outlinewidth\":0,\"ticks\":\"\"}},\"colorscale\":{\"diverging\":[[0,\"#8e0152\"],[0.1,\"#c51b7d\"],[0.2,\"#de77ae\"],[0.3,\"#f1b6da\"],[0.4,\"#fde0ef\"],[0.5,\"#f7f7f7\"],[0.6,\"#e6f5d0\"],[0.7,\"#b8e186\"],[0.8,\"#7fbc41\"],[0.9,\"#4d9221\"],[1,\"#276419\"]],\"sequential\":[[0.0,\"#0d0887\"],[0.1111111111111111,\"#46039f\"],[0.2222222222222222,\"#7201a8\"],[0.3333333333333333,\"#9c179e\"],[0.4444444444444444,\"#bd3786\"],[0.5555555555555556,\"#d8576b\"],[0.6666666666666666,\"#ed7953\"],[0.7777777777777778,\"#fb9f3a\"],[0.8888888888888888,\"#fdca26\"],[1.0,\"#f0f921\"]],\"sequentialminus\":[[0.0,\"#0d0887\"],[0.1111111111111111,\"#46039f\"],[0.2222222222222222,\"#7201a8\"],[0.3333333333333333,\"#9c179e\"],[0.4444444444444444,\"#bd3786\"],[0.5555555555555556,\"#d8576b\"],[0.6666666666666666,\"#ed7953\"],[0.7777777777777778,\"#fb9f3a\"],[0.8888888888888888,\"#fdca26\"],[1.0,\"#f0f921\"]]},\"colorway\":[\"#636efa\",\"#EF553B\",\"#00cc96\",\"#ab63fa\",\"#FFA15A\",\"#19d3f3\",\"#FF6692\",\"#B6E880\",\"#FF97FF\",\"#FECB52\"],\"font\":{\"color\":\"#2a3f5f\"},\"geo\":{\"bgcolor\":\"white\",\"lakecolor\":\"white\",\"landcolor\":\"#E5ECF6\",\"showlakes\":true,\"showland\":true,\"subunitcolor\":\"white\"},\"hoverlabel\":{\"align\":\"left\"},\"hovermode\":\"closest\",\"mapbox\":{\"style\":\"light\"},\"paper_bgcolor\":\"white\",\"plot_bgcolor\":\"#E5ECF6\",\"polar\":{\"angularaxis\":{\"gridcolor\":\"white\",\"linecolor\":\"white\",\"ticks\":\"\"},\"bgcolor\":\"#E5ECF6\",\"radialaxis\":{\"gridcolor\":\"white\",\"linecolor\":\"white\",\"ticks\":\"\"}},\"scene\":{\"xaxis\":{\"backgroundcolor\":\"#E5ECF6\",\"gridcolor\":\"white\",\"gridwidth\":2,\"linecolor\":\"white\",\"showbackground\":true,\"ticks\":\"\",\"zerolinecolor\":\"white\"},\"yaxis\":{\"backgroundcolor\":\"#E5ECF6\",\"gridcolor\":\"white\",\"gridwidth\":2,\"linecolor\":\"white\",\"showbackground\":true,\"ticks\":\"\",\"zerolinecolor\":\"white\"},\"zaxis\":{\"backgroundcolor\":\"#E5ECF6\",\"gridcolor\":\"white\",\"gridwidth\":2,\"linecolor\":\"white\",\"showbackground\":true,\"ticks\":\"\",\"zerolinecolor\":\"white\"}},\"shapedefaults\":{\"line\":{\"color\":\"#2a3f5f\"}},\"ternary\":{\"aaxis\":{\"gridcolor\":\"white\",\"linecolor\":\"white\",\"ticks\":\"\"},\"baxis\":{\"gridcolor\":\"white\",\"linecolor\":\"white\",\"ticks\":\"\"},\"bgcolor\":\"#E5ECF6\",\"caxis\":{\"gridcolor\":\"white\",\"linecolor\":\"white\",\"ticks\":\"\"}},\"title\":{\"x\":0.05},\"xaxis\":{\"automargin\":true,\"gridcolor\":\"white\",\"linecolor\":\"white\",\"ticks\":\"\",\"title\":{\"standoff\":15},\"zerolinecolor\":\"white\",\"zerolinewidth\":2},\"yaxis\":{\"automargin\":true,\"gridcolor\":\"white\",\"linecolor\":\"white\",\"ticks\":\"\",\"title\":{\"standoff\":15},\"zerolinecolor\":\"white\",\"zerolinewidth\":2}}},\"xaxis\":{\"anchor\":\"y\",\"domain\":[0.0,1.0]},\"yaxis\":{\"anchor\":\"x\",\"domain\":[0.0,1.0],\"title\":{\"text\":\"nota_saeb_matematica\"}},\"legend\":{\"tracegroupgap\":0},\"margin\":{\"t\":60},\"boxmode\":\"group\"},                        {\"responsive\": true}                    ).then(function(){\n",
              "                            \n",
              "var gd = document.getElementById('e3d2fbef-218a-4cb2-bf9d-06d66f8d7834');\n",
              "var x = new MutationObserver(function (mutations, observer) {{\n",
              "        var display = window.getComputedStyle(gd).display;\n",
              "        if (!display || display === 'none') {{\n",
              "            console.log([gd, 'removed!']);\n",
              "            Plotly.purge(gd);\n",
              "            observer.disconnect();\n",
              "        }}\n",
              "}});\n",
              "\n",
              "// Listen for the removal of the full notebook cells\n",
              "var notebookContainer = gd.closest('#notebook-container');\n",
              "if (notebookContainer) {{\n",
              "    x.observe(notebookContainer, {childList: true});\n",
              "}}\n",
              "\n",
              "// Listen for the clearing of the current output cell\n",
              "var outputEl = gd.closest('.output');\n",
              "if (outputEl) {{\n",
              "    x.observe(outputEl, {childList: true});\n",
              "}}\n",
              "\n",
              "                        })                };                            </script>        </div>\n",
              "</body>\n",
              "</html>"
            ]
          },
          "metadata": {}
        }
      ]
    },
    {
      "cell_type": "code",
      "source": [
        "# Limites a partir do intervalo interquartílico\n",
        "l_mat=limites(df_ideb['nota_saeb_matematica'])\n",
        "l_mat"
      ],
      "metadata": {
        "id": "KMxuySet92Fh",
        "colab": {
          "base_uri": "https://localhost:8080/"
        },
        "outputId": "f87323ff-742b-4435-bf1b-359f73fd1eb2"
      },
      "execution_count": 104,
      "outputs": [
        {
          "output_type": "execute_result",
          "data": {
            "text/plain": [
              "[143.2, 291.87]"
            ]
          },
          "metadata": {},
          "execution_count": 104
        }
      ]
    },
    {
      "cell_type": "code",
      "source": [
        "# Recorte do Dataframe para compreender os outliers\n",
        "recorte_df(df_ideb['nota_saeb_matematica'],l_mat[0],l_mat[1]).nota_saeb_matematica"
      ],
      "metadata": {
        "id": "HWI3Nr-G92Fi",
        "colab": {
          "base_uri": "https://localhost:8080/"
        },
        "outputId": "1803f1e6-6ef2-47d2-b0ca-e2036bd77c62"
      },
      "execution_count": 105,
      "outputs": [
        {
          "output_type": "execute_result",
          "data": {
            "text/plain": [
              "Series([], Name: nota_saeb_matematica, dtype: float64)"
            ]
          },
          "metadata": {},
          "execution_count": 105
        }
      ]
    },
    {
      "cell_type": "markdown",
      "source": [
        "**SAEB Língua Portuguesa**"
      ],
      "metadata": {
        "id": "m9_6rHiIv1o6"
      }
    },
    {
      "cell_type": "code",
      "source": [
        "# Boxplot\n",
        "boxplot(df_ideb['nota_saeb_lingua_portuguesa'])"
      ],
      "metadata": {
        "id": "iKOnGWdB93EW",
        "colab": {
          "base_uri": "https://localhost:8080/",
          "height": 542
        },
        "outputId": "b7aab85d-5235-4e21-8848-90536024e872"
      },
      "execution_count": 106,
      "outputs": [
        {
          "output_type": "display_data",
          "data": {
            "text/html": [
              "<html>\n",
              "<head><meta charset=\"utf-8\" /></head>\n",
              "<body>\n",
              "    <div>            <script src=\"https://cdnjs.cloudflare.com/ajax/libs/mathjax/2.7.5/MathJax.js?config=TeX-AMS-MML_SVG\"></script><script type=\"text/javascript\">if (window.MathJax) {MathJax.Hub.Config({SVG: {font: \"STIX-Web\"}});}</script>                <script type=\"text/javascript\">window.PlotlyConfig = {MathJaxConfig: 'local'};</script>\n",
              "        <script src=\"https://cdn.plot.ly/plotly-2.8.3.min.js\"></script>                <div id=\"6ccc7fdd-700d-483d-8f1f-c4eb044cb61a\" class=\"plotly-graph-div\" style=\"height:525px; width:100%;\"></div>            <script type=\"text/javascript\">                                    window.PLOTLYENV=window.PLOTLYENV || {};                                    if (document.getElementById(\"6ccc7fdd-700d-483d-8f1f-c4eb044cb61a\")) {                    Plotly.newPlot(                        \"6ccc7fdd-700d-483d-8f1f-c4eb044cb61a\",                        [{\"alignmentgroup\":\"True\",\"hovertemplate\":\"nota_saeb_lingua_portuguesa=%{y}<extra></extra>\",\"legendgroup\":\"\",\"marker\":{\"color\":\"#636efa\"},\"name\":\"\",\"notched\":false,\"offsetgroup\":\"\",\"orientation\":\"v\",\"showlegend\":false,\"x0\":\" \",\"xaxis\":\"x\",\"y\":[198.88,185.38,201.55,224.83,159.0,237.3,184.28,233.94,211.03,231.08,138.38,208.86,219.97,210.17,214.88,217.57,161.13,220.32,198.5,165.05,186.36,197.91,167.78,227.08,203.28,257.14,206.63,210.88,211.74,171.94,206.0,190.83,203.32,219.35,180.44,178.0,189.05,205.28,206.53,198.91,209.32,199.55,224.82,222.13,222.21,219.55,205.19,247.19,197.3,171.55,202.64,176.13,207.0,213.6,229.22,175.13,208.16,198.13,193.72,208.35,203.27,245.71,209.46,231.33,175.67,200.66,205.92,215.5,213.91,174.52,156.63,175.3,220.63,217.69,225.5,199.33,194.47,174.46,192.63,203.55,177.25,237.38,247.97,226.8,191.49,168.22,225.72,200.16,245.66,210.07,201.33,167.69,200.55,230.97,142.08,191.83,230.19,179.91,161.61,181.58,222.17,204.25,192.13,245.11,232.25,219.22,180.19,157.8,181.11,197.5,232.67,195.36,205.07,138.97,186.99,216.96,169.21,259.16,200.16,197.49,165.61,164.25,164.5,258.17,181.52,196.19,214.24,224.8,237.41,169.6,199.77,237.61,212.27,217.27,234.55,202.24,230.64,219.61,184.11,179.55,211.58,240.53,189.33,234.85,195.28,152.91,212.71,222.25,195.47,212.08,176.49,130.61,217.63,184.94,213.35,206.58,193.52,239.44,201.74,229.42,181.22,241.72,231.52,225.08,178.3,200.61,218.41,228.58,179.91,229.16,210.33,240.24,186.24,235.36,207.86,188.03,183.47,207.88,255.32,177.36,212.47,232.82,214.22,227.52,195.24,234.74,217.41,205.63,171.52,233.02,220.47,173.46,180.63,232.11,175.11,221.53,157.91,196.11,205.41,198.5,178.33,211.91,197.02,202.83,206.27,188.66,254.85,194.71,225.74,198.24,222.66,187.77,227.0,209.83,202.19,210.46,196.94,153.39,194.17,229.83,202.89,241.38,209.91,176.71,163.61,233.07,224.66,217.19,240.55,207.86,200.08,215.75,200.03,221.52,178.63,205.41,207.69,232.27,188.78,228.1,210.96,220.44,168.19,147.75,256.91,214.55,228.75,232.58,204.97,236.52,243.97,178.08,220.35,200.27,179.1,223.97,237.69,199.88,216.11,250.42,146.58,193.99,187.08,172.66,221.97,164.66,246.13,207.44,162.86,192.94,212.42,200.66,223.64,200.46,240.86,178.36,200.03,206.77,194.22,183.42,226.1,246.47,180.75,180.67,163.27,176.66,226.13,212.47,201.28,214.74,210.6,216.42,230.35,173.24,207.38,193.8,191.61,228.16,169.5,230.94,232.27,218.97,223.89,239.94,227.69,217.41,171.52,215.57,204.91,231.05,215.63,170.74,250.0,179.47,211.36,225.35,171.72,231.99,184.49,156.3,223.72,220.38,227.11,204.24,219.3,207.44,206.33,235.66,182.99,243.0,205.17,170.58,187.11,206.25,174.13,190.38,157.53,149.5,160.52,216.42,195.77,246.52,170.77,203.38,188.94,259.52,174.11,201.02,254.96,203.17,163.71,209.94,207.72,225.25,233.88,178.77,185.75,149.46,210.07,223.07,137.17,185.46,147.86,233.78,214.88,218.46,150.21,201.5,172.41,209.47,193.92,196.55,209.8,244.47,177.14,179.91,187.91,217.3,191.16,206.3,255.57,153.92,201.91,243.32,202.28,212.99,225.39,170.19,219.64,185.58,196.75,190.36,199.85,201.64,145.13,227.05,220.11,215.91,146.05,209.86,193.61,195.75,225.77,201.58,191.46,147.17,206.72,190.33,183.85,255.92,174.42,219.55,232.25,239.25,208.6,216.85,243.97,222.3,198.52,224.1,181.71,198.0,237.21,148.46,217.52,169.25,219.67,192.91,175.44,210.86,160.75,181.13,171.72,215.88,212.75,189.36,203.91,182.11,220.17,221.6,195.47,143.71,231.63,229.05,189.99,187.55,200.97,246.88,220.47,203.91,206.96,147.8,186.1,222.83,165.05,166.66,196.22,236.19,202.3,215.3,231.16,184.02,193.66,192.97,206.64,202.16,213.49,221.41,208.52,142.61,217.44,194.14,239.77,224.02,225.47,193.36,224.61,223.16,208.63,236.13,203.0,227.22,191.89,154.27,201.47,220.94,200.16,178.91,210.72,166.57,228.63,217.19,221.69,226.83,234.33,194.5,237.41,193.99,220.47,244.05,240.32,175.17,229.19,219.21,165.89,232.47,188.19,227.82,215.71,206.88,186.82,223.66,184.94,223.55,191.19,212.46,211.67,199.58,192.92,227.69,194.66,199.05,159.97,217.75,202.63,173.07,243.86,169.69,202.72,222.3,237.41,145.39,237.64,160.05,255.64,171.86,200.8,203.63,193.89,180.52,201.69,155.47,214.66,237.46,219.97,218.82,205.16,215.86,198.49,196.91,174.0,197.21,188.42,201.22,203.55,219.13,161.71,248.05,210.17,174.28,204.58,224.36,175.1,223.97,213.58,202.33,215.83,240.53,182.07,220.13,216.42,234.63,202.17,181.91,211.97,193.39,209.35,221.77,231.91,212.11,162.69,181.07,178.13,218.75,219.63,172.39,170.44,163.32,219.46,174.25,185.0,232.3,203.36,212.3,244.46,235.02,254.77,217.85,227.75,242.08,200.05,204.25,211.8,196.77,185.0,204.61,232.22,209.46,190.08,205.08,207.16,202.77,207.33,184.19,131.57,197.42,223.42,206.16,200.69,249.08,216.07,223.57,219.53,158.5,238.39,165.27,220.74,217.52,204.44,197.91,242.07,250.02,231.5,176.94,186.58,236.38,192.02,206.27,183.69,202.99,226.33,247.36,228.16,209.58,203.94,190.77,221.36,229.97,197.64,175.88,238.52,235.83,229.61,185.53,218.47,203.44,226.69,185.53,207.53,208.27,237.55,226.3,186.97,173.57,195.78,222.42,185.46,173.02,223.8,189.02,175.55,217.8,176.58,248.92,232.52,202.05,183.67,198.71,234.32,209.08,191.3,188.0,162.5,179.83,183.39,215.13,185.92,156.64,143.78,236.16,230.0,219.94,193.33,149.19,183.86,230.89,236.82,233.8,192.42,190.63,197.83,215.11,204.86,222.55,190.94,226.3,225.8,161.55,169.75,236.83,193.03,233.77,218.02,204.86,214.33,212.91,236.44,192.58,187.1,229.91,209.16,193.97,189.41,215.32,158.61,193.3,197.58,157.47,216.07,180.22,230.44,222.44,208.27,198.66,213.0,239.38,211.72,227.8,203.86,203.27,200.38,190.11,149.36,195.36,242.08,236.32,191.11,198.44,182.58,245.88,184.75,202.3,183.61,214.72,217.75,248.58,165.94,188.8,206.69,201.41,233.33,176.16,208.71,229.75,206.75,191.41,197.96,195.69,218.55,236.22,238.66,185.74,212.38,222.07,160.52,211.25,231.75,193.13,241.32,230.97,177.02,210.86,178.17,198.63,213.28,230.02,203.61,219.19,203.0,212.16,204.97,207.94,173.41,212.61,234.6,204.17,176.21,169.86,213.88,191.38,236.25,230.94,209.49,171.8,176.28,231.39,183.16,177.52,184.24,231.75,221.89,214.3,206.96,190.52,225.64,211.0,208.58,209.24,138.66,189.33,188.17,184.39,202.22,167.55,231.33,218.88,152.28,243.52,225.27,210.67,215.27,246.03,245.38,243.27,155.35,230.82,204.41,195.55,210.11,190.55,236.83,226.88,202.41,214.5,168.33,173.97,194.08,178.94,225.49,237.3,221.92,181.33,174.88,182.38,219.83,209.38,206.47,209.88,213.17,210.52,219.49,227.75,187.44,192.77,197.33,135.94,176.86,173.0,202.46,237.82,200.36,217.63,239.08,167.42,175.42,221.91,173.77,133.46,229.75,218.92,205.77,205.69,241.44,197.61,213.83,177.61,234.39,179.99,178.47,167.11,214.1,210.32,244.66,253.58,221.24,269.1,207.21,194.05,178.57,209.77,235.13,233.24,217.75,218.66,175.11,189.75,217.07,212.52,182.63,215.72,207.47,181.61,195.0,211.55,248.74,225.0,234.78,163.19,212.36,174.02,212.46,196.86,235.35,206.88,199.3,186.75,225.61,233.03,191.89,230.44,244.22,199.47,199.49,206.86,260.47,188.47,181.63,230.36,232.78,174.61,181.42,208.86,180.03,227.53,166.49,238.58,205.24,242.21,201.52,161.36,216.38,204.55,159.27,198.02,202.0,240.33,155.05,200.11,209.97,176.99,247.74,178.0,200.61,223.5,202.1,216.5,241.02,246.75,196.58,188.61,176.33,229.99,180.13,202.02,246.88,169.74,156.13,203.53,191.47,191.66,214.66,209.6,221.89,210.16,176.35,210.5,251.55,196.08,214.38,170.55,132.52,205.07,210.72,222.58,204.91,187.63,186.55,219.8,207.6,146.24],\"y0\":\" \",\"yaxis\":\"y\",\"type\":\"box\"}],                        {\"template\":{\"data\":{\"bar\":[{\"error_x\":{\"color\":\"#2a3f5f\"},\"error_y\":{\"color\":\"#2a3f5f\"},\"marker\":{\"line\":{\"color\":\"#E5ECF6\",\"width\":0.5},\"pattern\":{\"fillmode\":\"overlay\",\"size\":10,\"solidity\":0.2}},\"type\":\"bar\"}],\"barpolar\":[{\"marker\":{\"line\":{\"color\":\"#E5ECF6\",\"width\":0.5},\"pattern\":{\"fillmode\":\"overlay\",\"size\":10,\"solidity\":0.2}},\"type\":\"barpolar\"}],\"carpet\":[{\"aaxis\":{\"endlinecolor\":\"#2a3f5f\",\"gridcolor\":\"white\",\"linecolor\":\"white\",\"minorgridcolor\":\"white\",\"startlinecolor\":\"#2a3f5f\"},\"baxis\":{\"endlinecolor\":\"#2a3f5f\",\"gridcolor\":\"white\",\"linecolor\":\"white\",\"minorgridcolor\":\"white\",\"startlinecolor\":\"#2a3f5f\"},\"type\":\"carpet\"}],\"choropleth\":[{\"colorbar\":{\"outlinewidth\":0,\"ticks\":\"\"},\"type\":\"choropleth\"}],\"contour\":[{\"colorbar\":{\"outlinewidth\":0,\"ticks\":\"\"},\"colorscale\":[[0.0,\"#0d0887\"],[0.1111111111111111,\"#46039f\"],[0.2222222222222222,\"#7201a8\"],[0.3333333333333333,\"#9c179e\"],[0.4444444444444444,\"#bd3786\"],[0.5555555555555556,\"#d8576b\"],[0.6666666666666666,\"#ed7953\"],[0.7777777777777778,\"#fb9f3a\"],[0.8888888888888888,\"#fdca26\"],[1.0,\"#f0f921\"]],\"type\":\"contour\"}],\"contourcarpet\":[{\"colorbar\":{\"outlinewidth\":0,\"ticks\":\"\"},\"type\":\"contourcarpet\"}],\"heatmap\":[{\"colorbar\":{\"outlinewidth\":0,\"ticks\":\"\"},\"colorscale\":[[0.0,\"#0d0887\"],[0.1111111111111111,\"#46039f\"],[0.2222222222222222,\"#7201a8\"],[0.3333333333333333,\"#9c179e\"],[0.4444444444444444,\"#bd3786\"],[0.5555555555555556,\"#d8576b\"],[0.6666666666666666,\"#ed7953\"],[0.7777777777777778,\"#fb9f3a\"],[0.8888888888888888,\"#fdca26\"],[1.0,\"#f0f921\"]],\"type\":\"heatmap\"}],\"heatmapgl\":[{\"colorbar\":{\"outlinewidth\":0,\"ticks\":\"\"},\"colorscale\":[[0.0,\"#0d0887\"],[0.1111111111111111,\"#46039f\"],[0.2222222222222222,\"#7201a8\"],[0.3333333333333333,\"#9c179e\"],[0.4444444444444444,\"#bd3786\"],[0.5555555555555556,\"#d8576b\"],[0.6666666666666666,\"#ed7953\"],[0.7777777777777778,\"#fb9f3a\"],[0.8888888888888888,\"#fdca26\"],[1.0,\"#f0f921\"]],\"type\":\"heatmapgl\"}],\"histogram\":[{\"marker\":{\"pattern\":{\"fillmode\":\"overlay\",\"size\":10,\"solidity\":0.2}},\"type\":\"histogram\"}],\"histogram2d\":[{\"colorbar\":{\"outlinewidth\":0,\"ticks\":\"\"},\"colorscale\":[[0.0,\"#0d0887\"],[0.1111111111111111,\"#46039f\"],[0.2222222222222222,\"#7201a8\"],[0.3333333333333333,\"#9c179e\"],[0.4444444444444444,\"#bd3786\"],[0.5555555555555556,\"#d8576b\"],[0.6666666666666666,\"#ed7953\"],[0.7777777777777778,\"#fb9f3a\"],[0.8888888888888888,\"#fdca26\"],[1.0,\"#f0f921\"]],\"type\":\"histogram2d\"}],\"histogram2dcontour\":[{\"colorbar\":{\"outlinewidth\":0,\"ticks\":\"\"},\"colorscale\":[[0.0,\"#0d0887\"],[0.1111111111111111,\"#46039f\"],[0.2222222222222222,\"#7201a8\"],[0.3333333333333333,\"#9c179e\"],[0.4444444444444444,\"#bd3786\"],[0.5555555555555556,\"#d8576b\"],[0.6666666666666666,\"#ed7953\"],[0.7777777777777778,\"#fb9f3a\"],[0.8888888888888888,\"#fdca26\"],[1.0,\"#f0f921\"]],\"type\":\"histogram2dcontour\"}],\"mesh3d\":[{\"colorbar\":{\"outlinewidth\":0,\"ticks\":\"\"},\"type\":\"mesh3d\"}],\"parcoords\":[{\"line\":{\"colorbar\":{\"outlinewidth\":0,\"ticks\":\"\"}},\"type\":\"parcoords\"}],\"pie\":[{\"automargin\":true,\"type\":\"pie\"}],\"scatter\":[{\"marker\":{\"colorbar\":{\"outlinewidth\":0,\"ticks\":\"\"}},\"type\":\"scatter\"}],\"scatter3d\":[{\"line\":{\"colorbar\":{\"outlinewidth\":0,\"ticks\":\"\"}},\"marker\":{\"colorbar\":{\"outlinewidth\":0,\"ticks\":\"\"}},\"type\":\"scatter3d\"}],\"scattercarpet\":[{\"marker\":{\"colorbar\":{\"outlinewidth\":0,\"ticks\":\"\"}},\"type\":\"scattercarpet\"}],\"scattergeo\":[{\"marker\":{\"colorbar\":{\"outlinewidth\":0,\"ticks\":\"\"}},\"type\":\"scattergeo\"}],\"scattergl\":[{\"marker\":{\"colorbar\":{\"outlinewidth\":0,\"ticks\":\"\"}},\"type\":\"scattergl\"}],\"scattermapbox\":[{\"marker\":{\"colorbar\":{\"outlinewidth\":0,\"ticks\":\"\"}},\"type\":\"scattermapbox\"}],\"scatterpolar\":[{\"marker\":{\"colorbar\":{\"outlinewidth\":0,\"ticks\":\"\"}},\"type\":\"scatterpolar\"}],\"scatterpolargl\":[{\"marker\":{\"colorbar\":{\"outlinewidth\":0,\"ticks\":\"\"}},\"type\":\"scatterpolargl\"}],\"scatterternary\":[{\"marker\":{\"colorbar\":{\"outlinewidth\":0,\"ticks\":\"\"}},\"type\":\"scatterternary\"}],\"surface\":[{\"colorbar\":{\"outlinewidth\":0,\"ticks\":\"\"},\"colorscale\":[[0.0,\"#0d0887\"],[0.1111111111111111,\"#46039f\"],[0.2222222222222222,\"#7201a8\"],[0.3333333333333333,\"#9c179e\"],[0.4444444444444444,\"#bd3786\"],[0.5555555555555556,\"#d8576b\"],[0.6666666666666666,\"#ed7953\"],[0.7777777777777778,\"#fb9f3a\"],[0.8888888888888888,\"#fdca26\"],[1.0,\"#f0f921\"]],\"type\":\"surface\"}],\"table\":[{\"cells\":{\"fill\":{\"color\":\"#EBF0F8\"},\"line\":{\"color\":\"white\"}},\"header\":{\"fill\":{\"color\":\"#C8D4E3\"},\"line\":{\"color\":\"white\"}},\"type\":\"table\"}]},\"layout\":{\"annotationdefaults\":{\"arrowcolor\":\"#2a3f5f\",\"arrowhead\":0,\"arrowwidth\":1},\"autotypenumbers\":\"strict\",\"coloraxis\":{\"colorbar\":{\"outlinewidth\":0,\"ticks\":\"\"}},\"colorscale\":{\"diverging\":[[0,\"#8e0152\"],[0.1,\"#c51b7d\"],[0.2,\"#de77ae\"],[0.3,\"#f1b6da\"],[0.4,\"#fde0ef\"],[0.5,\"#f7f7f7\"],[0.6,\"#e6f5d0\"],[0.7,\"#b8e186\"],[0.8,\"#7fbc41\"],[0.9,\"#4d9221\"],[1,\"#276419\"]],\"sequential\":[[0.0,\"#0d0887\"],[0.1111111111111111,\"#46039f\"],[0.2222222222222222,\"#7201a8\"],[0.3333333333333333,\"#9c179e\"],[0.4444444444444444,\"#bd3786\"],[0.5555555555555556,\"#d8576b\"],[0.6666666666666666,\"#ed7953\"],[0.7777777777777778,\"#fb9f3a\"],[0.8888888888888888,\"#fdca26\"],[1.0,\"#f0f921\"]],\"sequentialminus\":[[0.0,\"#0d0887\"],[0.1111111111111111,\"#46039f\"],[0.2222222222222222,\"#7201a8\"],[0.3333333333333333,\"#9c179e\"],[0.4444444444444444,\"#bd3786\"],[0.5555555555555556,\"#d8576b\"],[0.6666666666666666,\"#ed7953\"],[0.7777777777777778,\"#fb9f3a\"],[0.8888888888888888,\"#fdca26\"],[1.0,\"#f0f921\"]]},\"colorway\":[\"#636efa\",\"#EF553B\",\"#00cc96\",\"#ab63fa\",\"#FFA15A\",\"#19d3f3\",\"#FF6692\",\"#B6E880\",\"#FF97FF\",\"#FECB52\"],\"font\":{\"color\":\"#2a3f5f\"},\"geo\":{\"bgcolor\":\"white\",\"lakecolor\":\"white\",\"landcolor\":\"#E5ECF6\",\"showlakes\":true,\"showland\":true,\"subunitcolor\":\"white\"},\"hoverlabel\":{\"align\":\"left\"},\"hovermode\":\"closest\",\"mapbox\":{\"style\":\"light\"},\"paper_bgcolor\":\"white\",\"plot_bgcolor\":\"#E5ECF6\",\"polar\":{\"angularaxis\":{\"gridcolor\":\"white\",\"linecolor\":\"white\",\"ticks\":\"\"},\"bgcolor\":\"#E5ECF6\",\"radialaxis\":{\"gridcolor\":\"white\",\"linecolor\":\"white\",\"ticks\":\"\"}},\"scene\":{\"xaxis\":{\"backgroundcolor\":\"#E5ECF6\",\"gridcolor\":\"white\",\"gridwidth\":2,\"linecolor\":\"white\",\"showbackground\":true,\"ticks\":\"\",\"zerolinecolor\":\"white\"},\"yaxis\":{\"backgroundcolor\":\"#E5ECF6\",\"gridcolor\":\"white\",\"gridwidth\":2,\"linecolor\":\"white\",\"showbackground\":true,\"ticks\":\"\",\"zerolinecolor\":\"white\"},\"zaxis\":{\"backgroundcolor\":\"#E5ECF6\",\"gridcolor\":\"white\",\"gridwidth\":2,\"linecolor\":\"white\",\"showbackground\":true,\"ticks\":\"\",\"zerolinecolor\":\"white\"}},\"shapedefaults\":{\"line\":{\"color\":\"#2a3f5f\"}},\"ternary\":{\"aaxis\":{\"gridcolor\":\"white\",\"linecolor\":\"white\",\"ticks\":\"\"},\"baxis\":{\"gridcolor\":\"white\",\"linecolor\":\"white\",\"ticks\":\"\"},\"bgcolor\":\"#E5ECF6\",\"caxis\":{\"gridcolor\":\"white\",\"linecolor\":\"white\",\"ticks\":\"\"}},\"title\":{\"x\":0.05},\"xaxis\":{\"automargin\":true,\"gridcolor\":\"white\",\"linecolor\":\"white\",\"ticks\":\"\",\"title\":{\"standoff\":15},\"zerolinecolor\":\"white\",\"zerolinewidth\":2},\"yaxis\":{\"automargin\":true,\"gridcolor\":\"white\",\"linecolor\":\"white\",\"ticks\":\"\",\"title\":{\"standoff\":15},\"zerolinecolor\":\"white\",\"zerolinewidth\":2}}},\"xaxis\":{\"anchor\":\"y\",\"domain\":[0.0,1.0]},\"yaxis\":{\"anchor\":\"x\",\"domain\":[0.0,1.0],\"title\":{\"text\":\"nota_saeb_lingua_portuguesa\"}},\"legend\":{\"tracegroupgap\":0},\"margin\":{\"t\":60},\"boxmode\":\"group\"},                        {\"responsive\": true}                    ).then(function(){\n",
              "                            \n",
              "var gd = document.getElementById('6ccc7fdd-700d-483d-8f1f-c4eb044cb61a');\n",
              "var x = new MutationObserver(function (mutations, observer) {{\n",
              "        var display = window.getComputedStyle(gd).display;\n",
              "        if (!display || display === 'none') {{\n",
              "            console.log([gd, 'removed!']);\n",
              "            Plotly.purge(gd);\n",
              "            observer.disconnect();\n",
              "        }}\n",
              "}});\n",
              "\n",
              "// Listen for the removal of the full notebook cells\n",
              "var notebookContainer = gd.closest('#notebook-container');\n",
              "if (notebookContainer) {{\n",
              "    x.observe(notebookContainer, {childList: true});\n",
              "}}\n",
              "\n",
              "// Listen for the clearing of the current output cell\n",
              "var outputEl = gd.closest('.output');\n",
              "if (outputEl) {{\n",
              "    x.observe(outputEl, {childList: true});\n",
              "}}\n",
              "\n",
              "                        })                };                            </script>        </div>\n",
              "</body>\n",
              "</html>"
            ]
          },
          "metadata": {}
        }
      ]
    },
    {
      "cell_type": "code",
      "source": [
        "# Limites a partir do intervalo interquartílico\n",
        "l_p=limites(df_ideb['nota_saeb_lingua_portuguesa'])"
      ],
      "metadata": {
        "id": "6eWjXmqY93EX"
      },
      "execution_count": 107,
      "outputs": []
    },
    {
      "cell_type": "code",
      "source": [
        "# Recorte do Dataframe para compreender os outliers\n",
        "recorte_df(df_ideb['nota_saeb_lingua_portuguesa'],l_p[0],l_p[1])"
      ],
      "metadata": {
        "id": "M0lUoyC693EY",
        "colab": {
          "base_uri": "https://localhost:8080/",
          "height": 175
        },
        "outputId": "e79faefc-afb0-4aaf-e53d-938282003858"
      },
      "execution_count": 108,
      "outputs": [
        {
          "output_type": "execute_result",
          "data": {
            "text/plain": [
              "      ano sigla_uf id_municipio id_escola       rede       ensino  \\\n",
              "151  2019       RN      2404705  24080179  municipal  fundamental   \n",
              "614  2019       PA      1501808  15025535  municipal  fundamental   \n",
              "877  2019       PA      1502004  15029018  municipal  fundamental   \n",
              "990  2019       BA      2923704  29045967  municipal  fundamental   \n",
              "\n",
              "     anos_escolares  taxa_aprovacao  indicador_rendimento  \\\n",
              "151  iniciais (1-5)            78.6              0.734735   \n",
              "614  iniciais (1-5)            54.6              0.558239   \n",
              "877  iniciais (1-5)            86.8              0.840889   \n",
              "990  iniciais (1-5)            91.9              0.913043   \n",
              "\n",
              "     nota_saeb_matematica  nota_saeb_lingua_portuguesa  \\\n",
              "151                163.49                       130.61   \n",
              "614                144.99                       131.57   \n",
              "877                148.85                       133.46   \n",
              "990                160.39                       132.52   \n",
              "\n",
              "     nota_saeb_media_padronizada  ideb  projecao  \n",
              "151                     3.458818   2.5       3.6  \n",
              "614                     3.123219   1.7       NaN  \n",
              "877                     3.231247   2.7       3.3  \n",
              "990                     3.434576   3.1       3.5  "
            ],
            "text/html": [
              "\n",
              "  <div id=\"df-28c0b0e4-c0fa-4c82-8b11-31bcffdef2d7\">\n",
              "    <div class=\"colab-df-container\">\n",
              "      <div>\n",
              "<style scoped>\n",
              "    .dataframe tbody tr th:only-of-type {\n",
              "        vertical-align: middle;\n",
              "    }\n",
              "\n",
              "    .dataframe tbody tr th {\n",
              "        vertical-align: top;\n",
              "    }\n",
              "\n",
              "    .dataframe thead th {\n",
              "        text-align: right;\n",
              "    }\n",
              "</style>\n",
              "<table border=\"1\" class=\"dataframe\">\n",
              "  <thead>\n",
              "    <tr style=\"text-align: right;\">\n",
              "      <th></th>\n",
              "      <th>ano</th>\n",
              "      <th>sigla_uf</th>\n",
              "      <th>id_municipio</th>\n",
              "      <th>id_escola</th>\n",
              "      <th>rede</th>\n",
              "      <th>ensino</th>\n",
              "      <th>anos_escolares</th>\n",
              "      <th>taxa_aprovacao</th>\n",
              "      <th>indicador_rendimento</th>\n",
              "      <th>nota_saeb_matematica</th>\n",
              "      <th>nota_saeb_lingua_portuguesa</th>\n",
              "      <th>nota_saeb_media_padronizada</th>\n",
              "      <th>ideb</th>\n",
              "      <th>projecao</th>\n",
              "    </tr>\n",
              "  </thead>\n",
              "  <tbody>\n",
              "    <tr>\n",
              "      <th>151</th>\n",
              "      <td>2019</td>\n",
              "      <td>RN</td>\n",
              "      <td>2404705</td>\n",
              "      <td>24080179</td>\n",
              "      <td>municipal</td>\n",
              "      <td>fundamental</td>\n",
              "      <td>iniciais (1-5)</td>\n",
              "      <td>78.6</td>\n",
              "      <td>0.734735</td>\n",
              "      <td>163.49</td>\n",
              "      <td>130.61</td>\n",
              "      <td>3.458818</td>\n",
              "      <td>2.5</td>\n",
              "      <td>3.6</td>\n",
              "    </tr>\n",
              "    <tr>\n",
              "      <th>614</th>\n",
              "      <td>2019</td>\n",
              "      <td>PA</td>\n",
              "      <td>1501808</td>\n",
              "      <td>15025535</td>\n",
              "      <td>municipal</td>\n",
              "      <td>fundamental</td>\n",
              "      <td>iniciais (1-5)</td>\n",
              "      <td>54.6</td>\n",
              "      <td>0.558239</td>\n",
              "      <td>144.99</td>\n",
              "      <td>131.57</td>\n",
              "      <td>3.123219</td>\n",
              "      <td>1.7</td>\n",
              "      <td>NaN</td>\n",
              "    </tr>\n",
              "    <tr>\n",
              "      <th>877</th>\n",
              "      <td>2019</td>\n",
              "      <td>PA</td>\n",
              "      <td>1502004</td>\n",
              "      <td>15029018</td>\n",
              "      <td>municipal</td>\n",
              "      <td>fundamental</td>\n",
              "      <td>iniciais (1-5)</td>\n",
              "      <td>86.8</td>\n",
              "      <td>0.840889</td>\n",
              "      <td>148.85</td>\n",
              "      <td>133.46</td>\n",
              "      <td>3.231247</td>\n",
              "      <td>2.7</td>\n",
              "      <td>3.3</td>\n",
              "    </tr>\n",
              "    <tr>\n",
              "      <th>990</th>\n",
              "      <td>2019</td>\n",
              "      <td>BA</td>\n",
              "      <td>2923704</td>\n",
              "      <td>29045967</td>\n",
              "      <td>municipal</td>\n",
              "      <td>fundamental</td>\n",
              "      <td>iniciais (1-5)</td>\n",
              "      <td>91.9</td>\n",
              "      <td>0.913043</td>\n",
              "      <td>160.39</td>\n",
              "      <td>132.52</td>\n",
              "      <td>3.434576</td>\n",
              "      <td>3.1</td>\n",
              "      <td>3.5</td>\n",
              "    </tr>\n",
              "  </tbody>\n",
              "</table>\n",
              "</div>\n",
              "      <button class=\"colab-df-convert\" onclick=\"convertToInteractive('df-28c0b0e4-c0fa-4c82-8b11-31bcffdef2d7')\"\n",
              "              title=\"Convert this dataframe to an interactive table.\"\n",
              "              style=\"display:none;\">\n",
              "        \n",
              "  <svg xmlns=\"http://www.w3.org/2000/svg\" height=\"24px\"viewBox=\"0 0 24 24\"\n",
              "       width=\"24px\">\n",
              "    <path d=\"M0 0h24v24H0V0z\" fill=\"none\"/>\n",
              "    <path d=\"M18.56 5.44l.94 2.06.94-2.06 2.06-.94-2.06-.94-.94-2.06-.94 2.06-2.06.94zm-11 1L8.5 8.5l.94-2.06 2.06-.94-2.06-.94L8.5 2.5l-.94 2.06-2.06.94zm10 10l.94 2.06.94-2.06 2.06-.94-2.06-.94-.94-2.06-.94 2.06-2.06.94z\"/><path d=\"M17.41 7.96l-1.37-1.37c-.4-.4-.92-.59-1.43-.59-.52 0-1.04.2-1.43.59L10.3 9.45l-7.72 7.72c-.78.78-.78 2.05 0 2.83L4 21.41c.39.39.9.59 1.41.59.51 0 1.02-.2 1.41-.59l7.78-7.78 2.81-2.81c.8-.78.8-2.07 0-2.86zM5.41 20L4 18.59l7.72-7.72 1.47 1.35L5.41 20z\"/>\n",
              "  </svg>\n",
              "      </button>\n",
              "      \n",
              "  <style>\n",
              "    .colab-df-container {\n",
              "      display:flex;\n",
              "      flex-wrap:wrap;\n",
              "      gap: 12px;\n",
              "    }\n",
              "\n",
              "    .colab-df-convert {\n",
              "      background-color: #E8F0FE;\n",
              "      border: none;\n",
              "      border-radius: 50%;\n",
              "      cursor: pointer;\n",
              "      display: none;\n",
              "      fill: #1967D2;\n",
              "      height: 32px;\n",
              "      padding: 0 0 0 0;\n",
              "      width: 32px;\n",
              "    }\n",
              "\n",
              "    .colab-df-convert:hover {\n",
              "      background-color: #E2EBFA;\n",
              "      box-shadow: 0px 1px 2px rgba(60, 64, 67, 0.3), 0px 1px 3px 1px rgba(60, 64, 67, 0.15);\n",
              "      fill: #174EA6;\n",
              "    }\n",
              "\n",
              "    [theme=dark] .colab-df-convert {\n",
              "      background-color: #3B4455;\n",
              "      fill: #D2E3FC;\n",
              "    }\n",
              "\n",
              "    [theme=dark] .colab-df-convert:hover {\n",
              "      background-color: #434B5C;\n",
              "      box-shadow: 0px 1px 3px 1px rgba(0, 0, 0, 0.15);\n",
              "      filter: drop-shadow(0px 1px 2px rgba(0, 0, 0, 0.3));\n",
              "      fill: #FFFFFF;\n",
              "    }\n",
              "  </style>\n",
              "\n",
              "      <script>\n",
              "        const buttonEl =\n",
              "          document.querySelector('#df-28c0b0e4-c0fa-4c82-8b11-31bcffdef2d7 button.colab-df-convert');\n",
              "        buttonEl.style.display =\n",
              "          google.colab.kernel.accessAllowed ? 'block' : 'none';\n",
              "\n",
              "        async function convertToInteractive(key) {\n",
              "          const element = document.querySelector('#df-28c0b0e4-c0fa-4c82-8b11-31bcffdef2d7');\n",
              "          const dataTable =\n",
              "            await google.colab.kernel.invokeFunction('convertToInteractive',\n",
              "                                                     [key], {});\n",
              "          if (!dataTable) return;\n",
              "\n",
              "          const docLinkHtml = 'Like what you see? Visit the ' +\n",
              "            '<a target=\"_blank\" href=https://colab.research.google.com/notebooks/data_table.ipynb>data table notebook</a>'\n",
              "            + ' to learn more about interactive tables.';\n",
              "          element.innerHTML = '';\n",
              "          dataTable['output_type'] = 'display_data';\n",
              "          await google.colab.output.renderOutput(dataTable, element);\n",
              "          const docLink = document.createElement('div');\n",
              "          docLink.innerHTML = docLinkHtml;\n",
              "          element.appendChild(docLink);\n",
              "        }\n",
              "      </script>\n",
              "    </div>\n",
              "  </div>\n",
              "  "
            ]
          },
          "metadata": {},
          "execution_count": 108
        }
      ]
    },
    {
      "cell_type": "markdown",
      "source": [
        "**SAEB Média Padronizada**"
      ],
      "metadata": {
        "id": "hy-8XTwGwKFg"
      }
    },
    {
      "cell_type": "code",
      "source": [
        "# Boxplot\n",
        "boxplot(df_ideb['nota_saeb_media_padronizada'])"
      ],
      "metadata": {
        "id": "WICO0DDL945V",
        "colab": {
          "base_uri": "https://localhost:8080/",
          "height": 542
        },
        "outputId": "e6197021-3545-4abc-95b0-d543e9a9b141"
      },
      "execution_count": 109,
      "outputs": [
        {
          "output_type": "display_data",
          "data": {
            "text/html": [
              "<html>\n",
              "<head><meta charset=\"utf-8\" /></head>\n",
              "<body>\n",
              "    <div>            <script src=\"https://cdnjs.cloudflare.com/ajax/libs/mathjax/2.7.5/MathJax.js?config=TeX-AMS-MML_SVG\"></script><script type=\"text/javascript\">if (window.MathJax) {MathJax.Hub.Config({SVG: {font: \"STIX-Web\"}});}</script>                <script type=\"text/javascript\">window.PlotlyConfig = {MathJaxConfig: 'local'};</script>\n",
              "        <script src=\"https://cdn.plot.ly/plotly-2.8.3.min.js\"></script>                <div id=\"dbc8490c-4aa4-4908-b2f6-4a1ab8d57d05\" class=\"plotly-graph-div\" style=\"height:525px; width:100%;\"></div>            <script type=\"text/javascript\">                                    window.PLOTLYENV=window.PLOTLYENV || {};                                    if (document.getElementById(\"dbc8490c-4aa4-4908-b2f6-4a1ab8d57d05\")) {                    Plotly.newPlot(                        \"dbc8490c-4aa4-4908-b2f6-4a1ab8d57d05\",                        [{\"alignmentgroup\":\"True\",\"hovertemplate\":\"nota_saeb_media_padronizada=%{y}<extra></extra>\",\"legendgroup\":\"\",\"marker\":{\"color\":\"#636efa\"},\"name\":\"\",\"notched\":false,\"offsetgroup\":\"\",\"orientation\":\"v\",\"showlegend\":false,\"x0\":\" \",\"xaxis\":\"x\",\"y\":[5.7016182,4.931345,5.5385132,6.6524429,4.2776718,6.9287891,4.9388261,6.7959418,5.8866401,7.0523391,3.380425,6.0790558,6.6413612,6.1066899,6.2957711,6.1511688,4.505703,6.1719699,5.6290512,4.342061,5.1272259,5.6108809,4.579093,6.5696788,5.8669138,7.4259582,5.732976,6.6673102,6.3564281,4.6734319,5.8932862,5.3128791,5.457727,6.2986088,4.5905819,4.9173918,5.2102952,5.9189258,5.6866922,5.5472012,6.1704431,5.7990961,6.595582,6.5741448,6.4340062,6.597856,5.5709252,7.0792179,5.3049512,4.4972572,5.444972,4.787972,5.71662,6.2688718,6.7896948,4.6934638,6.027597,5.811255,5.4789829,6.0615859,5.6268468,7.1761642,6.159821,6.646389,4.5983109,5.6585908,5.7624331,6.1053171,6.0769901,4.817296,4.1500392,4.9427381,6.3560419,6.2598391,6.5350361,5.9252572,5.2170458,4.7392969,5.5448418,5.7048469,4.896122,7.5180211,7.503696,6.559063,5.3619099,4.4586582,6.7642269,5.8128581,7.4784899,6.0653782,5.6770701,4.3658152,5.7777829,6.8843002,3.8345389,5.389657,6.8416829,5.0393329,4.2985911,4.7099729,6.7433839,5.7734909,5.2943392,7.3791771,6.886198,6.591083,5.1526389,4.339632,4.8882508,5.5051441,6.908339,5.5192971,5.9488959,3.621696,5.2384892,6.3740468,4.641171,8.1073503,5.6645761,5.6864591,4.2881122,4.316256,4.332252,7.98248,5.0943689,5.701745,6.0366158,6.7673559,7.163414,4.5957808,5.6185632,7.309998,6.1504068,6.035018,6.8348961,5.606411,6.6149411,6.2577248,5.1214309,4.680697,6.1262202,7.2598362,5.426064,7.025465,5.4615359,4.1535769,5.9194841,6.4998002,5.5249228,6.0626101,4.6874661,3.458818,6.4375558,5.0019798,5.8460059,5.9683352,5.4066348,7.0384908,5.6748009,6.6467671,5.029182,7.408771,6.766819,6.5968652,4.8722739,5.5168509,6.3557539,7.0095482,5.1843801,6.6855512,5.9788742,7.1175489,4.9431729,6.858202,5.9746232,5.2417402,5.1191368,5.7137179,7.5726471,4.802321,6.123136,6.838747,5.9833889,6.5828319,5.6455498,6.8807168,6.3455791,6.0350318,4.6999559,7.0881848,6.3830938,4.4762678,5.0572038,7.1004562,4.6316409,6.6468239,4.0881882,5.473773,5.711185,5.4206629,5.2298808,6.100359,5.3151188,5.670764,5.8325462,5.2156,7.7921548,5.4061432,6.326622,5.345325,6.8574548,5.009923,6.990171,5.9654031,5.7677059,6.1604462,5.5787401,4.1172662,5.4474611,6.7931619,5.6712732,7.1569781,6.1403308,4.81742,4.5494671,7.192338,6.87149,6.1175418,7.1626892,5.9921708,5.4495811,6.2762842,5.7650752,6.4193611,4.717978,6.0823588,6.1257219,6.7024112,5.1261778,6.4636159,6.0027428,6.668045,4.415555,3.7591951,7.7920141,6.1336551,6.5334401,7.1275039,6.0169158,6.8850179,7.2689552,5.2690368,6.3795772,5.6186838,4.8257599,6.5062642,6.6236658,5.6117749,6.061646,7.8360281,3.6257091,5.3779759,5.3473678,4.67489,6.2937641,4.2135959,7.364707,5.9602981,4.2884932,5.3310132,6.29321,5.5169878,6.8266001,5.796566,7.5236688,5.0823441,5.6786251,5.9368572,5.3497152,5.2363572,6.413702,7.3344388,5.0343862,5.0113568,4.084888,5.016892,6.8405838,6.3954549,5.3231082,6.3974242,5.849823,6.1544871,6.7415481,4.6041379,6.1324992,5.272994,5.6039782,6.631691,4.722198,7.0102901,6.6869531,6.3894091,6.6889691,7.027925,6.5970011,6.4070382,4.7087431,6.1035452,5.9017029,6.9460602,6.1458578,4.8420801,7.6400418,4.7857308,6.4538989,6.3622799,4.6873798,6.9478922,5.1000962,4.1627321,6.5553532,6.2866111,6.7879729,5.5836139,6.2944551,5.9524741,6.161118,6.8161368,4.9856091,7.1858511,6.076087,4.6668339,5.099822,6.007555,4.6918759,5.3016429,4.0961642,3.941004,4.1636958,6.3947539,5.336484,7.5441351,4.7004409,5.653656,5.5640202,7.673429,4.7510629,5.916481,8.0907202,5.9521279,4.2741861,5.8820891,5.8176789,6.8301182,6.8624091,4.9069648,5.0913248,4.0610871,5.6461029,6.6401,3.5368609,5.2822361,4.2499352,6.854856,6.0081668,6.2684951,3.9041131,5.7215729,4.762711,5.89569,5.5593281,5.6153612,5.9473,7.5910139,4.7529011,5.0034642,5.0664668,6.5277481,5.3530388,5.9983501,7.723948,3.8438871,5.7011738,7.3224039,5.6254501,6.4593081,6.62254,4.7227201,6.3531089,5.1290741,5.8596368,5.3049059,5.5389099,6.0054159,3.8636489,6.6998682,6.5700598,6.2358718,3.6796219,6.1497178,5.6527371,5.2872572,6.6086559,5.6682658,5.3039222,3.8448241,5.8357658,5.4163918,5.2831159,7.6825929,4.6273012,6.7558622,6.9110079,7.2140441,5.6934209,5.9119329,6.8639841,6.6043439,5.453651,6.5162702,4.9144359,5.5877171,6.8723822,3.5896609,6.5912809,4.417089,6.3460212,5.0852389,4.7082601,5.8358388,4.1539469,4.9203029,4.8180962,6.331883,6.1186762,5.3304348,5.79708,5.052434,6.5064478,6.3708148,5.6491508,3.6437559,6.786767,6.3902388,5.2976151,5.1866479,6.0140362,7.216702,6.3017879,5.8703532,6.4721909,3.870791,5.0753608,6.2922158,4.4210691,4.4062572,5.5356879,7.1759648,5.6034851,6.2369952,6.8659992,5.0524278,5.1580439,5.5626659,6.3026228,5.9387259,5.923933,6.7950239,5.995584,3.861351,6.054903,5.3221059,7.1561322,6.58389,6.3951869,5.3785348,6.9337401,6.3545141,5.6928129,7.1027451,5.51793,6.634057,5.4487538,3.8991051,5.753861,6.3618598,5.898355,4.8310838,5.9266229,4.6382089,7.1234431,6.4999762,6.407939,6.7323189,7.0778422,5.4872479,7.0767722,5.169579,6.539001,7.5484538,7.3104162,4.796854,6.834197,6.2941551,4.4886222,6.9220691,5.2013292,6.5237918,6.3314729,6.1732082,5.0458951,6.7351689,5.2771711,6.2751541,5.3526392,5.8910842,6.0116348,5.947742,5.5617561,6.588213,5.2365322,5.5699668,4.0851941,6.4242802,5.5650191,4.5136428,7.5142832,4.4470348,5.6809778,6.5094881,7.1292529,3.588414,6.5637789,4.0232892,7.782845,4.682282,5.7201152,5.9933162,5.4721408,5.0355482,5.9410582,4.1102462,6.1944432,6.9710112,6.386981,6.120842,5.768662,6.434391,5.6233439,5.777441,4.749063,5.4481621,5.3459692,5.737484,5.877739,6.3491888,4.2231278,7.4555411,6.1862712,4.812542,5.7794909,6.6334019,4.696353,6.4177232,5.9761419,6.1473598,6.2922421,6.9031558,5.3057141,6.2958059,6.2229991,6.9811888,5.9507399,4.936202,6.114418,5.532897,6.2662182,6.5248609,6.5659041,5.8976879,4.2281508,5.0781808,4.7978182,6.2187972,6.3899498,4.5863838,4.5917792,4.463851,6.4332418,4.7354698,5.0284429,6.736917,5.6072998,6.0868301,7.4877882,6.8707218,7.7254329,6.3089309,6.6994181,7.5135899,5.7351041,5.7736812,5.8099909,5.5954971,5.1793981,5.5223932,6.7411871,6.0416908,5.279213,5.639154,5.5451021,5.520246,5.780817,5.0093269,3.123219,5.5052161,6.5962639,5.7849259,5.66258,7.06071,6.2069111,6.5594959,6.2785902,4.076787,6.8776059,4.3088379,6.370255,6.3069391,5.6822891,6.1561189,7.3679972,7.686007,6.7939358,4.688014,5.1688209,6.9952679,5.5310888,5.7989488,4.8712282,6.0419941,6.577035,7.2800102,6.723103,6.155314,5.9514332,5.0751462,6.274085,7.0083032,5.6802082,4.7265658,6.8681459,7.0194278,6.5507941,5.086935,6.359508,5.5356631,6.7076359,5.0153699,5.9092631,6.0120401,7.052228,6.777071,5.2039652,4.6904821,5.7376108,6.4063258,5.363915,4.5459399,6.6907768,5.2175651,4.838305,6.1234708,4.770009,7.5419612,7.1166892,5.7039099,4.9704828,6.0405111,7.2015162,5.9126449,5.5271578,4.9950209,4.415926,5.4067721,5.1890559,6.1409559,5.2104378,4.1872349,3.6303251,6.9403052,6.8008242,6.282618,5.239831,3.9306059,5.2071438,6.7639518,7.0339928,6.7933879,5.2001848,5.1458921,5.5334721,6.010067,5.563971,6.0722389,5.1734748,6.714467,6.6443162,4.4852948,4.6731262,7.2744331,5.2467718,7.3466592,6.3954191,6.2817192,6.162107,6.1719761,6.8826089,5.6788568,5.1206422,6.838882,5.8200059,5.257565,5.126955,6.1894579,4.0312591,5.201499,5.5632868,4.1672201,6.3462238,4.5476499,6.9027171,6.1181488,6.006505,5.600862,6.3192139,6.9858732,6.046514,6.6337342,5.6480789,5.7190309,5.576982,5.2938719,3.924155,5.227694,7.3979502,7.1855888,5.3895431,5.6806321,4.8955121,7.5851712,5.0130291,5.7599831,5.215766,6.0821748,6.574861,7.1726198,4.4931579,5.0931449,5.767282,6.4897928,6.5707288,4.7938609,5.8375969,7.3098369,5.8542409,5.1587291,5.8461499,5.5972438,6.3825359,7.1847248,7.2346139,5.0573649,6.1516519,6.2875671,4.293467,5.886251,6.5595498,5.3192101,7.187376,6.8159881,4.475728,5.8421369,4.7027349,5.4153929,6.1189609,6.5240879,5.7275028,6.423171,6.0553441,6.0443988,5.8594818,5.7835202,4.428412,5.593802,7.0680571,5.868783,4.6837111,4.3611951,5.9981909,5.1602831,7.3135061,6.886435,6.0840311,4.8130708,5.0990958,6.745944,5.1005321,4.8933978,5.2344818,7.0120401,6.0564232,6.3938131,5.942802,5.2593498,6.7255592,5.8242621,5.9424849,6.019752,3.5116611,5.1604242,5.0998201,5.0705972,5.6293211,4.559835,7.0265322,6.1650629,3.9142599,7.1475959,6.2348709,6.01998,6.5247989,7.4073548,7.4008799,7.2493572,3.8092091,6.7989478,5.8420401,5.6933622,6.2638149,5.272491,7.1145091,6.5236859,5.664845,6.378366,4.5320411,4.6674018,5.4874368,5.085628,6.4010849,7.0909939,6.723762,4.9201131,4.8144908,4.9092512,6.1685858,5.9366021,6.0231962,6.224328,5.8822279,6.1033211,5.9996271,6.8034258,5.017282,5.3676171,5.3976722,3.3036189,4.5670848,4.376101,5.8106022,7.1428242,5.5235562,6.3640828,6.9330988,4.6160588,4.7826972,6.636375,4.8591938,3.2312469,6.6623182,6.4316211,5.7954021,5.819129,7.6565428,5.7207022,6.2948098,5.0591559,7.219573,4.8986211,4.9765191,4.3896298,6.189414,5.8632441,7.442378,7.8961539,6.4812551,8.3827343,5.857461,5.3498592,5.078146,6.1742272,7.051158,7.286078,6.344327,6.3719411,4.659512,5.342679,6.4829168,6.3055248,5.0763831,6.327456,5.7879429,4.9624181,5.5303092,6.2523918,7.7047281,6.3822432,7.0472751,4.553472,6.0654111,4.754189,6.1872668,5.6278582,7.0769219,5.8938279,5.5540919,5.329536,6.3232961,7.12748,5.4512348,6.9595871,7.394865,5.6590919,5.558701,6.0073872,8.1407108,5.0734138,4.8551569,7.0947828,6.850224,4.6693139,5.0257568,5.9387879,4.8522019,6.6900749,4.4006858,7.0675201,6.211338,7.2482138,5.6145029,3.9419551,6.5426912,5.8470659,4.1144419,5.7335,5.7480311,7.159071,4.0085158,5.6109948,6.073483,4.7908311,7.5298672,4.9194999,5.5676141,6.4780622,5.7546291,6.4803691,7.2147369,7.1723542,5.3571191,5.0811028,4.9793949,6.5968342,5.141243,5.7711039,7.3810148,4.6011891,3.9340689,5.866498,5.3439808,5.37358,6.163527,5.937748,6.3573771,6.2162409,4.9311032,6.0445609,7.7758479,5.6440291,6.4904881,4.4951148,3.434576,5.774087,6.2716522,6.5222211,5.8152528,5.220355,4.9236188,6.5869431,6.135736,3.993763],\"y0\":\" \",\"yaxis\":\"y\",\"type\":\"box\"}],                        {\"template\":{\"data\":{\"bar\":[{\"error_x\":{\"color\":\"#2a3f5f\"},\"error_y\":{\"color\":\"#2a3f5f\"},\"marker\":{\"line\":{\"color\":\"#E5ECF6\",\"width\":0.5},\"pattern\":{\"fillmode\":\"overlay\",\"size\":10,\"solidity\":0.2}},\"type\":\"bar\"}],\"barpolar\":[{\"marker\":{\"line\":{\"color\":\"#E5ECF6\",\"width\":0.5},\"pattern\":{\"fillmode\":\"overlay\",\"size\":10,\"solidity\":0.2}},\"type\":\"barpolar\"}],\"carpet\":[{\"aaxis\":{\"endlinecolor\":\"#2a3f5f\",\"gridcolor\":\"white\",\"linecolor\":\"white\",\"minorgridcolor\":\"white\",\"startlinecolor\":\"#2a3f5f\"},\"baxis\":{\"endlinecolor\":\"#2a3f5f\",\"gridcolor\":\"white\",\"linecolor\":\"white\",\"minorgridcolor\":\"white\",\"startlinecolor\":\"#2a3f5f\"},\"type\":\"carpet\"}],\"choropleth\":[{\"colorbar\":{\"outlinewidth\":0,\"ticks\":\"\"},\"type\":\"choropleth\"}],\"contour\":[{\"colorbar\":{\"outlinewidth\":0,\"ticks\":\"\"},\"colorscale\":[[0.0,\"#0d0887\"],[0.1111111111111111,\"#46039f\"],[0.2222222222222222,\"#7201a8\"],[0.3333333333333333,\"#9c179e\"],[0.4444444444444444,\"#bd3786\"],[0.5555555555555556,\"#d8576b\"],[0.6666666666666666,\"#ed7953\"],[0.7777777777777778,\"#fb9f3a\"],[0.8888888888888888,\"#fdca26\"],[1.0,\"#f0f921\"]],\"type\":\"contour\"}],\"contourcarpet\":[{\"colorbar\":{\"outlinewidth\":0,\"ticks\":\"\"},\"type\":\"contourcarpet\"}],\"heatmap\":[{\"colorbar\":{\"outlinewidth\":0,\"ticks\":\"\"},\"colorscale\":[[0.0,\"#0d0887\"],[0.1111111111111111,\"#46039f\"],[0.2222222222222222,\"#7201a8\"],[0.3333333333333333,\"#9c179e\"],[0.4444444444444444,\"#bd3786\"],[0.5555555555555556,\"#d8576b\"],[0.6666666666666666,\"#ed7953\"],[0.7777777777777778,\"#fb9f3a\"],[0.8888888888888888,\"#fdca26\"],[1.0,\"#f0f921\"]],\"type\":\"heatmap\"}],\"heatmapgl\":[{\"colorbar\":{\"outlinewidth\":0,\"ticks\":\"\"},\"colorscale\":[[0.0,\"#0d0887\"],[0.1111111111111111,\"#46039f\"],[0.2222222222222222,\"#7201a8\"],[0.3333333333333333,\"#9c179e\"],[0.4444444444444444,\"#bd3786\"],[0.5555555555555556,\"#d8576b\"],[0.6666666666666666,\"#ed7953\"],[0.7777777777777778,\"#fb9f3a\"],[0.8888888888888888,\"#fdca26\"],[1.0,\"#f0f921\"]],\"type\":\"heatmapgl\"}],\"histogram\":[{\"marker\":{\"pattern\":{\"fillmode\":\"overlay\",\"size\":10,\"solidity\":0.2}},\"type\":\"histogram\"}],\"histogram2d\":[{\"colorbar\":{\"outlinewidth\":0,\"ticks\":\"\"},\"colorscale\":[[0.0,\"#0d0887\"],[0.1111111111111111,\"#46039f\"],[0.2222222222222222,\"#7201a8\"],[0.3333333333333333,\"#9c179e\"],[0.4444444444444444,\"#bd3786\"],[0.5555555555555556,\"#d8576b\"],[0.6666666666666666,\"#ed7953\"],[0.7777777777777778,\"#fb9f3a\"],[0.8888888888888888,\"#fdca26\"],[1.0,\"#f0f921\"]],\"type\":\"histogram2d\"}],\"histogram2dcontour\":[{\"colorbar\":{\"outlinewidth\":0,\"ticks\":\"\"},\"colorscale\":[[0.0,\"#0d0887\"],[0.1111111111111111,\"#46039f\"],[0.2222222222222222,\"#7201a8\"],[0.3333333333333333,\"#9c179e\"],[0.4444444444444444,\"#bd3786\"],[0.5555555555555556,\"#d8576b\"],[0.6666666666666666,\"#ed7953\"],[0.7777777777777778,\"#fb9f3a\"],[0.8888888888888888,\"#fdca26\"],[1.0,\"#f0f921\"]],\"type\":\"histogram2dcontour\"}],\"mesh3d\":[{\"colorbar\":{\"outlinewidth\":0,\"ticks\":\"\"},\"type\":\"mesh3d\"}],\"parcoords\":[{\"line\":{\"colorbar\":{\"outlinewidth\":0,\"ticks\":\"\"}},\"type\":\"parcoords\"}],\"pie\":[{\"automargin\":true,\"type\":\"pie\"}],\"scatter\":[{\"marker\":{\"colorbar\":{\"outlinewidth\":0,\"ticks\":\"\"}},\"type\":\"scatter\"}],\"scatter3d\":[{\"line\":{\"colorbar\":{\"outlinewidth\":0,\"ticks\":\"\"}},\"marker\":{\"colorbar\":{\"outlinewidth\":0,\"ticks\":\"\"}},\"type\":\"scatter3d\"}],\"scattercarpet\":[{\"marker\":{\"colorbar\":{\"outlinewidth\":0,\"ticks\":\"\"}},\"type\":\"scattercarpet\"}],\"scattergeo\":[{\"marker\":{\"colorbar\":{\"outlinewidth\":0,\"ticks\":\"\"}},\"type\":\"scattergeo\"}],\"scattergl\":[{\"marker\":{\"colorbar\":{\"outlinewidth\":0,\"ticks\":\"\"}},\"type\":\"scattergl\"}],\"scattermapbox\":[{\"marker\":{\"colorbar\":{\"outlinewidth\":0,\"ticks\":\"\"}},\"type\":\"scattermapbox\"}],\"scatterpolar\":[{\"marker\":{\"colorbar\":{\"outlinewidth\":0,\"ticks\":\"\"}},\"type\":\"scatterpolar\"}],\"scatterpolargl\":[{\"marker\":{\"colorbar\":{\"outlinewidth\":0,\"ticks\":\"\"}},\"type\":\"scatterpolargl\"}],\"scatterternary\":[{\"marker\":{\"colorbar\":{\"outlinewidth\":0,\"ticks\":\"\"}},\"type\":\"scatterternary\"}],\"surface\":[{\"colorbar\":{\"outlinewidth\":0,\"ticks\":\"\"},\"colorscale\":[[0.0,\"#0d0887\"],[0.1111111111111111,\"#46039f\"],[0.2222222222222222,\"#7201a8\"],[0.3333333333333333,\"#9c179e\"],[0.4444444444444444,\"#bd3786\"],[0.5555555555555556,\"#d8576b\"],[0.6666666666666666,\"#ed7953\"],[0.7777777777777778,\"#fb9f3a\"],[0.8888888888888888,\"#fdca26\"],[1.0,\"#f0f921\"]],\"type\":\"surface\"}],\"table\":[{\"cells\":{\"fill\":{\"color\":\"#EBF0F8\"},\"line\":{\"color\":\"white\"}},\"header\":{\"fill\":{\"color\":\"#C8D4E3\"},\"line\":{\"color\":\"white\"}},\"type\":\"table\"}]},\"layout\":{\"annotationdefaults\":{\"arrowcolor\":\"#2a3f5f\",\"arrowhead\":0,\"arrowwidth\":1},\"autotypenumbers\":\"strict\",\"coloraxis\":{\"colorbar\":{\"outlinewidth\":0,\"ticks\":\"\"}},\"colorscale\":{\"diverging\":[[0,\"#8e0152\"],[0.1,\"#c51b7d\"],[0.2,\"#de77ae\"],[0.3,\"#f1b6da\"],[0.4,\"#fde0ef\"],[0.5,\"#f7f7f7\"],[0.6,\"#e6f5d0\"],[0.7,\"#b8e186\"],[0.8,\"#7fbc41\"],[0.9,\"#4d9221\"],[1,\"#276419\"]],\"sequential\":[[0.0,\"#0d0887\"],[0.1111111111111111,\"#46039f\"],[0.2222222222222222,\"#7201a8\"],[0.3333333333333333,\"#9c179e\"],[0.4444444444444444,\"#bd3786\"],[0.5555555555555556,\"#d8576b\"],[0.6666666666666666,\"#ed7953\"],[0.7777777777777778,\"#fb9f3a\"],[0.8888888888888888,\"#fdca26\"],[1.0,\"#f0f921\"]],\"sequentialminus\":[[0.0,\"#0d0887\"],[0.1111111111111111,\"#46039f\"],[0.2222222222222222,\"#7201a8\"],[0.3333333333333333,\"#9c179e\"],[0.4444444444444444,\"#bd3786\"],[0.5555555555555556,\"#d8576b\"],[0.6666666666666666,\"#ed7953\"],[0.7777777777777778,\"#fb9f3a\"],[0.8888888888888888,\"#fdca26\"],[1.0,\"#f0f921\"]]},\"colorway\":[\"#636efa\",\"#EF553B\",\"#00cc96\",\"#ab63fa\",\"#FFA15A\",\"#19d3f3\",\"#FF6692\",\"#B6E880\",\"#FF97FF\",\"#FECB52\"],\"font\":{\"color\":\"#2a3f5f\"},\"geo\":{\"bgcolor\":\"white\",\"lakecolor\":\"white\",\"landcolor\":\"#E5ECF6\",\"showlakes\":true,\"showland\":true,\"subunitcolor\":\"white\"},\"hoverlabel\":{\"align\":\"left\"},\"hovermode\":\"closest\",\"mapbox\":{\"style\":\"light\"},\"paper_bgcolor\":\"white\",\"plot_bgcolor\":\"#E5ECF6\",\"polar\":{\"angularaxis\":{\"gridcolor\":\"white\",\"linecolor\":\"white\",\"ticks\":\"\"},\"bgcolor\":\"#E5ECF6\",\"radialaxis\":{\"gridcolor\":\"white\",\"linecolor\":\"white\",\"ticks\":\"\"}},\"scene\":{\"xaxis\":{\"backgroundcolor\":\"#E5ECF6\",\"gridcolor\":\"white\",\"gridwidth\":2,\"linecolor\":\"white\",\"showbackground\":true,\"ticks\":\"\",\"zerolinecolor\":\"white\"},\"yaxis\":{\"backgroundcolor\":\"#E5ECF6\",\"gridcolor\":\"white\",\"gridwidth\":2,\"linecolor\":\"white\",\"showbackground\":true,\"ticks\":\"\",\"zerolinecolor\":\"white\"},\"zaxis\":{\"backgroundcolor\":\"#E5ECF6\",\"gridcolor\":\"white\",\"gridwidth\":2,\"linecolor\":\"white\",\"showbackground\":true,\"ticks\":\"\",\"zerolinecolor\":\"white\"}},\"shapedefaults\":{\"line\":{\"color\":\"#2a3f5f\"}},\"ternary\":{\"aaxis\":{\"gridcolor\":\"white\",\"linecolor\":\"white\",\"ticks\":\"\"},\"baxis\":{\"gridcolor\":\"white\",\"linecolor\":\"white\",\"ticks\":\"\"},\"bgcolor\":\"#E5ECF6\",\"caxis\":{\"gridcolor\":\"white\",\"linecolor\":\"white\",\"ticks\":\"\"}},\"title\":{\"x\":0.05},\"xaxis\":{\"automargin\":true,\"gridcolor\":\"white\",\"linecolor\":\"white\",\"ticks\":\"\",\"title\":{\"standoff\":15},\"zerolinecolor\":\"white\",\"zerolinewidth\":2},\"yaxis\":{\"automargin\":true,\"gridcolor\":\"white\",\"linecolor\":\"white\",\"ticks\":\"\",\"title\":{\"standoff\":15},\"zerolinecolor\":\"white\",\"zerolinewidth\":2}}},\"xaxis\":{\"anchor\":\"y\",\"domain\":[0.0,1.0]},\"yaxis\":{\"anchor\":\"x\",\"domain\":[0.0,1.0],\"title\":{\"text\":\"nota_saeb_media_padronizada\"}},\"legend\":{\"tracegroupgap\":0},\"margin\":{\"t\":60},\"boxmode\":\"group\"},                        {\"responsive\": true}                    ).then(function(){\n",
              "                            \n",
              "var gd = document.getElementById('dbc8490c-4aa4-4908-b2f6-4a1ab8d57d05');\n",
              "var x = new MutationObserver(function (mutations, observer) {{\n",
              "        var display = window.getComputedStyle(gd).display;\n",
              "        if (!display || display === 'none') {{\n",
              "            console.log([gd, 'removed!']);\n",
              "            Plotly.purge(gd);\n",
              "            observer.disconnect();\n",
              "        }}\n",
              "}});\n",
              "\n",
              "// Listen for the removal of the full notebook cells\n",
              "var notebookContainer = gd.closest('#notebook-container');\n",
              "if (notebookContainer) {{\n",
              "    x.observe(notebookContainer, {childList: true});\n",
              "}}\n",
              "\n",
              "// Listen for the clearing of the current output cell\n",
              "var outputEl = gd.closest('.output');\n",
              "if (outputEl) {{\n",
              "    x.observe(outputEl, {childList: true});\n",
              "}}\n",
              "\n",
              "                        })                };                            </script>        </div>\n",
              "</body>\n",
              "</html>"
            ]
          },
          "metadata": {}
        }
      ]
    },
    {
      "cell_type": "code",
      "source": [
        "# Limites a partir do intervalo interquartílico\n",
        "l_med=limites(df_ideb['nota_saeb_media_padronizada'])"
      ],
      "metadata": {
        "id": "7MSNCp3Y945W"
      },
      "execution_count": 110,
      "outputs": []
    },
    {
      "cell_type": "code",
      "source": [
        "# Recorte do Dataframe para compreender os outliers\n",
        "recorte_df(df_ideb['nota_saeb_media_padronizada'],l_med[0],l_med[1])"
      ],
      "metadata": {
        "id": "h_w8uc9n945W",
        "colab": {
          "base_uri": "https://localhost:8080/",
          "height": 81
        },
        "outputId": "502c5f64-ff4a-4aa7-a4b2-82065c2eaa82"
      },
      "execution_count": 111,
      "outputs": [
        {
          "output_type": "execute_result",
          "data": {
            "text/plain": [
              "      ano sigla_uf id_municipio id_escola       rede       ensino  \\\n",
              "614  2019       PA      1501808  15025535  municipal  fundamental   \n",
              "\n",
              "     anos_escolares  taxa_aprovacao  indicador_rendimento  \\\n",
              "614  iniciais (1-5)            54.6              0.558239   \n",
              "\n",
              "     nota_saeb_matematica  nota_saeb_lingua_portuguesa  \\\n",
              "614                144.99                       131.57   \n",
              "\n",
              "     nota_saeb_media_padronizada  ideb  projecao  \n",
              "614                     3.123219   1.7       NaN  "
            ],
            "text/html": [
              "\n",
              "  <div id=\"df-90166c58-d428-439f-899e-aced17658138\">\n",
              "    <div class=\"colab-df-container\">\n",
              "      <div>\n",
              "<style scoped>\n",
              "    .dataframe tbody tr th:only-of-type {\n",
              "        vertical-align: middle;\n",
              "    }\n",
              "\n",
              "    .dataframe tbody tr th {\n",
              "        vertical-align: top;\n",
              "    }\n",
              "\n",
              "    .dataframe thead th {\n",
              "        text-align: right;\n",
              "    }\n",
              "</style>\n",
              "<table border=\"1\" class=\"dataframe\">\n",
              "  <thead>\n",
              "    <tr style=\"text-align: right;\">\n",
              "      <th></th>\n",
              "      <th>ano</th>\n",
              "      <th>sigla_uf</th>\n",
              "      <th>id_municipio</th>\n",
              "      <th>id_escola</th>\n",
              "      <th>rede</th>\n",
              "      <th>ensino</th>\n",
              "      <th>anos_escolares</th>\n",
              "      <th>taxa_aprovacao</th>\n",
              "      <th>indicador_rendimento</th>\n",
              "      <th>nota_saeb_matematica</th>\n",
              "      <th>nota_saeb_lingua_portuguesa</th>\n",
              "      <th>nota_saeb_media_padronizada</th>\n",
              "      <th>ideb</th>\n",
              "      <th>projecao</th>\n",
              "    </tr>\n",
              "  </thead>\n",
              "  <tbody>\n",
              "    <tr>\n",
              "      <th>614</th>\n",
              "      <td>2019</td>\n",
              "      <td>PA</td>\n",
              "      <td>1501808</td>\n",
              "      <td>15025535</td>\n",
              "      <td>municipal</td>\n",
              "      <td>fundamental</td>\n",
              "      <td>iniciais (1-5)</td>\n",
              "      <td>54.6</td>\n",
              "      <td>0.558239</td>\n",
              "      <td>144.99</td>\n",
              "      <td>131.57</td>\n",
              "      <td>3.123219</td>\n",
              "      <td>1.7</td>\n",
              "      <td>NaN</td>\n",
              "    </tr>\n",
              "  </tbody>\n",
              "</table>\n",
              "</div>\n",
              "      <button class=\"colab-df-convert\" onclick=\"convertToInteractive('df-90166c58-d428-439f-899e-aced17658138')\"\n",
              "              title=\"Convert this dataframe to an interactive table.\"\n",
              "              style=\"display:none;\">\n",
              "        \n",
              "  <svg xmlns=\"http://www.w3.org/2000/svg\" height=\"24px\"viewBox=\"0 0 24 24\"\n",
              "       width=\"24px\">\n",
              "    <path d=\"M0 0h24v24H0V0z\" fill=\"none\"/>\n",
              "    <path d=\"M18.56 5.44l.94 2.06.94-2.06 2.06-.94-2.06-.94-.94-2.06-.94 2.06-2.06.94zm-11 1L8.5 8.5l.94-2.06 2.06-.94-2.06-.94L8.5 2.5l-.94 2.06-2.06.94zm10 10l.94 2.06.94-2.06 2.06-.94-2.06-.94-.94-2.06-.94 2.06-2.06.94z\"/><path d=\"M17.41 7.96l-1.37-1.37c-.4-.4-.92-.59-1.43-.59-.52 0-1.04.2-1.43.59L10.3 9.45l-7.72 7.72c-.78.78-.78 2.05 0 2.83L4 21.41c.39.39.9.59 1.41.59.51 0 1.02-.2 1.41-.59l7.78-7.78 2.81-2.81c.8-.78.8-2.07 0-2.86zM5.41 20L4 18.59l7.72-7.72 1.47 1.35L5.41 20z\"/>\n",
              "  </svg>\n",
              "      </button>\n",
              "      \n",
              "  <style>\n",
              "    .colab-df-container {\n",
              "      display:flex;\n",
              "      flex-wrap:wrap;\n",
              "      gap: 12px;\n",
              "    }\n",
              "\n",
              "    .colab-df-convert {\n",
              "      background-color: #E8F0FE;\n",
              "      border: none;\n",
              "      border-radius: 50%;\n",
              "      cursor: pointer;\n",
              "      display: none;\n",
              "      fill: #1967D2;\n",
              "      height: 32px;\n",
              "      padding: 0 0 0 0;\n",
              "      width: 32px;\n",
              "    }\n",
              "\n",
              "    .colab-df-convert:hover {\n",
              "      background-color: #E2EBFA;\n",
              "      box-shadow: 0px 1px 2px rgba(60, 64, 67, 0.3), 0px 1px 3px 1px rgba(60, 64, 67, 0.15);\n",
              "      fill: #174EA6;\n",
              "    }\n",
              "\n",
              "    [theme=dark] .colab-df-convert {\n",
              "      background-color: #3B4455;\n",
              "      fill: #D2E3FC;\n",
              "    }\n",
              "\n",
              "    [theme=dark] .colab-df-convert:hover {\n",
              "      background-color: #434B5C;\n",
              "      box-shadow: 0px 1px 3px 1px rgba(0, 0, 0, 0.15);\n",
              "      filter: drop-shadow(0px 1px 2px rgba(0, 0, 0, 0.3));\n",
              "      fill: #FFFFFF;\n",
              "    }\n",
              "  </style>\n",
              "\n",
              "      <script>\n",
              "        const buttonEl =\n",
              "          document.querySelector('#df-90166c58-d428-439f-899e-aced17658138 button.colab-df-convert');\n",
              "        buttonEl.style.display =\n",
              "          google.colab.kernel.accessAllowed ? 'block' : 'none';\n",
              "\n",
              "        async function convertToInteractive(key) {\n",
              "          const element = document.querySelector('#df-90166c58-d428-439f-899e-aced17658138');\n",
              "          const dataTable =\n",
              "            await google.colab.kernel.invokeFunction('convertToInteractive',\n",
              "                                                     [key], {});\n",
              "          if (!dataTable) return;\n",
              "\n",
              "          const docLinkHtml = 'Like what you see? Visit the ' +\n",
              "            '<a target=\"_blank\" href=https://colab.research.google.com/notebooks/data_table.ipynb>data table notebook</a>'\n",
              "            + ' to learn more about interactive tables.';\n",
              "          element.innerHTML = '';\n",
              "          dataTable['output_type'] = 'display_data';\n",
              "          await google.colab.output.renderOutput(dataTable, element);\n",
              "          const docLink = document.createElement('div');\n",
              "          docLink.innerHTML = docLinkHtml;\n",
              "          element.appendChild(docLink);\n",
              "        }\n",
              "      </script>\n",
              "    </div>\n",
              "  </div>\n",
              "  "
            ]
          },
          "metadata": {},
          "execution_count": 111
        }
      ]
    },
    {
      "cell_type": "markdown",
      "source": [
        "**IDEB**"
      ],
      "metadata": {
        "id": "5IC25MHSwa3C"
      }
    },
    {
      "cell_type": "code",
      "source": [
        "# Boxplot\n",
        "boxplot(df_ideb['ideb'])"
      ],
      "metadata": {
        "id": "DauMK4VD9-ZX",
        "colab": {
          "base_uri": "https://localhost:8080/",
          "height": 542
        },
        "outputId": "41b64be4-4012-4855-b7ca-54e13e58cbaa"
      },
      "execution_count": 112,
      "outputs": [
        {
          "output_type": "display_data",
          "data": {
            "text/html": [
              "<html>\n",
              "<head><meta charset=\"utf-8\" /></head>\n",
              "<body>\n",
              "    <div>            <script src=\"https://cdnjs.cloudflare.com/ajax/libs/mathjax/2.7.5/MathJax.js?config=TeX-AMS-MML_SVG\"></script><script type=\"text/javascript\">if (window.MathJax) {MathJax.Hub.Config({SVG: {font: \"STIX-Web\"}});}</script>                <script type=\"text/javascript\">window.PlotlyConfig = {MathJaxConfig: 'local'};</script>\n",
              "        <script src=\"https://cdn.plot.ly/plotly-2.8.3.min.js\"></script>                <div id=\"14f4ea4a-8444-4ed9-9c87-1292573cdcd8\" class=\"plotly-graph-div\" style=\"height:525px; width:100%;\"></div>            <script type=\"text/javascript\">                                    window.PLOTLYENV=window.PLOTLYENV || {};                                    if (document.getElementById(\"14f4ea4a-8444-4ed9-9c87-1292573cdcd8\")) {                    Plotly.newPlot(                        \"14f4ea4a-8444-4ed9-9c87-1292573cdcd8\",                        [{\"alignmentgroup\":\"True\",\"hovertemplate\":\"ideb=%{y}<extra></extra>\",\"legendgroup\":\"\",\"marker\":{\"color\":\"#636efa\"},\"name\":\"\",\"notched\":false,\"offsetgroup\":\"\",\"orientation\":\"v\",\"showlegend\":false,\"x0\":\" \",\"xaxis\":\"x\",\"y\":[5.5,4.6,5.2,6.3,2.9,6.2,4.3,6.8,4.3,6.8,2.7,6.0,6.6,6.1,6.3,6.2,4.0,6.2,5.6,3.5,4.9,5.0,3.4,6.0,5.6,7.4,5.1,6.6,6.1,4.5,5.4,5.2,4.7,6.3,4.5,3.9,5.0,5.5,5.2,5.2,6.0,5.2,6.5,6.4,6.4,6.6,5.4,6.7,4.6,3.6,4.7,4.0,5.7,6.0,6.5,4.6,5.7,5.5,5.3,5.9,5.0,7.1,5.4,6.4,4.4,5.4,5.6,6.1,5.4,4.5,3.7,4.1,6.2,6.1,6.5,5.9,5.0,4.4,4.7,5.0,4.3,7.5,7.5,5.8,4.0,4.1,6.8,5.8,7.5,5.7,5.4,4.2,5.7,6.6,3.0,4.2,6.8,4.8,4.0,3.8,6.7,5.1,4.2,7.3,6.7,6.6,5.1,3.9,4.2,4.3,6.9,5.4,5.9,3.3,5.1,5.9,3.9,7.6,5.4,5.0,2.9,3.9,3.6,7.6,4.7,5.2,5.5,6.7,7.1,4.4,4.5,7.1,6.1,6.0,6.5,5.1,5.9,5.5,4.5,4.3,6.1,7.1,5.0,7.0,5.0,3.1,5.8,5.7,5.3,5.5,4.0,2.5,6.2,4.2,4.8,6.0,5.4,6.9,5.7,6.6,4.3,7.4,6.5,6.3,4.9,5.5,6.0,6.6,4.4,6.7,5.6,7.1,4.9,6.6,5.7,4.4,4.9,5.7,7.5,3.0,6.1,6.6,6.0,6.6,5.1,6.8,6.3,5.8,4.5,7.1,5.8,4.2,3.6,7.1,4.5,6.6,3.7,5.4,5.5,5.1,5.2,4.4,4.4,5.6,5.7,4.6,7.8,5.1,6.3,5.3,6.9,4.7,6.5,5.9,5.6,6.0,5.1,3.1,5.1,6.2,5.6,7.0,6.1,4.6,3.7,7.2,6.9,5.9,7.0,5.6,4.9,5.9,5.1,6.3,4.0,6.1,5.4,6.7,5.1,6.3,6.0,6.5,4.0,2.8,7.7,6.1,6.0,7.1,5.9,6.5,7.1,5.1,6.2,4.5,4.3,5.7,6.2,4.8,5.6,7.8,3.1,5.3,5.3,4.4,6.1,4.2,7.0,5.7,3.6,4.6,6.2,5.3,6.5,5.7,6.6,4.6,4.1,5.8,5.3,4.8,6.4,7.2,4.4,4.5,3.2,4.7,6.7,6.2,5.0,6.3,5.8,5.7,6.3,4.6,6.1,5.2,5.3,6.3,4.3,6.9,6.7,6.0,6.4,6.9,6.6,5.9,4.7,6.1,5.2,6.9,6.1,4.6,7.6,3.3,6.4,6.3,4.5,6.7,4.9,4.0,6.6,6.2,6.7,4.8,6.3,4.9,6.2,6.5,5.0,7.2,5.9,3.8,4.9,5.9,4.5,5.3,3.9,3.9,4.0,6.4,5.0,7.5,4.7,5.3,5.6,7.3,4.6,5.1,8.0,5.8,3.6,5.8,5.6,6.6,6.9,4.0,5.0,3.4,5.5,6.6,2.6,5.2,3.6,6.9,5.5,6.1,2.4,5.5,4.3,5.5,5.4,5.0,5.9,7.3,4.1,4.6,5.0,6.2,5.1,6.0,7.7,3.8,5.7,7.3,5.6,6.2,5.9,3.7,6.4,3.6,5.9,4.9,5.4,5.8,3.8,6.5,6.5,5.5,2.8,6.0,5.6,4.6,6.5,5.2,5.3,3.2,5.8,4.9,5.3,7.0,4.3,6.8,6.9,7.2,5.5,5.9,6.4,6.3,5.4,6.0,4.3,5.3,6.9,3.2,6.3,3.7,6.0,4.7,4.2,5.4,3.3,4.9,4.7,5.7,5.4,4.9,5.6,4.2,6.4,5.9,5.2,2.5,5.7,6.4,4.6,4.7,5.4,7.1,6.1,5.9,6.2,3.7,4.7,5.8,3.7,4.1,5.5,7.1,5.3,6.0,6.3,5.0,3.3,5.0,6.3,5.8,5.9,6.8,5.9,3.0,5.8,4.5,7.1,6.6,6.1,5.0,6.9,6.3,5.2,6.7,5.5,6.6,5.1,3.5,5.3,6.4,5.9,4.4,5.4,4.6,7.1,6.4,6.4,6.2,7.1,5.4,7.1,5.1,6.5,7.5,7.3,4.2,6.4,6.0,3.7,6.6,5.1,6.3,6.1,5.8,4.8,6.2,5.2,5.0,4.9,5.4,5.5,5.9,5.2,6.4,3.5,5.0,3.7,5.4,4.7,4.1,7.2,4.3,4.0,6.1,6.9,2.9,6.5,3.7,7.4,4.2,5.3,6.0,5.1,4.3,5.7,3.4,5.9,6.9,6.4,6.1,5.5,6.4,5.2,5.5,4.4,5.0,5.3,5.1,5.8,6.0,4.0,7.4,6.2,3.9,4.3,6.1,3.8,6.4,6.0,5.5,6.3,6.6,5.3,5.5,6.2,6.7,5.8,4.7,5.8,5.5,5.2,6.5,6.6,5.5,3.1,4.8,4.0,4.8,6.2,3.9,4.5,3.9,6.2,3.6,4.9,6.7,5.0,6.1,7.4,6.8,7.7,6.0,6.3,7.0,5.7,5.7,5.7,5.4,5.0,5.1,6.6,5.9,4.2,5.1,5.4,5.3,3.7,4.8,1.7,4.7,6.5,5.4,5.4,7.1,5.7,6.1,6.3,3.5,6.9,3.7,6.2,6.2,5.4,6.2,7.4,7.4,6.7,4.2,5.2,7.0,5.4,5.2,4.0,5.5,6.3,6.9,6.7,6.0,5.7,4.2,6.3,6.8,5.5,4.3,6.7,6.8,6.0,4.7,6.2,5.5,6.6,4.8,5.3,5.7,6.9,6.8,5.0,4.3,5.3,6.0,4.9,4.0,5.9,4.7,4.5,6.1,4.1,6.8,7.0,5.7,4.3,5.9,7.2,5.7,5.5,3.8,4.1,5.0,5.1,5.3,4.4,4.1,3.1,6.9,6.3,6.3,4.8,3.9,4.4,6.8,6.4,6.7,4.6,4.9,5.3,5.4,5.5,5.7,5.2,6.7,6.0,3.3,4.0,7.2,5.2,7.3,5.9,5.3,5.8,5.3,6.8,5.4,5.0,6.5,5.6,5.0,4.7,6.0,3.2,5.2,5.5,3.9,6.2,3.9,6.9,6.0,5.7,4.9,6.0,6.7,5.7,5.9,4.9,5.5,5.4,5.0,3.7,5.0,7.4,7.2,5.4,5.2,4.4,7.5,4.8,5.7,5.2,6.0,6.1,7.0,4.3,4.6,5.2,6.3,6.5,4.5,5.8,7.3,5.6,5.2,5.6,5.6,5.9,7.2,6.9,4.8,5.3,6.3,4.0,5.6,6.6,4.1,7.1,6.6,4.0,5.2,4.3,4.8,5.8,6.5,5.5,6.1,6.0,5.7,5.0,5.8,4.1,5.3,7.1,5.5,4.2,3.1,5.7,4.1,7.1,6.6,6.1,4.6,4.5,6.4,4.6,4.4,4.3,6.8,6.0,5.6,5.7,4.4,6.6,5.4,5.9,5.6,3.1,4.6,4.8,4.8,5.2,3.9,6.7,5.8,3.6,6.4,6.1,5.9,6.5,7.2,7.3,7.0,3.0,6.8,5.8,5.6,6.3,4.9,7.1,6.3,5.4,4.6,4.0,4.4,4.9,4.8,6.3,7.1,5.4,4.7,3.3,3.8,5.9,5.8,5.7,5.6,5.9,5.9,5.1,6.8,3.8,5.0,4.7,3.0,4.0,3.6,5.8,7.1,5.2,6.3,6.8,4.4,4.5,6.4,4.5,2.7,6.4,6.1,5.2,5.6,7.4,5.7,6.1,5.1,7.1,4.5,3.2,2.8,6.2,5.5,7.4,7.9,6.4,8.4,5.8,5.1,5.1,6.1,6.6,7.3,6.3,5.3,3.9,4.7,5.8,5.5,4.2,5.7,5.5,4.2,5.5,6.3,7.5,6.2,6.6,3.7,5.8,4.4,6.1,5.4,7.0,5.9,5.4,5.3,6.0,7.1,5.1,6.6,7.1,4.9,4.9,6.0,8.1,4.7,3.9,7.1,6.5,3.8,4.7,5.9,4.1,6.6,3.9,6.9,5.4,6.9,5.1,3.3,6.5,5.1,4.1,5.0,5.2,7.2,3.4,5.3,5.1,4.7,7.5,3.8,5.5,6.3,5.5,5.9,7.1,7.2,4.9,5.1,4.9,6.6,5.1,5.0,7.3,3.8,3.5,5.9,5.1,4.9,5.5,5.9,6.4,5.8,4.9,5.9,7.6,5.5,6.4,4.0,3.1,5.3,6.1,6.5,5.7,4.7,3.8,6.5,6.1,3.7],\"y0\":\" \",\"yaxis\":\"y\",\"type\":\"box\"}],                        {\"template\":{\"data\":{\"bar\":[{\"error_x\":{\"color\":\"#2a3f5f\"},\"error_y\":{\"color\":\"#2a3f5f\"},\"marker\":{\"line\":{\"color\":\"#E5ECF6\",\"width\":0.5},\"pattern\":{\"fillmode\":\"overlay\",\"size\":10,\"solidity\":0.2}},\"type\":\"bar\"}],\"barpolar\":[{\"marker\":{\"line\":{\"color\":\"#E5ECF6\",\"width\":0.5},\"pattern\":{\"fillmode\":\"overlay\",\"size\":10,\"solidity\":0.2}},\"type\":\"barpolar\"}],\"carpet\":[{\"aaxis\":{\"endlinecolor\":\"#2a3f5f\",\"gridcolor\":\"white\",\"linecolor\":\"white\",\"minorgridcolor\":\"white\",\"startlinecolor\":\"#2a3f5f\"},\"baxis\":{\"endlinecolor\":\"#2a3f5f\",\"gridcolor\":\"white\",\"linecolor\":\"white\",\"minorgridcolor\":\"white\",\"startlinecolor\":\"#2a3f5f\"},\"type\":\"carpet\"}],\"choropleth\":[{\"colorbar\":{\"outlinewidth\":0,\"ticks\":\"\"},\"type\":\"choropleth\"}],\"contour\":[{\"colorbar\":{\"outlinewidth\":0,\"ticks\":\"\"},\"colorscale\":[[0.0,\"#0d0887\"],[0.1111111111111111,\"#46039f\"],[0.2222222222222222,\"#7201a8\"],[0.3333333333333333,\"#9c179e\"],[0.4444444444444444,\"#bd3786\"],[0.5555555555555556,\"#d8576b\"],[0.6666666666666666,\"#ed7953\"],[0.7777777777777778,\"#fb9f3a\"],[0.8888888888888888,\"#fdca26\"],[1.0,\"#f0f921\"]],\"type\":\"contour\"}],\"contourcarpet\":[{\"colorbar\":{\"outlinewidth\":0,\"ticks\":\"\"},\"type\":\"contourcarpet\"}],\"heatmap\":[{\"colorbar\":{\"outlinewidth\":0,\"ticks\":\"\"},\"colorscale\":[[0.0,\"#0d0887\"],[0.1111111111111111,\"#46039f\"],[0.2222222222222222,\"#7201a8\"],[0.3333333333333333,\"#9c179e\"],[0.4444444444444444,\"#bd3786\"],[0.5555555555555556,\"#d8576b\"],[0.6666666666666666,\"#ed7953\"],[0.7777777777777778,\"#fb9f3a\"],[0.8888888888888888,\"#fdca26\"],[1.0,\"#f0f921\"]],\"type\":\"heatmap\"}],\"heatmapgl\":[{\"colorbar\":{\"outlinewidth\":0,\"ticks\":\"\"},\"colorscale\":[[0.0,\"#0d0887\"],[0.1111111111111111,\"#46039f\"],[0.2222222222222222,\"#7201a8\"],[0.3333333333333333,\"#9c179e\"],[0.4444444444444444,\"#bd3786\"],[0.5555555555555556,\"#d8576b\"],[0.6666666666666666,\"#ed7953\"],[0.7777777777777778,\"#fb9f3a\"],[0.8888888888888888,\"#fdca26\"],[1.0,\"#f0f921\"]],\"type\":\"heatmapgl\"}],\"histogram\":[{\"marker\":{\"pattern\":{\"fillmode\":\"overlay\",\"size\":10,\"solidity\":0.2}},\"type\":\"histogram\"}],\"histogram2d\":[{\"colorbar\":{\"outlinewidth\":0,\"ticks\":\"\"},\"colorscale\":[[0.0,\"#0d0887\"],[0.1111111111111111,\"#46039f\"],[0.2222222222222222,\"#7201a8\"],[0.3333333333333333,\"#9c179e\"],[0.4444444444444444,\"#bd3786\"],[0.5555555555555556,\"#d8576b\"],[0.6666666666666666,\"#ed7953\"],[0.7777777777777778,\"#fb9f3a\"],[0.8888888888888888,\"#fdca26\"],[1.0,\"#f0f921\"]],\"type\":\"histogram2d\"}],\"histogram2dcontour\":[{\"colorbar\":{\"outlinewidth\":0,\"ticks\":\"\"},\"colorscale\":[[0.0,\"#0d0887\"],[0.1111111111111111,\"#46039f\"],[0.2222222222222222,\"#7201a8\"],[0.3333333333333333,\"#9c179e\"],[0.4444444444444444,\"#bd3786\"],[0.5555555555555556,\"#d8576b\"],[0.6666666666666666,\"#ed7953\"],[0.7777777777777778,\"#fb9f3a\"],[0.8888888888888888,\"#fdca26\"],[1.0,\"#f0f921\"]],\"type\":\"histogram2dcontour\"}],\"mesh3d\":[{\"colorbar\":{\"outlinewidth\":0,\"ticks\":\"\"},\"type\":\"mesh3d\"}],\"parcoords\":[{\"line\":{\"colorbar\":{\"outlinewidth\":0,\"ticks\":\"\"}},\"type\":\"parcoords\"}],\"pie\":[{\"automargin\":true,\"type\":\"pie\"}],\"scatter\":[{\"marker\":{\"colorbar\":{\"outlinewidth\":0,\"ticks\":\"\"}},\"type\":\"scatter\"}],\"scatter3d\":[{\"line\":{\"colorbar\":{\"outlinewidth\":0,\"ticks\":\"\"}},\"marker\":{\"colorbar\":{\"outlinewidth\":0,\"ticks\":\"\"}},\"type\":\"scatter3d\"}],\"scattercarpet\":[{\"marker\":{\"colorbar\":{\"outlinewidth\":0,\"ticks\":\"\"}},\"type\":\"scattercarpet\"}],\"scattergeo\":[{\"marker\":{\"colorbar\":{\"outlinewidth\":0,\"ticks\":\"\"}},\"type\":\"scattergeo\"}],\"scattergl\":[{\"marker\":{\"colorbar\":{\"outlinewidth\":0,\"ticks\":\"\"}},\"type\":\"scattergl\"}],\"scattermapbox\":[{\"marker\":{\"colorbar\":{\"outlinewidth\":0,\"ticks\":\"\"}},\"type\":\"scattermapbox\"}],\"scatterpolar\":[{\"marker\":{\"colorbar\":{\"outlinewidth\":0,\"ticks\":\"\"}},\"type\":\"scatterpolar\"}],\"scatterpolargl\":[{\"marker\":{\"colorbar\":{\"outlinewidth\":0,\"ticks\":\"\"}},\"type\":\"scatterpolargl\"}],\"scatterternary\":[{\"marker\":{\"colorbar\":{\"outlinewidth\":0,\"ticks\":\"\"}},\"type\":\"scatterternary\"}],\"surface\":[{\"colorbar\":{\"outlinewidth\":0,\"ticks\":\"\"},\"colorscale\":[[0.0,\"#0d0887\"],[0.1111111111111111,\"#46039f\"],[0.2222222222222222,\"#7201a8\"],[0.3333333333333333,\"#9c179e\"],[0.4444444444444444,\"#bd3786\"],[0.5555555555555556,\"#d8576b\"],[0.6666666666666666,\"#ed7953\"],[0.7777777777777778,\"#fb9f3a\"],[0.8888888888888888,\"#fdca26\"],[1.0,\"#f0f921\"]],\"type\":\"surface\"}],\"table\":[{\"cells\":{\"fill\":{\"color\":\"#EBF0F8\"},\"line\":{\"color\":\"white\"}},\"header\":{\"fill\":{\"color\":\"#C8D4E3\"},\"line\":{\"color\":\"white\"}},\"type\":\"table\"}]},\"layout\":{\"annotationdefaults\":{\"arrowcolor\":\"#2a3f5f\",\"arrowhead\":0,\"arrowwidth\":1},\"autotypenumbers\":\"strict\",\"coloraxis\":{\"colorbar\":{\"outlinewidth\":0,\"ticks\":\"\"}},\"colorscale\":{\"diverging\":[[0,\"#8e0152\"],[0.1,\"#c51b7d\"],[0.2,\"#de77ae\"],[0.3,\"#f1b6da\"],[0.4,\"#fde0ef\"],[0.5,\"#f7f7f7\"],[0.6,\"#e6f5d0\"],[0.7,\"#b8e186\"],[0.8,\"#7fbc41\"],[0.9,\"#4d9221\"],[1,\"#276419\"]],\"sequential\":[[0.0,\"#0d0887\"],[0.1111111111111111,\"#46039f\"],[0.2222222222222222,\"#7201a8\"],[0.3333333333333333,\"#9c179e\"],[0.4444444444444444,\"#bd3786\"],[0.5555555555555556,\"#d8576b\"],[0.6666666666666666,\"#ed7953\"],[0.7777777777777778,\"#fb9f3a\"],[0.8888888888888888,\"#fdca26\"],[1.0,\"#f0f921\"]],\"sequentialminus\":[[0.0,\"#0d0887\"],[0.1111111111111111,\"#46039f\"],[0.2222222222222222,\"#7201a8\"],[0.3333333333333333,\"#9c179e\"],[0.4444444444444444,\"#bd3786\"],[0.5555555555555556,\"#d8576b\"],[0.6666666666666666,\"#ed7953\"],[0.7777777777777778,\"#fb9f3a\"],[0.8888888888888888,\"#fdca26\"],[1.0,\"#f0f921\"]]},\"colorway\":[\"#636efa\",\"#EF553B\",\"#00cc96\",\"#ab63fa\",\"#FFA15A\",\"#19d3f3\",\"#FF6692\",\"#B6E880\",\"#FF97FF\",\"#FECB52\"],\"font\":{\"color\":\"#2a3f5f\"},\"geo\":{\"bgcolor\":\"white\",\"lakecolor\":\"white\",\"landcolor\":\"#E5ECF6\",\"showlakes\":true,\"showland\":true,\"subunitcolor\":\"white\"},\"hoverlabel\":{\"align\":\"left\"},\"hovermode\":\"closest\",\"mapbox\":{\"style\":\"light\"},\"paper_bgcolor\":\"white\",\"plot_bgcolor\":\"#E5ECF6\",\"polar\":{\"angularaxis\":{\"gridcolor\":\"white\",\"linecolor\":\"white\",\"ticks\":\"\"},\"bgcolor\":\"#E5ECF6\",\"radialaxis\":{\"gridcolor\":\"white\",\"linecolor\":\"white\",\"ticks\":\"\"}},\"scene\":{\"xaxis\":{\"backgroundcolor\":\"#E5ECF6\",\"gridcolor\":\"white\",\"gridwidth\":2,\"linecolor\":\"white\",\"showbackground\":true,\"ticks\":\"\",\"zerolinecolor\":\"white\"},\"yaxis\":{\"backgroundcolor\":\"#E5ECF6\",\"gridcolor\":\"white\",\"gridwidth\":2,\"linecolor\":\"white\",\"showbackground\":true,\"ticks\":\"\",\"zerolinecolor\":\"white\"},\"zaxis\":{\"backgroundcolor\":\"#E5ECF6\",\"gridcolor\":\"white\",\"gridwidth\":2,\"linecolor\":\"white\",\"showbackground\":true,\"ticks\":\"\",\"zerolinecolor\":\"white\"}},\"shapedefaults\":{\"line\":{\"color\":\"#2a3f5f\"}},\"ternary\":{\"aaxis\":{\"gridcolor\":\"white\",\"linecolor\":\"white\",\"ticks\":\"\"},\"baxis\":{\"gridcolor\":\"white\",\"linecolor\":\"white\",\"ticks\":\"\"},\"bgcolor\":\"#E5ECF6\",\"caxis\":{\"gridcolor\":\"white\",\"linecolor\":\"white\",\"ticks\":\"\"}},\"title\":{\"x\":0.05},\"xaxis\":{\"automargin\":true,\"gridcolor\":\"white\",\"linecolor\":\"white\",\"ticks\":\"\",\"title\":{\"standoff\":15},\"zerolinecolor\":\"white\",\"zerolinewidth\":2},\"yaxis\":{\"automargin\":true,\"gridcolor\":\"white\",\"linecolor\":\"white\",\"ticks\":\"\",\"title\":{\"standoff\":15},\"zerolinecolor\":\"white\",\"zerolinewidth\":2}}},\"xaxis\":{\"anchor\":\"y\",\"domain\":[0.0,1.0]},\"yaxis\":{\"anchor\":\"x\",\"domain\":[0.0,1.0],\"title\":{\"text\":\"ideb\"}},\"legend\":{\"tracegroupgap\":0},\"margin\":{\"t\":60},\"boxmode\":\"group\"},                        {\"responsive\": true}                    ).then(function(){\n",
              "                            \n",
              "var gd = document.getElementById('14f4ea4a-8444-4ed9-9c87-1292573cdcd8');\n",
              "var x = new MutationObserver(function (mutations, observer) {{\n",
              "        var display = window.getComputedStyle(gd).display;\n",
              "        if (!display || display === 'none') {{\n",
              "            console.log([gd, 'removed!']);\n",
              "            Plotly.purge(gd);\n",
              "            observer.disconnect();\n",
              "        }}\n",
              "}});\n",
              "\n",
              "// Listen for the removal of the full notebook cells\n",
              "var notebookContainer = gd.closest('#notebook-container');\n",
              "if (notebookContainer) {{\n",
              "    x.observe(notebookContainer, {childList: true});\n",
              "}}\n",
              "\n",
              "// Listen for the clearing of the current output cell\n",
              "var outputEl = gd.closest('.output');\n",
              "if (outputEl) {{\n",
              "    x.observe(outputEl, {childList: true});\n",
              "}}\n",
              "\n",
              "                        })                };                            </script>        </div>\n",
              "</body>\n",
              "</html>"
            ]
          },
          "metadata": {}
        }
      ]
    },
    {
      "cell_type": "code",
      "source": [
        "# Limites a partir do intervalo interquartílico\n",
        "l_ideb=limites(df_ideb['ideb'])"
      ],
      "metadata": {
        "id": "z_rG9sqy9-ZX"
      },
      "execution_count": 113,
      "outputs": []
    },
    {
      "cell_type": "code",
      "source": [
        "# Recorte do Dataframe para compreender os outliers\n",
        "recorte_df(df_ideb['ideb'],l_ideb[0],l_ideb[1])"
      ],
      "metadata": {
        "id": "k57vUf0S9-ZY",
        "colab": {
          "base_uri": "https://localhost:8080/",
          "height": 81
        },
        "outputId": "e0f0f645-2310-420f-8fc1-5177158cbf13"
      },
      "execution_count": 114,
      "outputs": [
        {
          "output_type": "execute_result",
          "data": {
            "text/plain": [
              "      ano sigla_uf id_municipio id_escola       rede       ensino  \\\n",
              "614  2019       PA      1501808  15025535  municipal  fundamental   \n",
              "\n",
              "     anos_escolares  taxa_aprovacao  indicador_rendimento  \\\n",
              "614  iniciais (1-5)            54.6              0.558239   \n",
              "\n",
              "     nota_saeb_matematica  nota_saeb_lingua_portuguesa  \\\n",
              "614                144.99                       131.57   \n",
              "\n",
              "     nota_saeb_media_padronizada  ideb  projecao  \n",
              "614                     3.123219   1.7       NaN  "
            ],
            "text/html": [
              "\n",
              "  <div id=\"df-1e33bf2a-40f9-4c4b-8748-5e72399d8407\">\n",
              "    <div class=\"colab-df-container\">\n",
              "      <div>\n",
              "<style scoped>\n",
              "    .dataframe tbody tr th:only-of-type {\n",
              "        vertical-align: middle;\n",
              "    }\n",
              "\n",
              "    .dataframe tbody tr th {\n",
              "        vertical-align: top;\n",
              "    }\n",
              "\n",
              "    .dataframe thead th {\n",
              "        text-align: right;\n",
              "    }\n",
              "</style>\n",
              "<table border=\"1\" class=\"dataframe\">\n",
              "  <thead>\n",
              "    <tr style=\"text-align: right;\">\n",
              "      <th></th>\n",
              "      <th>ano</th>\n",
              "      <th>sigla_uf</th>\n",
              "      <th>id_municipio</th>\n",
              "      <th>id_escola</th>\n",
              "      <th>rede</th>\n",
              "      <th>ensino</th>\n",
              "      <th>anos_escolares</th>\n",
              "      <th>taxa_aprovacao</th>\n",
              "      <th>indicador_rendimento</th>\n",
              "      <th>nota_saeb_matematica</th>\n",
              "      <th>nota_saeb_lingua_portuguesa</th>\n",
              "      <th>nota_saeb_media_padronizada</th>\n",
              "      <th>ideb</th>\n",
              "      <th>projecao</th>\n",
              "    </tr>\n",
              "  </thead>\n",
              "  <tbody>\n",
              "    <tr>\n",
              "      <th>614</th>\n",
              "      <td>2019</td>\n",
              "      <td>PA</td>\n",
              "      <td>1501808</td>\n",
              "      <td>15025535</td>\n",
              "      <td>municipal</td>\n",
              "      <td>fundamental</td>\n",
              "      <td>iniciais (1-5)</td>\n",
              "      <td>54.6</td>\n",
              "      <td>0.558239</td>\n",
              "      <td>144.99</td>\n",
              "      <td>131.57</td>\n",
              "      <td>3.123219</td>\n",
              "      <td>1.7</td>\n",
              "      <td>NaN</td>\n",
              "    </tr>\n",
              "  </tbody>\n",
              "</table>\n",
              "</div>\n",
              "      <button class=\"colab-df-convert\" onclick=\"convertToInteractive('df-1e33bf2a-40f9-4c4b-8748-5e72399d8407')\"\n",
              "              title=\"Convert this dataframe to an interactive table.\"\n",
              "              style=\"display:none;\">\n",
              "        \n",
              "  <svg xmlns=\"http://www.w3.org/2000/svg\" height=\"24px\"viewBox=\"0 0 24 24\"\n",
              "       width=\"24px\">\n",
              "    <path d=\"M0 0h24v24H0V0z\" fill=\"none\"/>\n",
              "    <path d=\"M18.56 5.44l.94 2.06.94-2.06 2.06-.94-2.06-.94-.94-2.06-.94 2.06-2.06.94zm-11 1L8.5 8.5l.94-2.06 2.06-.94-2.06-.94L8.5 2.5l-.94 2.06-2.06.94zm10 10l.94 2.06.94-2.06 2.06-.94-2.06-.94-.94-2.06-.94 2.06-2.06.94z\"/><path d=\"M17.41 7.96l-1.37-1.37c-.4-.4-.92-.59-1.43-.59-.52 0-1.04.2-1.43.59L10.3 9.45l-7.72 7.72c-.78.78-.78 2.05 0 2.83L4 21.41c.39.39.9.59 1.41.59.51 0 1.02-.2 1.41-.59l7.78-7.78 2.81-2.81c.8-.78.8-2.07 0-2.86zM5.41 20L4 18.59l7.72-7.72 1.47 1.35L5.41 20z\"/>\n",
              "  </svg>\n",
              "      </button>\n",
              "      \n",
              "  <style>\n",
              "    .colab-df-container {\n",
              "      display:flex;\n",
              "      flex-wrap:wrap;\n",
              "      gap: 12px;\n",
              "    }\n",
              "\n",
              "    .colab-df-convert {\n",
              "      background-color: #E8F0FE;\n",
              "      border: none;\n",
              "      border-radius: 50%;\n",
              "      cursor: pointer;\n",
              "      display: none;\n",
              "      fill: #1967D2;\n",
              "      height: 32px;\n",
              "      padding: 0 0 0 0;\n",
              "      width: 32px;\n",
              "    }\n",
              "\n",
              "    .colab-df-convert:hover {\n",
              "      background-color: #E2EBFA;\n",
              "      box-shadow: 0px 1px 2px rgba(60, 64, 67, 0.3), 0px 1px 3px 1px rgba(60, 64, 67, 0.15);\n",
              "      fill: #174EA6;\n",
              "    }\n",
              "\n",
              "    [theme=dark] .colab-df-convert {\n",
              "      background-color: #3B4455;\n",
              "      fill: #D2E3FC;\n",
              "    }\n",
              "\n",
              "    [theme=dark] .colab-df-convert:hover {\n",
              "      background-color: #434B5C;\n",
              "      box-shadow: 0px 1px 3px 1px rgba(0, 0, 0, 0.15);\n",
              "      filter: drop-shadow(0px 1px 2px rgba(0, 0, 0, 0.3));\n",
              "      fill: #FFFFFF;\n",
              "    }\n",
              "  </style>\n",
              "\n",
              "      <script>\n",
              "        const buttonEl =\n",
              "          document.querySelector('#df-1e33bf2a-40f9-4c4b-8748-5e72399d8407 button.colab-df-convert');\n",
              "        buttonEl.style.display =\n",
              "          google.colab.kernel.accessAllowed ? 'block' : 'none';\n",
              "\n",
              "        async function convertToInteractive(key) {\n",
              "          const element = document.querySelector('#df-1e33bf2a-40f9-4c4b-8748-5e72399d8407');\n",
              "          const dataTable =\n",
              "            await google.colab.kernel.invokeFunction('convertToInteractive',\n",
              "                                                     [key], {});\n",
              "          if (!dataTable) return;\n",
              "\n",
              "          const docLinkHtml = 'Like what you see? Visit the ' +\n",
              "            '<a target=\"_blank\" href=https://colab.research.google.com/notebooks/data_table.ipynb>data table notebook</a>'\n",
              "            + ' to learn more about interactive tables.';\n",
              "          element.innerHTML = '';\n",
              "          dataTable['output_type'] = 'display_data';\n",
              "          await google.colab.output.renderOutput(dataTable, element);\n",
              "          const docLink = document.createElement('div');\n",
              "          docLink.innerHTML = docLinkHtml;\n",
              "          element.appendChild(docLink);\n",
              "        }\n",
              "      </script>\n",
              "    </div>\n",
              "  </div>\n",
              "  "
            ]
          },
          "metadata": {},
          "execution_count": 114
        }
      ]
    },
    {
      "cell_type": "markdown",
      "source": [
        "# Pergunta Aberta\n",
        "\n",
        "A partir das análises realizadas acima, escreva um breve parágrafo de conclusão que possa direcionar políticas públicas na área de educação. Fundamente suas conclusões com resultados da análise."
      ],
      "metadata": {
        "id": "hiksartGwE3-"
      }
    },
    {
      "cell_type": "markdown",
      "source": [
        "Sua Resposta:\n"
      ],
      "metadata": {
        "id": "4_wktSQ5wUCA"
      }
    },
    {
      "cell_type": "markdown",
      "source": [
        "# Distribuições Estatísticas\n",
        "\n",
        "### Atividade 3: Para cada uma das variáveis analisadas acima, faça o histograma e calcule a simetria e a curtose, e a partir disto decida se a variável tem distribuição aproximadamente normal."
      ],
      "metadata": {
        "id": "hhXb7J_-mZVN"
      }
    },
    {
      "cell_type": "markdown",
      "source": [
        "Taxa Aprovação"
      ],
      "metadata": {
        "id": "91fm7ca3yFRN"
      }
    },
    {
      "cell_type": "code",
      "source": [
        "# Histograma\n",
        "def histograma(df_column):\n",
        "  fig=px.histogram(df_ideb,x=df_ideb.sigla_uf,y=df_column)\n",
        "  return fig.show()\n",
        "histograma(df_ideb.taxa_aprovacao)"
      ],
      "metadata": {
        "id": "87ToKDXPmfAQ",
        "colab": {
          "base_uri": "https://localhost:8080/",
          "height": 542
        },
        "outputId": "59ff24ec-8b19-4647-b891-aa74d5b6b5e6"
      },
      "execution_count": 115,
      "outputs": [
        {
          "output_type": "display_data",
          "data": {
            "text/html": [
              "<html>\n",
              "<head><meta charset=\"utf-8\" /></head>\n",
              "<body>\n",
              "    <div>            <script src=\"https://cdnjs.cloudflare.com/ajax/libs/mathjax/2.7.5/MathJax.js?config=TeX-AMS-MML_SVG\"></script><script type=\"text/javascript\">if (window.MathJax) {MathJax.Hub.Config({SVG: {font: \"STIX-Web\"}});}</script>                <script type=\"text/javascript\">window.PlotlyConfig = {MathJaxConfig: 'local'};</script>\n",
              "        <script src=\"https://cdn.plot.ly/plotly-2.8.3.min.js\"></script>                <div id=\"a71f61fd-964b-4f5d-acc8-d4bd1dff1a46\" class=\"plotly-graph-div\" style=\"height:525px; width:100%;\"></div>            <script type=\"text/javascript\">                                    window.PLOTLYENV=window.PLOTLYENV || {};                                    if (document.getElementById(\"a71f61fd-964b-4f5d-acc8-d4bd1dff1a46\")) {                    Plotly.newPlot(                        \"a71f61fd-964b-4f5d-acc8-d4bd1dff1a46\",                        [{\"alignmentgroup\":\"True\",\"bingroup\":\"x\",\"histfunc\":\"sum\",\"hovertemplate\":\"sigla_uf=%{x}<br>sum of taxa_aprovacao=%{y}<extra></extra>\",\"legendgroup\":\"\",\"marker\":{\"color\":\"#636efa\",\"pattern\":{\"shape\":\"\"}},\"name\":\"\",\"offsetgroup\":\"\",\"orientation\":\"v\",\"showlegend\":false,\"x\":[\"MG\",\"PE\",\"RJ\",\"SP\",\"PA\",\"MG\",\"BA\",\"RS\",\"RJ\",\"PR\",\"PA\",\"CE\",\"SP\",\"GO\",\"SP\",\"CE\",\"PA\",\"GO\",\"MG\",\"SE\",\"ES\",\"PE\",\"BA\",\"SC\",\"MT\",\"GO\",\"DF\",\"CE\",\"RJ\",\"RS\",\"ES\",\"PE\",\"BA\",\"SC\",\"BA\",\"RJ\",\"MA\",\"MG\",\"AL\",\"BA\",\"SP\",\"ES\",\"RS\",\"PR\",\"SC\",\"SP\",\"GO\",\"SC\",\"BA\",\"BA\",\"RS\",\"PE\",\"CE\",\"SC\",\"RS\",\"PB\",\"RJ\",\"AL\",\"PA\",\"MG\",\"PA\",\"RS\",\"BA\",\"SC\",\"AL\",\"CE\",\"AC\",\"CE\",\"AL\",\"MA\",\"MA\",\"AL\",\"CE\",\"RN\",\"MG\",\"RO\",\"AC\",\"RS\",\"RO\",\"PA\",\"RS\",\"PR\",\"SP\",\"PE\",\"PA\",\"MA\",\"SP\",\"SP\",\"MT\",\"GO\",\"RJ\",\"MA\",\"MA\",\"CE\",\"BA\",\"RS\",\"SP\",\"PA\",\"PA\",\"BA\",\"PI\",\"RJ\",\"PA\",\"MS\",\"ES\",\"SP\",\"TO\",\"BA\",\"PI\",\"PI\",\"MG\",\"CE\",\"SP\",\"RR\",\"AC\",\"SP\",\"MA\",\"RJ\",\"MG\",\"DF\",\"PA\",\"MA\",\"PA\",\"SP\",\"RO\",\"PB\",\"MS\",\"ES\",\"SP\",\"BA\",\"RJ\",\"SP\",\"SP\",\"CE\",\"RS\",\"BA\",\"PR\",\"MS\",\"RN\",\"BA\",\"MG\",\"SP\",\"PB\",\"SP\",\"PA\",\"MA\",\"SC\",\"RJ\",\"PA\",\"RS\",\"BA\",\"RN\",\"PR\",\"RJ\",\"BA\",\"CE\",\"TO\",\"BA\",\"BA\",\"PR\",\"AM\",\"CE\",\"SC\",\"RS\",\"MG\",\"MG\",\"BA\",\"RS\",\"BA\",\"CE\",\"PR\",\"MT\",\"BA\",\"SC\",\"SC\",\"PI\",\"RJ\",\"CE\",\"SP\",\"BA\",\"RS\",\"SP\",\"PB\",\"MT\",\"PA\",\"MG\",\"GO\",\"SC\",\"PE\",\"SP\",\"MG\",\"MA\",\"BA\",\"SP\",\"BA\",\"SP\",\"PA\",\"AL\",\"PE\",\"SE\",\"MG\",\"PE\",\"BA\",\"CE\",\"PA\",\"PB\",\"MG\",\"MT\",\"ES\",\"CE\",\"SP\",\"PA\",\"CE\",\"SP\",\"MS\",\"MT\",\"PB\",\"AM\",\"PE\",\"MS\",\"ES\",\"SP\",\"CE\",\"PE\",\"AM\",\"MT\",\"SP\",\"MT\",\"PR\",\"PR\",\"PE\",\"PB\",\"PB\",\"DF\",\"RJ\",\"MG\",\"PR\",\"MG\",\"PI\",\"SP\",\"MG\",\"PB\",\"BA\",\"AM\",\"SC\",\"PE\",\"RS\",\"SP\",\"AL\",\"PR\",\"SP\",\"RN\",\"SE\",\"PE\",\"BA\",\"RN\",\"RS\",\"RJ\",\"BA\",\"SP\",\"BA\",\"SP\",\"PB\",\"BA\",\"PE\",\"MA\",\"PR\",\"PR\",\"AL\",\"MS\",\"SP\",\"MG\",\"DF\",\"MG\",\"MG\",\"BA\",\"BA\",\"MA\",\"GO\",\"MG\",\"CE\",\"SC\",\"MA\",\"PE\",\"MS\",\"PI\",\"SP\",\"TO\",\"PE\",\"SP\",\"MT\",\"PB\",\"AL\",\"MG\",\"CE\",\"GO\",\"SP\",\"RS\",\"RN\",\"SP\",\"PE\",\"ES\",\"SP\",\"DF\",\"CE\",\"SP\",\"PB\",\"GO\",\"SC\",\"AC\",\"MG\",\"PE\",\"ES\",\"RN\",\"SP\",\"GO\",\"MT\",\"MG\",\"GO\",\"PE\",\"MG\",\"SP\",\"SP\",\"RN\",\"PR\",\"RJ\",\"SP\",\"PR\",\"MG\",\"SP\",\"RJ\",\"BA\",\"PE\",\"SP\",\"PB\",\"CE\",\"PI\",\"MA\",\"PE\",\"PR\",\"MA\",\"GO\",\"CE\",\"BA\",\"PA\",\"AL\",\"SE\",\"BA\",\"PR\",\"RS\",\"BA\",\"BA\",\"RJ\",\"RS\",\"PR\",\"PR\",\"MA\",\"AM\",\"RN\",\"SP\",\"PA\",\"PE\",\"AL\",\"GO\",\"RS\",\"PR\",\"BA\",\"RJ\",\"SE\",\"PI\",\"BA\",\"PB\",\"SP\",\"PR\",\"PA\",\"PE\",\"CE\",\"RO\",\"MT\",\"SP\",\"SP\",\"MA\",\"MT\",\"SP\",\"MT\",\"MA\",\"RS\",\"PI\",\"MG\",\"RJ\",\"MT\",\"TO\",\"PA\",\"SP\",\"MA\",\"RJ\",\"SP\",\"PR\",\"BA\",\"RS\",\"AL\",\"BA\",\"PR\",\"CE\",\"BA\",\"SE\",\"CE\",\"ES\",\"MG\",\"SP\",\"MA\",\"SP\",\"SP\",\"PE\",\"CE\",\"MG\",\"SC\",\"TO\",\"MT\",\"SP\",\"RN\",\"MG\",\"BA\",\"MA\",\"PR\",\"BA\",\"ES\",\"PA\",\"MA\",\"SC\",\"MA\",\"MT\",\"BA\",\"BA\",\"BA\",\"BA\",\"RO\",\"PI\",\"PI\",\"PR\",\"BA\",\"PA\",\"SP\",\"CE\",\"PE\",\"RJ\",\"PR\",\"RS\",\"SC\",\"SP\",\"CE\",\"BA\",\"MA\",\"PA\",\"AM\",\"MA\",\"AL\",\"SP\",\"MT\",\"RJ\",\"RJ\",\"PE\",\"BA\",\"BA\",\"SP\",\"MG\",\"RS\",\"PR\",\"PE\",\"PA\",\"ES\",\"SE\",\"SC\",\"MG\",\"PR\",\"RN\",\"MG\",\"SP\",\"RN\",\"PR\",\"SP\",\"SP\",\"SE\",\"MA\",\"PE\",\"CE\",\"MG\",\"PE\",\"PA\",\"RJ\",\"SP\",\"SP\",\"MG\",\"RJ\",\"SP\",\"RJ\",\"MG\",\"PB\",\"CE\",\"AC\",\"SP\",\"PA\",\"PR\",\"RJ\",\"RN\",\"MG\",\"GO\",\"RS\",\"RS\",\"PR\",\"MT\",\"PR\",\"RS\",\"RJ\",\"RJ\",\"PA\",\"AM\",\"AL\",\"PE\",\"RS\",\"BA\",\"BA\",\"PA\",\"BA\",\"PB\",\"PA\",\"SP\",\"AL\",\"RN\",\"RS\",\"SP\",\"PI\",\"GO\",\"AP\",\"RS\",\"MA\",\"MS\",\"CE\",\"RS\",\"RJ\",\"PE\",\"PA\",\"ES\",\"GO\",\"SP\",\"MG\",\"PA\",\"MG\",\"MG\",\"RS\",\"PE\",\"PE\",\"MA\",\"MA\",\"SP\",\"RJ\",\"BA\",\"GO\",\"GO\",\"BA\",\"RJ\",\"DF\",\"PA\",\"SC\",\"MG\",\"PR\",\"SC\",\"RJ\",\"AL\",\"SP\",\"MG\",\"RS\",\"SP\",\"BA\",\"BA\",\"PR\",\"RJ\",\"PR\",\"SP\",\"RS\",\"MA\",\"RS\",\"SE\",\"RJ\",\"RS\",\"SE\",\"PE\",\"RN\",\"MG\",\"BA\",\"PA\",\"GO\",\"RJ\",\"MG\",\"SP\",\"CE\",\"PR\",\"MA\",\"PR\",\"PR\",\"MT\",\"PB\",\"DF\",\"PE\",\"BA\",\"SC\",\"RS\",\"PA\",\"MG\",\"PA\",\"SC\",\"PA\",\"BA\",\"MA\",\"PA\",\"BA\",\"MG\",\"CE\",\"AM\",\"SC\",\"AM\",\"RS\",\"MG\",\"RN\",\"CE\",\"BA\",\"SP\",\"RJ\",\"RS\",\"SP\",\"CE\",\"SC\",\"SP\",\"MA\",\"MG\",\"RR\",\"RS\",\"BA\",\"PA\",\"PA\",\"MT\",\"RS\",\"MG\",\"SP\",\"SP\",\"PA\",\"SC\",\"MG\",\"MG\",\"PA\",\"SP\",\"AM\",\"MG\",\"AC\",\"PR\",\"MA\",\"SP\",\"MA\",\"RJ\",\"PE\",\"SP\",\"SP\",\"MA\",\"AL\",\"TO\",\"BA\",\"SP\",\"PB\",\"MG\",\"MA\",\"RS\",\"CE\",\"MA\",\"MG\",\"PR\",\"CE\",\"BA\",\"PR\",\"PE\",\"BA\",\"PE\",\"BA\",\"PA\",\"PE\",\"PB\",\"PR\",\"RJ\",\"BA\",\"PB\",\"MT\",\"PR\",\"SC\",\"BA\",\"MA\",\"PB\",\"BA\",\"PR\",\"SP\",\"BA\",\"PE\",\"MA\",\"BA\",\"PA\",\"RS\",\"AM\",\"MG\",\"PR\",\"BA\",\"PA\",\"SP\",\"AM\",\"SP\",\"RO\",\"PE\",\"ES\",\"RJ\",\"MG\",\"PR\",\"PE\",\"PR\",\"BA\",\"RJ\",\"PA\",\"PE\",\"BA\",\"BA\",\"AC\",\"MA\",\"SP\",\"BA\",\"TO\",\"CE\",\"ES\",\"PR\",\"SP\",\"RS\",\"BA\",\"PR\",\"ES\",\"ES\",\"SE\",\"PE\",\"BA\",\"RN\",\"SP\",\"SP\",\"MT\",\"SC\",\"MA\",\"ES\",\"PA\",\"SP\",\"MG\",\"PR\",\"SP\",\"PR\",\"MA\",\"PA\",\"GO\",\"RS\",\"MG\",\"MS\",\"RJ\",\"CE\",\"CE\",\"MG\",\"BA\",\"MG\",\"RO\",\"SP\",\"SP\",\"BA\",\"RS\",\"RS\",\"TO\",\"MA\",\"PR\",\"PE\",\"PR\",\"PR\",\"MA\",\"PE\",\"PE\",\"RN\",\"BA\",\"MG\",\"BA\",\"SP\",\"SP\",\"RN\",\"MS\",\"MG\",\"PE\",\"BA\",\"CE\",\"RJ\",\"AP\",\"PA\",\"AP\",\"BA\",\"PE\",\"MG\",\"MG\",\"TO\",\"PB\",\"PR\",\"AM\",\"GO\",\"BA\",\"ES\",\"GO\",\"PR\",\"MT\",\"RJ\",\"BA\",\"PR\",\"SP\",\"MG\",\"MA\",\"PE\",\"RN\",\"PE\",\"PA\",\"PB\",\"SP\",\"PE\",\"MA\",\"RS\",\"RS\",\"SP\",\"PR\",\"RS\",\"SP\",\"SC\",\"PA\",\"MG\",\"CE\",\"MT\",\"SP\",\"SC\",\"PR\",\"CE\",\"MG\",\"PA\",\"RO\",\"AM\",\"RJ\",\"PI\",\"BA\",\"MG\",\"RJ\",\"RN\",\"PA\",\"SE\",\"ES\",\"CE\",\"ES\",\"RJ\",\"AM\",\"MG\",\"RS\",\"SP\",\"BA\",\"MA\",\"RS\",\"RR\",\"PA\",\"RN\",\"SP\",\"SP\",\"GO\",\"SP\",\"BA\",\"BA\",\"TO\",\"PR\",\"MG\",\"PA\",\"RS\",\"PI\",\"AM\",\"SP\",\"SP\",\"PR\",\"RN\",\"MT\",\"PR\",\"ES\",\"BA\",\"RN\",\"SC\",\"PE\",\"GO\",\"SP\",\"SP\",\"CE\",\"MG\",\"MS\",\"CE\",\"MG\",\"SP\",\"PR\",\"MG\",\"RJ\",\"MS\",\"MA\",\"SC\",\"RS\",\"AM\",\"RS\",\"BA\",\"TO\",\"MG\",\"PR\",\"PR\",\"MG\",\"PR\",\"SE\",\"SP\",\"SE\",\"SC\",\"MT\",\"SP\",\"MT\",\"SP\",\"SP\",\"CE\",\"SP\",\"RS\",\"MG\",\"PR\",\"PE\",\"PE\",\"MG\",\"SC\",\"MA\",\"RS\",\"MG\",\"MS\",\"BA\",\"MA\",\"AL\",\"AP\",\"MG\",\"PA\",\"SC\",\"PR\",\"RS\",\"GO\",\"AM\",\"MT\",\"RS\",\"BA\",\"SP\",\"SC\",\"GO\",\"MA\",\"RO\",\"RJ\",\"AL\",\"SC\",\"BA\",\"GO\",\"AM\",\"MG\",\"SP\",\"SP\",\"RS\",\"PI\",\"PE\",\"AL\",\"SP\",\"MA\",\"PB\",\"PR\",\"PA\",\"MA\",\"AL\",\"SC\",\"SE\",\"RJ\",\"MG\",\"CE\",\"MG\",\"PE\",\"MS\",\"PE\",\"RO\",\"SP\",\"PB\",\"BA\",\"MT\",\"PR\",\"CE\",\"MA\",\"PE\",\"RJ\",\"PE\",\"GO\",\"MA\"],\"xaxis\":\"x\",\"y\":[97.0,90.9,93.9,94.4,68.5,90.5,88.0,100.0,72.4,96.9,78.8,98.4,99.2,100.0,99.8,100.0,88.6,100.0,99.2,80.1,96.2,90.9,77.8,91.4,95.9,99.3,88.3,98.4,96.2,97.0,93.7,97.7,85.7,100.0,98.2,82.5,97.7,93.4,91.5,94.7,96.9,92.6,97.9,97.4,100.0,99.4,97.5,94.3,86.4,82.0,89.3,84.4,99.5,96.5,95.3,97.7,94.6,94.2,96.1,96.3,88.9,98.7,87.8,96.3,94.8,95.9,98.2,99.8,88.2,94.5,89.2,83.7,97.5,97.4,100.0,99.6,97.6,93.7,84.8,87.7,86.0,99.7,100.0,88.9,75.4,91.9,100.0,100.0,100.0,95.0,95.3,95.3,99.0,96.6,80.0,79.3,99.7,95.2,93.9,79.4,100.0,88.7,79.7,98.6,97.7,100.0,99.3,92.9,87.7,79.6,100.0,98.2,99.9,94.3,96.8,92.6,84.9,93.8,94.7,88.3,68.3,91.1,81.7,95.1,91.1,92.2,91.8,99.7,99.3,96.0,80.8,98.0,99.1,100.0,94.2,91.1,89.6,88.4,87.0,92.9,100.0,98.1,92.9,99.5,92.7,79.7,98.9,88.1,96.4,91.5,85.2,78.6,97.7,84.3,81.1,100.0,99.6,97.6,100.0,100.0,86.8,99.5,95.0,95.4,100.0,100.0,94.1,94.2,83.1,99.5,92.4,100.0,99.5,96.4,97.0,87.9,94.8,100.0,98.6,65.8,100.0,96.9,100.0,100.0,90.1,99.0,99.4,97.3,95.4,100.0,90.5,94.2,72.5,100.0,96.9,99.1,90.3,99.0,96.2,95.7,100.0,86.3,82.2,98.8,97.4,87.4,100.0,94.0,100.0,100.0,100.0,93.9,94.0,99.3,95.6,97.5,91.1,74.1,93.5,88.7,97.9,98.0,99.4,95.3,87.0,100.0,100.0,97.3,97.4,95.1,90.4,94.4,88.7,97.6,85.1,100.0,89.3,100.0,100.0,98.1,100.0,98.3,91.4,83.0,98.8,99.5,90.9,99.2,98.2,96.0,97.3,97.6,97.0,86.9,90.4,86.7,94.0,83.8,92.4,100.0,86.3,98.4,100.0,92.3,95.5,100.0,96.0,95.0,84.0,86.9,99.3,95.8,96.1,97.8,88.2,92.7,72.9,97.9,100.0,93.8,100.0,98.2,86.7,89.0,77.2,94.3,97.1,97.6,95.5,97.7,99.4,92.0,93.3,99.3,99.7,99.2,95.6,94.8,89.4,98.8,100.0,93.3,95.8,97.6,100.0,91.2,100.0,100.0,88.0,98.9,100.0,95.3,100.0,69.4,98.8,99.1,95.4,96.4,96.1,95.5,100.0,98.5,98.9,85.1,99.4,82.7,100.0,96.1,100.0,100.0,96.6,81.3,95.7,98.1,96.3,100.0,94.1,100.0,96.3,99.7,93.1,99.4,99.2,93.9,100.0,95.8,97.3,84.0,99.0,97.6,83.7,98.9,96.1,97.3,100.0,82.5,97.4,82.9,97.4,99.6,75.4,98.1,65.0,100.0,94.0,97.4,61.7,96.6,89.7,94.3,97.6,88.9,100.0,96.1,87.4,90.7,97.9,94.5,95.7,99.6,99.4,100.0,99.7,98.9,99.4,95.3,89.7,79.1,100.0,71.9,100.0,92.4,98.0,96.9,98.4,96.8,99.6,89.1,80.0,96.4,99.3,88.1,97.8,93.4,98.7,84.6,99.0,90.0,100.0,91.1,91.1,100.0,100.0,99.4,96.2,100.0,94.0,95.3,99.3,93.5,84.5,96.8,100.0,87.1,94.4,81.5,94.4,92.6,88.0,93.1,78.3,99.1,96.7,92.9,89.1,91.6,96.8,82.9,99.2,93.1,91.7,68.5,85.0,100.0,87.8,90.7,90.5,97.9,96.8,99.8,96.0,96.0,91.6,92.8,85.8,91.8,98.9,98.6,94.3,96.5,91.7,98.0,66.7,88.8,100.0,97.5,100.0,100.0,97.2,78.4,95.9,84.1,99.6,100.0,95.2,92.2,100.0,99.6,92.0,94.9,99.3,99.6,93.4,90.9,91.8,100.0,100.0,92.4,91.2,98.8,100.0,99.2,100.0,92.7,99.7,99.0,100.0,98.3,100.0,100.0,100.0,88.8,93.3,96.1,85.5,95.3,98.5,96.9,95.8,94.4,94.9,94.4,97.6,82.8,90.2,91.9,92.7,100.0,92.5,97.3,66.7,93.4,87.3,86.2,85.3,90.8,95.8,97.4,73.0,94.3,97.2,84.9,98.1,91.2,95.0,88.2,91.5,100.0,94.6,84.3,96.7,82.2,95.3,98.4,100.0,99.6,95.7,99.7,92.3,95.5,92.0,91.8,100.0,88.8,99.4,94.0,96.1,99.4,100.0,81.2,75.0,92.6,82.1,100.0,99.8,91.3,99.7,95.4,100.0,87.4,98.8,94.9,97.5,94.5,94.8,100.0,81.6,100.0,99.8,94.4,76.4,93.6,81.5,77.4,95.6,85.7,98.6,87.1,96.1,66.7,97.9,100.0,89.2,100.0,99.4,99.6,100.0,95.1,93.3,93.7,100.0,98.0,97.8,97.1,97.2,91.9,98.8,97.9,82.1,91.4,98.1,96.3,63.8,94.9,54.6,85.4,98.4,94.1,95.7,100.0,92.0,91.4,100.0,86.4,100.0,92.7,97.9,99.0,94.6,100.0,100.0,95.9,98.7,90.2,100.0,100.0,96.6,91.6,82.4,91.9,95.1,95.7,100.0,98.1,96.3,81.6,100.0,97.3,97.3,91.1,97.7,96.6,91.5,92.2,97.2,100.0,98.1,96.1,90.4,95.8,97.8,100.0,96.4,92.2,95.0,93.4,92.3,86.8,89.3,92.0,95.3,99.8,87.7,93.6,98.9,99.7,90.1,98.2,100.0,96.4,100.0,77.4,93.3,91.1,99.2,85.5,84.4,96.0,83.9,99.5,92.2,100.0,92.1,97.7,85.5,100.0,90.9,99.4,89.0,95.3,94.7,90.1,99.3,94.5,99.8,100.0,90.3,74.4,84.6,99.1,98.5,98.9,91.5,83.9,94.7,86.4,98.7,97.3,98.0,94.9,94.9,96.4,89.2,97.1,79.5,100.0,98.2,93.0,98.4,87.8,100.0,98.1,95.3,87.7,94.9,96.3,94.0,91.7,87.4,97.3,97.7,94.7,95.2,95.0,100.0,100.0,100.0,93.7,90.8,98.3,95.9,99.8,100.0,98.5,93.4,97.0,96.0,91.2,95.7,93.5,99.3,93.4,99.6,100.0,94.9,100.0,95.7,100.0,93.1,100.0,96.2,94.7,87.9,100.0,94.1,95.5,100.0,78.8,99.2,97.5,90.2,89.2,90.1,86.8,94.7,100.0,94.6,95.8,98.5,94.0,85.3,100.0,92.8,94.7,100.0,93.5,89.9,74.7,93.9,78.2,97.4,96.6,100.0,95.0,87.7,95.2,91.2,86.0,81.1,97.5,99.0,87.6,95.8,86.1,97.7,94.2,100.0,94.5,89.8,89.7,92.4,93.6,91.5,85.2,95.6,92.8,91.2,90.7,98.0,98.0,99.6,95.7,98.5,96.6,74.5,100.0,100.0,98.0,100.0,93.8,99.2,96.8,94.1,74.6,86.7,93.8,86.6,93.5,98.8,100.0,81.4,94.4,67.7,77.9,95.5,97.0,94.3,89.4,100.0,96.7,86.9,99.5,78.8,92.7,87.5,95.7,87.5,82.2,99.3,99.4,93.3,98.4,97.7,95.7,94.4,95.9,92.5,86.8,96.2,95.4,91.2,97.2,96.5,100.0,97.4,100.0,98.8,91.7,75.0,62.9,99.7,92.9,100.0,100.0,98.6,100.0,99.8,95.0,100.0,98.7,93.6,100.0,98.8,83.8,83.5,88.9,90.4,88.6,85.0,91.3,94.9,85.0,100.0,100.0,97.8,97.6,93.2,81.9,96.4,91.6,98.9,96.1,99.5,100.0,97.4,99.1,95.5,100.0,94.4,95.1,96.3,89.8,88.7,100.0,99.3,93.4,81.7,99.4,94.6,84.1,94.1,99.1,88.2,98.9,88.7,98.0,90.5,95.9,90.5,81.1,100.0,87.2,100.0,87.3,87.9,100.0,84.7,94.3,84.3,97.9,100.0,77.9,99.3,97.3,95.5,90.2,98.5,100.0,91.2,100.0,98.1,100.0,99.1,87.4,98.7,81.3,89.2,100.0,95.7,91.9,87.7,100.0,100.0,94.5,98.4,98.5,98.3,97.3,98.0,92.1,91.9,92.7,97.6,100.0,97.2,89.5,77.9,98.0,99.0,92.7],\"yaxis\":\"y\",\"type\":\"histogram\"}],                        {\"template\":{\"data\":{\"bar\":[{\"error_x\":{\"color\":\"#2a3f5f\"},\"error_y\":{\"color\":\"#2a3f5f\"},\"marker\":{\"line\":{\"color\":\"#E5ECF6\",\"width\":0.5},\"pattern\":{\"fillmode\":\"overlay\",\"size\":10,\"solidity\":0.2}},\"type\":\"bar\"}],\"barpolar\":[{\"marker\":{\"line\":{\"color\":\"#E5ECF6\",\"width\":0.5},\"pattern\":{\"fillmode\":\"overlay\",\"size\":10,\"solidity\":0.2}},\"type\":\"barpolar\"}],\"carpet\":[{\"aaxis\":{\"endlinecolor\":\"#2a3f5f\",\"gridcolor\":\"white\",\"linecolor\":\"white\",\"minorgridcolor\":\"white\",\"startlinecolor\":\"#2a3f5f\"},\"baxis\":{\"endlinecolor\":\"#2a3f5f\",\"gridcolor\":\"white\",\"linecolor\":\"white\",\"minorgridcolor\":\"white\",\"startlinecolor\":\"#2a3f5f\"},\"type\":\"carpet\"}],\"choropleth\":[{\"colorbar\":{\"outlinewidth\":0,\"ticks\":\"\"},\"type\":\"choropleth\"}],\"contour\":[{\"colorbar\":{\"outlinewidth\":0,\"ticks\":\"\"},\"colorscale\":[[0.0,\"#0d0887\"],[0.1111111111111111,\"#46039f\"],[0.2222222222222222,\"#7201a8\"],[0.3333333333333333,\"#9c179e\"],[0.4444444444444444,\"#bd3786\"],[0.5555555555555556,\"#d8576b\"],[0.6666666666666666,\"#ed7953\"],[0.7777777777777778,\"#fb9f3a\"],[0.8888888888888888,\"#fdca26\"],[1.0,\"#f0f921\"]],\"type\":\"contour\"}],\"contourcarpet\":[{\"colorbar\":{\"outlinewidth\":0,\"ticks\":\"\"},\"type\":\"contourcarpet\"}],\"heatmap\":[{\"colorbar\":{\"outlinewidth\":0,\"ticks\":\"\"},\"colorscale\":[[0.0,\"#0d0887\"],[0.1111111111111111,\"#46039f\"],[0.2222222222222222,\"#7201a8\"],[0.3333333333333333,\"#9c179e\"],[0.4444444444444444,\"#bd3786\"],[0.5555555555555556,\"#d8576b\"],[0.6666666666666666,\"#ed7953\"],[0.7777777777777778,\"#fb9f3a\"],[0.8888888888888888,\"#fdca26\"],[1.0,\"#f0f921\"]],\"type\":\"heatmap\"}],\"heatmapgl\":[{\"colorbar\":{\"outlinewidth\":0,\"ticks\":\"\"},\"colorscale\":[[0.0,\"#0d0887\"],[0.1111111111111111,\"#46039f\"],[0.2222222222222222,\"#7201a8\"],[0.3333333333333333,\"#9c179e\"],[0.4444444444444444,\"#bd3786\"],[0.5555555555555556,\"#d8576b\"],[0.6666666666666666,\"#ed7953\"],[0.7777777777777778,\"#fb9f3a\"],[0.8888888888888888,\"#fdca26\"],[1.0,\"#f0f921\"]],\"type\":\"heatmapgl\"}],\"histogram\":[{\"marker\":{\"pattern\":{\"fillmode\":\"overlay\",\"size\":10,\"solidity\":0.2}},\"type\":\"histogram\"}],\"histogram2d\":[{\"colorbar\":{\"outlinewidth\":0,\"ticks\":\"\"},\"colorscale\":[[0.0,\"#0d0887\"],[0.1111111111111111,\"#46039f\"],[0.2222222222222222,\"#7201a8\"],[0.3333333333333333,\"#9c179e\"],[0.4444444444444444,\"#bd3786\"],[0.5555555555555556,\"#d8576b\"],[0.6666666666666666,\"#ed7953\"],[0.7777777777777778,\"#fb9f3a\"],[0.8888888888888888,\"#fdca26\"],[1.0,\"#f0f921\"]],\"type\":\"histogram2d\"}],\"histogram2dcontour\":[{\"colorbar\":{\"outlinewidth\":0,\"ticks\":\"\"},\"colorscale\":[[0.0,\"#0d0887\"],[0.1111111111111111,\"#46039f\"],[0.2222222222222222,\"#7201a8\"],[0.3333333333333333,\"#9c179e\"],[0.4444444444444444,\"#bd3786\"],[0.5555555555555556,\"#d8576b\"],[0.6666666666666666,\"#ed7953\"],[0.7777777777777778,\"#fb9f3a\"],[0.8888888888888888,\"#fdca26\"],[1.0,\"#f0f921\"]],\"type\":\"histogram2dcontour\"}],\"mesh3d\":[{\"colorbar\":{\"outlinewidth\":0,\"ticks\":\"\"},\"type\":\"mesh3d\"}],\"parcoords\":[{\"line\":{\"colorbar\":{\"outlinewidth\":0,\"ticks\":\"\"}},\"type\":\"parcoords\"}],\"pie\":[{\"automargin\":true,\"type\":\"pie\"}],\"scatter\":[{\"marker\":{\"colorbar\":{\"outlinewidth\":0,\"ticks\":\"\"}},\"type\":\"scatter\"}],\"scatter3d\":[{\"line\":{\"colorbar\":{\"outlinewidth\":0,\"ticks\":\"\"}},\"marker\":{\"colorbar\":{\"outlinewidth\":0,\"ticks\":\"\"}},\"type\":\"scatter3d\"}],\"scattercarpet\":[{\"marker\":{\"colorbar\":{\"outlinewidth\":0,\"ticks\":\"\"}},\"type\":\"scattercarpet\"}],\"scattergeo\":[{\"marker\":{\"colorbar\":{\"outlinewidth\":0,\"ticks\":\"\"}},\"type\":\"scattergeo\"}],\"scattergl\":[{\"marker\":{\"colorbar\":{\"outlinewidth\":0,\"ticks\":\"\"}},\"type\":\"scattergl\"}],\"scattermapbox\":[{\"marker\":{\"colorbar\":{\"outlinewidth\":0,\"ticks\":\"\"}},\"type\":\"scattermapbox\"}],\"scatterpolar\":[{\"marker\":{\"colorbar\":{\"outlinewidth\":0,\"ticks\":\"\"}},\"type\":\"scatterpolar\"}],\"scatterpolargl\":[{\"marker\":{\"colorbar\":{\"outlinewidth\":0,\"ticks\":\"\"}},\"type\":\"scatterpolargl\"}],\"scatterternary\":[{\"marker\":{\"colorbar\":{\"outlinewidth\":0,\"ticks\":\"\"}},\"type\":\"scatterternary\"}],\"surface\":[{\"colorbar\":{\"outlinewidth\":0,\"ticks\":\"\"},\"colorscale\":[[0.0,\"#0d0887\"],[0.1111111111111111,\"#46039f\"],[0.2222222222222222,\"#7201a8\"],[0.3333333333333333,\"#9c179e\"],[0.4444444444444444,\"#bd3786\"],[0.5555555555555556,\"#d8576b\"],[0.6666666666666666,\"#ed7953\"],[0.7777777777777778,\"#fb9f3a\"],[0.8888888888888888,\"#fdca26\"],[1.0,\"#f0f921\"]],\"type\":\"surface\"}],\"table\":[{\"cells\":{\"fill\":{\"color\":\"#EBF0F8\"},\"line\":{\"color\":\"white\"}},\"header\":{\"fill\":{\"color\":\"#C8D4E3\"},\"line\":{\"color\":\"white\"}},\"type\":\"table\"}]},\"layout\":{\"annotationdefaults\":{\"arrowcolor\":\"#2a3f5f\",\"arrowhead\":0,\"arrowwidth\":1},\"autotypenumbers\":\"strict\",\"coloraxis\":{\"colorbar\":{\"outlinewidth\":0,\"ticks\":\"\"}},\"colorscale\":{\"diverging\":[[0,\"#8e0152\"],[0.1,\"#c51b7d\"],[0.2,\"#de77ae\"],[0.3,\"#f1b6da\"],[0.4,\"#fde0ef\"],[0.5,\"#f7f7f7\"],[0.6,\"#e6f5d0\"],[0.7,\"#b8e186\"],[0.8,\"#7fbc41\"],[0.9,\"#4d9221\"],[1,\"#276419\"]],\"sequential\":[[0.0,\"#0d0887\"],[0.1111111111111111,\"#46039f\"],[0.2222222222222222,\"#7201a8\"],[0.3333333333333333,\"#9c179e\"],[0.4444444444444444,\"#bd3786\"],[0.5555555555555556,\"#d8576b\"],[0.6666666666666666,\"#ed7953\"],[0.7777777777777778,\"#fb9f3a\"],[0.8888888888888888,\"#fdca26\"],[1.0,\"#f0f921\"]],\"sequentialminus\":[[0.0,\"#0d0887\"],[0.1111111111111111,\"#46039f\"],[0.2222222222222222,\"#7201a8\"],[0.3333333333333333,\"#9c179e\"],[0.4444444444444444,\"#bd3786\"],[0.5555555555555556,\"#d8576b\"],[0.6666666666666666,\"#ed7953\"],[0.7777777777777778,\"#fb9f3a\"],[0.8888888888888888,\"#fdca26\"],[1.0,\"#f0f921\"]]},\"colorway\":[\"#636efa\",\"#EF553B\",\"#00cc96\",\"#ab63fa\",\"#FFA15A\",\"#19d3f3\",\"#FF6692\",\"#B6E880\",\"#FF97FF\",\"#FECB52\"],\"font\":{\"color\":\"#2a3f5f\"},\"geo\":{\"bgcolor\":\"white\",\"lakecolor\":\"white\",\"landcolor\":\"#E5ECF6\",\"showlakes\":true,\"showland\":true,\"subunitcolor\":\"white\"},\"hoverlabel\":{\"align\":\"left\"},\"hovermode\":\"closest\",\"mapbox\":{\"style\":\"light\"},\"paper_bgcolor\":\"white\",\"plot_bgcolor\":\"#E5ECF6\",\"polar\":{\"angularaxis\":{\"gridcolor\":\"white\",\"linecolor\":\"white\",\"ticks\":\"\"},\"bgcolor\":\"#E5ECF6\",\"radialaxis\":{\"gridcolor\":\"white\",\"linecolor\":\"white\",\"ticks\":\"\"}},\"scene\":{\"xaxis\":{\"backgroundcolor\":\"#E5ECF6\",\"gridcolor\":\"white\",\"gridwidth\":2,\"linecolor\":\"white\",\"showbackground\":true,\"ticks\":\"\",\"zerolinecolor\":\"white\"},\"yaxis\":{\"backgroundcolor\":\"#E5ECF6\",\"gridcolor\":\"white\",\"gridwidth\":2,\"linecolor\":\"white\",\"showbackground\":true,\"ticks\":\"\",\"zerolinecolor\":\"white\"},\"zaxis\":{\"backgroundcolor\":\"#E5ECF6\",\"gridcolor\":\"white\",\"gridwidth\":2,\"linecolor\":\"white\",\"showbackground\":true,\"ticks\":\"\",\"zerolinecolor\":\"white\"}},\"shapedefaults\":{\"line\":{\"color\":\"#2a3f5f\"}},\"ternary\":{\"aaxis\":{\"gridcolor\":\"white\",\"linecolor\":\"white\",\"ticks\":\"\"},\"baxis\":{\"gridcolor\":\"white\",\"linecolor\":\"white\",\"ticks\":\"\"},\"bgcolor\":\"#E5ECF6\",\"caxis\":{\"gridcolor\":\"white\",\"linecolor\":\"white\",\"ticks\":\"\"}},\"title\":{\"x\":0.05},\"xaxis\":{\"automargin\":true,\"gridcolor\":\"white\",\"linecolor\":\"white\",\"ticks\":\"\",\"title\":{\"standoff\":15},\"zerolinecolor\":\"white\",\"zerolinewidth\":2},\"yaxis\":{\"automargin\":true,\"gridcolor\":\"white\",\"linecolor\":\"white\",\"ticks\":\"\",\"title\":{\"standoff\":15},\"zerolinecolor\":\"white\",\"zerolinewidth\":2}}},\"xaxis\":{\"anchor\":\"y\",\"domain\":[0.0,1.0],\"title\":{\"text\":\"sigla_uf\"}},\"yaxis\":{\"anchor\":\"x\",\"domain\":[0.0,1.0],\"title\":{\"text\":\"sum of taxa_aprovacao\"}},\"legend\":{\"tracegroupgap\":0},\"margin\":{\"t\":60},\"barmode\":\"relative\"},                        {\"responsive\": true}                    ).then(function(){\n",
              "                            \n",
              "var gd = document.getElementById('a71f61fd-964b-4f5d-acc8-d4bd1dff1a46');\n",
              "var x = new MutationObserver(function (mutations, observer) {{\n",
              "        var display = window.getComputedStyle(gd).display;\n",
              "        if (!display || display === 'none') {{\n",
              "            console.log([gd, 'removed!']);\n",
              "            Plotly.purge(gd);\n",
              "            observer.disconnect();\n",
              "        }}\n",
              "}});\n",
              "\n",
              "// Listen for the removal of the full notebook cells\n",
              "var notebookContainer = gd.closest('#notebook-container');\n",
              "if (notebookContainer) {{\n",
              "    x.observe(notebookContainer, {childList: true});\n",
              "}}\n",
              "\n",
              "// Listen for the clearing of the current output cell\n",
              "var outputEl = gd.closest('.output');\n",
              "if (outputEl) {{\n",
              "    x.observe(outputEl, {childList: true});\n",
              "}}\n",
              "\n",
              "                        })                };                            </script>        </div>\n",
              "</body>\n",
              "</html>"
            ]
          },
          "metadata": {}
        }
      ]
    },
    {
      "cell_type": "code",
      "source": [
        "# Assimetria e Curtose\n",
        "# (Q3 – Q2) – (Q2 – Q1) = 0 Simétrica\n",
        "# (Q3 – Q2) – (Q2 – Q1) > 0 Assimetria à direita ou positiva\n",
        "# (Q3 – Q2) – (Q2 – Q1) < 0 Assimetria à esquerda ou negativa\n",
        "def assimetria(df_colum):\n",
        "  Q1=df_colum.quantile(0.25)\n",
        "  Q2=df_colum.quantile(0.50)\n",
        "  Q3=df_colum.quantile(0.75)\n",
        "  if (Q3 - Q2) - (Q2 - Q1) == 0:\n",
        "    return \"Simétrica\"\n",
        "  if (Q3 - Q2) - (Q2 - Q1) > 0:\n",
        "    return \"Assimetria à direita ou positiva\"\n",
        "  if (Q3 - Q2) - (Q2 - Q1) < 0:\n",
        "    return \"Assimetria à esquerda ou negativa\"\n",
        "assimetria(df_ideb.taxa_aprovacao)\n",
        "\n"
      ],
      "metadata": {
        "id": "PvN1CTGUmf0r",
        "colab": {
          "base_uri": "https://localhost:8080/",
          "height": 35
        },
        "outputId": "32ea1063-3103-47db-91ef-7e674b359295"
      },
      "execution_count": 116,
      "outputs": [
        {
          "output_type": "execute_result",
          "data": {
            "text/plain": [
              "'Assimetria à esquerda ou negativa'"
            ],
            "application/vnd.google.colaboratory.intrinsic+json": {
              "type": "string"
            }
          },
          "metadata": {},
          "execution_count": 116
        }
      ]
    },
    {
      "cell_type": "code",
      "source": [
        ""
      ],
      "metadata": {
        "id": "sYi5JcMppH4i"
      },
      "execution_count": 116,
      "outputs": []
    },
    {
      "cell_type": "code",
      "source": [
        "def curtose(df_colum):\n",
        "  Q1=df_colum.quantile(0.25)\n",
        "  Q2=df_colum.quantile(0.50)\n",
        "  Q3=df_colum.quantile(0.75)\n",
        "  P90=df_colum.quantile(0.90)\n",
        "  P10=df_colum.quantile(0.10)\n",
        "  K = (Q3 - Q1)/2*(P90 - P10)\n",
        "  if K == 0.263:\n",
        "    return \"mesocúrtica\"\n",
        "  if K > 0.263:\n",
        "    return \"platicúrtica\"\n",
        "  if K < 0.263:\n",
        "    return \"leptocúrtica\""
      ],
      "metadata": {
        "id": "mL9zSnYVoJQh"
      },
      "execution_count": 117,
      "outputs": []
    },
    {
      "cell_type": "code",
      "source": [
        "curtose(df_ideb.taxa_aprovacao)"
      ],
      "metadata": {
        "colab": {
          "base_uri": "https://localhost:8080/",
          "height": 35
        },
        "id": "KQmCRXkbqVg_",
        "outputId": "f8e732ed-948e-4ce9-b033-294ccfe5c3cb"
      },
      "execution_count": 118,
      "outputs": [
        {
          "output_type": "execute_result",
          "data": {
            "text/plain": [
              "'platicúrtica'"
            ],
            "application/vnd.google.colaboratory.intrinsic+json": {
              "type": "string"
            }
          },
          "metadata": {},
          "execution_count": 118
        }
      ]
    },
    {
      "cell_type": "markdown",
      "source": [
        "Indicador Rendimento"
      ],
      "metadata": {
        "id": "psgicE4ZyjqI"
      }
    },
    {
      "cell_type": "code",
      "source": [
        "# Histograma\n",
        "histograma(df_ideb.indicador_rendimento)"
      ],
      "metadata": {
        "id": "Oh2pkEpX-Ldi",
        "colab": {
          "base_uri": "https://localhost:8080/",
          "height": 542
        },
        "outputId": "6442fd93-9303-4f31-db2b-8eb9e872cc9c"
      },
      "execution_count": 119,
      "outputs": [
        {
          "output_type": "display_data",
          "data": {
            "text/html": [
              "<html>\n",
              "<head><meta charset=\"utf-8\" /></head>\n",
              "<body>\n",
              "    <div>            <script src=\"https://cdnjs.cloudflare.com/ajax/libs/mathjax/2.7.5/MathJax.js?config=TeX-AMS-MML_SVG\"></script><script type=\"text/javascript\">if (window.MathJax) {MathJax.Hub.Config({SVG: {font: \"STIX-Web\"}});}</script>                <script type=\"text/javascript\">window.PlotlyConfig = {MathJaxConfig: 'local'};</script>\n",
              "        <script src=\"https://cdn.plot.ly/plotly-2.8.3.min.js\"></script>                <div id=\"be343a7a-be3a-4e42-be9d-b9f9dce2050c\" class=\"plotly-graph-div\" style=\"height:525px; width:100%;\"></div>            <script type=\"text/javascript\">                                    window.PLOTLYENV=window.PLOTLYENV || {};                                    if (document.getElementById(\"be343a7a-be3a-4e42-be9d-b9f9dce2050c\")) {                    Plotly.newPlot(                        \"be343a7a-be3a-4e42-be9d-b9f9dce2050c\",                        [{\"alignmentgroup\":\"True\",\"bingroup\":\"x\",\"histfunc\":\"sum\",\"hovertemplate\":\"sigla_uf=%{x}<br>sum of indicador_rendimento=%{y}<extra></extra>\",\"legendgroup\":\"\",\"marker\":{\"color\":\"#636efa\",\"pattern\":{\"shape\":\"\"}},\"name\":\"\",\"offsetgroup\":\"\",\"orientation\":\"v\",\"showlegend\":false,\"x\":[\"MG\",\"PE\",\"RJ\",\"SP\",\"PA\",\"MG\",\"BA\",\"RS\",\"RJ\",\"PR\",\"PA\",\"CE\",\"SP\",\"GO\",\"SP\",\"CE\",\"PA\",\"GO\",\"MG\",\"SE\",\"ES\",\"PE\",\"BA\",\"SC\",\"MT\",\"GO\",\"DF\",\"CE\",\"RJ\",\"RS\",\"ES\",\"PE\",\"BA\",\"SC\",\"BA\",\"RJ\",\"MA\",\"MG\",\"AL\",\"BA\",\"SP\",\"ES\",\"RS\",\"PR\",\"SC\",\"SP\",\"GO\",\"SC\",\"BA\",\"BA\",\"RS\",\"PE\",\"CE\",\"SC\",\"RS\",\"PB\",\"RJ\",\"AL\",\"PA\",\"MG\",\"PA\",\"RS\",\"BA\",\"SC\",\"AL\",\"CE\",\"AC\",\"CE\",\"AL\",\"MA\",\"MA\",\"AL\",\"CE\",\"RN\",\"MG\",\"RO\",\"AC\",\"RS\",\"RO\",\"PA\",\"RS\",\"PR\",\"SP\",\"PE\",\"PA\",\"MA\",\"SP\",\"SP\",\"MT\",\"GO\",\"RJ\",\"MA\",\"MA\",\"CE\",\"BA\",\"RS\",\"SP\",\"PA\",\"PA\",\"BA\",\"PI\",\"RJ\",\"PA\",\"MS\",\"ES\",\"SP\",\"TO\",\"BA\",\"PI\",\"PI\",\"MG\",\"CE\",\"SP\",\"RR\",\"AC\",\"SP\",\"MA\",\"RJ\",\"MG\",\"DF\",\"PA\",\"MA\",\"PA\",\"SP\",\"RO\",\"PB\",\"MS\",\"ES\",\"SP\",\"BA\",\"RJ\",\"SP\",\"SP\",\"CE\",\"RS\",\"BA\",\"PR\",\"MS\",\"RN\",\"BA\",\"MG\",\"SP\",\"PB\",\"SP\",\"PA\",\"MA\",\"SC\",\"RJ\",\"PA\",\"RS\",\"BA\",\"RN\",\"PR\",\"RJ\",\"BA\",\"CE\",\"TO\",\"BA\",\"BA\",\"PR\",\"AM\",\"CE\",\"SC\",\"RS\",\"MG\",\"MG\",\"BA\",\"RS\",\"BA\",\"CE\",\"PR\",\"MT\",\"BA\",\"SC\",\"SC\",\"PI\",\"RJ\",\"CE\",\"SP\",\"BA\",\"RS\",\"SP\",\"PB\",\"MT\",\"PA\",\"MG\",\"GO\",\"SC\",\"PE\",\"SP\",\"MG\",\"MA\",\"BA\",\"SP\",\"BA\",\"SP\",\"PA\",\"AL\",\"PE\",\"SE\",\"MG\",\"PE\",\"BA\",\"CE\",\"PA\",\"PB\",\"MG\",\"MT\",\"ES\",\"CE\",\"SP\",\"PA\",\"CE\",\"SP\",\"MS\",\"MT\",\"PB\",\"AM\",\"PE\",\"MS\",\"ES\",\"SP\",\"CE\",\"PE\",\"AM\",\"MT\",\"SP\",\"MT\",\"PR\",\"PR\",\"PE\",\"PB\",\"PB\",\"DF\",\"RJ\",\"MG\",\"PR\",\"MG\",\"PI\",\"SP\",\"MG\",\"PB\",\"BA\",\"AM\",\"SC\",\"PE\",\"RS\",\"SP\",\"AL\",\"PR\",\"SP\",\"RN\",\"SE\",\"PE\",\"BA\",\"RN\",\"RS\",\"RJ\",\"BA\",\"SP\",\"BA\",\"SP\",\"PB\",\"BA\",\"PE\",\"MA\",\"PR\",\"PR\",\"AL\",\"MS\",\"SP\",\"MG\",\"DF\",\"MG\",\"MG\",\"BA\",\"BA\",\"MA\",\"GO\",\"MG\",\"CE\",\"SC\",\"MA\",\"PE\",\"MS\",\"PI\",\"SP\",\"TO\",\"PE\",\"SP\",\"MT\",\"PB\",\"AL\",\"MG\",\"CE\",\"GO\",\"SP\",\"RS\",\"RN\",\"SP\",\"PE\",\"ES\",\"SP\",\"DF\",\"CE\",\"SP\",\"PB\",\"GO\",\"SC\",\"AC\",\"MG\",\"PE\",\"ES\",\"RN\",\"SP\",\"GO\",\"MT\",\"MG\",\"GO\",\"PE\",\"MG\",\"SP\",\"SP\",\"RN\",\"PR\",\"RJ\",\"SP\",\"PR\",\"MG\",\"SP\",\"RJ\",\"BA\",\"PE\",\"SP\",\"PB\",\"CE\",\"PI\",\"MA\",\"PE\",\"PR\",\"MA\",\"GO\",\"CE\",\"BA\",\"PA\",\"AL\",\"SE\",\"BA\",\"PR\",\"RS\",\"BA\",\"BA\",\"RJ\",\"RS\",\"PR\",\"PR\",\"MA\",\"AM\",\"RN\",\"SP\",\"PA\",\"PE\",\"AL\",\"GO\",\"RS\",\"PR\",\"BA\",\"RJ\",\"SE\",\"PI\",\"BA\",\"PB\",\"SP\",\"PR\",\"PA\",\"PE\",\"CE\",\"RO\",\"MT\",\"SP\",\"SP\",\"MA\",\"MT\",\"SP\",\"MT\",\"MA\",\"RS\",\"PI\",\"MG\",\"RJ\",\"MT\",\"TO\",\"PA\",\"SP\",\"MA\",\"RJ\",\"SP\",\"PR\",\"BA\",\"RS\",\"AL\",\"BA\",\"PR\",\"CE\",\"BA\",\"SE\",\"CE\",\"ES\",\"MG\",\"SP\",\"MA\",\"SP\",\"SP\",\"PE\",\"CE\",\"MG\",\"SC\",\"TO\",\"MT\",\"SP\",\"RN\",\"MG\",\"BA\",\"MA\",\"PR\",\"BA\",\"ES\",\"PA\",\"MA\",\"SC\",\"MA\",\"MT\",\"BA\",\"BA\",\"BA\",\"BA\",\"RO\",\"PI\",\"PI\",\"PR\",\"BA\",\"PA\",\"SP\",\"CE\",\"PE\",\"RJ\",\"PR\",\"RS\",\"SC\",\"SP\",\"CE\",\"BA\",\"MA\",\"PA\",\"AM\",\"MA\",\"AL\",\"SP\",\"MT\",\"RJ\",\"RJ\",\"PE\",\"BA\",\"BA\",\"SP\",\"MG\",\"RS\",\"PR\",\"PE\",\"PA\",\"ES\",\"SE\",\"SC\",\"MG\",\"PR\",\"RN\",\"MG\",\"SP\",\"RN\",\"PR\",\"SP\",\"SP\",\"SE\",\"MA\",\"PE\",\"CE\",\"MG\",\"PE\",\"PA\",\"RJ\",\"SP\",\"SP\",\"MG\",\"RJ\",\"SP\",\"RJ\",\"MG\",\"PB\",\"CE\",\"AC\",\"SP\",\"PA\",\"PR\",\"RJ\",\"RN\",\"MG\",\"GO\",\"RS\",\"RS\",\"PR\",\"MT\",\"PR\",\"RS\",\"RJ\",\"RJ\",\"PA\",\"AM\",\"AL\",\"PE\",\"RS\",\"BA\",\"BA\",\"PA\",\"BA\",\"PB\",\"PA\",\"SP\",\"AL\",\"RN\",\"RS\",\"SP\",\"PI\",\"GO\",\"AP\",\"RS\",\"MA\",\"MS\",\"CE\",\"RS\",\"RJ\",\"PE\",\"PA\",\"ES\",\"GO\",\"SP\",\"MG\",\"PA\",\"MG\",\"MG\",\"RS\",\"PE\",\"PE\",\"MA\",\"MA\",\"SP\",\"RJ\",\"BA\",\"GO\",\"GO\",\"BA\",\"RJ\",\"DF\",\"PA\",\"SC\",\"MG\",\"PR\",\"SC\",\"RJ\",\"AL\",\"SP\",\"MG\",\"RS\",\"SP\",\"BA\",\"BA\",\"PR\",\"RJ\",\"PR\",\"SP\",\"RS\",\"MA\",\"RS\",\"SE\",\"RJ\",\"RS\",\"SE\",\"PE\",\"RN\",\"MG\",\"BA\",\"PA\",\"GO\",\"RJ\",\"MG\",\"SP\",\"CE\",\"PR\",\"MA\",\"PR\",\"PR\",\"MT\",\"PB\",\"DF\",\"PE\",\"BA\",\"SC\",\"RS\",\"PA\",\"MG\",\"PA\",\"SC\",\"PA\",\"BA\",\"MA\",\"PA\",\"BA\",\"MG\",\"CE\",\"AM\",\"SC\",\"AM\",\"RS\",\"MG\",\"RN\",\"CE\",\"BA\",\"SP\",\"RJ\",\"RS\",\"SP\",\"CE\",\"SC\",\"SP\",\"MA\",\"MG\",\"RR\",\"RS\",\"BA\",\"PA\",\"PA\",\"MT\",\"RS\",\"MG\",\"SP\",\"SP\",\"PA\",\"SC\",\"MG\",\"MG\",\"PA\",\"SP\",\"AM\",\"MG\",\"AC\",\"PR\",\"MA\",\"SP\",\"MA\",\"RJ\",\"PE\",\"SP\",\"SP\",\"MA\",\"AL\",\"TO\",\"BA\",\"SP\",\"PB\",\"MG\",\"MA\",\"RS\",\"CE\",\"MA\",\"MG\",\"PR\",\"CE\",\"BA\",\"PR\",\"PE\",\"BA\",\"PE\",\"BA\",\"PA\",\"PE\",\"PB\",\"PR\",\"RJ\",\"BA\",\"PB\",\"MT\",\"PR\",\"SC\",\"BA\",\"MA\",\"PB\",\"BA\",\"PR\",\"SP\",\"BA\",\"PE\",\"MA\",\"BA\",\"PA\",\"RS\",\"AM\",\"MG\",\"PR\",\"BA\",\"PA\",\"SP\",\"AM\",\"SP\",\"RO\",\"PE\",\"ES\",\"RJ\",\"MG\",\"PR\",\"PE\",\"PR\",\"BA\",\"RJ\",\"PA\",\"PE\",\"BA\",\"BA\",\"AC\",\"MA\",\"SP\",\"BA\",\"TO\",\"CE\",\"ES\",\"PR\",\"SP\",\"RS\",\"BA\",\"PR\",\"ES\",\"ES\",\"SE\",\"PE\",\"BA\",\"RN\",\"SP\",\"SP\",\"MT\",\"SC\",\"MA\",\"ES\",\"PA\",\"SP\",\"MG\",\"PR\",\"SP\",\"PR\",\"MA\",\"PA\",\"GO\",\"RS\",\"MG\",\"MS\",\"RJ\",\"CE\",\"CE\",\"MG\",\"BA\",\"MG\",\"RO\",\"SP\",\"SP\",\"BA\",\"RS\",\"RS\",\"TO\",\"MA\",\"PR\",\"PE\",\"PR\",\"PR\",\"MA\",\"PE\",\"PE\",\"RN\",\"BA\",\"MG\",\"BA\",\"SP\",\"SP\",\"RN\",\"MS\",\"MG\",\"PE\",\"BA\",\"CE\",\"RJ\",\"AP\",\"PA\",\"AP\",\"BA\",\"PE\",\"MG\",\"MG\",\"TO\",\"PB\",\"PR\",\"AM\",\"GO\",\"BA\",\"ES\",\"GO\",\"PR\",\"MT\",\"RJ\",\"BA\",\"PR\",\"SP\",\"MG\",\"MA\",\"PE\",\"RN\",\"PE\",\"PA\",\"PB\",\"SP\",\"PE\",\"MA\",\"RS\",\"RS\",\"SP\",\"PR\",\"RS\",\"SP\",\"SC\",\"PA\",\"MG\",\"CE\",\"MT\",\"SP\",\"SC\",\"PR\",\"CE\",\"MG\",\"PA\",\"RO\",\"AM\",\"RJ\",\"PI\",\"BA\",\"MG\",\"RJ\",\"RN\",\"PA\",\"SE\",\"ES\",\"CE\",\"ES\",\"RJ\",\"AM\",\"MG\",\"RS\",\"SP\",\"BA\",\"MA\",\"RS\",\"RR\",\"PA\",\"RN\",\"SP\",\"SP\",\"GO\",\"SP\",\"BA\",\"BA\",\"TO\",\"PR\",\"MG\",\"PA\",\"RS\",\"PI\",\"AM\",\"SP\",\"SP\",\"PR\",\"RN\",\"MT\",\"PR\",\"ES\",\"BA\",\"RN\",\"SC\",\"PE\",\"GO\",\"SP\",\"SP\",\"CE\",\"MG\",\"MS\",\"CE\",\"MG\",\"SP\",\"PR\",\"MG\",\"RJ\",\"MS\",\"MA\",\"SC\",\"RS\",\"AM\",\"RS\",\"BA\",\"TO\",\"MG\",\"PR\",\"PR\",\"MG\",\"PR\",\"SE\",\"SP\",\"SE\",\"SC\",\"MT\",\"SP\",\"MT\",\"SP\",\"SP\",\"CE\",\"SP\",\"RS\",\"MG\",\"PR\",\"PE\",\"PE\",\"MG\",\"SC\",\"MA\",\"RS\",\"MG\",\"MS\",\"BA\",\"MA\",\"AL\",\"AP\",\"MG\",\"PA\",\"SC\",\"PR\",\"RS\",\"GO\",\"AM\",\"MT\",\"RS\",\"BA\",\"SP\",\"SC\",\"GO\",\"MA\",\"RO\",\"RJ\",\"AL\",\"SC\",\"BA\",\"GO\",\"AM\",\"MG\",\"SP\",\"SP\",\"RS\",\"PI\",\"PE\",\"AL\",\"SP\",\"MA\",\"PB\",\"PR\",\"PA\",\"MA\",\"AL\",\"SC\",\"SE\",\"RJ\",\"MG\",\"CE\",\"MG\",\"PE\",\"MS\",\"PE\",\"RO\",\"SP\",\"PB\",\"BA\",\"MT\",\"PR\",\"CE\",\"MA\",\"PE\",\"RJ\",\"PE\",\"GO\",\"MA\"],\"xaxis\":\"x\",\"y\":[0.97056198,0.93539703,0.937895,0.94836998,0.67830497,0.89526302,0.86756498,1.0,0.72201997,0.969096,0.806566,0.98739499,0.99300998,1.0,0.99778003,1.0,0.89506698,1.0,0.99169803,0.81547803,0.96200001,0.887411,0.744542,0.91605401,0.96269703,0.99364197,0.88784599,0.98290598,0.95813102,0.97354299,0.91365999,0.97659701,0.86753899,1.0,0.98584098,0.801548,0.96385002,0.934057,0.91097099,0.941818,0.96994102,0.89916998,0.98358899,0.972875,1.0,0.994147,0.97444201,0.94332701,0.86725402,0.80901599,0.87145102,0.83116603,0.99475503,0.96281397,0.95108902,0.97881103,0.949027,0.94594598,0.95858699,0.96513402,0.89138401,0.99216199,0.878003,0.96101499,0.94664401,0.96246499,0.97713202,0.99818701,0.88933301,0.94089502,0.88644302,0.83887899,0.97871101,0.972202,1.0,0.99634701,0.96144998,0.933384,0.84472299,0.88055199,0.88143998,0.99634701,1.0,0.89097601,0.73706502,0.92111498,1.0,1.0,1.0,0.940687,0.95472097,0.95679402,0.99216199,0.96479499,0.77247,0.77428597,0.99696398,0.95484298,0.93978,0.81454903,1.0,0.88556302,0.79667902,0.98849398,0.97906101,1.0,0.99322098,0.897291,0.85731602,0.78787202,1.0,0.98129803,0.99899602,0.90698701,0.97956902,0.93260199,0.83997798,0.935489,0.94556999,0.87636101,0.676166,0.915012,0.82985997,0.95053899,0.92124897,0.91120201,0.91299999,0.997168,0.99291301,0.96539199,0.80561799,0.977018,0.98969501,1.0,0.95205301,0.902309,0.88837898,0.87909502,0.88065398,0.92900002,1.0,0.979671,0.92737597,0.99469,0.91498297,0.73604298,0.984945,0.884049,0.96436697,0.91283399,0.84548002,0.73473501,0.96518499,0.83702499,0.82859403,1.0,0.99510598,0.97466302,1.0,1.0,0.86253899,0.99593502,0.95815301,0.95331597,1.0,1.0,0.93846899,0.94106698,0.83993298,0.995314,0.93235302,1.0,0.99572802,0.963247,0.95995498,0.84375602,0.94921398,1.0,0.98695302,0.61950099,1.0,0.96729898,1.0,1.0,0.89876699,0.99109399,0.99313003,0.961752,0.94978499,1.0,0.915007,0.93939,0.714113,1.0,0.96530801,0.98853701,0.914159,0.99168903,0.96195602,0.94487202,1.0,0.71616298,0.83064598,0.99173599,0.97324598,0.87310898,1.0,0.934277,1.0,1.0,1.0,0.93921202,0.93423802,0.99152201,0.964782,0.97283602,0.91451001,0.76226002,0.938564,0.91472203,0.98674297,0.978661,0.992374,0.95769799,0.81223202,1.0,1.0,0.96539199,0.97529799,0.94209099,0.899553,0.94623202,0.88127702,0.97619402,0.85111499,1.0,0.88840199,1.0,1.0,0.979554,1.0,0.98038399,0.91067499,0.75026202,0.98566502,0.99596798,0.91346502,0.98979998,0.98250502,0.94675702,0.97124201,0.97222197,0.96705502,0.80422902,0.88801903,0.88128299,0.937711,0.85980701,0.92392802,1.0,0.84631002,0.98488599,1.0,0.935745,0.96136397,1.0,0.95372897,0.95074397,0.846349,0.85985899,0.99154103,0.95641398,0.95794499,0.98221898,0.87916398,0.91315198,0.71957099,0.97752601,1.0,0.92482102,1.0,0.978894,0.86699998,0.89206803,0.77224201,0.93831998,0.97251397,0.970891,0.94458997,0.97707403,0.99469,0.921731,0.92902499,0.99292499,0.99614102,0.99109399,0.95336199,0.94349098,0.90972698,0.98835498,1.0,0.93754601,0.95518202,0.97600502,1.0,0.913351,1.0,1.0,0.87694001,0.98875898,1.0,0.95523399,1.0,0.69400001,0.988931,0.99194902,0.953107,0.96262997,0.964872,0.94902802,1.0,0.99169499,0.989595,0.86839998,0.99322098,0.82201201,1.0,0.95597202,1.0,1.0,0.97698498,0.81895298,0.96188998,0.97852498,0.965859,1.0,0.94577497,1.0,0.964351,0.997168,0.930498,0.994349,0.99066401,0.938178,1.0,0.94725502,0.97023302,0.87039101,0.98456699,0.980865,0.843346,0.98958302,0.96550202,0.973566,1.0,0.81867599,0.97412503,0.84936398,0.97662401,0.99448103,0.73025799,0.98156202,0.84383202,1.0,0.92028701,0.97484398,0.61463201,0.966286,0.90842199,0.94048899,0.979047,0.88706303,1.0,0.957986,0.86505902,0.91256499,0.98358899,0.94932699,0.95370197,0.996391,0.99300998,1.0,0.99510598,0.99109399,0.990017,0.95399398,0.89160103,0.79100001,1.0,0.69902802,1.0,0.92206597,0.98354101,0.96907997,0.98456699,0.96965098,0.995785,0.87954801,0.76014501,0.97123098,0.99173599,0.86474198,0.976574,0.92402399,0.990017,0.82199198,0.98958302,0.898426,1.0,0.91679299,0.92060399,1.0,1.0,0.99313003,0.96920699,1.0,0.93675101,0.95631099,0.99397397,0.927293,0.86928099,0.95546901,1.0,0.87999898,0.94930899,0.843153,0.94487101,0.91779,0.89909899,0.92677897,0.79738802,0.99130797,0.97345102,0.903548,0.88344002,0.91328001,0.96814698,0.82235199,0.99109399,0.92686099,0.92005002,0.67974299,0.84711999,1.0,0.873245,0.90507603,0.89043599,0.97701102,0.96886402,0.99778003,0.95845503,0.96400398,0.92288297,0.92606503,0.848203,0.92122602,0.98584098,0.98736602,0.937361,0.96689498,0.92049098,0.98358899,0.647852,0.89674997,1.0,0.97392899,1.0,1.0,0.97680998,0.78909999,0.95754403,0.83721501,0.996759,1.0,0.95630002,0.93392599,1.0,0.99634701,0.91453701,0.94633901,0.99372399,0.996553,0.93996102,0.90894699,0.91951501,1.0,1.0,0.91923702,0.91124398,0.984945,1.0,0.99069297,1.0,0.92764401,0.996553,0.99231201,1.0,0.981686,1.0,1.0,1.0,0.87459999,0.932046,0.95909798,0.83333302,0.95761299,0.98741001,0.97139603,0.96763599,0.93905801,0.95253003,0.92416602,0.984945,0.804443,0.90840203,0.92343599,0.91637099,1.0,0.92827702,0.97312701,0.66346699,0.89011401,0.898871,0.84535801,0.85102302,0.90330201,0.95707101,0.97755003,0.69690597,0.93171799,0.96739602,0.79487997,0.984649,0.90993702,0.95225698,0.89222902,0.91887897,1.0,0.93953001,0.84479302,0.96400398,0.81944901,0.94972903,0.983814,1.0,0.996553,0.95700002,0.99757701,0.92834997,0.95733601,0.92645901,0.92250401,1.0,0.89113402,0.99455601,0.94388998,0.95672101,0.99469,1.0,0.80500001,0.74952197,0.922894,0.81787801,1.0,0.99798399,0.89952999,0.996759,0.95009601,1.0,0.873182,0.990017,0.95484102,0.96823698,0.950109,0.95075202,1.0,0.82760501,1.0,0.99778003,0.93283099,0.73329997,0.93715,0.82793301,0.77614301,0.963395,0.86009598,0.98558903,0.86648798,0.96325201,0.76275301,0.97903001,1.0,0.88390398,1.0,0.99489802,0.99614102,1.0,0.95199102,0.93882,0.93725002,1.0,0.98136401,0.98079997,0.97250998,0.97248101,0.92225403,0.98560202,0.97669202,0.80190998,0.909859,0.98284203,0.96423399,0.64149702,0.95330697,0.55823898,0.85757101,0.983307,0.934403,0.94969898,1.0,0.91312099,0.92259997,1.0,0.86464602,1.0,0.85711402,0.978975,0.98988497,0.954409,1.0,1.0,0.95713001,0.98721999,0.89454597,1.0,1.0,0.97023302,0.90252,0.81628603,0.91416597,0.95188802,0.94937998,1.0,0.98050499,0.96144998,0.833134,1.0,0.97563702,0.972875,0.918594,0.97766,0.96735799,0.91955698,0.92050099,0.97456598,1.0,0.98094302,0.96470702,0.89581501,0.95398301,0.97776401,1.0,0.96651298,0.91588998,0.931095,0.93615001,0.914105,0.86957598,0.88106602,0.904028,0.93940002,0.99778003,0.86288798,0.900814,0.98584098,0.996759,0.87372398,0.98366702,1.0,0.96652102,1.0,0.75260901,0.938241,0.92251003,0.99186999,0.85808402,0.83909303,0.97098202,0.84638703,0.99448103,0.923711,1.0,0.92123002,0.980847,0.84688902,1.0,0.903602,0.99312598,0.892582,0.94859201,0.950275,0.89821202,0.99169803,0.94365102,0.99737298,1.0,0.89806199,0.73303199,0.85241199,0.99205202,0.99216199,0.98871201,0.91889,0.840626,0.94776398,0.86175603,0.986543,0.95737702,0.982077,0.94801998,0.95496899,0.949251,0.90827501,0.96501303,0.786336,1.0,0.982463,0.93247902,0.98356497,0.85873097,1.0,0.97558397,0.94882601,0.879426,0.94682401,0.95853198,0.94478601,0.88902998,0.87058598,0.96457398,0.97585499,0.94218802,0.95040202,0.96303898,1.0,1.0,1.0,0.91872603,0.90181798,0.98441702,0.952106,0.99818701,1.0,0.98402601,0.92514998,0.97617698,0.96048701,0.90956599,0.90921497,0.97558397,0.98695302,0.93507999,0.997168,1.0,0.95419002,1.0,0.95175397,1.0,0.93191803,1.0,0.95708799,0.94028997,0.86072397,1.0,0.93941498,0.953924,1.0,0.770675,0.988931,0.97196198,0.89927202,0.89053702,0.90621901,0.88887602,0.94828999,1.0,0.96042401,0.95481199,0.98590302,0.94734502,0.84572798,1.0,0.92405599,0.948309,1.0,0.93817902,0.895437,0.72036999,0.94242102,0.78895199,0.97120601,0.96485603,1.0,0.95739698,0.885961,0.951446,0.90458,0.89216,0.81537902,0.97570097,0.99126399,0.874695,0.95699602,0.83864498,0.98092997,0.93449998,1.0,0.938236,0.890212,0.88592499,0.932221,0.93936801,0.91500002,0.85875398,0.95530099,0.94502801,0.92386502,0.90235603,0.98012799,0.984945,0.99593502,0.965819,0.985394,0.97222197,0.79173201,1.0,1.0,0.97745401,1.0,0.929919,0.99251598,0.96880502,0.94752502,0.72286302,0.87274301,0.94383699,0.891931,0.93546498,0.98812199,1.0,0.80498099,0.94546199,0.67920601,0.77542299,0.95619601,0.972574,0.94291401,0.901057,1.0,0.95862001,0.85800499,0.99455601,0.76183301,0.93527102,0.87082601,0.91684401,0.871292,0.82445699,0.99469,0.99414903,0.93304098,0.98304099,0.97809303,0.94603902,0.946953,0.967296,0.92799199,0.84088898,0.96298999,0.95586902,0.902704,0.97034901,0.96356601,1.0,0.97535098,1.0,0.98810601,0.92067999,0.65290302,0.62992901,0.99634701,0.93182898,1.0,1.0,0.98626798,1.0,0.99798399,0.946392,1.0,0.98708397,0.938528,1.0,0.98798698,0.82475299,0.847413,0.87286502,0.88998401,0.87693298,0.833296,0.90782797,0.94783902,0.84204102,1.0,1.0,0.97517598,0.97336298,0.93037301,0.81469601,0.961712,0.91824901,0.986287,0.962502,0.99552101,1.0,0.970828,0.99124998,0.95489103,1.0,0.94397002,0.94927299,0.96285498,0.86374199,0.88841999,1.0,0.993931,0.92351902,0.79969901,0.99469,0.94896197,0.81887501,0.943784,0.98827499,0.85285699,0.99173599,0.88509297,0.98304403,0.86710697,0.95424902,0.90626699,0.82899499,1.0,0.86943901,1.0,0.87788498,0.90195101,1.0,0.84554797,0.94419998,0.84437001,0.97394001,1.0,0.77198303,0.99251699,0.97742498,0.95051903,0.907166,0.98136699,1.0,0.907166,1.0,0.98311198,1.0,0.99109399,0.86756998,0.98827499,0.83375198,0.89262801,1.0,0.95081502,0.92058998,0.88994002,1.0,1.0,0.939623,0.98528701,0.97935301,0.98221898,0.97060901,0.98053002,0.89317501,0.91304302,0.92355698,0.97862899,1.0,0.97478098,0.89586103,0.77361,0.98103303,0.986301,0.93085402],\"yaxis\":\"y\",\"type\":\"histogram\"}],                        {\"template\":{\"data\":{\"bar\":[{\"error_x\":{\"color\":\"#2a3f5f\"},\"error_y\":{\"color\":\"#2a3f5f\"},\"marker\":{\"line\":{\"color\":\"#E5ECF6\",\"width\":0.5},\"pattern\":{\"fillmode\":\"overlay\",\"size\":10,\"solidity\":0.2}},\"type\":\"bar\"}],\"barpolar\":[{\"marker\":{\"line\":{\"color\":\"#E5ECF6\",\"width\":0.5},\"pattern\":{\"fillmode\":\"overlay\",\"size\":10,\"solidity\":0.2}},\"type\":\"barpolar\"}],\"carpet\":[{\"aaxis\":{\"endlinecolor\":\"#2a3f5f\",\"gridcolor\":\"white\",\"linecolor\":\"white\",\"minorgridcolor\":\"white\",\"startlinecolor\":\"#2a3f5f\"},\"baxis\":{\"endlinecolor\":\"#2a3f5f\",\"gridcolor\":\"white\",\"linecolor\":\"white\",\"minorgridcolor\":\"white\",\"startlinecolor\":\"#2a3f5f\"},\"type\":\"carpet\"}],\"choropleth\":[{\"colorbar\":{\"outlinewidth\":0,\"ticks\":\"\"},\"type\":\"choropleth\"}],\"contour\":[{\"colorbar\":{\"outlinewidth\":0,\"ticks\":\"\"},\"colorscale\":[[0.0,\"#0d0887\"],[0.1111111111111111,\"#46039f\"],[0.2222222222222222,\"#7201a8\"],[0.3333333333333333,\"#9c179e\"],[0.4444444444444444,\"#bd3786\"],[0.5555555555555556,\"#d8576b\"],[0.6666666666666666,\"#ed7953\"],[0.7777777777777778,\"#fb9f3a\"],[0.8888888888888888,\"#fdca26\"],[1.0,\"#f0f921\"]],\"type\":\"contour\"}],\"contourcarpet\":[{\"colorbar\":{\"outlinewidth\":0,\"ticks\":\"\"},\"type\":\"contourcarpet\"}],\"heatmap\":[{\"colorbar\":{\"outlinewidth\":0,\"ticks\":\"\"},\"colorscale\":[[0.0,\"#0d0887\"],[0.1111111111111111,\"#46039f\"],[0.2222222222222222,\"#7201a8\"],[0.3333333333333333,\"#9c179e\"],[0.4444444444444444,\"#bd3786\"],[0.5555555555555556,\"#d8576b\"],[0.6666666666666666,\"#ed7953\"],[0.7777777777777778,\"#fb9f3a\"],[0.8888888888888888,\"#fdca26\"],[1.0,\"#f0f921\"]],\"type\":\"heatmap\"}],\"heatmapgl\":[{\"colorbar\":{\"outlinewidth\":0,\"ticks\":\"\"},\"colorscale\":[[0.0,\"#0d0887\"],[0.1111111111111111,\"#46039f\"],[0.2222222222222222,\"#7201a8\"],[0.3333333333333333,\"#9c179e\"],[0.4444444444444444,\"#bd3786\"],[0.5555555555555556,\"#d8576b\"],[0.6666666666666666,\"#ed7953\"],[0.7777777777777778,\"#fb9f3a\"],[0.8888888888888888,\"#fdca26\"],[1.0,\"#f0f921\"]],\"type\":\"heatmapgl\"}],\"histogram\":[{\"marker\":{\"pattern\":{\"fillmode\":\"overlay\",\"size\":10,\"solidity\":0.2}},\"type\":\"histogram\"}],\"histogram2d\":[{\"colorbar\":{\"outlinewidth\":0,\"ticks\":\"\"},\"colorscale\":[[0.0,\"#0d0887\"],[0.1111111111111111,\"#46039f\"],[0.2222222222222222,\"#7201a8\"],[0.3333333333333333,\"#9c179e\"],[0.4444444444444444,\"#bd3786\"],[0.5555555555555556,\"#d8576b\"],[0.6666666666666666,\"#ed7953\"],[0.7777777777777778,\"#fb9f3a\"],[0.8888888888888888,\"#fdca26\"],[1.0,\"#f0f921\"]],\"type\":\"histogram2d\"}],\"histogram2dcontour\":[{\"colorbar\":{\"outlinewidth\":0,\"ticks\":\"\"},\"colorscale\":[[0.0,\"#0d0887\"],[0.1111111111111111,\"#46039f\"],[0.2222222222222222,\"#7201a8\"],[0.3333333333333333,\"#9c179e\"],[0.4444444444444444,\"#bd3786\"],[0.5555555555555556,\"#d8576b\"],[0.6666666666666666,\"#ed7953\"],[0.7777777777777778,\"#fb9f3a\"],[0.8888888888888888,\"#fdca26\"],[1.0,\"#f0f921\"]],\"type\":\"histogram2dcontour\"}],\"mesh3d\":[{\"colorbar\":{\"outlinewidth\":0,\"ticks\":\"\"},\"type\":\"mesh3d\"}],\"parcoords\":[{\"line\":{\"colorbar\":{\"outlinewidth\":0,\"ticks\":\"\"}},\"type\":\"parcoords\"}],\"pie\":[{\"automargin\":true,\"type\":\"pie\"}],\"scatter\":[{\"marker\":{\"colorbar\":{\"outlinewidth\":0,\"ticks\":\"\"}},\"type\":\"scatter\"}],\"scatter3d\":[{\"line\":{\"colorbar\":{\"outlinewidth\":0,\"ticks\":\"\"}},\"marker\":{\"colorbar\":{\"outlinewidth\":0,\"ticks\":\"\"}},\"type\":\"scatter3d\"}],\"scattercarpet\":[{\"marker\":{\"colorbar\":{\"outlinewidth\":0,\"ticks\":\"\"}},\"type\":\"scattercarpet\"}],\"scattergeo\":[{\"marker\":{\"colorbar\":{\"outlinewidth\":0,\"ticks\":\"\"}},\"type\":\"scattergeo\"}],\"scattergl\":[{\"marker\":{\"colorbar\":{\"outlinewidth\":0,\"ticks\":\"\"}},\"type\":\"scattergl\"}],\"scattermapbox\":[{\"marker\":{\"colorbar\":{\"outlinewidth\":0,\"ticks\":\"\"}},\"type\":\"scattermapbox\"}],\"scatterpolar\":[{\"marker\":{\"colorbar\":{\"outlinewidth\":0,\"ticks\":\"\"}},\"type\":\"scatterpolar\"}],\"scatterpolargl\":[{\"marker\":{\"colorbar\":{\"outlinewidth\":0,\"ticks\":\"\"}},\"type\":\"scatterpolargl\"}],\"scatterternary\":[{\"marker\":{\"colorbar\":{\"outlinewidth\":0,\"ticks\":\"\"}},\"type\":\"scatterternary\"}],\"surface\":[{\"colorbar\":{\"outlinewidth\":0,\"ticks\":\"\"},\"colorscale\":[[0.0,\"#0d0887\"],[0.1111111111111111,\"#46039f\"],[0.2222222222222222,\"#7201a8\"],[0.3333333333333333,\"#9c179e\"],[0.4444444444444444,\"#bd3786\"],[0.5555555555555556,\"#d8576b\"],[0.6666666666666666,\"#ed7953\"],[0.7777777777777778,\"#fb9f3a\"],[0.8888888888888888,\"#fdca26\"],[1.0,\"#f0f921\"]],\"type\":\"surface\"}],\"table\":[{\"cells\":{\"fill\":{\"color\":\"#EBF0F8\"},\"line\":{\"color\":\"white\"}},\"header\":{\"fill\":{\"color\":\"#C8D4E3\"},\"line\":{\"color\":\"white\"}},\"type\":\"table\"}]},\"layout\":{\"annotationdefaults\":{\"arrowcolor\":\"#2a3f5f\",\"arrowhead\":0,\"arrowwidth\":1},\"autotypenumbers\":\"strict\",\"coloraxis\":{\"colorbar\":{\"outlinewidth\":0,\"ticks\":\"\"}},\"colorscale\":{\"diverging\":[[0,\"#8e0152\"],[0.1,\"#c51b7d\"],[0.2,\"#de77ae\"],[0.3,\"#f1b6da\"],[0.4,\"#fde0ef\"],[0.5,\"#f7f7f7\"],[0.6,\"#e6f5d0\"],[0.7,\"#b8e186\"],[0.8,\"#7fbc41\"],[0.9,\"#4d9221\"],[1,\"#276419\"]],\"sequential\":[[0.0,\"#0d0887\"],[0.1111111111111111,\"#46039f\"],[0.2222222222222222,\"#7201a8\"],[0.3333333333333333,\"#9c179e\"],[0.4444444444444444,\"#bd3786\"],[0.5555555555555556,\"#d8576b\"],[0.6666666666666666,\"#ed7953\"],[0.7777777777777778,\"#fb9f3a\"],[0.8888888888888888,\"#fdca26\"],[1.0,\"#f0f921\"]],\"sequentialminus\":[[0.0,\"#0d0887\"],[0.1111111111111111,\"#46039f\"],[0.2222222222222222,\"#7201a8\"],[0.3333333333333333,\"#9c179e\"],[0.4444444444444444,\"#bd3786\"],[0.5555555555555556,\"#d8576b\"],[0.6666666666666666,\"#ed7953\"],[0.7777777777777778,\"#fb9f3a\"],[0.8888888888888888,\"#fdca26\"],[1.0,\"#f0f921\"]]},\"colorway\":[\"#636efa\",\"#EF553B\",\"#00cc96\",\"#ab63fa\",\"#FFA15A\",\"#19d3f3\",\"#FF6692\",\"#B6E880\",\"#FF97FF\",\"#FECB52\"],\"font\":{\"color\":\"#2a3f5f\"},\"geo\":{\"bgcolor\":\"white\",\"lakecolor\":\"white\",\"landcolor\":\"#E5ECF6\",\"showlakes\":true,\"showland\":true,\"subunitcolor\":\"white\"},\"hoverlabel\":{\"align\":\"left\"},\"hovermode\":\"closest\",\"mapbox\":{\"style\":\"light\"},\"paper_bgcolor\":\"white\",\"plot_bgcolor\":\"#E5ECF6\",\"polar\":{\"angularaxis\":{\"gridcolor\":\"white\",\"linecolor\":\"white\",\"ticks\":\"\"},\"bgcolor\":\"#E5ECF6\",\"radialaxis\":{\"gridcolor\":\"white\",\"linecolor\":\"white\",\"ticks\":\"\"}},\"scene\":{\"xaxis\":{\"backgroundcolor\":\"#E5ECF6\",\"gridcolor\":\"white\",\"gridwidth\":2,\"linecolor\":\"white\",\"showbackground\":true,\"ticks\":\"\",\"zerolinecolor\":\"white\"},\"yaxis\":{\"backgroundcolor\":\"#E5ECF6\",\"gridcolor\":\"white\",\"gridwidth\":2,\"linecolor\":\"white\",\"showbackground\":true,\"ticks\":\"\",\"zerolinecolor\":\"white\"},\"zaxis\":{\"backgroundcolor\":\"#E5ECF6\",\"gridcolor\":\"white\",\"gridwidth\":2,\"linecolor\":\"white\",\"showbackground\":true,\"ticks\":\"\",\"zerolinecolor\":\"white\"}},\"shapedefaults\":{\"line\":{\"color\":\"#2a3f5f\"}},\"ternary\":{\"aaxis\":{\"gridcolor\":\"white\",\"linecolor\":\"white\",\"ticks\":\"\"},\"baxis\":{\"gridcolor\":\"white\",\"linecolor\":\"white\",\"ticks\":\"\"},\"bgcolor\":\"#E5ECF6\",\"caxis\":{\"gridcolor\":\"white\",\"linecolor\":\"white\",\"ticks\":\"\"}},\"title\":{\"x\":0.05},\"xaxis\":{\"automargin\":true,\"gridcolor\":\"white\",\"linecolor\":\"white\",\"ticks\":\"\",\"title\":{\"standoff\":15},\"zerolinecolor\":\"white\",\"zerolinewidth\":2},\"yaxis\":{\"automargin\":true,\"gridcolor\":\"white\",\"linecolor\":\"white\",\"ticks\":\"\",\"title\":{\"standoff\":15},\"zerolinecolor\":\"white\",\"zerolinewidth\":2}}},\"xaxis\":{\"anchor\":\"y\",\"domain\":[0.0,1.0],\"title\":{\"text\":\"sigla_uf\"}},\"yaxis\":{\"anchor\":\"x\",\"domain\":[0.0,1.0],\"title\":{\"text\":\"sum of indicador_rendimento\"}},\"legend\":{\"tracegroupgap\":0},\"margin\":{\"t\":60},\"barmode\":\"relative\"},                        {\"responsive\": true}                    ).then(function(){\n",
              "                            \n",
              "var gd = document.getElementById('be343a7a-be3a-4e42-be9d-b9f9dce2050c');\n",
              "var x = new MutationObserver(function (mutations, observer) {{\n",
              "        var display = window.getComputedStyle(gd).display;\n",
              "        if (!display || display === 'none') {{\n",
              "            console.log([gd, 'removed!']);\n",
              "            Plotly.purge(gd);\n",
              "            observer.disconnect();\n",
              "        }}\n",
              "}});\n",
              "\n",
              "// Listen for the removal of the full notebook cells\n",
              "var notebookContainer = gd.closest('#notebook-container');\n",
              "if (notebookContainer) {{\n",
              "    x.observe(notebookContainer, {childList: true});\n",
              "}}\n",
              "\n",
              "// Listen for the clearing of the current output cell\n",
              "var outputEl = gd.closest('.output');\n",
              "if (outputEl) {{\n",
              "    x.observe(outputEl, {childList: true});\n",
              "}}\n",
              "\n",
              "                        })                };                            </script>        </div>\n",
              "</body>\n",
              "</html>"
            ]
          },
          "metadata": {}
        }
      ]
    },
    {
      "cell_type": "code",
      "source": [
        "assimetria(df_ideb.indicador_rendimento)"
      ],
      "metadata": {
        "colab": {
          "base_uri": "https://localhost:8080/",
          "height": 35
        },
        "id": "pDiGBRE0q73s",
        "outputId": "008248c1-cce7-405c-be45-a427a90c756a"
      },
      "execution_count": 120,
      "outputs": [
        {
          "output_type": "execute_result",
          "data": {
            "text/plain": [
              "'Assimetria à esquerda ou negativa'"
            ],
            "application/vnd.google.colaboratory.intrinsic+json": {
              "type": "string"
            }
          },
          "metadata": {},
          "execution_count": 120
        }
      ]
    },
    {
      "cell_type": "code",
      "source": [
        "# Assimetria e Curtose\n",
        "curtose(df_ideb.indicador_rendimento)"
      ],
      "metadata": {
        "id": "_GiLZL9b-Ldj",
        "colab": {
          "base_uri": "https://localhost:8080/",
          "height": 35
        },
        "outputId": "c6cc0ddd-4168-4153-e641-9b3b06a2efb5"
      },
      "execution_count": 121,
      "outputs": [
        {
          "output_type": "execute_result",
          "data": {
            "text/plain": [
              "'leptocúrtica'"
            ],
            "application/vnd.google.colaboratory.intrinsic+json": {
              "type": "string"
            }
          },
          "metadata": {},
          "execution_count": 121
        }
      ]
    },
    {
      "cell_type": "markdown",
      "source": [
        "Nota SAEB Matemática"
      ],
      "metadata": {
        "id": "vg4Xsn3Ayn4y"
      }
    },
    {
      "cell_type": "code",
      "source": [
        "# Histograma\n",
        "histograma(df_ideb.nota_saeb_matematica)"
      ],
      "metadata": {
        "id": "_Xb_b_RP-NIb",
        "colab": {
          "base_uri": "https://localhost:8080/",
          "height": 542
        },
        "outputId": "78a38548-89cc-4edb-d94a-cc15ef6c0ccd"
      },
      "execution_count": 122,
      "outputs": [
        {
          "output_type": "display_data",
          "data": {
            "text/html": [
              "<html>\n",
              "<head><meta charset=\"utf-8\" /></head>\n",
              "<body>\n",
              "    <div>            <script src=\"https://cdnjs.cloudflare.com/ajax/libs/mathjax/2.7.5/MathJax.js?config=TeX-AMS-MML_SVG\"></script><script type=\"text/javascript\">if (window.MathJax) {MathJax.Hub.Config({SVG: {font: \"STIX-Web\"}});}</script>                <script type=\"text/javascript\">window.PlotlyConfig = {MathJaxConfig: 'local'};</script>\n",
              "        <script src=\"https://cdn.plot.ly/plotly-2.8.3.min.js\"></script>                <div id=\"f1252c58-7512-4df7-b630-2b8233975cdd\" class=\"plotly-graph-div\" style=\"height:525px; width:100%;\"></div>            <script type=\"text/javascript\">                                    window.PLOTLYENV=window.PLOTLYENV || {};                                    if (document.getElementById(\"f1252c58-7512-4df7-b630-2b8233975cdd\")) {                    Plotly.newPlot(                        \"f1252c58-7512-4df7-b630-2b8233975cdd\",                        [{\"alignmentgroup\":\"True\",\"bingroup\":\"x\",\"histfunc\":\"sum\",\"hovertemplate\":\"sigla_uf=%{x}<br>sum of nota_saeb_matematica=%{y}<extra></extra>\",\"legendgroup\":\"\",\"marker\":{\"color\":\"#636efa\",\"pattern\":{\"shape\":\"\"}},\"name\":\"\",\"offsetgroup\":\"\",\"orientation\":\"v\",\"showlegend\":false,\"x\":[\"MG\",\"PE\",\"RJ\",\"SP\",\"PA\",\"MG\",\"BA\",\"RS\",\"RJ\",\"PR\",\"PA\",\"CE\",\"SP\",\"GO\",\"SP\",\"CE\",\"PA\",\"GO\",\"MG\",\"SE\",\"ES\",\"PE\",\"BA\",\"SC\",\"MT\",\"GO\",\"DF\",\"CE\",\"RJ\",\"RS\",\"ES\",\"PE\",\"BA\",\"SC\",\"BA\",\"RJ\",\"MA\",\"MG\",\"AL\",\"BA\",\"SP\",\"ES\",\"RS\",\"PR\",\"SC\",\"SP\",\"GO\",\"SC\",\"BA\",\"BA\",\"RS\",\"PE\",\"CE\",\"SC\",\"RS\",\"PB\",\"RJ\",\"AL\",\"PA\",\"MG\",\"PA\",\"RS\",\"BA\",\"SC\",\"AL\",\"CE\",\"AC\",\"CE\",\"AL\",\"MA\",\"MA\",\"AL\",\"CE\",\"RN\",\"MG\",\"RO\",\"AC\",\"RS\",\"RO\",\"PA\",\"RS\",\"PR\",\"SP\",\"PE\",\"PA\",\"MA\",\"SP\",\"SP\",\"MT\",\"GO\",\"RJ\",\"MA\",\"MA\",\"CE\",\"BA\",\"RS\",\"SP\",\"PA\",\"PA\",\"BA\",\"PI\",\"RJ\",\"PA\",\"MS\",\"ES\",\"SP\",\"TO\",\"BA\",\"PI\",\"PI\",\"MG\",\"CE\",\"SP\",\"RR\",\"AC\",\"SP\",\"MA\",\"RJ\",\"MG\",\"DF\",\"PA\",\"MA\",\"PA\",\"SP\",\"RO\",\"PB\",\"MS\",\"ES\",\"SP\",\"BA\",\"RJ\",\"SP\",\"SP\",\"CE\",\"RS\",\"BA\",\"PR\",\"MS\",\"RN\",\"BA\",\"MG\",\"SP\",\"PB\",\"SP\",\"PA\",\"MA\",\"SC\",\"RJ\",\"PA\",\"RS\",\"BA\",\"RN\",\"PR\",\"RJ\",\"BA\",\"CE\",\"TO\",\"BA\",\"BA\",\"PR\",\"AM\",\"CE\",\"SC\",\"RS\",\"MG\",\"MG\",\"BA\",\"RS\",\"BA\",\"CE\",\"PR\",\"MT\",\"BA\",\"SC\",\"SC\",\"PI\",\"RJ\",\"CE\",\"SP\",\"BA\",\"RS\",\"SP\",\"PB\",\"MT\",\"PA\",\"MG\",\"GO\",\"SC\",\"PE\",\"SP\",\"MG\",\"MA\",\"BA\",\"SP\",\"BA\",\"SP\",\"PA\",\"AL\",\"PE\",\"SE\",\"MG\",\"PE\",\"BA\",\"CE\",\"PA\",\"PB\",\"MG\",\"MT\",\"ES\",\"CE\",\"SP\",\"PA\",\"CE\",\"SP\",\"MS\",\"MT\",\"PB\",\"AM\",\"PE\",\"MS\",\"ES\",\"SP\",\"CE\",\"PE\",\"AM\",\"MT\",\"SP\",\"MT\",\"PR\",\"PR\",\"PE\",\"PB\",\"PB\",\"DF\",\"RJ\",\"MG\",\"PR\",\"MG\",\"PI\",\"SP\",\"MG\",\"PB\",\"BA\",\"AM\",\"SC\",\"PE\",\"RS\",\"SP\",\"AL\",\"PR\",\"SP\",\"RN\",\"SE\",\"PE\",\"BA\",\"RN\",\"RS\",\"RJ\",\"BA\",\"SP\",\"BA\",\"SP\",\"PB\",\"BA\",\"PE\",\"MA\",\"PR\",\"PR\",\"AL\",\"MS\",\"SP\",\"MG\",\"DF\",\"MG\",\"MG\",\"BA\",\"BA\",\"MA\",\"GO\",\"MG\",\"CE\",\"SC\",\"MA\",\"PE\",\"MS\",\"PI\",\"SP\",\"TO\",\"PE\",\"SP\",\"MT\",\"PB\",\"AL\",\"MG\",\"CE\",\"GO\",\"SP\",\"RS\",\"RN\",\"SP\",\"PE\",\"ES\",\"SP\",\"DF\",\"CE\",\"SP\",\"PB\",\"GO\",\"SC\",\"AC\",\"MG\",\"PE\",\"ES\",\"RN\",\"SP\",\"GO\",\"MT\",\"MG\",\"GO\",\"PE\",\"MG\",\"SP\",\"SP\",\"RN\",\"PR\",\"RJ\",\"SP\",\"PR\",\"MG\",\"SP\",\"RJ\",\"BA\",\"PE\",\"SP\",\"PB\",\"CE\",\"PI\",\"MA\",\"PE\",\"PR\",\"MA\",\"GO\",\"CE\",\"BA\",\"PA\",\"AL\",\"SE\",\"BA\",\"PR\",\"RS\",\"BA\",\"BA\",\"RJ\",\"RS\",\"PR\",\"PR\",\"MA\",\"AM\",\"RN\",\"SP\",\"PA\",\"PE\",\"AL\",\"GO\",\"RS\",\"PR\",\"BA\",\"RJ\",\"SE\",\"PI\",\"BA\",\"PB\",\"SP\",\"PR\",\"PA\",\"PE\",\"CE\",\"RO\",\"MT\",\"SP\",\"SP\",\"MA\",\"MT\",\"SP\",\"MT\",\"MA\",\"RS\",\"PI\",\"MG\",\"RJ\",\"MT\",\"TO\",\"PA\",\"SP\",\"MA\",\"RJ\",\"SP\",\"PR\",\"BA\",\"RS\",\"AL\",\"BA\",\"PR\",\"CE\",\"BA\",\"SE\",\"CE\",\"ES\",\"MG\",\"SP\",\"MA\",\"SP\",\"SP\",\"PE\",\"CE\",\"MG\",\"SC\",\"TO\",\"MT\",\"SP\",\"RN\",\"MG\",\"BA\",\"MA\",\"PR\",\"BA\",\"ES\",\"PA\",\"MA\",\"SC\",\"MA\",\"MT\",\"BA\",\"BA\",\"BA\",\"BA\",\"RO\",\"PI\",\"PI\",\"PR\",\"BA\",\"PA\",\"SP\",\"CE\",\"PE\",\"RJ\",\"PR\",\"RS\",\"SC\",\"SP\",\"CE\",\"BA\",\"MA\",\"PA\",\"AM\",\"MA\",\"AL\",\"SP\",\"MT\",\"RJ\",\"RJ\",\"PE\",\"BA\",\"BA\",\"SP\",\"MG\",\"RS\",\"PR\",\"PE\",\"PA\",\"ES\",\"SE\",\"SC\",\"MG\",\"PR\",\"RN\",\"MG\",\"SP\",\"RN\",\"PR\",\"SP\",\"SP\",\"SE\",\"MA\",\"PE\",\"CE\",\"MG\",\"PE\",\"PA\",\"RJ\",\"SP\",\"SP\",\"MG\",\"RJ\",\"SP\",\"RJ\",\"MG\",\"PB\",\"CE\",\"AC\",\"SP\",\"PA\",\"PR\",\"RJ\",\"RN\",\"MG\",\"GO\",\"RS\",\"RS\",\"PR\",\"MT\",\"PR\",\"RS\",\"RJ\",\"RJ\",\"PA\",\"AM\",\"AL\",\"PE\",\"RS\",\"BA\",\"BA\",\"PA\",\"BA\",\"PB\",\"PA\",\"SP\",\"AL\",\"RN\",\"RS\",\"SP\",\"PI\",\"GO\",\"AP\",\"RS\",\"MA\",\"MS\",\"CE\",\"RS\",\"RJ\",\"PE\",\"PA\",\"ES\",\"GO\",\"SP\",\"MG\",\"PA\",\"MG\",\"MG\",\"RS\",\"PE\",\"PE\",\"MA\",\"MA\",\"SP\",\"RJ\",\"BA\",\"GO\",\"GO\",\"BA\",\"RJ\",\"DF\",\"PA\",\"SC\",\"MG\",\"PR\",\"SC\",\"RJ\",\"AL\",\"SP\",\"MG\",\"RS\",\"SP\",\"BA\",\"BA\",\"PR\",\"RJ\",\"PR\",\"SP\",\"RS\",\"MA\",\"RS\",\"SE\",\"RJ\",\"RS\",\"SE\",\"PE\",\"RN\",\"MG\",\"BA\",\"PA\",\"GO\",\"RJ\",\"MG\",\"SP\",\"CE\",\"PR\",\"MA\",\"PR\",\"PR\",\"MT\",\"PB\",\"DF\",\"PE\",\"BA\",\"SC\",\"RS\",\"PA\",\"MG\",\"PA\",\"SC\",\"PA\",\"BA\",\"MA\",\"PA\",\"BA\",\"MG\",\"CE\",\"AM\",\"SC\",\"AM\",\"RS\",\"MG\",\"RN\",\"CE\",\"BA\",\"SP\",\"RJ\",\"RS\",\"SP\",\"CE\",\"SC\",\"SP\",\"MA\",\"MG\",\"RR\",\"RS\",\"BA\",\"PA\",\"PA\",\"MT\",\"RS\",\"MG\",\"SP\",\"SP\",\"PA\",\"SC\",\"MG\",\"MG\",\"PA\",\"SP\",\"AM\",\"MG\",\"AC\",\"PR\",\"MA\",\"SP\",\"MA\",\"RJ\",\"PE\",\"SP\",\"SP\",\"MA\",\"AL\",\"TO\",\"BA\",\"SP\",\"PB\",\"MG\",\"MA\",\"RS\",\"CE\",\"MA\",\"MG\",\"PR\",\"CE\",\"BA\",\"PR\",\"PE\",\"BA\",\"PE\",\"BA\",\"PA\",\"PE\",\"PB\",\"PR\",\"RJ\",\"BA\",\"PB\",\"MT\",\"PR\",\"SC\",\"BA\",\"MA\",\"PB\",\"BA\",\"PR\",\"SP\",\"BA\",\"PE\",\"MA\",\"BA\",\"PA\",\"RS\",\"AM\",\"MG\",\"PR\",\"BA\",\"PA\",\"SP\",\"AM\",\"SP\",\"RO\",\"PE\",\"ES\",\"RJ\",\"MG\",\"PR\",\"PE\",\"PR\",\"BA\",\"RJ\",\"PA\",\"PE\",\"BA\",\"BA\",\"AC\",\"MA\",\"SP\",\"BA\",\"TO\",\"CE\",\"ES\",\"PR\",\"SP\",\"RS\",\"BA\",\"PR\",\"ES\",\"ES\",\"SE\",\"PE\",\"BA\",\"RN\",\"SP\",\"SP\",\"MT\",\"SC\",\"MA\",\"ES\",\"PA\",\"SP\",\"MG\",\"PR\",\"SP\",\"PR\",\"MA\",\"PA\",\"GO\",\"RS\",\"MG\",\"MS\",\"RJ\",\"CE\",\"CE\",\"MG\",\"BA\",\"MG\",\"RO\",\"SP\",\"SP\",\"BA\",\"RS\",\"RS\",\"TO\",\"MA\",\"PR\",\"PE\",\"PR\",\"PR\",\"MA\",\"PE\",\"PE\",\"RN\",\"BA\",\"MG\",\"BA\",\"SP\",\"SP\",\"RN\",\"MS\",\"MG\",\"PE\",\"BA\",\"CE\",\"RJ\",\"AP\",\"PA\",\"AP\",\"BA\",\"PE\",\"MG\",\"MG\",\"TO\",\"PB\",\"PR\",\"AM\",\"GO\",\"BA\",\"ES\",\"GO\",\"PR\",\"MT\",\"RJ\",\"BA\",\"PR\",\"SP\",\"MG\",\"MA\",\"PE\",\"RN\",\"PE\",\"PA\",\"PB\",\"SP\",\"PE\",\"MA\",\"RS\",\"RS\",\"SP\",\"PR\",\"RS\",\"SP\",\"SC\",\"PA\",\"MG\",\"CE\",\"MT\",\"SP\",\"SC\",\"PR\",\"CE\",\"MG\",\"PA\",\"RO\",\"AM\",\"RJ\",\"PI\",\"BA\",\"MG\",\"RJ\",\"RN\",\"PA\",\"SE\",\"ES\",\"CE\",\"ES\",\"RJ\",\"AM\",\"MG\",\"RS\",\"SP\",\"BA\",\"MA\",\"RS\",\"RR\",\"PA\",\"RN\",\"SP\",\"SP\",\"GO\",\"SP\",\"BA\",\"BA\",\"TO\",\"PR\",\"MG\",\"PA\",\"RS\",\"PI\",\"AM\",\"SP\",\"SP\",\"PR\",\"RN\",\"MT\",\"PR\",\"ES\",\"BA\",\"RN\",\"SC\",\"PE\",\"GO\",\"SP\",\"SP\",\"CE\",\"MG\",\"MS\",\"CE\",\"MG\",\"SP\",\"PR\",\"MG\",\"RJ\",\"MS\",\"MA\",\"SC\",\"RS\",\"AM\",\"RS\",\"BA\",\"TO\",\"MG\",\"PR\",\"PR\",\"MG\",\"PR\",\"SE\",\"SP\",\"SE\",\"SC\",\"MT\",\"SP\",\"MT\",\"SP\",\"SP\",\"CE\",\"SP\",\"RS\",\"MG\",\"PR\",\"PE\",\"PE\",\"MG\",\"SC\",\"MA\",\"RS\",\"MG\",\"MS\",\"BA\",\"MA\",\"AL\",\"AP\",\"MG\",\"PA\",\"SC\",\"PR\",\"RS\",\"GO\",\"AM\",\"MT\",\"RS\",\"BA\",\"SP\",\"SC\",\"GO\",\"MA\",\"RO\",\"RJ\",\"AL\",\"SC\",\"BA\",\"GO\",\"AM\",\"MG\",\"SP\",\"SP\",\"RS\",\"PI\",\"PE\",\"AL\",\"SP\",\"MA\",\"PB\",\"PR\",\"PA\",\"MA\",\"AL\",\"SC\",\"SE\",\"RJ\",\"MG\",\"CE\",\"MG\",\"PE\",\"MS\",\"PE\",\"RO\",\"SP\",\"PB\",\"BA\",\"MT\",\"PR\",\"CE\",\"MA\",\"PE\",\"RJ\",\"PE\",\"GO\",\"MA\"],\"xaxis\":\"x\",\"y\":[215.97,188.46,204.86,241.07,179.35,243.66,189.89,239.91,214.08,256.07,151.97,226.22,245.11,226.42,231.86,221.72,189.25,220.19,212.52,176.96,197.8,212.13,186.77,234.58,220.42,250.8,210.22,255.13,238.02,187.75,219.22,203.25,198.96,227.75,175.32,194.75,199.58,221.25,207.88,207.85,230.58,220.42,238.1,239.52,232.11,243.24,203.11,242.13,196.69,178.88,198.92,189.75,209.02,231.66,244.07,185.77,224.21,222.41,209.22,225.8,207.86,248.61,229.89,234.55,180.25,212.0,212.44,221.27,221.32,192.83,174.91,198.66,229.53,227.3,234.27,227.25,194.77,188.8,213.69,211.69,194.36,274.45,263.61,234.3,205.21,180.03,246.07,220.57,264.5,224.36,212.33,175.67,218.36,247.36,172.25,206.33,245.86,199.33,177.94,180.49,248.36,214.61,201.05,259.82,246.24,243.19,205.0,183.74,190.27,206.97,247.0,209.77,223.02,164.05,203.02,233.97,188.66,284.6,212.8,216.5,173.58,176.36,176.97,279.0,200.67,218.52,218.88,247.11,255.85,185.91,210.77,263.35,226.72,215.91,241.36,207.77,233.55,225.36,199.63,180.88,226.11,257.92,210.61,251.07,206.8,178.63,214.21,235.52,209.96,222.3,184.16,163.49,236.66,192.58,209.75,222.61,205.61,247.36,211.83,236.38,197.55,264.6,240.67,237.91,192.11,204.63,231.63,256.2,206.94,238.66,219.58,250.75,188.27,241.8,221.72,202.19,200.11,208.02,260.23,189.33,225.11,243.22,216.11,234.85,216.5,243.58,232.05,227.0,189.53,256.1,231.11,175.97,199.58,257.6,182.53,243.91,170.44,206.66,210.25,201.61,210.82,224.44,197.47,210.58,215.78,200.22,272.19,204.46,223.13,197.91,253.88,190.3,256.69,219.36,216.27,228.97,211.36,176.27,207.13,243.67,210.55,251.74,228.44,190.75,189.19,261.51,252.71,220.32,252.83,222.63,201.61,230.0,218.19,232.0,183.72,229.69,229.78,236.6,195.42,228.05,220.24,246.07,177.8,162.89,270.22,223.66,231.08,258.57,226.67,242.11,255.13,213.11,231.03,210.3,188.91,234.22,227.3,210.3,218.41,278.7,157.02,203.66,208.63,187.14,225.0,170.6,258.08,221.36,176.22,202.19,234.05,204.58,251.32,219.44,271.45,203.07,213.66,220.77,201.97,206.3,227.35,256.17,198.27,197.13,165.17,201.25,249.69,239.36,193.83,237.32,212.57,222.97,240.47,182.88,230.44,198.35,217.77,236.8,192.63,254.0,235.78,232.86,243.86,246.33,235.44,235.27,190.0,221.13,220.69,250.52,223.28,197.74,268.83,186.47,243.49,225.36,188.69,249.72,198.16,175.88,237.03,226.13,245.99,204.67,227.58,220.94,232.94,239.32,193.58,251.69,229.58,188.69,195.63,224.97,186.63,203.1,171.22,170.75,171.91,235.57,199.8,267.13,190.27,209.16,218.22,261.51,189.75,225.19,287.73,225.0,174.67,214.88,213.61,249.97,243.44,193.47,196.5,177.08,202.39,242.1,161.32,206.77,188.5,243.13,216.77,227.02,168.14,214.5,191.99,216.05,213.22,213.66,218.44,271.52,186.96,197.46,193.13,241.71,205.05,224.44,267.92,161.44,213.05,258.55,208.72,242.22,238.96,192.0,230.32,198.63,226.27,203.28,206.52,229.25,170.86,241.44,241.25,227.74,160.35,228.97,218.41,197.22,237.88,211.64,202.19,167.92,215.52,209.16,208.36,265.42,182.97,251.5,247.53,256.75,206.27,209.86,233.91,240.96,203.3,234.63,191.08,210.83,240.8,153.33,244.82,176.88,229.91,189.35,186.25,211.58,171.19,191.94,195.53,232.78,224.6,205.58,216.17,197.92,237.85,229.38,216.46,160.69,241.63,223.3,203.27,199.77,230.33,249.61,226.83,220.0,248.64,168.69,195.33,224.08,181.1,178.78,209.8,257.67,207.55,228.38,246.22,196.11,192.46,214.3,240.05,225.25,213.69,251.78,222.17,173.14,216.78,200.58,253.22,238.24,226.97,204.28,256.01,227.03,206.21,253.89,202.41,237.82,209.36,164.0,216.24,229.53,225.05,189.38,216.47,191.02,262.13,240.35,231.24,243.35,254.3,208.91,251.3,192.75,239.27,269.7,260.79,191.13,246.44,227.64,183.83,247.91,199.92,231.47,232.94,233.05,193.1,246.5,207.0,222.5,205.0,212.96,220.02,228.19,214.3,234.97,195.61,208.89,168.33,235.85,205.22,178.3,268.1,178.03,211.22,235.97,254.05,156.19,224.21,165.02,270.94,188.28,215.11,226.72,208.69,198.55,225.83,173.94,226.75,245.72,231.78,218.94,213.5,238.19,212.24,221.82,189.75,204.27,207.28,215.61,220.74,230.61,173.91,261.02,230.6,192.8,214.61,240.52,185.94,229.58,216.35,236.03,230.77,239.24,211.24,226.86,226.57,248.94,225.88,192.02,225.11,212.35,235.58,237.3,229.78,213.63,173.22,200.27,188.38,224.13,232.25,182.75,184.91,184.99,234.69,188.8,193.91,238.36,206.75,223.36,266.14,242.78,268.76,229.72,240.74,269.75,216.61,214.63,209.33,212.41,201.82,201.11,238.66,223.71,202.22,206.78,199.88,202.75,212.05,193.67,144.99,207.05,239.46,213.38,212.19,239.35,226.07,237.39,226.52,169.3,239.94,175.0,230.17,229.92,209.66,240.71,262.14,271.22,242.11,183.75,199.77,248.02,213.57,214.02,186.91,229.88,235.67,252.47,241.6,229.53,224.22,190.86,224.55,254.82,216.02,186.78,239.33,249.82,231.17,196.47,231.77,202.91,242.19,192.72,218.6,223.28,249.89,246.19,201.24,187.1,220.8,230.46,211.05,180.05,244.05,199.99,192.94,220.03,188.38,264.72,258.07,213.07,192.13,233.88,260.79,217.3,214.05,189.3,183.25,218.66,203.86,223.5,202.57,176.85,159.91,245.35,243.91,226.35,197.05,170.5,204.36,241.13,249.63,239.89,195.83,194.71,208.14,216.66,203.05,212.83,195.86,242.91,239.72,187.8,189.83,262.22,197.69,268.92,234.08,240.66,225.38,227.25,242.05,220.77,196.75,245.99,212.36,197.36,194.88,225.86,166.8,195.08,209.96,175.02,233.36,173.27,248.83,215.35,223.0,210.89,234.86,244.66,221.8,237.25,208.41,212.69,208.0,202.94,170.0,194.49,263.7,258.05,207.02,215.27,189.25,269.89,193.35,215.77,205.05,220.82,243.75,245.69,184.02,193.67,211.97,254.86,228.69,190.03,213.72,270.82,216.46,194.63,224.41,213.53,232.91,258.1,258.39,194.72,226.69,224.58,178.72,213.85,229.6,201.41,253.38,243.78,172.55,211.91,183.35,201.21,224.11,229.38,212.82,234.41,230.58,221.27,218.44,211.63,173.52,197.22,253.53,219.67,184.22,173.38,217.21,194.74,264.82,247.5,225.89,195.21,205.91,239.71,199.44,193.96,205.44,253.32,212.63,237.55,220.91,200.75,244.11,210.83,219.35,222.77,158.58,196.71,194.63,196.69,208.99,185.97,254.47,221.19,166.69,249.19,218.77,221.41,243.47,260.42,260.7,254.77,158.27,243.03,218.05,218.71,234.72,201.41,253.83,232.36,210.67,236.55,183.78,185.5,209.32,202.67,227.27,252.16,247.57,191.72,192.35,190.16,220.47,218.27,225.58,232.88,211.8,225.91,211.94,246.19,191.0,204.27,201.52,150.27,177.49,171.16,218.27,254.38,205.22,232.8,242.19,189.05,190.16,243.0,195.75,148.85,236.89,235.11,214.32,215.63,277.85,218.17,232.8,202.55,261.67,191.88,197.41,177.49,227.02,213.53,263.57,278.83,235.52,289.55,216.19,202.13,202.64,230.35,252.13,266.26,231.66,232.25,184.0,205.86,239.58,234.61,198.67,232.72,212.3,193.67,210.69,232.75,273.42,226.74,252.27,189.8,222.19,190.0,228.47,214.02,253.28,218.41,207.83,208.02,223.07,258.14,209.5,251.8,261.48,213.16,207.89,224.38,285.1,192.97,188.05,258.98,243.85,185.0,197.17,218.88,189.41,240.46,178.66,249.72,236.61,255.72,208.88,159.5,243.36,218.17,170.52,218.46,215.41,252.85,169.0,210.03,224.88,189.1,265.22,194.88,207.3,233.19,215.67,239.97,255.1,247.41,200.1,193.22,199.6,233.24,204.47,216.61,258.23,186.07,164.07,220.16,204.27,205.64,225.13,218.13,228.39,232.17,197.05,222.86,274.47,215.61,242.52,179.74,160.39,213.86,234.55,236.38,216.16,201.47,186.94,242.42,230.41,176.63],\"yaxis\":\"y\",\"type\":\"histogram\"}],                        {\"template\":{\"data\":{\"bar\":[{\"error_x\":{\"color\":\"#2a3f5f\"},\"error_y\":{\"color\":\"#2a3f5f\"},\"marker\":{\"line\":{\"color\":\"#E5ECF6\",\"width\":0.5},\"pattern\":{\"fillmode\":\"overlay\",\"size\":10,\"solidity\":0.2}},\"type\":\"bar\"}],\"barpolar\":[{\"marker\":{\"line\":{\"color\":\"#E5ECF6\",\"width\":0.5},\"pattern\":{\"fillmode\":\"overlay\",\"size\":10,\"solidity\":0.2}},\"type\":\"barpolar\"}],\"carpet\":[{\"aaxis\":{\"endlinecolor\":\"#2a3f5f\",\"gridcolor\":\"white\",\"linecolor\":\"white\",\"minorgridcolor\":\"white\",\"startlinecolor\":\"#2a3f5f\"},\"baxis\":{\"endlinecolor\":\"#2a3f5f\",\"gridcolor\":\"white\",\"linecolor\":\"white\",\"minorgridcolor\":\"white\",\"startlinecolor\":\"#2a3f5f\"},\"type\":\"carpet\"}],\"choropleth\":[{\"colorbar\":{\"outlinewidth\":0,\"ticks\":\"\"},\"type\":\"choropleth\"}],\"contour\":[{\"colorbar\":{\"outlinewidth\":0,\"ticks\":\"\"},\"colorscale\":[[0.0,\"#0d0887\"],[0.1111111111111111,\"#46039f\"],[0.2222222222222222,\"#7201a8\"],[0.3333333333333333,\"#9c179e\"],[0.4444444444444444,\"#bd3786\"],[0.5555555555555556,\"#d8576b\"],[0.6666666666666666,\"#ed7953\"],[0.7777777777777778,\"#fb9f3a\"],[0.8888888888888888,\"#fdca26\"],[1.0,\"#f0f921\"]],\"type\":\"contour\"}],\"contourcarpet\":[{\"colorbar\":{\"outlinewidth\":0,\"ticks\":\"\"},\"type\":\"contourcarpet\"}],\"heatmap\":[{\"colorbar\":{\"outlinewidth\":0,\"ticks\":\"\"},\"colorscale\":[[0.0,\"#0d0887\"],[0.1111111111111111,\"#46039f\"],[0.2222222222222222,\"#7201a8\"],[0.3333333333333333,\"#9c179e\"],[0.4444444444444444,\"#bd3786\"],[0.5555555555555556,\"#d8576b\"],[0.6666666666666666,\"#ed7953\"],[0.7777777777777778,\"#fb9f3a\"],[0.8888888888888888,\"#fdca26\"],[1.0,\"#f0f921\"]],\"type\":\"heatmap\"}],\"heatmapgl\":[{\"colorbar\":{\"outlinewidth\":0,\"ticks\":\"\"},\"colorscale\":[[0.0,\"#0d0887\"],[0.1111111111111111,\"#46039f\"],[0.2222222222222222,\"#7201a8\"],[0.3333333333333333,\"#9c179e\"],[0.4444444444444444,\"#bd3786\"],[0.5555555555555556,\"#d8576b\"],[0.6666666666666666,\"#ed7953\"],[0.7777777777777778,\"#fb9f3a\"],[0.8888888888888888,\"#fdca26\"],[1.0,\"#f0f921\"]],\"type\":\"heatmapgl\"}],\"histogram\":[{\"marker\":{\"pattern\":{\"fillmode\":\"overlay\",\"size\":10,\"solidity\":0.2}},\"type\":\"histogram\"}],\"histogram2d\":[{\"colorbar\":{\"outlinewidth\":0,\"ticks\":\"\"},\"colorscale\":[[0.0,\"#0d0887\"],[0.1111111111111111,\"#46039f\"],[0.2222222222222222,\"#7201a8\"],[0.3333333333333333,\"#9c179e\"],[0.4444444444444444,\"#bd3786\"],[0.5555555555555556,\"#d8576b\"],[0.6666666666666666,\"#ed7953\"],[0.7777777777777778,\"#fb9f3a\"],[0.8888888888888888,\"#fdca26\"],[1.0,\"#f0f921\"]],\"type\":\"histogram2d\"}],\"histogram2dcontour\":[{\"colorbar\":{\"outlinewidth\":0,\"ticks\":\"\"},\"colorscale\":[[0.0,\"#0d0887\"],[0.1111111111111111,\"#46039f\"],[0.2222222222222222,\"#7201a8\"],[0.3333333333333333,\"#9c179e\"],[0.4444444444444444,\"#bd3786\"],[0.5555555555555556,\"#d8576b\"],[0.6666666666666666,\"#ed7953\"],[0.7777777777777778,\"#fb9f3a\"],[0.8888888888888888,\"#fdca26\"],[1.0,\"#f0f921\"]],\"type\":\"histogram2dcontour\"}],\"mesh3d\":[{\"colorbar\":{\"outlinewidth\":0,\"ticks\":\"\"},\"type\":\"mesh3d\"}],\"parcoords\":[{\"line\":{\"colorbar\":{\"outlinewidth\":0,\"ticks\":\"\"}},\"type\":\"parcoords\"}],\"pie\":[{\"automargin\":true,\"type\":\"pie\"}],\"scatter\":[{\"marker\":{\"colorbar\":{\"outlinewidth\":0,\"ticks\":\"\"}},\"type\":\"scatter\"}],\"scatter3d\":[{\"line\":{\"colorbar\":{\"outlinewidth\":0,\"ticks\":\"\"}},\"marker\":{\"colorbar\":{\"outlinewidth\":0,\"ticks\":\"\"}},\"type\":\"scatter3d\"}],\"scattercarpet\":[{\"marker\":{\"colorbar\":{\"outlinewidth\":0,\"ticks\":\"\"}},\"type\":\"scattercarpet\"}],\"scattergeo\":[{\"marker\":{\"colorbar\":{\"outlinewidth\":0,\"ticks\":\"\"}},\"type\":\"scattergeo\"}],\"scattergl\":[{\"marker\":{\"colorbar\":{\"outlinewidth\":0,\"ticks\":\"\"}},\"type\":\"scattergl\"}],\"scattermapbox\":[{\"marker\":{\"colorbar\":{\"outlinewidth\":0,\"ticks\":\"\"}},\"type\":\"scattermapbox\"}],\"scatterpolar\":[{\"marker\":{\"colorbar\":{\"outlinewidth\":0,\"ticks\":\"\"}},\"type\":\"scatterpolar\"}],\"scatterpolargl\":[{\"marker\":{\"colorbar\":{\"outlinewidth\":0,\"ticks\":\"\"}},\"type\":\"scatterpolargl\"}],\"scatterternary\":[{\"marker\":{\"colorbar\":{\"outlinewidth\":0,\"ticks\":\"\"}},\"type\":\"scatterternary\"}],\"surface\":[{\"colorbar\":{\"outlinewidth\":0,\"ticks\":\"\"},\"colorscale\":[[0.0,\"#0d0887\"],[0.1111111111111111,\"#46039f\"],[0.2222222222222222,\"#7201a8\"],[0.3333333333333333,\"#9c179e\"],[0.4444444444444444,\"#bd3786\"],[0.5555555555555556,\"#d8576b\"],[0.6666666666666666,\"#ed7953\"],[0.7777777777777778,\"#fb9f3a\"],[0.8888888888888888,\"#fdca26\"],[1.0,\"#f0f921\"]],\"type\":\"surface\"}],\"table\":[{\"cells\":{\"fill\":{\"color\":\"#EBF0F8\"},\"line\":{\"color\":\"white\"}},\"header\":{\"fill\":{\"color\":\"#C8D4E3\"},\"line\":{\"color\":\"white\"}},\"type\":\"table\"}]},\"layout\":{\"annotationdefaults\":{\"arrowcolor\":\"#2a3f5f\",\"arrowhead\":0,\"arrowwidth\":1},\"autotypenumbers\":\"strict\",\"coloraxis\":{\"colorbar\":{\"outlinewidth\":0,\"ticks\":\"\"}},\"colorscale\":{\"diverging\":[[0,\"#8e0152\"],[0.1,\"#c51b7d\"],[0.2,\"#de77ae\"],[0.3,\"#f1b6da\"],[0.4,\"#fde0ef\"],[0.5,\"#f7f7f7\"],[0.6,\"#e6f5d0\"],[0.7,\"#b8e186\"],[0.8,\"#7fbc41\"],[0.9,\"#4d9221\"],[1,\"#276419\"]],\"sequential\":[[0.0,\"#0d0887\"],[0.1111111111111111,\"#46039f\"],[0.2222222222222222,\"#7201a8\"],[0.3333333333333333,\"#9c179e\"],[0.4444444444444444,\"#bd3786\"],[0.5555555555555556,\"#d8576b\"],[0.6666666666666666,\"#ed7953\"],[0.7777777777777778,\"#fb9f3a\"],[0.8888888888888888,\"#fdca26\"],[1.0,\"#f0f921\"]],\"sequentialminus\":[[0.0,\"#0d0887\"],[0.1111111111111111,\"#46039f\"],[0.2222222222222222,\"#7201a8\"],[0.3333333333333333,\"#9c179e\"],[0.4444444444444444,\"#bd3786\"],[0.5555555555555556,\"#d8576b\"],[0.6666666666666666,\"#ed7953\"],[0.7777777777777778,\"#fb9f3a\"],[0.8888888888888888,\"#fdca26\"],[1.0,\"#f0f921\"]]},\"colorway\":[\"#636efa\",\"#EF553B\",\"#00cc96\",\"#ab63fa\",\"#FFA15A\",\"#19d3f3\",\"#FF6692\",\"#B6E880\",\"#FF97FF\",\"#FECB52\"],\"font\":{\"color\":\"#2a3f5f\"},\"geo\":{\"bgcolor\":\"white\",\"lakecolor\":\"white\",\"landcolor\":\"#E5ECF6\",\"showlakes\":true,\"showland\":true,\"subunitcolor\":\"white\"},\"hoverlabel\":{\"align\":\"left\"},\"hovermode\":\"closest\",\"mapbox\":{\"style\":\"light\"},\"paper_bgcolor\":\"white\",\"plot_bgcolor\":\"#E5ECF6\",\"polar\":{\"angularaxis\":{\"gridcolor\":\"white\",\"linecolor\":\"white\",\"ticks\":\"\"},\"bgcolor\":\"#E5ECF6\",\"radialaxis\":{\"gridcolor\":\"white\",\"linecolor\":\"white\",\"ticks\":\"\"}},\"scene\":{\"xaxis\":{\"backgroundcolor\":\"#E5ECF6\",\"gridcolor\":\"white\",\"gridwidth\":2,\"linecolor\":\"white\",\"showbackground\":true,\"ticks\":\"\",\"zerolinecolor\":\"white\"},\"yaxis\":{\"backgroundcolor\":\"#E5ECF6\",\"gridcolor\":\"white\",\"gridwidth\":2,\"linecolor\":\"white\",\"showbackground\":true,\"ticks\":\"\",\"zerolinecolor\":\"white\"},\"zaxis\":{\"backgroundcolor\":\"#E5ECF6\",\"gridcolor\":\"white\",\"gridwidth\":2,\"linecolor\":\"white\",\"showbackground\":true,\"ticks\":\"\",\"zerolinecolor\":\"white\"}},\"shapedefaults\":{\"line\":{\"color\":\"#2a3f5f\"}},\"ternary\":{\"aaxis\":{\"gridcolor\":\"white\",\"linecolor\":\"white\",\"ticks\":\"\"},\"baxis\":{\"gridcolor\":\"white\",\"linecolor\":\"white\",\"ticks\":\"\"},\"bgcolor\":\"#E5ECF6\",\"caxis\":{\"gridcolor\":\"white\",\"linecolor\":\"white\",\"ticks\":\"\"}},\"title\":{\"x\":0.05},\"xaxis\":{\"automargin\":true,\"gridcolor\":\"white\",\"linecolor\":\"white\",\"ticks\":\"\",\"title\":{\"standoff\":15},\"zerolinecolor\":\"white\",\"zerolinewidth\":2},\"yaxis\":{\"automargin\":true,\"gridcolor\":\"white\",\"linecolor\":\"white\",\"ticks\":\"\",\"title\":{\"standoff\":15},\"zerolinecolor\":\"white\",\"zerolinewidth\":2}}},\"xaxis\":{\"anchor\":\"y\",\"domain\":[0.0,1.0],\"title\":{\"text\":\"sigla_uf\"}},\"yaxis\":{\"anchor\":\"x\",\"domain\":[0.0,1.0],\"title\":{\"text\":\"sum of nota_saeb_matematica\"}},\"legend\":{\"tracegroupgap\":0},\"margin\":{\"t\":60},\"barmode\":\"relative\"},                        {\"responsive\": true}                    ).then(function(){\n",
              "                            \n",
              "var gd = document.getElementById('f1252c58-7512-4df7-b630-2b8233975cdd');\n",
              "var x = new MutationObserver(function (mutations, observer) {{\n",
              "        var display = window.getComputedStyle(gd).display;\n",
              "        if (!display || display === 'none') {{\n",
              "            console.log([gd, 'removed!']);\n",
              "            Plotly.purge(gd);\n",
              "            observer.disconnect();\n",
              "        }}\n",
              "}});\n",
              "\n",
              "// Listen for the removal of the full notebook cells\n",
              "var notebookContainer = gd.closest('#notebook-container');\n",
              "if (notebookContainer) {{\n",
              "    x.observe(notebookContainer, {childList: true});\n",
              "}}\n",
              "\n",
              "// Listen for the clearing of the current output cell\n",
              "var outputEl = gd.closest('.output');\n",
              "if (outputEl) {{\n",
              "    x.observe(outputEl, {childList: true});\n",
              "}}\n",
              "\n",
              "                        })                };                            </script>        </div>\n",
              "</body>\n",
              "</html>"
            ]
          },
          "metadata": {}
        }
      ]
    },
    {
      "cell_type": "code",
      "source": [
        "# Assimetria e Curtose\n",
        "assimetria(df_ideb.nota_saeb_matematica)"
      ],
      "metadata": {
        "id": "FhZom846-NIc",
        "colab": {
          "base_uri": "https://localhost:8080/",
          "height": 35
        },
        "outputId": "125b8f5f-83c3-40e3-f4e8-90abc72f226e"
      },
      "execution_count": 123,
      "outputs": [
        {
          "output_type": "execute_result",
          "data": {
            "text/plain": [
              "'Assimetria à esquerda ou negativa'"
            ],
            "application/vnd.google.colaboratory.intrinsic+json": {
              "type": "string"
            }
          },
          "metadata": {},
          "execution_count": 123
        }
      ]
    },
    {
      "cell_type": "code",
      "source": [
        "curtose(df_ideb.nota_saeb_matematica)"
      ],
      "metadata": {
        "colab": {
          "base_uri": "https://localhost:8080/",
          "height": 35
        },
        "id": "_PYBoCl0t7-U",
        "outputId": "484084e0-a4f3-4f0f-ec42-15d536c7423a"
      },
      "execution_count": 124,
      "outputs": [
        {
          "output_type": "execute_result",
          "data": {
            "text/plain": [
              "'platicúrtica'"
            ],
            "application/vnd.google.colaboratory.intrinsic+json": {
              "type": "string"
            }
          },
          "metadata": {},
          "execution_count": 124
        }
      ]
    },
    {
      "cell_type": "markdown",
      "source": [
        "Nota SAEB Língua Portuguesa"
      ],
      "metadata": {
        "id": "sh0npkwGyt2M"
      }
    },
    {
      "cell_type": "code",
      "source": [
        "# Histograma\n",
        "histograma(df_ideb.nota_saeb_lingua_portuguesa)"
      ],
      "metadata": {
        "id": "hg0ptUGd-Oiy",
        "colab": {
          "base_uri": "https://localhost:8080/",
          "height": 542
        },
        "outputId": "56bbbbb6-75d1-4a20-b6ab-90fce9940064"
      },
      "execution_count": 125,
      "outputs": [
        {
          "output_type": "display_data",
          "data": {
            "text/html": [
              "<html>\n",
              "<head><meta charset=\"utf-8\" /></head>\n",
              "<body>\n",
              "    <div>            <script src=\"https://cdnjs.cloudflare.com/ajax/libs/mathjax/2.7.5/MathJax.js?config=TeX-AMS-MML_SVG\"></script><script type=\"text/javascript\">if (window.MathJax) {MathJax.Hub.Config({SVG: {font: \"STIX-Web\"}});}</script>                <script type=\"text/javascript\">window.PlotlyConfig = {MathJaxConfig: 'local'};</script>\n",
              "        <script src=\"https://cdn.plot.ly/plotly-2.8.3.min.js\"></script>                <div id=\"5f7f0eb5-7691-41cb-b1cc-f67b7457cf03\" class=\"plotly-graph-div\" style=\"height:525px; width:100%;\"></div>            <script type=\"text/javascript\">                                    window.PLOTLYENV=window.PLOTLYENV || {};                                    if (document.getElementById(\"5f7f0eb5-7691-41cb-b1cc-f67b7457cf03\")) {                    Plotly.newPlot(                        \"5f7f0eb5-7691-41cb-b1cc-f67b7457cf03\",                        [{\"alignmentgroup\":\"True\",\"bingroup\":\"x\",\"histfunc\":\"sum\",\"hovertemplate\":\"sigla_uf=%{x}<br>sum of nota_saeb_lingua_portuguesa=%{y}<extra></extra>\",\"legendgroup\":\"\",\"marker\":{\"color\":\"#636efa\",\"pattern\":{\"shape\":\"\"}},\"name\":\"\",\"offsetgroup\":\"\",\"orientation\":\"v\",\"showlegend\":false,\"x\":[\"MG\",\"PE\",\"RJ\",\"SP\",\"PA\",\"MG\",\"BA\",\"RS\",\"RJ\",\"PR\",\"PA\",\"CE\",\"SP\",\"GO\",\"SP\",\"CE\",\"PA\",\"GO\",\"MG\",\"SE\",\"ES\",\"PE\",\"BA\",\"SC\",\"MT\",\"GO\",\"DF\",\"CE\",\"RJ\",\"RS\",\"ES\",\"PE\",\"BA\",\"SC\",\"BA\",\"RJ\",\"MA\",\"MG\",\"AL\",\"BA\",\"SP\",\"ES\",\"RS\",\"PR\",\"SC\",\"SP\",\"GO\",\"SC\",\"BA\",\"BA\",\"RS\",\"PE\",\"CE\",\"SC\",\"RS\",\"PB\",\"RJ\",\"AL\",\"PA\",\"MG\",\"PA\",\"RS\",\"BA\",\"SC\",\"AL\",\"CE\",\"AC\",\"CE\",\"AL\",\"MA\",\"MA\",\"AL\",\"CE\",\"RN\",\"MG\",\"RO\",\"AC\",\"RS\",\"RO\",\"PA\",\"RS\",\"PR\",\"SP\",\"PE\",\"PA\",\"MA\",\"SP\",\"SP\",\"MT\",\"GO\",\"RJ\",\"MA\",\"MA\",\"CE\",\"BA\",\"RS\",\"SP\",\"PA\",\"PA\",\"BA\",\"PI\",\"RJ\",\"PA\",\"MS\",\"ES\",\"SP\",\"TO\",\"BA\",\"PI\",\"PI\",\"MG\",\"CE\",\"SP\",\"RR\",\"AC\",\"SP\",\"MA\",\"RJ\",\"MG\",\"DF\",\"PA\",\"MA\",\"PA\",\"SP\",\"RO\",\"PB\",\"MS\",\"ES\",\"SP\",\"BA\",\"RJ\",\"SP\",\"SP\",\"CE\",\"RS\",\"BA\",\"PR\",\"MS\",\"RN\",\"BA\",\"MG\",\"SP\",\"PB\",\"SP\",\"PA\",\"MA\",\"SC\",\"RJ\",\"PA\",\"RS\",\"BA\",\"RN\",\"PR\",\"RJ\",\"BA\",\"CE\",\"TO\",\"BA\",\"BA\",\"PR\",\"AM\",\"CE\",\"SC\",\"RS\",\"MG\",\"MG\",\"BA\",\"RS\",\"BA\",\"CE\",\"PR\",\"MT\",\"BA\",\"SC\",\"SC\",\"PI\",\"RJ\",\"CE\",\"SP\",\"BA\",\"RS\",\"SP\",\"PB\",\"MT\",\"PA\",\"MG\",\"GO\",\"SC\",\"PE\",\"SP\",\"MG\",\"MA\",\"BA\",\"SP\",\"BA\",\"SP\",\"PA\",\"AL\",\"PE\",\"SE\",\"MG\",\"PE\",\"BA\",\"CE\",\"PA\",\"PB\",\"MG\",\"MT\",\"ES\",\"CE\",\"SP\",\"PA\",\"CE\",\"SP\",\"MS\",\"MT\",\"PB\",\"AM\",\"PE\",\"MS\",\"ES\",\"SP\",\"CE\",\"PE\",\"AM\",\"MT\",\"SP\",\"MT\",\"PR\",\"PR\",\"PE\",\"PB\",\"PB\",\"DF\",\"RJ\",\"MG\",\"PR\",\"MG\",\"PI\",\"SP\",\"MG\",\"PB\",\"BA\",\"AM\",\"SC\",\"PE\",\"RS\",\"SP\",\"AL\",\"PR\",\"SP\",\"RN\",\"SE\",\"PE\",\"BA\",\"RN\",\"RS\",\"RJ\",\"BA\",\"SP\",\"BA\",\"SP\",\"PB\",\"BA\",\"PE\",\"MA\",\"PR\",\"PR\",\"AL\",\"MS\",\"SP\",\"MG\",\"DF\",\"MG\",\"MG\",\"BA\",\"BA\",\"MA\",\"GO\",\"MG\",\"CE\",\"SC\",\"MA\",\"PE\",\"MS\",\"PI\",\"SP\",\"TO\",\"PE\",\"SP\",\"MT\",\"PB\",\"AL\",\"MG\",\"CE\",\"GO\",\"SP\",\"RS\",\"RN\",\"SP\",\"PE\",\"ES\",\"SP\",\"DF\",\"CE\",\"SP\",\"PB\",\"GO\",\"SC\",\"AC\",\"MG\",\"PE\",\"ES\",\"RN\",\"SP\",\"GO\",\"MT\",\"MG\",\"GO\",\"PE\",\"MG\",\"SP\",\"SP\",\"RN\",\"PR\",\"RJ\",\"SP\",\"PR\",\"MG\",\"SP\",\"RJ\",\"BA\",\"PE\",\"SP\",\"PB\",\"CE\",\"PI\",\"MA\",\"PE\",\"PR\",\"MA\",\"GO\",\"CE\",\"BA\",\"PA\",\"AL\",\"SE\",\"BA\",\"PR\",\"RS\",\"BA\",\"BA\",\"RJ\",\"RS\",\"PR\",\"PR\",\"MA\",\"AM\",\"RN\",\"SP\",\"PA\",\"PE\",\"AL\",\"GO\",\"RS\",\"PR\",\"BA\",\"RJ\",\"SE\",\"PI\",\"BA\",\"PB\",\"SP\",\"PR\",\"PA\",\"PE\",\"CE\",\"RO\",\"MT\",\"SP\",\"SP\",\"MA\",\"MT\",\"SP\",\"MT\",\"MA\",\"RS\",\"PI\",\"MG\",\"RJ\",\"MT\",\"TO\",\"PA\",\"SP\",\"MA\",\"RJ\",\"SP\",\"PR\",\"BA\",\"RS\",\"AL\",\"BA\",\"PR\",\"CE\",\"BA\",\"SE\",\"CE\",\"ES\",\"MG\",\"SP\",\"MA\",\"SP\",\"SP\",\"PE\",\"CE\",\"MG\",\"SC\",\"TO\",\"MT\",\"SP\",\"RN\",\"MG\",\"BA\",\"MA\",\"PR\",\"BA\",\"ES\",\"PA\",\"MA\",\"SC\",\"MA\",\"MT\",\"BA\",\"BA\",\"BA\",\"BA\",\"RO\",\"PI\",\"PI\",\"PR\",\"BA\",\"PA\",\"SP\",\"CE\",\"PE\",\"RJ\",\"PR\",\"RS\",\"SC\",\"SP\",\"CE\",\"BA\",\"MA\",\"PA\",\"AM\",\"MA\",\"AL\",\"SP\",\"MT\",\"RJ\",\"RJ\",\"PE\",\"BA\",\"BA\",\"SP\",\"MG\",\"RS\",\"PR\",\"PE\",\"PA\",\"ES\",\"SE\",\"SC\",\"MG\",\"PR\",\"RN\",\"MG\",\"SP\",\"RN\",\"PR\",\"SP\",\"SP\",\"SE\",\"MA\",\"PE\",\"CE\",\"MG\",\"PE\",\"PA\",\"RJ\",\"SP\",\"SP\",\"MG\",\"RJ\",\"SP\",\"RJ\",\"MG\",\"PB\",\"CE\",\"AC\",\"SP\",\"PA\",\"PR\",\"RJ\",\"RN\",\"MG\",\"GO\",\"RS\",\"RS\",\"PR\",\"MT\",\"PR\",\"RS\",\"RJ\",\"RJ\",\"PA\",\"AM\",\"AL\",\"PE\",\"RS\",\"BA\",\"BA\",\"PA\",\"BA\",\"PB\",\"PA\",\"SP\",\"AL\",\"RN\",\"RS\",\"SP\",\"PI\",\"GO\",\"AP\",\"RS\",\"MA\",\"MS\",\"CE\",\"RS\",\"RJ\",\"PE\",\"PA\",\"ES\",\"GO\",\"SP\",\"MG\",\"PA\",\"MG\",\"MG\",\"RS\",\"PE\",\"PE\",\"MA\",\"MA\",\"SP\",\"RJ\",\"BA\",\"GO\",\"GO\",\"BA\",\"RJ\",\"DF\",\"PA\",\"SC\",\"MG\",\"PR\",\"SC\",\"RJ\",\"AL\",\"SP\",\"MG\",\"RS\",\"SP\",\"BA\",\"BA\",\"PR\",\"RJ\",\"PR\",\"SP\",\"RS\",\"MA\",\"RS\",\"SE\",\"RJ\",\"RS\",\"SE\",\"PE\",\"RN\",\"MG\",\"BA\",\"PA\",\"GO\",\"RJ\",\"MG\",\"SP\",\"CE\",\"PR\",\"MA\",\"PR\",\"PR\",\"MT\",\"PB\",\"DF\",\"PE\",\"BA\",\"SC\",\"RS\",\"PA\",\"MG\",\"PA\",\"SC\",\"PA\",\"BA\",\"MA\",\"PA\",\"BA\",\"MG\",\"CE\",\"AM\",\"SC\",\"AM\",\"RS\",\"MG\",\"RN\",\"CE\",\"BA\",\"SP\",\"RJ\",\"RS\",\"SP\",\"CE\",\"SC\",\"SP\",\"MA\",\"MG\",\"RR\",\"RS\",\"BA\",\"PA\",\"PA\",\"MT\",\"RS\",\"MG\",\"SP\",\"SP\",\"PA\",\"SC\",\"MG\",\"MG\",\"PA\",\"SP\",\"AM\",\"MG\",\"AC\",\"PR\",\"MA\",\"SP\",\"MA\",\"RJ\",\"PE\",\"SP\",\"SP\",\"MA\",\"AL\",\"TO\",\"BA\",\"SP\",\"PB\",\"MG\",\"MA\",\"RS\",\"CE\",\"MA\",\"MG\",\"PR\",\"CE\",\"BA\",\"PR\",\"PE\",\"BA\",\"PE\",\"BA\",\"PA\",\"PE\",\"PB\",\"PR\",\"RJ\",\"BA\",\"PB\",\"MT\",\"PR\",\"SC\",\"BA\",\"MA\",\"PB\",\"BA\",\"PR\",\"SP\",\"BA\",\"PE\",\"MA\",\"BA\",\"PA\",\"RS\",\"AM\",\"MG\",\"PR\",\"BA\",\"PA\",\"SP\",\"AM\",\"SP\",\"RO\",\"PE\",\"ES\",\"RJ\",\"MG\",\"PR\",\"PE\",\"PR\",\"BA\",\"RJ\",\"PA\",\"PE\",\"BA\",\"BA\",\"AC\",\"MA\",\"SP\",\"BA\",\"TO\",\"CE\",\"ES\",\"PR\",\"SP\",\"RS\",\"BA\",\"PR\",\"ES\",\"ES\",\"SE\",\"PE\",\"BA\",\"RN\",\"SP\",\"SP\",\"MT\",\"SC\",\"MA\",\"ES\",\"PA\",\"SP\",\"MG\",\"PR\",\"SP\",\"PR\",\"MA\",\"PA\",\"GO\",\"RS\",\"MG\",\"MS\",\"RJ\",\"CE\",\"CE\",\"MG\",\"BA\",\"MG\",\"RO\",\"SP\",\"SP\",\"BA\",\"RS\",\"RS\",\"TO\",\"MA\",\"PR\",\"PE\",\"PR\",\"PR\",\"MA\",\"PE\",\"PE\",\"RN\",\"BA\",\"MG\",\"BA\",\"SP\",\"SP\",\"RN\",\"MS\",\"MG\",\"PE\",\"BA\",\"CE\",\"RJ\",\"AP\",\"PA\",\"AP\",\"BA\",\"PE\",\"MG\",\"MG\",\"TO\",\"PB\",\"PR\",\"AM\",\"GO\",\"BA\",\"ES\",\"GO\",\"PR\",\"MT\",\"RJ\",\"BA\",\"PR\",\"SP\",\"MG\",\"MA\",\"PE\",\"RN\",\"PE\",\"PA\",\"PB\",\"SP\",\"PE\",\"MA\",\"RS\",\"RS\",\"SP\",\"PR\",\"RS\",\"SP\",\"SC\",\"PA\",\"MG\",\"CE\",\"MT\",\"SP\",\"SC\",\"PR\",\"CE\",\"MG\",\"PA\",\"RO\",\"AM\",\"RJ\",\"PI\",\"BA\",\"MG\",\"RJ\",\"RN\",\"PA\",\"SE\",\"ES\",\"CE\",\"ES\",\"RJ\",\"AM\",\"MG\",\"RS\",\"SP\",\"BA\",\"MA\",\"RS\",\"RR\",\"PA\",\"RN\",\"SP\",\"SP\",\"GO\",\"SP\",\"BA\",\"BA\",\"TO\",\"PR\",\"MG\",\"PA\",\"RS\",\"PI\",\"AM\",\"SP\",\"SP\",\"PR\",\"RN\",\"MT\",\"PR\",\"ES\",\"BA\",\"RN\",\"SC\",\"PE\",\"GO\",\"SP\",\"SP\",\"CE\",\"MG\",\"MS\",\"CE\",\"MG\",\"SP\",\"PR\",\"MG\",\"RJ\",\"MS\",\"MA\",\"SC\",\"RS\",\"AM\",\"RS\",\"BA\",\"TO\",\"MG\",\"PR\",\"PR\",\"MG\",\"PR\",\"SE\",\"SP\",\"SE\",\"SC\",\"MT\",\"SP\",\"MT\",\"SP\",\"SP\",\"CE\",\"SP\",\"RS\",\"MG\",\"PR\",\"PE\",\"PE\",\"MG\",\"SC\",\"MA\",\"RS\",\"MG\",\"MS\",\"BA\",\"MA\",\"AL\",\"AP\",\"MG\",\"PA\",\"SC\",\"PR\",\"RS\",\"GO\",\"AM\",\"MT\",\"RS\",\"BA\",\"SP\",\"SC\",\"GO\",\"MA\",\"RO\",\"RJ\",\"AL\",\"SC\",\"BA\",\"GO\",\"AM\",\"MG\",\"SP\",\"SP\",\"RS\",\"PI\",\"PE\",\"AL\",\"SP\",\"MA\",\"PB\",\"PR\",\"PA\",\"MA\",\"AL\",\"SC\",\"SE\",\"RJ\",\"MG\",\"CE\",\"MG\",\"PE\",\"MS\",\"PE\",\"RO\",\"SP\",\"PB\",\"BA\",\"MT\",\"PR\",\"CE\",\"MA\",\"PE\",\"RJ\",\"PE\",\"GO\",\"MA\"],\"xaxis\":\"x\",\"y\":[198.88,185.38,201.55,224.83,159.0,237.3,184.28,233.94,211.03,231.08,138.38,208.86,219.97,210.17,214.88,217.57,161.13,220.32,198.5,165.05,186.36,197.91,167.78,227.08,203.28,257.14,206.63,210.88,211.74,171.94,206.0,190.83,203.32,219.35,180.44,178.0,189.05,205.28,206.53,198.91,209.32,199.55,224.82,222.13,222.21,219.55,205.19,247.19,197.3,171.55,202.64,176.13,207.0,213.6,229.22,175.13,208.16,198.13,193.72,208.35,203.27,245.71,209.46,231.33,175.67,200.66,205.92,215.5,213.91,174.52,156.63,175.3,220.63,217.69,225.5,199.33,194.47,174.46,192.63,203.55,177.25,237.38,247.97,226.8,191.49,168.22,225.72,200.16,245.66,210.07,201.33,167.69,200.55,230.97,142.08,191.83,230.19,179.91,161.61,181.58,222.17,204.25,192.13,245.11,232.25,219.22,180.19,157.8,181.11,197.5,232.67,195.36,205.07,138.97,186.99,216.96,169.21,259.16,200.16,197.49,165.61,164.25,164.5,258.17,181.52,196.19,214.24,224.8,237.41,169.6,199.77,237.61,212.27,217.27,234.55,202.24,230.64,219.61,184.11,179.55,211.58,240.53,189.33,234.85,195.28,152.91,212.71,222.25,195.47,212.08,176.49,130.61,217.63,184.94,213.35,206.58,193.52,239.44,201.74,229.42,181.22,241.72,231.52,225.08,178.3,200.61,218.41,228.58,179.91,229.16,210.33,240.24,186.24,235.36,207.86,188.03,183.47,207.88,255.32,177.36,212.47,232.82,214.22,227.52,195.24,234.74,217.41,205.63,171.52,233.02,220.47,173.46,180.63,232.11,175.11,221.53,157.91,196.11,205.41,198.5,178.33,211.91,197.02,202.83,206.27,188.66,254.85,194.71,225.74,198.24,222.66,187.77,227.0,209.83,202.19,210.46,196.94,153.39,194.17,229.83,202.89,241.38,209.91,176.71,163.61,233.07,224.66,217.19,240.55,207.86,200.08,215.75,200.03,221.52,178.63,205.41,207.69,232.27,188.78,228.1,210.96,220.44,168.19,147.75,256.91,214.55,228.75,232.58,204.97,236.52,243.97,178.08,220.35,200.27,179.1,223.97,237.69,199.88,216.11,250.42,146.58,193.99,187.08,172.66,221.97,164.66,246.13,207.44,162.86,192.94,212.42,200.66,223.64,200.46,240.86,178.36,200.03,206.77,194.22,183.42,226.1,246.47,180.75,180.67,163.27,176.66,226.13,212.47,201.28,214.74,210.6,216.42,230.35,173.24,207.38,193.8,191.61,228.16,169.5,230.94,232.27,218.97,223.89,239.94,227.69,217.41,171.52,215.57,204.91,231.05,215.63,170.74,250.0,179.47,211.36,225.35,171.72,231.99,184.49,156.3,223.72,220.38,227.11,204.24,219.3,207.44,206.33,235.66,182.99,243.0,205.17,170.58,187.11,206.25,174.13,190.38,157.53,149.5,160.52,216.42,195.77,246.52,170.77,203.38,188.94,259.52,174.11,201.02,254.96,203.17,163.71,209.94,207.72,225.25,233.88,178.77,185.75,149.46,210.07,223.07,137.17,185.46,147.86,233.78,214.88,218.46,150.21,201.5,172.41,209.47,193.92,196.55,209.8,244.47,177.14,179.91,187.91,217.3,191.16,206.3,255.57,153.92,201.91,243.32,202.28,212.99,225.39,170.19,219.64,185.58,196.75,190.36,199.85,201.64,145.13,227.05,220.11,215.91,146.05,209.86,193.61,195.75,225.77,201.58,191.46,147.17,206.72,190.33,183.85,255.92,174.42,219.55,232.25,239.25,208.6,216.85,243.97,222.3,198.52,224.1,181.71,198.0,237.21,148.46,217.52,169.25,219.67,192.91,175.44,210.86,160.75,181.13,171.72,215.88,212.75,189.36,203.91,182.11,220.17,221.6,195.47,143.71,231.63,229.05,189.99,187.55,200.97,246.88,220.47,203.91,206.96,147.8,186.1,222.83,165.05,166.66,196.22,236.19,202.3,215.3,231.16,184.02,193.66,192.97,206.64,202.16,213.49,221.41,208.52,142.61,217.44,194.14,239.77,224.02,225.47,193.36,224.61,223.16,208.63,236.13,203.0,227.22,191.89,154.27,201.47,220.94,200.16,178.91,210.72,166.57,228.63,217.19,221.69,226.83,234.33,194.5,237.41,193.99,220.47,244.05,240.32,175.17,229.19,219.21,165.89,232.47,188.19,227.82,215.71,206.88,186.82,223.66,184.94,223.55,191.19,212.46,211.67,199.58,192.92,227.69,194.66,199.05,159.97,217.75,202.63,173.07,243.86,169.69,202.72,222.3,237.41,145.39,237.64,160.05,255.64,171.86,200.8,203.63,193.89,180.52,201.69,155.47,214.66,237.46,219.97,218.82,205.16,215.86,198.49,196.91,174.0,197.21,188.42,201.22,203.55,219.13,161.71,248.05,210.17,174.28,204.58,224.36,175.1,223.97,213.58,202.33,215.83,240.53,182.07,220.13,216.42,234.63,202.17,181.91,211.97,193.39,209.35,221.77,231.91,212.11,162.69,181.07,178.13,218.75,219.63,172.39,170.44,163.32,219.46,174.25,185.0,232.3,203.36,212.3,244.46,235.02,254.77,217.85,227.75,242.08,200.05,204.25,211.8,196.77,185.0,204.61,232.22,209.46,190.08,205.08,207.16,202.77,207.33,184.19,131.57,197.42,223.42,206.16,200.69,249.08,216.07,223.57,219.53,158.5,238.39,165.27,220.74,217.52,204.44,197.91,242.07,250.02,231.5,176.94,186.58,236.38,192.02,206.27,183.69,202.99,226.33,247.36,228.16,209.58,203.94,190.77,221.36,229.97,197.64,175.88,238.52,235.83,229.61,185.53,218.47,203.44,226.69,185.53,207.53,208.27,237.55,226.3,186.97,173.57,195.78,222.42,185.46,173.02,223.8,189.02,175.55,217.8,176.58,248.92,232.52,202.05,183.67,198.71,234.32,209.08,191.3,188.0,162.5,179.83,183.39,215.13,185.92,156.64,143.78,236.16,230.0,219.94,193.33,149.19,183.86,230.89,236.82,233.8,192.42,190.63,197.83,215.11,204.86,222.55,190.94,226.3,225.8,161.55,169.75,236.83,193.03,233.77,218.02,204.86,214.33,212.91,236.44,192.58,187.1,229.91,209.16,193.97,189.41,215.32,158.61,193.3,197.58,157.47,216.07,180.22,230.44,222.44,208.27,198.66,213.0,239.38,211.72,227.8,203.86,203.27,200.38,190.11,149.36,195.36,242.08,236.32,191.11,198.44,182.58,245.88,184.75,202.3,183.61,214.72,217.75,248.58,165.94,188.8,206.69,201.41,233.33,176.16,208.71,229.75,206.75,191.41,197.96,195.69,218.55,236.22,238.66,185.74,212.38,222.07,160.52,211.25,231.75,193.13,241.32,230.97,177.02,210.86,178.17,198.63,213.28,230.02,203.61,219.19,203.0,212.16,204.97,207.94,173.41,212.61,234.6,204.17,176.21,169.86,213.88,191.38,236.25,230.94,209.49,171.8,176.28,231.39,183.16,177.52,184.24,231.75,221.89,214.3,206.96,190.52,225.64,211.0,208.58,209.24,138.66,189.33,188.17,184.39,202.22,167.55,231.33,218.88,152.28,243.52,225.27,210.67,215.27,246.03,245.38,243.27,155.35,230.82,204.41,195.55,210.11,190.55,236.83,226.88,202.41,214.5,168.33,173.97,194.08,178.94,225.49,237.3,221.92,181.33,174.88,182.38,219.83,209.38,206.47,209.88,213.17,210.52,219.49,227.75,187.44,192.77,197.33,135.94,176.86,173.0,202.46,237.82,200.36,217.63,239.08,167.42,175.42,221.91,173.77,133.46,229.75,218.92,205.77,205.69,241.44,197.61,213.83,177.61,234.39,179.99,178.47,167.11,214.1,210.32,244.66,253.58,221.24,269.1,207.21,194.05,178.57,209.77,235.13,233.24,217.75,218.66,175.11,189.75,217.07,212.52,182.63,215.72,207.47,181.61,195.0,211.55,248.74,225.0,234.78,163.19,212.36,174.02,212.46,196.86,235.35,206.88,199.3,186.75,225.61,233.03,191.89,230.44,244.22,199.47,199.49,206.86,260.47,188.47,181.63,230.36,232.78,174.61,181.42,208.86,180.03,227.53,166.49,238.58,205.24,242.21,201.52,161.36,216.38,204.55,159.27,198.02,202.0,240.33,155.05,200.11,209.97,176.99,247.74,178.0,200.61,223.5,202.1,216.5,241.02,246.75,196.58,188.61,176.33,229.99,180.13,202.02,246.88,169.74,156.13,203.53,191.47,191.66,214.66,209.6,221.89,210.16,176.35,210.5,251.55,196.08,214.38,170.55,132.52,205.07,210.72,222.58,204.91,187.63,186.55,219.8,207.6,146.24],\"yaxis\":\"y\",\"type\":\"histogram\"}],                        {\"template\":{\"data\":{\"bar\":[{\"error_x\":{\"color\":\"#2a3f5f\"},\"error_y\":{\"color\":\"#2a3f5f\"},\"marker\":{\"line\":{\"color\":\"#E5ECF6\",\"width\":0.5},\"pattern\":{\"fillmode\":\"overlay\",\"size\":10,\"solidity\":0.2}},\"type\":\"bar\"}],\"barpolar\":[{\"marker\":{\"line\":{\"color\":\"#E5ECF6\",\"width\":0.5},\"pattern\":{\"fillmode\":\"overlay\",\"size\":10,\"solidity\":0.2}},\"type\":\"barpolar\"}],\"carpet\":[{\"aaxis\":{\"endlinecolor\":\"#2a3f5f\",\"gridcolor\":\"white\",\"linecolor\":\"white\",\"minorgridcolor\":\"white\",\"startlinecolor\":\"#2a3f5f\"},\"baxis\":{\"endlinecolor\":\"#2a3f5f\",\"gridcolor\":\"white\",\"linecolor\":\"white\",\"minorgridcolor\":\"white\",\"startlinecolor\":\"#2a3f5f\"},\"type\":\"carpet\"}],\"choropleth\":[{\"colorbar\":{\"outlinewidth\":0,\"ticks\":\"\"},\"type\":\"choropleth\"}],\"contour\":[{\"colorbar\":{\"outlinewidth\":0,\"ticks\":\"\"},\"colorscale\":[[0.0,\"#0d0887\"],[0.1111111111111111,\"#46039f\"],[0.2222222222222222,\"#7201a8\"],[0.3333333333333333,\"#9c179e\"],[0.4444444444444444,\"#bd3786\"],[0.5555555555555556,\"#d8576b\"],[0.6666666666666666,\"#ed7953\"],[0.7777777777777778,\"#fb9f3a\"],[0.8888888888888888,\"#fdca26\"],[1.0,\"#f0f921\"]],\"type\":\"contour\"}],\"contourcarpet\":[{\"colorbar\":{\"outlinewidth\":0,\"ticks\":\"\"},\"type\":\"contourcarpet\"}],\"heatmap\":[{\"colorbar\":{\"outlinewidth\":0,\"ticks\":\"\"},\"colorscale\":[[0.0,\"#0d0887\"],[0.1111111111111111,\"#46039f\"],[0.2222222222222222,\"#7201a8\"],[0.3333333333333333,\"#9c179e\"],[0.4444444444444444,\"#bd3786\"],[0.5555555555555556,\"#d8576b\"],[0.6666666666666666,\"#ed7953\"],[0.7777777777777778,\"#fb9f3a\"],[0.8888888888888888,\"#fdca26\"],[1.0,\"#f0f921\"]],\"type\":\"heatmap\"}],\"heatmapgl\":[{\"colorbar\":{\"outlinewidth\":0,\"ticks\":\"\"},\"colorscale\":[[0.0,\"#0d0887\"],[0.1111111111111111,\"#46039f\"],[0.2222222222222222,\"#7201a8\"],[0.3333333333333333,\"#9c179e\"],[0.4444444444444444,\"#bd3786\"],[0.5555555555555556,\"#d8576b\"],[0.6666666666666666,\"#ed7953\"],[0.7777777777777778,\"#fb9f3a\"],[0.8888888888888888,\"#fdca26\"],[1.0,\"#f0f921\"]],\"type\":\"heatmapgl\"}],\"histogram\":[{\"marker\":{\"pattern\":{\"fillmode\":\"overlay\",\"size\":10,\"solidity\":0.2}},\"type\":\"histogram\"}],\"histogram2d\":[{\"colorbar\":{\"outlinewidth\":0,\"ticks\":\"\"},\"colorscale\":[[0.0,\"#0d0887\"],[0.1111111111111111,\"#46039f\"],[0.2222222222222222,\"#7201a8\"],[0.3333333333333333,\"#9c179e\"],[0.4444444444444444,\"#bd3786\"],[0.5555555555555556,\"#d8576b\"],[0.6666666666666666,\"#ed7953\"],[0.7777777777777778,\"#fb9f3a\"],[0.8888888888888888,\"#fdca26\"],[1.0,\"#f0f921\"]],\"type\":\"histogram2d\"}],\"histogram2dcontour\":[{\"colorbar\":{\"outlinewidth\":0,\"ticks\":\"\"},\"colorscale\":[[0.0,\"#0d0887\"],[0.1111111111111111,\"#46039f\"],[0.2222222222222222,\"#7201a8\"],[0.3333333333333333,\"#9c179e\"],[0.4444444444444444,\"#bd3786\"],[0.5555555555555556,\"#d8576b\"],[0.6666666666666666,\"#ed7953\"],[0.7777777777777778,\"#fb9f3a\"],[0.8888888888888888,\"#fdca26\"],[1.0,\"#f0f921\"]],\"type\":\"histogram2dcontour\"}],\"mesh3d\":[{\"colorbar\":{\"outlinewidth\":0,\"ticks\":\"\"},\"type\":\"mesh3d\"}],\"parcoords\":[{\"line\":{\"colorbar\":{\"outlinewidth\":0,\"ticks\":\"\"}},\"type\":\"parcoords\"}],\"pie\":[{\"automargin\":true,\"type\":\"pie\"}],\"scatter\":[{\"marker\":{\"colorbar\":{\"outlinewidth\":0,\"ticks\":\"\"}},\"type\":\"scatter\"}],\"scatter3d\":[{\"line\":{\"colorbar\":{\"outlinewidth\":0,\"ticks\":\"\"}},\"marker\":{\"colorbar\":{\"outlinewidth\":0,\"ticks\":\"\"}},\"type\":\"scatter3d\"}],\"scattercarpet\":[{\"marker\":{\"colorbar\":{\"outlinewidth\":0,\"ticks\":\"\"}},\"type\":\"scattercarpet\"}],\"scattergeo\":[{\"marker\":{\"colorbar\":{\"outlinewidth\":0,\"ticks\":\"\"}},\"type\":\"scattergeo\"}],\"scattergl\":[{\"marker\":{\"colorbar\":{\"outlinewidth\":0,\"ticks\":\"\"}},\"type\":\"scattergl\"}],\"scattermapbox\":[{\"marker\":{\"colorbar\":{\"outlinewidth\":0,\"ticks\":\"\"}},\"type\":\"scattermapbox\"}],\"scatterpolar\":[{\"marker\":{\"colorbar\":{\"outlinewidth\":0,\"ticks\":\"\"}},\"type\":\"scatterpolar\"}],\"scatterpolargl\":[{\"marker\":{\"colorbar\":{\"outlinewidth\":0,\"ticks\":\"\"}},\"type\":\"scatterpolargl\"}],\"scatterternary\":[{\"marker\":{\"colorbar\":{\"outlinewidth\":0,\"ticks\":\"\"}},\"type\":\"scatterternary\"}],\"surface\":[{\"colorbar\":{\"outlinewidth\":0,\"ticks\":\"\"},\"colorscale\":[[0.0,\"#0d0887\"],[0.1111111111111111,\"#46039f\"],[0.2222222222222222,\"#7201a8\"],[0.3333333333333333,\"#9c179e\"],[0.4444444444444444,\"#bd3786\"],[0.5555555555555556,\"#d8576b\"],[0.6666666666666666,\"#ed7953\"],[0.7777777777777778,\"#fb9f3a\"],[0.8888888888888888,\"#fdca26\"],[1.0,\"#f0f921\"]],\"type\":\"surface\"}],\"table\":[{\"cells\":{\"fill\":{\"color\":\"#EBF0F8\"},\"line\":{\"color\":\"white\"}},\"header\":{\"fill\":{\"color\":\"#C8D4E3\"},\"line\":{\"color\":\"white\"}},\"type\":\"table\"}]},\"layout\":{\"annotationdefaults\":{\"arrowcolor\":\"#2a3f5f\",\"arrowhead\":0,\"arrowwidth\":1},\"autotypenumbers\":\"strict\",\"coloraxis\":{\"colorbar\":{\"outlinewidth\":0,\"ticks\":\"\"}},\"colorscale\":{\"diverging\":[[0,\"#8e0152\"],[0.1,\"#c51b7d\"],[0.2,\"#de77ae\"],[0.3,\"#f1b6da\"],[0.4,\"#fde0ef\"],[0.5,\"#f7f7f7\"],[0.6,\"#e6f5d0\"],[0.7,\"#b8e186\"],[0.8,\"#7fbc41\"],[0.9,\"#4d9221\"],[1,\"#276419\"]],\"sequential\":[[0.0,\"#0d0887\"],[0.1111111111111111,\"#46039f\"],[0.2222222222222222,\"#7201a8\"],[0.3333333333333333,\"#9c179e\"],[0.4444444444444444,\"#bd3786\"],[0.5555555555555556,\"#d8576b\"],[0.6666666666666666,\"#ed7953\"],[0.7777777777777778,\"#fb9f3a\"],[0.8888888888888888,\"#fdca26\"],[1.0,\"#f0f921\"]],\"sequentialminus\":[[0.0,\"#0d0887\"],[0.1111111111111111,\"#46039f\"],[0.2222222222222222,\"#7201a8\"],[0.3333333333333333,\"#9c179e\"],[0.4444444444444444,\"#bd3786\"],[0.5555555555555556,\"#d8576b\"],[0.6666666666666666,\"#ed7953\"],[0.7777777777777778,\"#fb9f3a\"],[0.8888888888888888,\"#fdca26\"],[1.0,\"#f0f921\"]]},\"colorway\":[\"#636efa\",\"#EF553B\",\"#00cc96\",\"#ab63fa\",\"#FFA15A\",\"#19d3f3\",\"#FF6692\",\"#B6E880\",\"#FF97FF\",\"#FECB52\"],\"font\":{\"color\":\"#2a3f5f\"},\"geo\":{\"bgcolor\":\"white\",\"lakecolor\":\"white\",\"landcolor\":\"#E5ECF6\",\"showlakes\":true,\"showland\":true,\"subunitcolor\":\"white\"},\"hoverlabel\":{\"align\":\"left\"},\"hovermode\":\"closest\",\"mapbox\":{\"style\":\"light\"},\"paper_bgcolor\":\"white\",\"plot_bgcolor\":\"#E5ECF6\",\"polar\":{\"angularaxis\":{\"gridcolor\":\"white\",\"linecolor\":\"white\",\"ticks\":\"\"},\"bgcolor\":\"#E5ECF6\",\"radialaxis\":{\"gridcolor\":\"white\",\"linecolor\":\"white\",\"ticks\":\"\"}},\"scene\":{\"xaxis\":{\"backgroundcolor\":\"#E5ECF6\",\"gridcolor\":\"white\",\"gridwidth\":2,\"linecolor\":\"white\",\"showbackground\":true,\"ticks\":\"\",\"zerolinecolor\":\"white\"},\"yaxis\":{\"backgroundcolor\":\"#E5ECF6\",\"gridcolor\":\"white\",\"gridwidth\":2,\"linecolor\":\"white\",\"showbackground\":true,\"ticks\":\"\",\"zerolinecolor\":\"white\"},\"zaxis\":{\"backgroundcolor\":\"#E5ECF6\",\"gridcolor\":\"white\",\"gridwidth\":2,\"linecolor\":\"white\",\"showbackground\":true,\"ticks\":\"\",\"zerolinecolor\":\"white\"}},\"shapedefaults\":{\"line\":{\"color\":\"#2a3f5f\"}},\"ternary\":{\"aaxis\":{\"gridcolor\":\"white\",\"linecolor\":\"white\",\"ticks\":\"\"},\"baxis\":{\"gridcolor\":\"white\",\"linecolor\":\"white\",\"ticks\":\"\"},\"bgcolor\":\"#E5ECF6\",\"caxis\":{\"gridcolor\":\"white\",\"linecolor\":\"white\",\"ticks\":\"\"}},\"title\":{\"x\":0.05},\"xaxis\":{\"automargin\":true,\"gridcolor\":\"white\",\"linecolor\":\"white\",\"ticks\":\"\",\"title\":{\"standoff\":15},\"zerolinecolor\":\"white\",\"zerolinewidth\":2},\"yaxis\":{\"automargin\":true,\"gridcolor\":\"white\",\"linecolor\":\"white\",\"ticks\":\"\",\"title\":{\"standoff\":15},\"zerolinecolor\":\"white\",\"zerolinewidth\":2}}},\"xaxis\":{\"anchor\":\"y\",\"domain\":[0.0,1.0],\"title\":{\"text\":\"sigla_uf\"}},\"yaxis\":{\"anchor\":\"x\",\"domain\":[0.0,1.0],\"title\":{\"text\":\"sum of nota_saeb_lingua_portuguesa\"}},\"legend\":{\"tracegroupgap\":0},\"margin\":{\"t\":60},\"barmode\":\"relative\"},                        {\"responsive\": true}                    ).then(function(){\n",
              "                            \n",
              "var gd = document.getElementById('5f7f0eb5-7691-41cb-b1cc-f67b7457cf03');\n",
              "var x = new MutationObserver(function (mutations, observer) {{\n",
              "        var display = window.getComputedStyle(gd).display;\n",
              "        if (!display || display === 'none') {{\n",
              "            console.log([gd, 'removed!']);\n",
              "            Plotly.purge(gd);\n",
              "            observer.disconnect();\n",
              "        }}\n",
              "}});\n",
              "\n",
              "// Listen for the removal of the full notebook cells\n",
              "var notebookContainer = gd.closest('#notebook-container');\n",
              "if (notebookContainer) {{\n",
              "    x.observe(notebookContainer, {childList: true});\n",
              "}}\n",
              "\n",
              "// Listen for the clearing of the current output cell\n",
              "var outputEl = gd.closest('.output');\n",
              "if (outputEl) {{\n",
              "    x.observe(outputEl, {childList: true});\n",
              "}}\n",
              "\n",
              "                        })                };                            </script>        </div>\n",
              "</body>\n",
              "</html>"
            ]
          },
          "metadata": {}
        }
      ]
    },
    {
      "cell_type": "code",
      "source": [
        "# Assimetria e Curtose\n",
        "assimetria(df_ideb.nota_saeb_lingua_portuguesa)"
      ],
      "metadata": {
        "id": "QWCAMS7I-Oiy",
        "colab": {
          "base_uri": "https://localhost:8080/",
          "height": 35
        },
        "outputId": "26d59098-4bf8-49da-ae85-6d7c55164904"
      },
      "execution_count": 126,
      "outputs": [
        {
          "output_type": "execute_result",
          "data": {
            "text/plain": [
              "'Assimetria à esquerda ou negativa'"
            ],
            "application/vnd.google.colaboratory.intrinsic+json": {
              "type": "string"
            }
          },
          "metadata": {},
          "execution_count": 126
        }
      ]
    },
    {
      "cell_type": "code",
      "source": [
        "curtose(df_ideb.nota_saeb_lingua_portuguesa)"
      ],
      "metadata": {
        "colab": {
          "base_uri": "https://localhost:8080/",
          "height": 35
        },
        "id": "nFRn9PN7uMpS",
        "outputId": "3f1faf4c-70a2-40fe-86c8-3502328943f3"
      },
      "execution_count": 127,
      "outputs": [
        {
          "output_type": "execute_result",
          "data": {
            "text/plain": [
              "'platicúrtica'"
            ],
            "application/vnd.google.colaboratory.intrinsic+json": {
              "type": "string"
            }
          },
          "metadata": {},
          "execution_count": 127
        }
      ]
    },
    {
      "cell_type": "markdown",
      "source": [
        "Nota SAEB Média Padronizada"
      ],
      "metadata": {
        "id": "dou4bpf_yyP2"
      }
    },
    {
      "cell_type": "code",
      "source": [
        "# Histograma\n",
        "histograma(df_ideb.nota_saeb_media_padronizada)"
      ],
      "metadata": {
        "id": "INpBw968-RCi",
        "colab": {
          "base_uri": "https://localhost:8080/",
          "height": 542
        },
        "outputId": "f1080a41-082d-40af-dd77-ca98129ee7bb"
      },
      "execution_count": 128,
      "outputs": [
        {
          "output_type": "display_data",
          "data": {
            "text/html": [
              "<html>\n",
              "<head><meta charset=\"utf-8\" /></head>\n",
              "<body>\n",
              "    <div>            <script src=\"https://cdnjs.cloudflare.com/ajax/libs/mathjax/2.7.5/MathJax.js?config=TeX-AMS-MML_SVG\"></script><script type=\"text/javascript\">if (window.MathJax) {MathJax.Hub.Config({SVG: {font: \"STIX-Web\"}});}</script>                <script type=\"text/javascript\">window.PlotlyConfig = {MathJaxConfig: 'local'};</script>\n",
              "        <script src=\"https://cdn.plot.ly/plotly-2.8.3.min.js\"></script>                <div id=\"fd68307f-c286-478b-86f5-5cd83d522f4e\" class=\"plotly-graph-div\" style=\"height:525px; width:100%;\"></div>            <script type=\"text/javascript\">                                    window.PLOTLYENV=window.PLOTLYENV || {};                                    if (document.getElementById(\"fd68307f-c286-478b-86f5-5cd83d522f4e\")) {                    Plotly.newPlot(                        \"fd68307f-c286-478b-86f5-5cd83d522f4e\",                        [{\"alignmentgroup\":\"True\",\"bingroup\":\"x\",\"histfunc\":\"sum\",\"hovertemplate\":\"sigla_uf=%{x}<br>sum of nota_saeb_media_padronizada=%{y}<extra></extra>\",\"legendgroup\":\"\",\"marker\":{\"color\":\"#636efa\",\"pattern\":{\"shape\":\"\"}},\"name\":\"\",\"offsetgroup\":\"\",\"orientation\":\"v\",\"showlegend\":false,\"x\":[\"MG\",\"PE\",\"RJ\",\"SP\",\"PA\",\"MG\",\"BA\",\"RS\",\"RJ\",\"PR\",\"PA\",\"CE\",\"SP\",\"GO\",\"SP\",\"CE\",\"PA\",\"GO\",\"MG\",\"SE\",\"ES\",\"PE\",\"BA\",\"SC\",\"MT\",\"GO\",\"DF\",\"CE\",\"RJ\",\"RS\",\"ES\",\"PE\",\"BA\",\"SC\",\"BA\",\"RJ\",\"MA\",\"MG\",\"AL\",\"BA\",\"SP\",\"ES\",\"RS\",\"PR\",\"SC\",\"SP\",\"GO\",\"SC\",\"BA\",\"BA\",\"RS\",\"PE\",\"CE\",\"SC\",\"RS\",\"PB\",\"RJ\",\"AL\",\"PA\",\"MG\",\"PA\",\"RS\",\"BA\",\"SC\",\"AL\",\"CE\",\"AC\",\"CE\",\"AL\",\"MA\",\"MA\",\"AL\",\"CE\",\"RN\",\"MG\",\"RO\",\"AC\",\"RS\",\"RO\",\"PA\",\"RS\",\"PR\",\"SP\",\"PE\",\"PA\",\"MA\",\"SP\",\"SP\",\"MT\",\"GO\",\"RJ\",\"MA\",\"MA\",\"CE\",\"BA\",\"RS\",\"SP\",\"PA\",\"PA\",\"BA\",\"PI\",\"RJ\",\"PA\",\"MS\",\"ES\",\"SP\",\"TO\",\"BA\",\"PI\",\"PI\",\"MG\",\"CE\",\"SP\",\"RR\",\"AC\",\"SP\",\"MA\",\"RJ\",\"MG\",\"DF\",\"PA\",\"MA\",\"PA\",\"SP\",\"RO\",\"PB\",\"MS\",\"ES\",\"SP\",\"BA\",\"RJ\",\"SP\",\"SP\",\"CE\",\"RS\",\"BA\",\"PR\",\"MS\",\"RN\",\"BA\",\"MG\",\"SP\",\"PB\",\"SP\",\"PA\",\"MA\",\"SC\",\"RJ\",\"PA\",\"RS\",\"BA\",\"RN\",\"PR\",\"RJ\",\"BA\",\"CE\",\"TO\",\"BA\",\"BA\",\"PR\",\"AM\",\"CE\",\"SC\",\"RS\",\"MG\",\"MG\",\"BA\",\"RS\",\"BA\",\"CE\",\"PR\",\"MT\",\"BA\",\"SC\",\"SC\",\"PI\",\"RJ\",\"CE\",\"SP\",\"BA\",\"RS\",\"SP\",\"PB\",\"MT\",\"PA\",\"MG\",\"GO\",\"SC\",\"PE\",\"SP\",\"MG\",\"MA\",\"BA\",\"SP\",\"BA\",\"SP\",\"PA\",\"AL\",\"PE\",\"SE\",\"MG\",\"PE\",\"BA\",\"CE\",\"PA\",\"PB\",\"MG\",\"MT\",\"ES\",\"CE\",\"SP\",\"PA\",\"CE\",\"SP\",\"MS\",\"MT\",\"PB\",\"AM\",\"PE\",\"MS\",\"ES\",\"SP\",\"CE\",\"PE\",\"AM\",\"MT\",\"SP\",\"MT\",\"PR\",\"PR\",\"PE\",\"PB\",\"PB\",\"DF\",\"RJ\",\"MG\",\"PR\",\"MG\",\"PI\",\"SP\",\"MG\",\"PB\",\"BA\",\"AM\",\"SC\",\"PE\",\"RS\",\"SP\",\"AL\",\"PR\",\"SP\",\"RN\",\"SE\",\"PE\",\"BA\",\"RN\",\"RS\",\"RJ\",\"BA\",\"SP\",\"BA\",\"SP\",\"PB\",\"BA\",\"PE\",\"MA\",\"PR\",\"PR\",\"AL\",\"MS\",\"SP\",\"MG\",\"DF\",\"MG\",\"MG\",\"BA\",\"BA\",\"MA\",\"GO\",\"MG\",\"CE\",\"SC\",\"MA\",\"PE\",\"MS\",\"PI\",\"SP\",\"TO\",\"PE\",\"SP\",\"MT\",\"PB\",\"AL\",\"MG\",\"CE\",\"GO\",\"SP\",\"RS\",\"RN\",\"SP\",\"PE\",\"ES\",\"SP\",\"DF\",\"CE\",\"SP\",\"PB\",\"GO\",\"SC\",\"AC\",\"MG\",\"PE\",\"ES\",\"RN\",\"SP\",\"GO\",\"MT\",\"MG\",\"GO\",\"PE\",\"MG\",\"SP\",\"SP\",\"RN\",\"PR\",\"RJ\",\"SP\",\"PR\",\"MG\",\"SP\",\"RJ\",\"BA\",\"PE\",\"SP\",\"PB\",\"CE\",\"PI\",\"MA\",\"PE\",\"PR\",\"MA\",\"GO\",\"CE\",\"BA\",\"PA\",\"AL\",\"SE\",\"BA\",\"PR\",\"RS\",\"BA\",\"BA\",\"RJ\",\"RS\",\"PR\",\"PR\",\"MA\",\"AM\",\"RN\",\"SP\",\"PA\",\"PE\",\"AL\",\"GO\",\"RS\",\"PR\",\"BA\",\"RJ\",\"SE\",\"PI\",\"BA\",\"PB\",\"SP\",\"PR\",\"PA\",\"PE\",\"CE\",\"RO\",\"MT\",\"SP\",\"SP\",\"MA\",\"MT\",\"SP\",\"MT\",\"MA\",\"RS\",\"PI\",\"MG\",\"RJ\",\"MT\",\"TO\",\"PA\",\"SP\",\"MA\",\"RJ\",\"SP\",\"PR\",\"BA\",\"RS\",\"AL\",\"BA\",\"PR\",\"CE\",\"BA\",\"SE\",\"CE\",\"ES\",\"MG\",\"SP\",\"MA\",\"SP\",\"SP\",\"PE\",\"CE\",\"MG\",\"SC\",\"TO\",\"MT\",\"SP\",\"RN\",\"MG\",\"BA\",\"MA\",\"PR\",\"BA\",\"ES\",\"PA\",\"MA\",\"SC\",\"MA\",\"MT\",\"BA\",\"BA\",\"BA\",\"BA\",\"RO\",\"PI\",\"PI\",\"PR\",\"BA\",\"PA\",\"SP\",\"CE\",\"PE\",\"RJ\",\"PR\",\"RS\",\"SC\",\"SP\",\"CE\",\"BA\",\"MA\",\"PA\",\"AM\",\"MA\",\"AL\",\"SP\",\"MT\",\"RJ\",\"RJ\",\"PE\",\"BA\",\"BA\",\"SP\",\"MG\",\"RS\",\"PR\",\"PE\",\"PA\",\"ES\",\"SE\",\"SC\",\"MG\",\"PR\",\"RN\",\"MG\",\"SP\",\"RN\",\"PR\",\"SP\",\"SP\",\"SE\",\"MA\",\"PE\",\"CE\",\"MG\",\"PE\",\"PA\",\"RJ\",\"SP\",\"SP\",\"MG\",\"RJ\",\"SP\",\"RJ\",\"MG\",\"PB\",\"CE\",\"AC\",\"SP\",\"PA\",\"PR\",\"RJ\",\"RN\",\"MG\",\"GO\",\"RS\",\"RS\",\"PR\",\"MT\",\"PR\",\"RS\",\"RJ\",\"RJ\",\"PA\",\"AM\",\"AL\",\"PE\",\"RS\",\"BA\",\"BA\",\"PA\",\"BA\",\"PB\",\"PA\",\"SP\",\"AL\",\"RN\",\"RS\",\"SP\",\"PI\",\"GO\",\"AP\",\"RS\",\"MA\",\"MS\",\"CE\",\"RS\",\"RJ\",\"PE\",\"PA\",\"ES\",\"GO\",\"SP\",\"MG\",\"PA\",\"MG\",\"MG\",\"RS\",\"PE\",\"PE\",\"MA\",\"MA\",\"SP\",\"RJ\",\"BA\",\"GO\",\"GO\",\"BA\",\"RJ\",\"DF\",\"PA\",\"SC\",\"MG\",\"PR\",\"SC\",\"RJ\",\"AL\",\"SP\",\"MG\",\"RS\",\"SP\",\"BA\",\"BA\",\"PR\",\"RJ\",\"PR\",\"SP\",\"RS\",\"MA\",\"RS\",\"SE\",\"RJ\",\"RS\",\"SE\",\"PE\",\"RN\",\"MG\",\"BA\",\"PA\",\"GO\",\"RJ\",\"MG\",\"SP\",\"CE\",\"PR\",\"MA\",\"PR\",\"PR\",\"MT\",\"PB\",\"DF\",\"PE\",\"BA\",\"SC\",\"RS\",\"PA\",\"MG\",\"PA\",\"SC\",\"PA\",\"BA\",\"MA\",\"PA\",\"BA\",\"MG\",\"CE\",\"AM\",\"SC\",\"AM\",\"RS\",\"MG\",\"RN\",\"CE\",\"BA\",\"SP\",\"RJ\",\"RS\",\"SP\",\"CE\",\"SC\",\"SP\",\"MA\",\"MG\",\"RR\",\"RS\",\"BA\",\"PA\",\"PA\",\"MT\",\"RS\",\"MG\",\"SP\",\"SP\",\"PA\",\"SC\",\"MG\",\"MG\",\"PA\",\"SP\",\"AM\",\"MG\",\"AC\",\"PR\",\"MA\",\"SP\",\"MA\",\"RJ\",\"PE\",\"SP\",\"SP\",\"MA\",\"AL\",\"TO\",\"BA\",\"SP\",\"PB\",\"MG\",\"MA\",\"RS\",\"CE\",\"MA\",\"MG\",\"PR\",\"CE\",\"BA\",\"PR\",\"PE\",\"BA\",\"PE\",\"BA\",\"PA\",\"PE\",\"PB\",\"PR\",\"RJ\",\"BA\",\"PB\",\"MT\",\"PR\",\"SC\",\"BA\",\"MA\",\"PB\",\"BA\",\"PR\",\"SP\",\"BA\",\"PE\",\"MA\",\"BA\",\"PA\",\"RS\",\"AM\",\"MG\",\"PR\",\"BA\",\"PA\",\"SP\",\"AM\",\"SP\",\"RO\",\"PE\",\"ES\",\"RJ\",\"MG\",\"PR\",\"PE\",\"PR\",\"BA\",\"RJ\",\"PA\",\"PE\",\"BA\",\"BA\",\"AC\",\"MA\",\"SP\",\"BA\",\"TO\",\"CE\",\"ES\",\"PR\",\"SP\",\"RS\",\"BA\",\"PR\",\"ES\",\"ES\",\"SE\",\"PE\",\"BA\",\"RN\",\"SP\",\"SP\",\"MT\",\"SC\",\"MA\",\"ES\",\"PA\",\"SP\",\"MG\",\"PR\",\"SP\",\"PR\",\"MA\",\"PA\",\"GO\",\"RS\",\"MG\",\"MS\",\"RJ\",\"CE\",\"CE\",\"MG\",\"BA\",\"MG\",\"RO\",\"SP\",\"SP\",\"BA\",\"RS\",\"RS\",\"TO\",\"MA\",\"PR\",\"PE\",\"PR\",\"PR\",\"MA\",\"PE\",\"PE\",\"RN\",\"BA\",\"MG\",\"BA\",\"SP\",\"SP\",\"RN\",\"MS\",\"MG\",\"PE\",\"BA\",\"CE\",\"RJ\",\"AP\",\"PA\",\"AP\",\"BA\",\"PE\",\"MG\",\"MG\",\"TO\",\"PB\",\"PR\",\"AM\",\"GO\",\"BA\",\"ES\",\"GO\",\"PR\",\"MT\",\"RJ\",\"BA\",\"PR\",\"SP\",\"MG\",\"MA\",\"PE\",\"RN\",\"PE\",\"PA\",\"PB\",\"SP\",\"PE\",\"MA\",\"RS\",\"RS\",\"SP\",\"PR\",\"RS\",\"SP\",\"SC\",\"PA\",\"MG\",\"CE\",\"MT\",\"SP\",\"SC\",\"PR\",\"CE\",\"MG\",\"PA\",\"RO\",\"AM\",\"RJ\",\"PI\",\"BA\",\"MG\",\"RJ\",\"RN\",\"PA\",\"SE\",\"ES\",\"CE\",\"ES\",\"RJ\",\"AM\",\"MG\",\"RS\",\"SP\",\"BA\",\"MA\",\"RS\",\"RR\",\"PA\",\"RN\",\"SP\",\"SP\",\"GO\",\"SP\",\"BA\",\"BA\",\"TO\",\"PR\",\"MG\",\"PA\",\"RS\",\"PI\",\"AM\",\"SP\",\"SP\",\"PR\",\"RN\",\"MT\",\"PR\",\"ES\",\"BA\",\"RN\",\"SC\",\"PE\",\"GO\",\"SP\",\"SP\",\"CE\",\"MG\",\"MS\",\"CE\",\"MG\",\"SP\",\"PR\",\"MG\",\"RJ\",\"MS\",\"MA\",\"SC\",\"RS\",\"AM\",\"RS\",\"BA\",\"TO\",\"MG\",\"PR\",\"PR\",\"MG\",\"PR\",\"SE\",\"SP\",\"SE\",\"SC\",\"MT\",\"SP\",\"MT\",\"SP\",\"SP\",\"CE\",\"SP\",\"RS\",\"MG\",\"PR\",\"PE\",\"PE\",\"MG\",\"SC\",\"MA\",\"RS\",\"MG\",\"MS\",\"BA\",\"MA\",\"AL\",\"AP\",\"MG\",\"PA\",\"SC\",\"PR\",\"RS\",\"GO\",\"AM\",\"MT\",\"RS\",\"BA\",\"SP\",\"SC\",\"GO\",\"MA\",\"RO\",\"RJ\",\"AL\",\"SC\",\"BA\",\"GO\",\"AM\",\"MG\",\"SP\",\"SP\",\"RS\",\"PI\",\"PE\",\"AL\",\"SP\",\"MA\",\"PB\",\"PR\",\"PA\",\"MA\",\"AL\",\"SC\",\"SE\",\"RJ\",\"MG\",\"CE\",\"MG\",\"PE\",\"MS\",\"PE\",\"RO\",\"SP\",\"PB\",\"BA\",\"MT\",\"PR\",\"CE\",\"MA\",\"PE\",\"RJ\",\"PE\",\"GO\",\"MA\"],\"xaxis\":\"x\",\"y\":[5.7016182,4.931345,5.5385132,6.6524429,4.2776718,6.9287891,4.9388261,6.7959418,5.8866401,7.0523391,3.380425,6.0790558,6.6413612,6.1066899,6.2957711,6.1511688,4.505703,6.1719699,5.6290512,4.342061,5.1272259,5.6108809,4.579093,6.5696788,5.8669138,7.4259582,5.732976,6.6673102,6.3564281,4.6734319,5.8932862,5.3128791,5.457727,6.2986088,4.5905819,4.9173918,5.2102952,5.9189258,5.6866922,5.5472012,6.1704431,5.7990961,6.595582,6.5741448,6.4340062,6.597856,5.5709252,7.0792179,5.3049512,4.4972572,5.444972,4.787972,5.71662,6.2688718,6.7896948,4.6934638,6.027597,5.811255,5.4789829,6.0615859,5.6268468,7.1761642,6.159821,6.646389,4.5983109,5.6585908,5.7624331,6.1053171,6.0769901,4.817296,4.1500392,4.9427381,6.3560419,6.2598391,6.5350361,5.9252572,5.2170458,4.7392969,5.5448418,5.7048469,4.896122,7.5180211,7.503696,6.559063,5.3619099,4.4586582,6.7642269,5.8128581,7.4784899,6.0653782,5.6770701,4.3658152,5.7777829,6.8843002,3.8345389,5.389657,6.8416829,5.0393329,4.2985911,4.7099729,6.7433839,5.7734909,5.2943392,7.3791771,6.886198,6.591083,5.1526389,4.339632,4.8882508,5.5051441,6.908339,5.5192971,5.9488959,3.621696,5.2384892,6.3740468,4.641171,8.1073503,5.6645761,5.6864591,4.2881122,4.316256,4.332252,7.98248,5.0943689,5.701745,6.0366158,6.7673559,7.163414,4.5957808,5.6185632,7.309998,6.1504068,6.035018,6.8348961,5.606411,6.6149411,6.2577248,5.1214309,4.680697,6.1262202,7.2598362,5.426064,7.025465,5.4615359,4.1535769,5.9194841,6.4998002,5.5249228,6.0626101,4.6874661,3.458818,6.4375558,5.0019798,5.8460059,5.9683352,5.4066348,7.0384908,5.6748009,6.6467671,5.029182,7.408771,6.766819,6.5968652,4.8722739,5.5168509,6.3557539,7.0095482,5.1843801,6.6855512,5.9788742,7.1175489,4.9431729,6.858202,5.9746232,5.2417402,5.1191368,5.7137179,7.5726471,4.802321,6.123136,6.838747,5.9833889,6.5828319,5.6455498,6.8807168,6.3455791,6.0350318,4.6999559,7.0881848,6.3830938,4.4762678,5.0572038,7.1004562,4.6316409,6.6468239,4.0881882,5.473773,5.711185,5.4206629,5.2298808,6.100359,5.3151188,5.670764,5.8325462,5.2156,7.7921548,5.4061432,6.326622,5.345325,6.8574548,5.009923,6.990171,5.9654031,5.7677059,6.1604462,5.5787401,4.1172662,5.4474611,6.7931619,5.6712732,7.1569781,6.1403308,4.81742,4.5494671,7.192338,6.87149,6.1175418,7.1626892,5.9921708,5.4495811,6.2762842,5.7650752,6.4193611,4.717978,6.0823588,6.1257219,6.7024112,5.1261778,6.4636159,6.0027428,6.668045,4.415555,3.7591951,7.7920141,6.1336551,6.5334401,7.1275039,6.0169158,6.8850179,7.2689552,5.2690368,6.3795772,5.6186838,4.8257599,6.5062642,6.6236658,5.6117749,6.061646,7.8360281,3.6257091,5.3779759,5.3473678,4.67489,6.2937641,4.2135959,7.364707,5.9602981,4.2884932,5.3310132,6.29321,5.5169878,6.8266001,5.796566,7.5236688,5.0823441,5.6786251,5.9368572,5.3497152,5.2363572,6.413702,7.3344388,5.0343862,5.0113568,4.084888,5.016892,6.8405838,6.3954549,5.3231082,6.3974242,5.849823,6.1544871,6.7415481,4.6041379,6.1324992,5.272994,5.6039782,6.631691,4.722198,7.0102901,6.6869531,6.3894091,6.6889691,7.027925,6.5970011,6.4070382,4.7087431,6.1035452,5.9017029,6.9460602,6.1458578,4.8420801,7.6400418,4.7857308,6.4538989,6.3622799,4.6873798,6.9478922,5.1000962,4.1627321,6.5553532,6.2866111,6.7879729,5.5836139,6.2944551,5.9524741,6.161118,6.8161368,4.9856091,7.1858511,6.076087,4.6668339,5.099822,6.007555,4.6918759,5.3016429,4.0961642,3.941004,4.1636958,6.3947539,5.336484,7.5441351,4.7004409,5.653656,5.5640202,7.673429,4.7510629,5.916481,8.0907202,5.9521279,4.2741861,5.8820891,5.8176789,6.8301182,6.8624091,4.9069648,5.0913248,4.0610871,5.6461029,6.6401,3.5368609,5.2822361,4.2499352,6.854856,6.0081668,6.2684951,3.9041131,5.7215729,4.762711,5.89569,5.5593281,5.6153612,5.9473,7.5910139,4.7529011,5.0034642,5.0664668,6.5277481,5.3530388,5.9983501,7.723948,3.8438871,5.7011738,7.3224039,5.6254501,6.4593081,6.62254,4.7227201,6.3531089,5.1290741,5.8596368,5.3049059,5.5389099,6.0054159,3.8636489,6.6998682,6.5700598,6.2358718,3.6796219,6.1497178,5.6527371,5.2872572,6.6086559,5.6682658,5.3039222,3.8448241,5.8357658,5.4163918,5.2831159,7.6825929,4.6273012,6.7558622,6.9110079,7.2140441,5.6934209,5.9119329,6.8639841,6.6043439,5.453651,6.5162702,4.9144359,5.5877171,6.8723822,3.5896609,6.5912809,4.417089,6.3460212,5.0852389,4.7082601,5.8358388,4.1539469,4.9203029,4.8180962,6.331883,6.1186762,5.3304348,5.79708,5.052434,6.5064478,6.3708148,5.6491508,3.6437559,6.786767,6.3902388,5.2976151,5.1866479,6.0140362,7.216702,6.3017879,5.8703532,6.4721909,3.870791,5.0753608,6.2922158,4.4210691,4.4062572,5.5356879,7.1759648,5.6034851,6.2369952,6.8659992,5.0524278,5.1580439,5.5626659,6.3026228,5.9387259,5.923933,6.7950239,5.995584,3.861351,6.054903,5.3221059,7.1561322,6.58389,6.3951869,5.3785348,6.9337401,6.3545141,5.6928129,7.1027451,5.51793,6.634057,5.4487538,3.8991051,5.753861,6.3618598,5.898355,4.8310838,5.9266229,4.6382089,7.1234431,6.4999762,6.407939,6.7323189,7.0778422,5.4872479,7.0767722,5.169579,6.539001,7.5484538,7.3104162,4.796854,6.834197,6.2941551,4.4886222,6.9220691,5.2013292,6.5237918,6.3314729,6.1732082,5.0458951,6.7351689,5.2771711,6.2751541,5.3526392,5.8910842,6.0116348,5.947742,5.5617561,6.588213,5.2365322,5.5699668,4.0851941,6.4242802,5.5650191,4.5136428,7.5142832,4.4470348,5.6809778,6.5094881,7.1292529,3.588414,6.5637789,4.0232892,7.782845,4.682282,5.7201152,5.9933162,5.4721408,5.0355482,5.9410582,4.1102462,6.1944432,6.9710112,6.386981,6.120842,5.768662,6.434391,5.6233439,5.777441,4.749063,5.4481621,5.3459692,5.737484,5.877739,6.3491888,4.2231278,7.4555411,6.1862712,4.812542,5.7794909,6.6334019,4.696353,6.4177232,5.9761419,6.1473598,6.2922421,6.9031558,5.3057141,6.2958059,6.2229991,6.9811888,5.9507399,4.936202,6.114418,5.532897,6.2662182,6.5248609,6.5659041,5.8976879,4.2281508,5.0781808,4.7978182,6.2187972,6.3899498,4.5863838,4.5917792,4.463851,6.4332418,4.7354698,5.0284429,6.736917,5.6072998,6.0868301,7.4877882,6.8707218,7.7254329,6.3089309,6.6994181,7.5135899,5.7351041,5.7736812,5.8099909,5.5954971,5.1793981,5.5223932,6.7411871,6.0416908,5.279213,5.639154,5.5451021,5.520246,5.780817,5.0093269,3.123219,5.5052161,6.5962639,5.7849259,5.66258,7.06071,6.2069111,6.5594959,6.2785902,4.076787,6.8776059,4.3088379,6.370255,6.3069391,5.6822891,6.1561189,7.3679972,7.686007,6.7939358,4.688014,5.1688209,6.9952679,5.5310888,5.7989488,4.8712282,6.0419941,6.577035,7.2800102,6.723103,6.155314,5.9514332,5.0751462,6.274085,7.0083032,5.6802082,4.7265658,6.8681459,7.0194278,6.5507941,5.086935,6.359508,5.5356631,6.7076359,5.0153699,5.9092631,6.0120401,7.052228,6.777071,5.2039652,4.6904821,5.7376108,6.4063258,5.363915,4.5459399,6.6907768,5.2175651,4.838305,6.1234708,4.770009,7.5419612,7.1166892,5.7039099,4.9704828,6.0405111,7.2015162,5.9126449,5.5271578,4.9950209,4.415926,5.4067721,5.1890559,6.1409559,5.2104378,4.1872349,3.6303251,6.9403052,6.8008242,6.282618,5.239831,3.9306059,5.2071438,6.7639518,7.0339928,6.7933879,5.2001848,5.1458921,5.5334721,6.010067,5.563971,6.0722389,5.1734748,6.714467,6.6443162,4.4852948,4.6731262,7.2744331,5.2467718,7.3466592,6.3954191,6.2817192,6.162107,6.1719761,6.8826089,5.6788568,5.1206422,6.838882,5.8200059,5.257565,5.126955,6.1894579,4.0312591,5.201499,5.5632868,4.1672201,6.3462238,4.5476499,6.9027171,6.1181488,6.006505,5.600862,6.3192139,6.9858732,6.046514,6.6337342,5.6480789,5.7190309,5.576982,5.2938719,3.924155,5.227694,7.3979502,7.1855888,5.3895431,5.6806321,4.8955121,7.5851712,5.0130291,5.7599831,5.215766,6.0821748,6.574861,7.1726198,4.4931579,5.0931449,5.767282,6.4897928,6.5707288,4.7938609,5.8375969,7.3098369,5.8542409,5.1587291,5.8461499,5.5972438,6.3825359,7.1847248,7.2346139,5.0573649,6.1516519,6.2875671,4.293467,5.886251,6.5595498,5.3192101,7.187376,6.8159881,4.475728,5.8421369,4.7027349,5.4153929,6.1189609,6.5240879,5.7275028,6.423171,6.0553441,6.0443988,5.8594818,5.7835202,4.428412,5.593802,7.0680571,5.868783,4.6837111,4.3611951,5.9981909,5.1602831,7.3135061,6.886435,6.0840311,4.8130708,5.0990958,6.745944,5.1005321,4.8933978,5.2344818,7.0120401,6.0564232,6.3938131,5.942802,5.2593498,6.7255592,5.8242621,5.9424849,6.019752,3.5116611,5.1604242,5.0998201,5.0705972,5.6293211,4.559835,7.0265322,6.1650629,3.9142599,7.1475959,6.2348709,6.01998,6.5247989,7.4073548,7.4008799,7.2493572,3.8092091,6.7989478,5.8420401,5.6933622,6.2638149,5.272491,7.1145091,6.5236859,5.664845,6.378366,4.5320411,4.6674018,5.4874368,5.085628,6.4010849,7.0909939,6.723762,4.9201131,4.8144908,4.9092512,6.1685858,5.9366021,6.0231962,6.224328,5.8822279,6.1033211,5.9996271,6.8034258,5.017282,5.3676171,5.3976722,3.3036189,4.5670848,4.376101,5.8106022,7.1428242,5.5235562,6.3640828,6.9330988,4.6160588,4.7826972,6.636375,4.8591938,3.2312469,6.6623182,6.4316211,5.7954021,5.819129,7.6565428,5.7207022,6.2948098,5.0591559,7.219573,4.8986211,4.9765191,4.3896298,6.189414,5.8632441,7.442378,7.8961539,6.4812551,8.3827343,5.857461,5.3498592,5.078146,6.1742272,7.051158,7.286078,6.344327,6.3719411,4.659512,5.342679,6.4829168,6.3055248,5.0763831,6.327456,5.7879429,4.9624181,5.5303092,6.2523918,7.7047281,6.3822432,7.0472751,4.553472,6.0654111,4.754189,6.1872668,5.6278582,7.0769219,5.8938279,5.5540919,5.329536,6.3232961,7.12748,5.4512348,6.9595871,7.394865,5.6590919,5.558701,6.0073872,8.1407108,5.0734138,4.8551569,7.0947828,6.850224,4.6693139,5.0257568,5.9387879,4.8522019,6.6900749,4.4006858,7.0675201,6.211338,7.2482138,5.6145029,3.9419551,6.5426912,5.8470659,4.1144419,5.7335,5.7480311,7.159071,4.0085158,5.6109948,6.073483,4.7908311,7.5298672,4.9194999,5.5676141,6.4780622,5.7546291,6.4803691,7.2147369,7.1723542,5.3571191,5.0811028,4.9793949,6.5968342,5.141243,5.7711039,7.3810148,4.6011891,3.9340689,5.866498,5.3439808,5.37358,6.163527,5.937748,6.3573771,6.2162409,4.9311032,6.0445609,7.7758479,5.6440291,6.4904881,4.4951148,3.434576,5.774087,6.2716522,6.5222211,5.8152528,5.220355,4.9236188,6.5869431,6.135736,3.993763],\"yaxis\":\"y\",\"type\":\"histogram\"}],                        {\"template\":{\"data\":{\"bar\":[{\"error_x\":{\"color\":\"#2a3f5f\"},\"error_y\":{\"color\":\"#2a3f5f\"},\"marker\":{\"line\":{\"color\":\"#E5ECF6\",\"width\":0.5},\"pattern\":{\"fillmode\":\"overlay\",\"size\":10,\"solidity\":0.2}},\"type\":\"bar\"}],\"barpolar\":[{\"marker\":{\"line\":{\"color\":\"#E5ECF6\",\"width\":0.5},\"pattern\":{\"fillmode\":\"overlay\",\"size\":10,\"solidity\":0.2}},\"type\":\"barpolar\"}],\"carpet\":[{\"aaxis\":{\"endlinecolor\":\"#2a3f5f\",\"gridcolor\":\"white\",\"linecolor\":\"white\",\"minorgridcolor\":\"white\",\"startlinecolor\":\"#2a3f5f\"},\"baxis\":{\"endlinecolor\":\"#2a3f5f\",\"gridcolor\":\"white\",\"linecolor\":\"white\",\"minorgridcolor\":\"white\",\"startlinecolor\":\"#2a3f5f\"},\"type\":\"carpet\"}],\"choropleth\":[{\"colorbar\":{\"outlinewidth\":0,\"ticks\":\"\"},\"type\":\"choropleth\"}],\"contour\":[{\"colorbar\":{\"outlinewidth\":0,\"ticks\":\"\"},\"colorscale\":[[0.0,\"#0d0887\"],[0.1111111111111111,\"#46039f\"],[0.2222222222222222,\"#7201a8\"],[0.3333333333333333,\"#9c179e\"],[0.4444444444444444,\"#bd3786\"],[0.5555555555555556,\"#d8576b\"],[0.6666666666666666,\"#ed7953\"],[0.7777777777777778,\"#fb9f3a\"],[0.8888888888888888,\"#fdca26\"],[1.0,\"#f0f921\"]],\"type\":\"contour\"}],\"contourcarpet\":[{\"colorbar\":{\"outlinewidth\":0,\"ticks\":\"\"},\"type\":\"contourcarpet\"}],\"heatmap\":[{\"colorbar\":{\"outlinewidth\":0,\"ticks\":\"\"},\"colorscale\":[[0.0,\"#0d0887\"],[0.1111111111111111,\"#46039f\"],[0.2222222222222222,\"#7201a8\"],[0.3333333333333333,\"#9c179e\"],[0.4444444444444444,\"#bd3786\"],[0.5555555555555556,\"#d8576b\"],[0.6666666666666666,\"#ed7953\"],[0.7777777777777778,\"#fb9f3a\"],[0.8888888888888888,\"#fdca26\"],[1.0,\"#f0f921\"]],\"type\":\"heatmap\"}],\"heatmapgl\":[{\"colorbar\":{\"outlinewidth\":0,\"ticks\":\"\"},\"colorscale\":[[0.0,\"#0d0887\"],[0.1111111111111111,\"#46039f\"],[0.2222222222222222,\"#7201a8\"],[0.3333333333333333,\"#9c179e\"],[0.4444444444444444,\"#bd3786\"],[0.5555555555555556,\"#d8576b\"],[0.6666666666666666,\"#ed7953\"],[0.7777777777777778,\"#fb9f3a\"],[0.8888888888888888,\"#fdca26\"],[1.0,\"#f0f921\"]],\"type\":\"heatmapgl\"}],\"histogram\":[{\"marker\":{\"pattern\":{\"fillmode\":\"overlay\",\"size\":10,\"solidity\":0.2}},\"type\":\"histogram\"}],\"histogram2d\":[{\"colorbar\":{\"outlinewidth\":0,\"ticks\":\"\"},\"colorscale\":[[0.0,\"#0d0887\"],[0.1111111111111111,\"#46039f\"],[0.2222222222222222,\"#7201a8\"],[0.3333333333333333,\"#9c179e\"],[0.4444444444444444,\"#bd3786\"],[0.5555555555555556,\"#d8576b\"],[0.6666666666666666,\"#ed7953\"],[0.7777777777777778,\"#fb9f3a\"],[0.8888888888888888,\"#fdca26\"],[1.0,\"#f0f921\"]],\"type\":\"histogram2d\"}],\"histogram2dcontour\":[{\"colorbar\":{\"outlinewidth\":0,\"ticks\":\"\"},\"colorscale\":[[0.0,\"#0d0887\"],[0.1111111111111111,\"#46039f\"],[0.2222222222222222,\"#7201a8\"],[0.3333333333333333,\"#9c179e\"],[0.4444444444444444,\"#bd3786\"],[0.5555555555555556,\"#d8576b\"],[0.6666666666666666,\"#ed7953\"],[0.7777777777777778,\"#fb9f3a\"],[0.8888888888888888,\"#fdca26\"],[1.0,\"#f0f921\"]],\"type\":\"histogram2dcontour\"}],\"mesh3d\":[{\"colorbar\":{\"outlinewidth\":0,\"ticks\":\"\"},\"type\":\"mesh3d\"}],\"parcoords\":[{\"line\":{\"colorbar\":{\"outlinewidth\":0,\"ticks\":\"\"}},\"type\":\"parcoords\"}],\"pie\":[{\"automargin\":true,\"type\":\"pie\"}],\"scatter\":[{\"marker\":{\"colorbar\":{\"outlinewidth\":0,\"ticks\":\"\"}},\"type\":\"scatter\"}],\"scatter3d\":[{\"line\":{\"colorbar\":{\"outlinewidth\":0,\"ticks\":\"\"}},\"marker\":{\"colorbar\":{\"outlinewidth\":0,\"ticks\":\"\"}},\"type\":\"scatter3d\"}],\"scattercarpet\":[{\"marker\":{\"colorbar\":{\"outlinewidth\":0,\"ticks\":\"\"}},\"type\":\"scattercarpet\"}],\"scattergeo\":[{\"marker\":{\"colorbar\":{\"outlinewidth\":0,\"ticks\":\"\"}},\"type\":\"scattergeo\"}],\"scattergl\":[{\"marker\":{\"colorbar\":{\"outlinewidth\":0,\"ticks\":\"\"}},\"type\":\"scattergl\"}],\"scattermapbox\":[{\"marker\":{\"colorbar\":{\"outlinewidth\":0,\"ticks\":\"\"}},\"type\":\"scattermapbox\"}],\"scatterpolar\":[{\"marker\":{\"colorbar\":{\"outlinewidth\":0,\"ticks\":\"\"}},\"type\":\"scatterpolar\"}],\"scatterpolargl\":[{\"marker\":{\"colorbar\":{\"outlinewidth\":0,\"ticks\":\"\"}},\"type\":\"scatterpolargl\"}],\"scatterternary\":[{\"marker\":{\"colorbar\":{\"outlinewidth\":0,\"ticks\":\"\"}},\"type\":\"scatterternary\"}],\"surface\":[{\"colorbar\":{\"outlinewidth\":0,\"ticks\":\"\"},\"colorscale\":[[0.0,\"#0d0887\"],[0.1111111111111111,\"#46039f\"],[0.2222222222222222,\"#7201a8\"],[0.3333333333333333,\"#9c179e\"],[0.4444444444444444,\"#bd3786\"],[0.5555555555555556,\"#d8576b\"],[0.6666666666666666,\"#ed7953\"],[0.7777777777777778,\"#fb9f3a\"],[0.8888888888888888,\"#fdca26\"],[1.0,\"#f0f921\"]],\"type\":\"surface\"}],\"table\":[{\"cells\":{\"fill\":{\"color\":\"#EBF0F8\"},\"line\":{\"color\":\"white\"}},\"header\":{\"fill\":{\"color\":\"#C8D4E3\"},\"line\":{\"color\":\"white\"}},\"type\":\"table\"}]},\"layout\":{\"annotationdefaults\":{\"arrowcolor\":\"#2a3f5f\",\"arrowhead\":0,\"arrowwidth\":1},\"autotypenumbers\":\"strict\",\"coloraxis\":{\"colorbar\":{\"outlinewidth\":0,\"ticks\":\"\"}},\"colorscale\":{\"diverging\":[[0,\"#8e0152\"],[0.1,\"#c51b7d\"],[0.2,\"#de77ae\"],[0.3,\"#f1b6da\"],[0.4,\"#fde0ef\"],[0.5,\"#f7f7f7\"],[0.6,\"#e6f5d0\"],[0.7,\"#b8e186\"],[0.8,\"#7fbc41\"],[0.9,\"#4d9221\"],[1,\"#276419\"]],\"sequential\":[[0.0,\"#0d0887\"],[0.1111111111111111,\"#46039f\"],[0.2222222222222222,\"#7201a8\"],[0.3333333333333333,\"#9c179e\"],[0.4444444444444444,\"#bd3786\"],[0.5555555555555556,\"#d8576b\"],[0.6666666666666666,\"#ed7953\"],[0.7777777777777778,\"#fb9f3a\"],[0.8888888888888888,\"#fdca26\"],[1.0,\"#f0f921\"]],\"sequentialminus\":[[0.0,\"#0d0887\"],[0.1111111111111111,\"#46039f\"],[0.2222222222222222,\"#7201a8\"],[0.3333333333333333,\"#9c179e\"],[0.4444444444444444,\"#bd3786\"],[0.5555555555555556,\"#d8576b\"],[0.6666666666666666,\"#ed7953\"],[0.7777777777777778,\"#fb9f3a\"],[0.8888888888888888,\"#fdca26\"],[1.0,\"#f0f921\"]]},\"colorway\":[\"#636efa\",\"#EF553B\",\"#00cc96\",\"#ab63fa\",\"#FFA15A\",\"#19d3f3\",\"#FF6692\",\"#B6E880\",\"#FF97FF\",\"#FECB52\"],\"font\":{\"color\":\"#2a3f5f\"},\"geo\":{\"bgcolor\":\"white\",\"lakecolor\":\"white\",\"landcolor\":\"#E5ECF6\",\"showlakes\":true,\"showland\":true,\"subunitcolor\":\"white\"},\"hoverlabel\":{\"align\":\"left\"},\"hovermode\":\"closest\",\"mapbox\":{\"style\":\"light\"},\"paper_bgcolor\":\"white\",\"plot_bgcolor\":\"#E5ECF6\",\"polar\":{\"angularaxis\":{\"gridcolor\":\"white\",\"linecolor\":\"white\",\"ticks\":\"\"},\"bgcolor\":\"#E5ECF6\",\"radialaxis\":{\"gridcolor\":\"white\",\"linecolor\":\"white\",\"ticks\":\"\"}},\"scene\":{\"xaxis\":{\"backgroundcolor\":\"#E5ECF6\",\"gridcolor\":\"white\",\"gridwidth\":2,\"linecolor\":\"white\",\"showbackground\":true,\"ticks\":\"\",\"zerolinecolor\":\"white\"},\"yaxis\":{\"backgroundcolor\":\"#E5ECF6\",\"gridcolor\":\"white\",\"gridwidth\":2,\"linecolor\":\"white\",\"showbackground\":true,\"ticks\":\"\",\"zerolinecolor\":\"white\"},\"zaxis\":{\"backgroundcolor\":\"#E5ECF6\",\"gridcolor\":\"white\",\"gridwidth\":2,\"linecolor\":\"white\",\"showbackground\":true,\"ticks\":\"\",\"zerolinecolor\":\"white\"}},\"shapedefaults\":{\"line\":{\"color\":\"#2a3f5f\"}},\"ternary\":{\"aaxis\":{\"gridcolor\":\"white\",\"linecolor\":\"white\",\"ticks\":\"\"},\"baxis\":{\"gridcolor\":\"white\",\"linecolor\":\"white\",\"ticks\":\"\"},\"bgcolor\":\"#E5ECF6\",\"caxis\":{\"gridcolor\":\"white\",\"linecolor\":\"white\",\"ticks\":\"\"}},\"title\":{\"x\":0.05},\"xaxis\":{\"automargin\":true,\"gridcolor\":\"white\",\"linecolor\":\"white\",\"ticks\":\"\",\"title\":{\"standoff\":15},\"zerolinecolor\":\"white\",\"zerolinewidth\":2},\"yaxis\":{\"automargin\":true,\"gridcolor\":\"white\",\"linecolor\":\"white\",\"ticks\":\"\",\"title\":{\"standoff\":15},\"zerolinecolor\":\"white\",\"zerolinewidth\":2}}},\"xaxis\":{\"anchor\":\"y\",\"domain\":[0.0,1.0],\"title\":{\"text\":\"sigla_uf\"}},\"yaxis\":{\"anchor\":\"x\",\"domain\":[0.0,1.0],\"title\":{\"text\":\"sum of nota_saeb_media_padronizada\"}},\"legend\":{\"tracegroupgap\":0},\"margin\":{\"t\":60},\"barmode\":\"relative\"},                        {\"responsive\": true}                    ).then(function(){\n",
              "                            \n",
              "var gd = document.getElementById('fd68307f-c286-478b-86f5-5cd83d522f4e');\n",
              "var x = new MutationObserver(function (mutations, observer) {{\n",
              "        var display = window.getComputedStyle(gd).display;\n",
              "        if (!display || display === 'none') {{\n",
              "            console.log([gd, 'removed!']);\n",
              "            Plotly.purge(gd);\n",
              "            observer.disconnect();\n",
              "        }}\n",
              "}});\n",
              "\n",
              "// Listen for the removal of the full notebook cells\n",
              "var notebookContainer = gd.closest('#notebook-container');\n",
              "if (notebookContainer) {{\n",
              "    x.observe(notebookContainer, {childList: true});\n",
              "}}\n",
              "\n",
              "// Listen for the clearing of the current output cell\n",
              "var outputEl = gd.closest('.output');\n",
              "if (outputEl) {{\n",
              "    x.observe(outputEl, {childList: true});\n",
              "}}\n",
              "\n",
              "                        })                };                            </script>        </div>\n",
              "</body>\n",
              "</html>"
            ]
          },
          "metadata": {}
        }
      ]
    },
    {
      "cell_type": "code",
      "source": [
        "# Assimetria e Curtose\n",
        "assimetria(df_ideb.nota_saeb_media_padronizada)"
      ],
      "metadata": {
        "id": "mr-hKKGh-RCi",
        "colab": {
          "base_uri": "https://localhost:8080/",
          "height": 35
        },
        "outputId": "1dcd1b55-c657-4111-fbe9-0cfbac3d3f88"
      },
      "execution_count": 129,
      "outputs": [
        {
          "output_type": "execute_result",
          "data": {
            "text/plain": [
              "'Assimetria à esquerda ou negativa'"
            ],
            "application/vnd.google.colaboratory.intrinsic+json": {
              "type": "string"
            }
          },
          "metadata": {},
          "execution_count": 129
        }
      ]
    },
    {
      "cell_type": "code",
      "source": [
        "curtose(df_ideb.nota_saeb_media_padronizada)"
      ],
      "metadata": {
        "colab": {
          "base_uri": "https://localhost:8080/",
          "height": 35
        },
        "id": "6hh1HNGiuNSC",
        "outputId": "6faf0427-1db1-4f22-8944-5ccae5d72e4f"
      },
      "execution_count": 130,
      "outputs": [
        {
          "output_type": "execute_result",
          "data": {
            "text/plain": [
              "'platicúrtica'"
            ],
            "application/vnd.google.colaboratory.intrinsic+json": {
              "type": "string"
            }
          },
          "metadata": {},
          "execution_count": 130
        }
      ]
    },
    {
      "cell_type": "markdown",
      "source": [
        "IDEB"
      ],
      "metadata": {
        "id": "NJp8Fql4y2f-"
      }
    },
    {
      "cell_type": "code",
      "source": [
        "# Histograma\n",
        "histograma(df_ideb.ideb)"
      ],
      "metadata": {
        "id": "ZilCpAPV-TSp",
        "colab": {
          "base_uri": "https://localhost:8080/",
          "height": 542
        },
        "outputId": "91e0dd82-39f8-4309-e0e1-b05664b0c836"
      },
      "execution_count": 131,
      "outputs": [
        {
          "output_type": "display_data",
          "data": {
            "text/html": [
              "<html>\n",
              "<head><meta charset=\"utf-8\" /></head>\n",
              "<body>\n",
              "    <div>            <script src=\"https://cdnjs.cloudflare.com/ajax/libs/mathjax/2.7.5/MathJax.js?config=TeX-AMS-MML_SVG\"></script><script type=\"text/javascript\">if (window.MathJax) {MathJax.Hub.Config({SVG: {font: \"STIX-Web\"}});}</script>                <script type=\"text/javascript\">window.PlotlyConfig = {MathJaxConfig: 'local'};</script>\n",
              "        <script src=\"https://cdn.plot.ly/plotly-2.8.3.min.js\"></script>                <div id=\"873f3fc0-0a6c-4fff-9713-2da8bd546b52\" class=\"plotly-graph-div\" style=\"height:525px; width:100%;\"></div>            <script type=\"text/javascript\">                                    window.PLOTLYENV=window.PLOTLYENV || {};                                    if (document.getElementById(\"873f3fc0-0a6c-4fff-9713-2da8bd546b52\")) {                    Plotly.newPlot(                        \"873f3fc0-0a6c-4fff-9713-2da8bd546b52\",                        [{\"alignmentgroup\":\"True\",\"bingroup\":\"x\",\"histfunc\":\"sum\",\"hovertemplate\":\"sigla_uf=%{x}<br>sum of ideb=%{y}<extra></extra>\",\"legendgroup\":\"\",\"marker\":{\"color\":\"#636efa\",\"pattern\":{\"shape\":\"\"}},\"name\":\"\",\"offsetgroup\":\"\",\"orientation\":\"v\",\"showlegend\":false,\"x\":[\"MG\",\"PE\",\"RJ\",\"SP\",\"PA\",\"MG\",\"BA\",\"RS\",\"RJ\",\"PR\",\"PA\",\"CE\",\"SP\",\"GO\",\"SP\",\"CE\",\"PA\",\"GO\",\"MG\",\"SE\",\"ES\",\"PE\",\"BA\",\"SC\",\"MT\",\"GO\",\"DF\",\"CE\",\"RJ\",\"RS\",\"ES\",\"PE\",\"BA\",\"SC\",\"BA\",\"RJ\",\"MA\",\"MG\",\"AL\",\"BA\",\"SP\",\"ES\",\"RS\",\"PR\",\"SC\",\"SP\",\"GO\",\"SC\",\"BA\",\"BA\",\"RS\",\"PE\",\"CE\",\"SC\",\"RS\",\"PB\",\"RJ\",\"AL\",\"PA\",\"MG\",\"PA\",\"RS\",\"BA\",\"SC\",\"AL\",\"CE\",\"AC\",\"CE\",\"AL\",\"MA\",\"MA\",\"AL\",\"CE\",\"RN\",\"MG\",\"RO\",\"AC\",\"RS\",\"RO\",\"PA\",\"RS\",\"PR\",\"SP\",\"PE\",\"PA\",\"MA\",\"SP\",\"SP\",\"MT\",\"GO\",\"RJ\",\"MA\",\"MA\",\"CE\",\"BA\",\"RS\",\"SP\",\"PA\",\"PA\",\"BA\",\"PI\",\"RJ\",\"PA\",\"MS\",\"ES\",\"SP\",\"TO\",\"BA\",\"PI\",\"PI\",\"MG\",\"CE\",\"SP\",\"RR\",\"AC\",\"SP\",\"MA\",\"RJ\",\"MG\",\"DF\",\"PA\",\"MA\",\"PA\",\"SP\",\"RO\",\"PB\",\"MS\",\"ES\",\"SP\",\"BA\",\"RJ\",\"SP\",\"SP\",\"CE\",\"RS\",\"BA\",\"PR\",\"MS\",\"RN\",\"BA\",\"MG\",\"SP\",\"PB\",\"SP\",\"PA\",\"MA\",\"SC\",\"RJ\",\"PA\",\"RS\",\"BA\",\"RN\",\"PR\",\"RJ\",\"BA\",\"CE\",\"TO\",\"BA\",\"BA\",\"PR\",\"AM\",\"CE\",\"SC\",\"RS\",\"MG\",\"MG\",\"BA\",\"RS\",\"BA\",\"CE\",\"PR\",\"MT\",\"BA\",\"SC\",\"SC\",\"PI\",\"RJ\",\"CE\",\"SP\",\"BA\",\"RS\",\"SP\",\"PB\",\"MT\",\"PA\",\"MG\",\"GO\",\"SC\",\"PE\",\"SP\",\"MG\",\"MA\",\"BA\",\"SP\",\"BA\",\"SP\",\"PA\",\"AL\",\"PE\",\"SE\",\"MG\",\"PE\",\"BA\",\"CE\",\"PA\",\"PB\",\"MG\",\"MT\",\"ES\",\"CE\",\"SP\",\"PA\",\"CE\",\"SP\",\"MS\",\"MT\",\"PB\",\"AM\",\"PE\",\"MS\",\"ES\",\"SP\",\"CE\",\"PE\",\"AM\",\"MT\",\"SP\",\"MT\",\"PR\",\"PR\",\"PE\",\"PB\",\"PB\",\"DF\",\"RJ\",\"MG\",\"PR\",\"MG\",\"PI\",\"SP\",\"MG\",\"PB\",\"BA\",\"AM\",\"SC\",\"PE\",\"RS\",\"SP\",\"AL\",\"PR\",\"SP\",\"RN\",\"SE\",\"PE\",\"BA\",\"RN\",\"RS\",\"RJ\",\"BA\",\"SP\",\"BA\",\"SP\",\"PB\",\"BA\",\"PE\",\"MA\",\"PR\",\"PR\",\"AL\",\"MS\",\"SP\",\"MG\",\"DF\",\"MG\",\"MG\",\"BA\",\"BA\",\"MA\",\"GO\",\"MG\",\"CE\",\"SC\",\"MA\",\"PE\",\"MS\",\"PI\",\"SP\",\"TO\",\"PE\",\"SP\",\"MT\",\"PB\",\"AL\",\"MG\",\"CE\",\"GO\",\"SP\",\"RS\",\"RN\",\"SP\",\"PE\",\"ES\",\"SP\",\"DF\",\"CE\",\"SP\",\"PB\",\"GO\",\"SC\",\"AC\",\"MG\",\"PE\",\"ES\",\"RN\",\"SP\",\"GO\",\"MT\",\"MG\",\"GO\",\"PE\",\"MG\",\"SP\",\"SP\",\"RN\",\"PR\",\"RJ\",\"SP\",\"PR\",\"MG\",\"SP\",\"RJ\",\"BA\",\"PE\",\"SP\",\"PB\",\"CE\",\"PI\",\"MA\",\"PE\",\"PR\",\"MA\",\"GO\",\"CE\",\"BA\",\"PA\",\"AL\",\"SE\",\"BA\",\"PR\",\"RS\",\"BA\",\"BA\",\"RJ\",\"RS\",\"PR\",\"PR\",\"MA\",\"AM\",\"RN\",\"SP\",\"PA\",\"PE\",\"AL\",\"GO\",\"RS\",\"PR\",\"BA\",\"RJ\",\"SE\",\"PI\",\"BA\",\"PB\",\"SP\",\"PR\",\"PA\",\"PE\",\"CE\",\"RO\",\"MT\",\"SP\",\"SP\",\"MA\",\"MT\",\"SP\",\"MT\",\"MA\",\"RS\",\"PI\",\"MG\",\"RJ\",\"MT\",\"TO\",\"PA\",\"SP\",\"MA\",\"RJ\",\"SP\",\"PR\",\"BA\",\"RS\",\"AL\",\"BA\",\"PR\",\"CE\",\"BA\",\"SE\",\"CE\",\"ES\",\"MG\",\"SP\",\"MA\",\"SP\",\"SP\",\"PE\",\"CE\",\"MG\",\"SC\",\"TO\",\"MT\",\"SP\",\"RN\",\"MG\",\"BA\",\"MA\",\"PR\",\"BA\",\"ES\",\"PA\",\"MA\",\"SC\",\"MA\",\"MT\",\"BA\",\"BA\",\"BA\",\"BA\",\"RO\",\"PI\",\"PI\",\"PR\",\"BA\",\"PA\",\"SP\",\"CE\",\"PE\",\"RJ\",\"PR\",\"RS\",\"SC\",\"SP\",\"CE\",\"BA\",\"MA\",\"PA\",\"AM\",\"MA\",\"AL\",\"SP\",\"MT\",\"RJ\",\"RJ\",\"PE\",\"BA\",\"BA\",\"SP\",\"MG\",\"RS\",\"PR\",\"PE\",\"PA\",\"ES\",\"SE\",\"SC\",\"MG\",\"PR\",\"RN\",\"MG\",\"SP\",\"RN\",\"PR\",\"SP\",\"SP\",\"SE\",\"MA\",\"PE\",\"CE\",\"MG\",\"PE\",\"PA\",\"RJ\",\"SP\",\"SP\",\"MG\",\"RJ\",\"SP\",\"RJ\",\"MG\",\"PB\",\"CE\",\"AC\",\"SP\",\"PA\",\"PR\",\"RJ\",\"RN\",\"MG\",\"GO\",\"RS\",\"RS\",\"PR\",\"MT\",\"PR\",\"RS\",\"RJ\",\"RJ\",\"PA\",\"AM\",\"AL\",\"PE\",\"RS\",\"BA\",\"BA\",\"PA\",\"BA\",\"PB\",\"PA\",\"SP\",\"AL\",\"RN\",\"RS\",\"SP\",\"PI\",\"GO\",\"AP\",\"RS\",\"MA\",\"MS\",\"CE\",\"RS\",\"RJ\",\"PE\",\"PA\",\"ES\",\"GO\",\"SP\",\"MG\",\"PA\",\"MG\",\"MG\",\"RS\",\"PE\",\"PE\",\"MA\",\"MA\",\"SP\",\"RJ\",\"BA\",\"GO\",\"GO\",\"BA\",\"RJ\",\"DF\",\"PA\",\"SC\",\"MG\",\"PR\",\"SC\",\"RJ\",\"AL\",\"SP\",\"MG\",\"RS\",\"SP\",\"BA\",\"BA\",\"PR\",\"RJ\",\"PR\",\"SP\",\"RS\",\"MA\",\"RS\",\"SE\",\"RJ\",\"RS\",\"SE\",\"PE\",\"RN\",\"MG\",\"BA\",\"PA\",\"GO\",\"RJ\",\"MG\",\"SP\",\"CE\",\"PR\",\"MA\",\"PR\",\"PR\",\"MT\",\"PB\",\"DF\",\"PE\",\"BA\",\"SC\",\"RS\",\"PA\",\"MG\",\"PA\",\"SC\",\"PA\",\"BA\",\"MA\",\"PA\",\"BA\",\"MG\",\"CE\",\"AM\",\"SC\",\"AM\",\"RS\",\"MG\",\"RN\",\"CE\",\"BA\",\"SP\",\"RJ\",\"RS\",\"SP\",\"CE\",\"SC\",\"SP\",\"MA\",\"MG\",\"RR\",\"RS\",\"BA\",\"PA\",\"PA\",\"MT\",\"RS\",\"MG\",\"SP\",\"SP\",\"PA\",\"SC\",\"MG\",\"MG\",\"PA\",\"SP\",\"AM\",\"MG\",\"AC\",\"PR\",\"MA\",\"SP\",\"MA\",\"RJ\",\"PE\",\"SP\",\"SP\",\"MA\",\"AL\",\"TO\",\"BA\",\"SP\",\"PB\",\"MG\",\"MA\",\"RS\",\"CE\",\"MA\",\"MG\",\"PR\",\"CE\",\"BA\",\"PR\",\"PE\",\"BA\",\"PE\",\"BA\",\"PA\",\"PE\",\"PB\",\"PR\",\"RJ\",\"BA\",\"PB\",\"MT\",\"PR\",\"SC\",\"BA\",\"MA\",\"PB\",\"BA\",\"PR\",\"SP\",\"BA\",\"PE\",\"MA\",\"BA\",\"PA\",\"RS\",\"AM\",\"MG\",\"PR\",\"BA\",\"PA\",\"SP\",\"AM\",\"SP\",\"RO\",\"PE\",\"ES\",\"RJ\",\"MG\",\"PR\",\"PE\",\"PR\",\"BA\",\"RJ\",\"PA\",\"PE\",\"BA\",\"BA\",\"AC\",\"MA\",\"SP\",\"BA\",\"TO\",\"CE\",\"ES\",\"PR\",\"SP\",\"RS\",\"BA\",\"PR\",\"ES\",\"ES\",\"SE\",\"PE\",\"BA\",\"RN\",\"SP\",\"SP\",\"MT\",\"SC\",\"MA\",\"ES\",\"PA\",\"SP\",\"MG\",\"PR\",\"SP\",\"PR\",\"MA\",\"PA\",\"GO\",\"RS\",\"MG\",\"MS\",\"RJ\",\"CE\",\"CE\",\"MG\",\"BA\",\"MG\",\"RO\",\"SP\",\"SP\",\"BA\",\"RS\",\"RS\",\"TO\",\"MA\",\"PR\",\"PE\",\"PR\",\"PR\",\"MA\",\"PE\",\"PE\",\"RN\",\"BA\",\"MG\",\"BA\",\"SP\",\"SP\",\"RN\",\"MS\",\"MG\",\"PE\",\"BA\",\"CE\",\"RJ\",\"AP\",\"PA\",\"AP\",\"BA\",\"PE\",\"MG\",\"MG\",\"TO\",\"PB\",\"PR\",\"AM\",\"GO\",\"BA\",\"ES\",\"GO\",\"PR\",\"MT\",\"RJ\",\"BA\",\"PR\",\"SP\",\"MG\",\"MA\",\"PE\",\"RN\",\"PE\",\"PA\",\"PB\",\"SP\",\"PE\",\"MA\",\"RS\",\"RS\",\"SP\",\"PR\",\"RS\",\"SP\",\"SC\",\"PA\",\"MG\",\"CE\",\"MT\",\"SP\",\"SC\",\"PR\",\"CE\",\"MG\",\"PA\",\"RO\",\"AM\",\"RJ\",\"PI\",\"BA\",\"MG\",\"RJ\",\"RN\",\"PA\",\"SE\",\"ES\",\"CE\",\"ES\",\"RJ\",\"AM\",\"MG\",\"RS\",\"SP\",\"BA\",\"MA\",\"RS\",\"RR\",\"PA\",\"RN\",\"SP\",\"SP\",\"GO\",\"SP\",\"BA\",\"BA\",\"TO\",\"PR\",\"MG\",\"PA\",\"RS\",\"PI\",\"AM\",\"SP\",\"SP\",\"PR\",\"RN\",\"MT\",\"PR\",\"ES\",\"BA\",\"RN\",\"SC\",\"PE\",\"GO\",\"SP\",\"SP\",\"CE\",\"MG\",\"MS\",\"CE\",\"MG\",\"SP\",\"PR\",\"MG\",\"RJ\",\"MS\",\"MA\",\"SC\",\"RS\",\"AM\",\"RS\",\"BA\",\"TO\",\"MG\",\"PR\",\"PR\",\"MG\",\"PR\",\"SE\",\"SP\",\"SE\",\"SC\",\"MT\",\"SP\",\"MT\",\"SP\",\"SP\",\"CE\",\"SP\",\"RS\",\"MG\",\"PR\",\"PE\",\"PE\",\"MG\",\"SC\",\"MA\",\"RS\",\"MG\",\"MS\",\"BA\",\"MA\",\"AL\",\"AP\",\"MG\",\"PA\",\"SC\",\"PR\",\"RS\",\"GO\",\"AM\",\"MT\",\"RS\",\"BA\",\"SP\",\"SC\",\"GO\",\"MA\",\"RO\",\"RJ\",\"AL\",\"SC\",\"BA\",\"GO\",\"AM\",\"MG\",\"SP\",\"SP\",\"RS\",\"PI\",\"PE\",\"AL\",\"SP\",\"MA\",\"PB\",\"PR\",\"PA\",\"MA\",\"AL\",\"SC\",\"SE\",\"RJ\",\"MG\",\"CE\",\"MG\",\"PE\",\"MS\",\"PE\",\"RO\",\"SP\",\"PB\",\"BA\",\"MT\",\"PR\",\"CE\",\"MA\",\"PE\",\"RJ\",\"PE\",\"GO\",\"MA\"],\"xaxis\":\"x\",\"y\":[5.5,4.6,5.2,6.3,2.9,6.2,4.3,6.8,4.3,6.8,2.7,6.0,6.6,6.1,6.3,6.2,4.0,6.2,5.6,3.5,4.9,5.0,3.4,6.0,5.6,7.4,5.1,6.6,6.1,4.5,5.4,5.2,4.7,6.3,4.5,3.9,5.0,5.5,5.2,5.2,6.0,5.2,6.5,6.4,6.4,6.6,5.4,6.7,4.6,3.6,4.7,4.0,5.7,6.0,6.5,4.6,5.7,5.5,5.3,5.9,5.0,7.1,5.4,6.4,4.4,5.4,5.6,6.1,5.4,4.5,3.7,4.1,6.2,6.1,6.5,5.9,5.0,4.4,4.7,5.0,4.3,7.5,7.5,5.8,4.0,4.1,6.8,5.8,7.5,5.7,5.4,4.2,5.7,6.6,3.0,4.2,6.8,4.8,4.0,3.8,6.7,5.1,4.2,7.3,6.7,6.6,5.1,3.9,4.2,4.3,6.9,5.4,5.9,3.3,5.1,5.9,3.9,7.6,5.4,5.0,2.9,3.9,3.6,7.6,4.7,5.2,5.5,6.7,7.1,4.4,4.5,7.1,6.1,6.0,6.5,5.1,5.9,5.5,4.5,4.3,6.1,7.1,5.0,7.0,5.0,3.1,5.8,5.7,5.3,5.5,4.0,2.5,6.2,4.2,4.8,6.0,5.4,6.9,5.7,6.6,4.3,7.4,6.5,6.3,4.9,5.5,6.0,6.6,4.4,6.7,5.6,7.1,4.9,6.6,5.7,4.4,4.9,5.7,7.5,3.0,6.1,6.6,6.0,6.6,5.1,6.8,6.3,5.8,4.5,7.1,5.8,4.2,3.6,7.1,4.5,6.6,3.7,5.4,5.5,5.1,5.2,4.4,4.4,5.6,5.7,4.6,7.8,5.1,6.3,5.3,6.9,4.7,6.5,5.9,5.6,6.0,5.1,3.1,5.1,6.2,5.6,7.0,6.1,4.6,3.7,7.2,6.9,5.9,7.0,5.6,4.9,5.9,5.1,6.3,4.0,6.1,5.4,6.7,5.1,6.3,6.0,6.5,4.0,2.8,7.7,6.1,6.0,7.1,5.9,6.5,7.1,5.1,6.2,4.5,4.3,5.7,6.2,4.8,5.6,7.8,3.1,5.3,5.3,4.4,6.1,4.2,7.0,5.7,3.6,4.6,6.2,5.3,6.5,5.7,6.6,4.6,4.1,5.8,5.3,4.8,6.4,7.2,4.4,4.5,3.2,4.7,6.7,6.2,5.0,6.3,5.8,5.7,6.3,4.6,6.1,5.2,5.3,6.3,4.3,6.9,6.7,6.0,6.4,6.9,6.6,5.9,4.7,6.1,5.2,6.9,6.1,4.6,7.6,3.3,6.4,6.3,4.5,6.7,4.9,4.0,6.6,6.2,6.7,4.8,6.3,4.9,6.2,6.5,5.0,7.2,5.9,3.8,4.9,5.9,4.5,5.3,3.9,3.9,4.0,6.4,5.0,7.5,4.7,5.3,5.6,7.3,4.6,5.1,8.0,5.8,3.6,5.8,5.6,6.6,6.9,4.0,5.0,3.4,5.5,6.6,2.6,5.2,3.6,6.9,5.5,6.1,2.4,5.5,4.3,5.5,5.4,5.0,5.9,7.3,4.1,4.6,5.0,6.2,5.1,6.0,7.7,3.8,5.7,7.3,5.6,6.2,5.9,3.7,6.4,3.6,5.9,4.9,5.4,5.8,3.8,6.5,6.5,5.5,2.8,6.0,5.6,4.6,6.5,5.2,5.3,3.2,5.8,4.9,5.3,7.0,4.3,6.8,6.9,7.2,5.5,5.9,6.4,6.3,5.4,6.0,4.3,5.3,6.9,3.2,6.3,3.7,6.0,4.7,4.2,5.4,3.3,4.9,4.7,5.7,5.4,4.9,5.6,4.2,6.4,5.9,5.2,2.5,5.7,6.4,4.6,4.7,5.4,7.1,6.1,5.9,6.2,3.7,4.7,5.8,3.7,4.1,5.5,7.1,5.3,6.0,6.3,5.0,3.3,5.0,6.3,5.8,5.9,6.8,5.9,3.0,5.8,4.5,7.1,6.6,6.1,5.0,6.9,6.3,5.2,6.7,5.5,6.6,5.1,3.5,5.3,6.4,5.9,4.4,5.4,4.6,7.1,6.4,6.4,6.2,7.1,5.4,7.1,5.1,6.5,7.5,7.3,4.2,6.4,6.0,3.7,6.6,5.1,6.3,6.1,5.8,4.8,6.2,5.2,5.0,4.9,5.4,5.5,5.9,5.2,6.4,3.5,5.0,3.7,5.4,4.7,4.1,7.2,4.3,4.0,6.1,6.9,2.9,6.5,3.7,7.4,4.2,5.3,6.0,5.1,4.3,5.7,3.4,5.9,6.9,6.4,6.1,5.5,6.4,5.2,5.5,4.4,5.0,5.3,5.1,5.8,6.0,4.0,7.4,6.2,3.9,4.3,6.1,3.8,6.4,6.0,5.5,6.3,6.6,5.3,5.5,6.2,6.7,5.8,4.7,5.8,5.5,5.2,6.5,6.6,5.5,3.1,4.8,4.0,4.8,6.2,3.9,4.5,3.9,6.2,3.6,4.9,6.7,5.0,6.1,7.4,6.8,7.7,6.0,6.3,7.0,5.7,5.7,5.7,5.4,5.0,5.1,6.6,5.9,4.2,5.1,5.4,5.3,3.7,4.8,1.7,4.7,6.5,5.4,5.4,7.1,5.7,6.1,6.3,3.5,6.9,3.7,6.2,6.2,5.4,6.2,7.4,7.4,6.7,4.2,5.2,7.0,5.4,5.2,4.0,5.5,6.3,6.9,6.7,6.0,5.7,4.2,6.3,6.8,5.5,4.3,6.7,6.8,6.0,4.7,6.2,5.5,6.6,4.8,5.3,5.7,6.9,6.8,5.0,4.3,5.3,6.0,4.9,4.0,5.9,4.7,4.5,6.1,4.1,6.8,7.0,5.7,4.3,5.9,7.2,5.7,5.5,3.8,4.1,5.0,5.1,5.3,4.4,4.1,3.1,6.9,6.3,6.3,4.8,3.9,4.4,6.8,6.4,6.7,4.6,4.9,5.3,5.4,5.5,5.7,5.2,6.7,6.0,3.3,4.0,7.2,5.2,7.3,5.9,5.3,5.8,5.3,6.8,5.4,5.0,6.5,5.6,5.0,4.7,6.0,3.2,5.2,5.5,3.9,6.2,3.9,6.9,6.0,5.7,4.9,6.0,6.7,5.7,5.9,4.9,5.5,5.4,5.0,3.7,5.0,7.4,7.2,5.4,5.2,4.4,7.5,4.8,5.7,5.2,6.0,6.1,7.0,4.3,4.6,5.2,6.3,6.5,4.5,5.8,7.3,5.6,5.2,5.6,5.6,5.9,7.2,6.9,4.8,5.3,6.3,4.0,5.6,6.6,4.1,7.1,6.6,4.0,5.2,4.3,4.8,5.8,6.5,5.5,6.1,6.0,5.7,5.0,5.8,4.1,5.3,7.1,5.5,4.2,3.1,5.7,4.1,7.1,6.6,6.1,4.6,4.5,6.4,4.6,4.4,4.3,6.8,6.0,5.6,5.7,4.4,6.6,5.4,5.9,5.6,3.1,4.6,4.8,4.8,5.2,3.9,6.7,5.8,3.6,6.4,6.1,5.9,6.5,7.2,7.3,7.0,3.0,6.8,5.8,5.6,6.3,4.9,7.1,6.3,5.4,4.6,4.0,4.4,4.9,4.8,6.3,7.1,5.4,4.7,3.3,3.8,5.9,5.8,5.7,5.6,5.9,5.9,5.1,6.8,3.8,5.0,4.7,3.0,4.0,3.6,5.8,7.1,5.2,6.3,6.8,4.4,4.5,6.4,4.5,2.7,6.4,6.1,5.2,5.6,7.4,5.7,6.1,5.1,7.1,4.5,3.2,2.8,6.2,5.5,7.4,7.9,6.4,8.4,5.8,5.1,5.1,6.1,6.6,7.3,6.3,5.3,3.9,4.7,5.8,5.5,4.2,5.7,5.5,4.2,5.5,6.3,7.5,6.2,6.6,3.7,5.8,4.4,6.1,5.4,7.0,5.9,5.4,5.3,6.0,7.1,5.1,6.6,7.1,4.9,4.9,6.0,8.1,4.7,3.9,7.1,6.5,3.8,4.7,5.9,4.1,6.6,3.9,6.9,5.4,6.9,5.1,3.3,6.5,5.1,4.1,5.0,5.2,7.2,3.4,5.3,5.1,4.7,7.5,3.8,5.5,6.3,5.5,5.9,7.1,7.2,4.9,5.1,4.9,6.6,5.1,5.0,7.3,3.8,3.5,5.9,5.1,4.9,5.5,5.9,6.4,5.8,4.9,5.9,7.6,5.5,6.4,4.0,3.1,5.3,6.1,6.5,5.7,4.7,3.8,6.5,6.1,3.7],\"yaxis\":\"y\",\"type\":\"histogram\"}],                        {\"template\":{\"data\":{\"bar\":[{\"error_x\":{\"color\":\"#2a3f5f\"},\"error_y\":{\"color\":\"#2a3f5f\"},\"marker\":{\"line\":{\"color\":\"#E5ECF6\",\"width\":0.5},\"pattern\":{\"fillmode\":\"overlay\",\"size\":10,\"solidity\":0.2}},\"type\":\"bar\"}],\"barpolar\":[{\"marker\":{\"line\":{\"color\":\"#E5ECF6\",\"width\":0.5},\"pattern\":{\"fillmode\":\"overlay\",\"size\":10,\"solidity\":0.2}},\"type\":\"barpolar\"}],\"carpet\":[{\"aaxis\":{\"endlinecolor\":\"#2a3f5f\",\"gridcolor\":\"white\",\"linecolor\":\"white\",\"minorgridcolor\":\"white\",\"startlinecolor\":\"#2a3f5f\"},\"baxis\":{\"endlinecolor\":\"#2a3f5f\",\"gridcolor\":\"white\",\"linecolor\":\"white\",\"minorgridcolor\":\"white\",\"startlinecolor\":\"#2a3f5f\"},\"type\":\"carpet\"}],\"choropleth\":[{\"colorbar\":{\"outlinewidth\":0,\"ticks\":\"\"},\"type\":\"choropleth\"}],\"contour\":[{\"colorbar\":{\"outlinewidth\":0,\"ticks\":\"\"},\"colorscale\":[[0.0,\"#0d0887\"],[0.1111111111111111,\"#46039f\"],[0.2222222222222222,\"#7201a8\"],[0.3333333333333333,\"#9c179e\"],[0.4444444444444444,\"#bd3786\"],[0.5555555555555556,\"#d8576b\"],[0.6666666666666666,\"#ed7953\"],[0.7777777777777778,\"#fb9f3a\"],[0.8888888888888888,\"#fdca26\"],[1.0,\"#f0f921\"]],\"type\":\"contour\"}],\"contourcarpet\":[{\"colorbar\":{\"outlinewidth\":0,\"ticks\":\"\"},\"type\":\"contourcarpet\"}],\"heatmap\":[{\"colorbar\":{\"outlinewidth\":0,\"ticks\":\"\"},\"colorscale\":[[0.0,\"#0d0887\"],[0.1111111111111111,\"#46039f\"],[0.2222222222222222,\"#7201a8\"],[0.3333333333333333,\"#9c179e\"],[0.4444444444444444,\"#bd3786\"],[0.5555555555555556,\"#d8576b\"],[0.6666666666666666,\"#ed7953\"],[0.7777777777777778,\"#fb9f3a\"],[0.8888888888888888,\"#fdca26\"],[1.0,\"#f0f921\"]],\"type\":\"heatmap\"}],\"heatmapgl\":[{\"colorbar\":{\"outlinewidth\":0,\"ticks\":\"\"},\"colorscale\":[[0.0,\"#0d0887\"],[0.1111111111111111,\"#46039f\"],[0.2222222222222222,\"#7201a8\"],[0.3333333333333333,\"#9c179e\"],[0.4444444444444444,\"#bd3786\"],[0.5555555555555556,\"#d8576b\"],[0.6666666666666666,\"#ed7953\"],[0.7777777777777778,\"#fb9f3a\"],[0.8888888888888888,\"#fdca26\"],[1.0,\"#f0f921\"]],\"type\":\"heatmapgl\"}],\"histogram\":[{\"marker\":{\"pattern\":{\"fillmode\":\"overlay\",\"size\":10,\"solidity\":0.2}},\"type\":\"histogram\"}],\"histogram2d\":[{\"colorbar\":{\"outlinewidth\":0,\"ticks\":\"\"},\"colorscale\":[[0.0,\"#0d0887\"],[0.1111111111111111,\"#46039f\"],[0.2222222222222222,\"#7201a8\"],[0.3333333333333333,\"#9c179e\"],[0.4444444444444444,\"#bd3786\"],[0.5555555555555556,\"#d8576b\"],[0.6666666666666666,\"#ed7953\"],[0.7777777777777778,\"#fb9f3a\"],[0.8888888888888888,\"#fdca26\"],[1.0,\"#f0f921\"]],\"type\":\"histogram2d\"}],\"histogram2dcontour\":[{\"colorbar\":{\"outlinewidth\":0,\"ticks\":\"\"},\"colorscale\":[[0.0,\"#0d0887\"],[0.1111111111111111,\"#46039f\"],[0.2222222222222222,\"#7201a8\"],[0.3333333333333333,\"#9c179e\"],[0.4444444444444444,\"#bd3786\"],[0.5555555555555556,\"#d8576b\"],[0.6666666666666666,\"#ed7953\"],[0.7777777777777778,\"#fb9f3a\"],[0.8888888888888888,\"#fdca26\"],[1.0,\"#f0f921\"]],\"type\":\"histogram2dcontour\"}],\"mesh3d\":[{\"colorbar\":{\"outlinewidth\":0,\"ticks\":\"\"},\"type\":\"mesh3d\"}],\"parcoords\":[{\"line\":{\"colorbar\":{\"outlinewidth\":0,\"ticks\":\"\"}},\"type\":\"parcoords\"}],\"pie\":[{\"automargin\":true,\"type\":\"pie\"}],\"scatter\":[{\"marker\":{\"colorbar\":{\"outlinewidth\":0,\"ticks\":\"\"}},\"type\":\"scatter\"}],\"scatter3d\":[{\"line\":{\"colorbar\":{\"outlinewidth\":0,\"ticks\":\"\"}},\"marker\":{\"colorbar\":{\"outlinewidth\":0,\"ticks\":\"\"}},\"type\":\"scatter3d\"}],\"scattercarpet\":[{\"marker\":{\"colorbar\":{\"outlinewidth\":0,\"ticks\":\"\"}},\"type\":\"scattercarpet\"}],\"scattergeo\":[{\"marker\":{\"colorbar\":{\"outlinewidth\":0,\"ticks\":\"\"}},\"type\":\"scattergeo\"}],\"scattergl\":[{\"marker\":{\"colorbar\":{\"outlinewidth\":0,\"ticks\":\"\"}},\"type\":\"scattergl\"}],\"scattermapbox\":[{\"marker\":{\"colorbar\":{\"outlinewidth\":0,\"ticks\":\"\"}},\"type\":\"scattermapbox\"}],\"scatterpolar\":[{\"marker\":{\"colorbar\":{\"outlinewidth\":0,\"ticks\":\"\"}},\"type\":\"scatterpolar\"}],\"scatterpolargl\":[{\"marker\":{\"colorbar\":{\"outlinewidth\":0,\"ticks\":\"\"}},\"type\":\"scatterpolargl\"}],\"scatterternary\":[{\"marker\":{\"colorbar\":{\"outlinewidth\":0,\"ticks\":\"\"}},\"type\":\"scatterternary\"}],\"surface\":[{\"colorbar\":{\"outlinewidth\":0,\"ticks\":\"\"},\"colorscale\":[[0.0,\"#0d0887\"],[0.1111111111111111,\"#46039f\"],[0.2222222222222222,\"#7201a8\"],[0.3333333333333333,\"#9c179e\"],[0.4444444444444444,\"#bd3786\"],[0.5555555555555556,\"#d8576b\"],[0.6666666666666666,\"#ed7953\"],[0.7777777777777778,\"#fb9f3a\"],[0.8888888888888888,\"#fdca26\"],[1.0,\"#f0f921\"]],\"type\":\"surface\"}],\"table\":[{\"cells\":{\"fill\":{\"color\":\"#EBF0F8\"},\"line\":{\"color\":\"white\"}},\"header\":{\"fill\":{\"color\":\"#C8D4E3\"},\"line\":{\"color\":\"white\"}},\"type\":\"table\"}]},\"layout\":{\"annotationdefaults\":{\"arrowcolor\":\"#2a3f5f\",\"arrowhead\":0,\"arrowwidth\":1},\"autotypenumbers\":\"strict\",\"coloraxis\":{\"colorbar\":{\"outlinewidth\":0,\"ticks\":\"\"}},\"colorscale\":{\"diverging\":[[0,\"#8e0152\"],[0.1,\"#c51b7d\"],[0.2,\"#de77ae\"],[0.3,\"#f1b6da\"],[0.4,\"#fde0ef\"],[0.5,\"#f7f7f7\"],[0.6,\"#e6f5d0\"],[0.7,\"#b8e186\"],[0.8,\"#7fbc41\"],[0.9,\"#4d9221\"],[1,\"#276419\"]],\"sequential\":[[0.0,\"#0d0887\"],[0.1111111111111111,\"#46039f\"],[0.2222222222222222,\"#7201a8\"],[0.3333333333333333,\"#9c179e\"],[0.4444444444444444,\"#bd3786\"],[0.5555555555555556,\"#d8576b\"],[0.6666666666666666,\"#ed7953\"],[0.7777777777777778,\"#fb9f3a\"],[0.8888888888888888,\"#fdca26\"],[1.0,\"#f0f921\"]],\"sequentialminus\":[[0.0,\"#0d0887\"],[0.1111111111111111,\"#46039f\"],[0.2222222222222222,\"#7201a8\"],[0.3333333333333333,\"#9c179e\"],[0.4444444444444444,\"#bd3786\"],[0.5555555555555556,\"#d8576b\"],[0.6666666666666666,\"#ed7953\"],[0.7777777777777778,\"#fb9f3a\"],[0.8888888888888888,\"#fdca26\"],[1.0,\"#f0f921\"]]},\"colorway\":[\"#636efa\",\"#EF553B\",\"#00cc96\",\"#ab63fa\",\"#FFA15A\",\"#19d3f3\",\"#FF6692\",\"#B6E880\",\"#FF97FF\",\"#FECB52\"],\"font\":{\"color\":\"#2a3f5f\"},\"geo\":{\"bgcolor\":\"white\",\"lakecolor\":\"white\",\"landcolor\":\"#E5ECF6\",\"showlakes\":true,\"showland\":true,\"subunitcolor\":\"white\"},\"hoverlabel\":{\"align\":\"left\"},\"hovermode\":\"closest\",\"mapbox\":{\"style\":\"light\"},\"paper_bgcolor\":\"white\",\"plot_bgcolor\":\"#E5ECF6\",\"polar\":{\"angularaxis\":{\"gridcolor\":\"white\",\"linecolor\":\"white\",\"ticks\":\"\"},\"bgcolor\":\"#E5ECF6\",\"radialaxis\":{\"gridcolor\":\"white\",\"linecolor\":\"white\",\"ticks\":\"\"}},\"scene\":{\"xaxis\":{\"backgroundcolor\":\"#E5ECF6\",\"gridcolor\":\"white\",\"gridwidth\":2,\"linecolor\":\"white\",\"showbackground\":true,\"ticks\":\"\",\"zerolinecolor\":\"white\"},\"yaxis\":{\"backgroundcolor\":\"#E5ECF6\",\"gridcolor\":\"white\",\"gridwidth\":2,\"linecolor\":\"white\",\"showbackground\":true,\"ticks\":\"\",\"zerolinecolor\":\"white\"},\"zaxis\":{\"backgroundcolor\":\"#E5ECF6\",\"gridcolor\":\"white\",\"gridwidth\":2,\"linecolor\":\"white\",\"showbackground\":true,\"ticks\":\"\",\"zerolinecolor\":\"white\"}},\"shapedefaults\":{\"line\":{\"color\":\"#2a3f5f\"}},\"ternary\":{\"aaxis\":{\"gridcolor\":\"white\",\"linecolor\":\"white\",\"ticks\":\"\"},\"baxis\":{\"gridcolor\":\"white\",\"linecolor\":\"white\",\"ticks\":\"\"},\"bgcolor\":\"#E5ECF6\",\"caxis\":{\"gridcolor\":\"white\",\"linecolor\":\"white\",\"ticks\":\"\"}},\"title\":{\"x\":0.05},\"xaxis\":{\"automargin\":true,\"gridcolor\":\"white\",\"linecolor\":\"white\",\"ticks\":\"\",\"title\":{\"standoff\":15},\"zerolinecolor\":\"white\",\"zerolinewidth\":2},\"yaxis\":{\"automargin\":true,\"gridcolor\":\"white\",\"linecolor\":\"white\",\"ticks\":\"\",\"title\":{\"standoff\":15},\"zerolinecolor\":\"white\",\"zerolinewidth\":2}}},\"xaxis\":{\"anchor\":\"y\",\"domain\":[0.0,1.0],\"title\":{\"text\":\"sigla_uf\"}},\"yaxis\":{\"anchor\":\"x\",\"domain\":[0.0,1.0],\"title\":{\"text\":\"sum of ideb\"}},\"legend\":{\"tracegroupgap\":0},\"margin\":{\"t\":60},\"barmode\":\"relative\"},                        {\"responsive\": true}                    ).then(function(){\n",
              "                            \n",
              "var gd = document.getElementById('873f3fc0-0a6c-4fff-9713-2da8bd546b52');\n",
              "var x = new MutationObserver(function (mutations, observer) {{\n",
              "        var display = window.getComputedStyle(gd).display;\n",
              "        if (!display || display === 'none') {{\n",
              "            console.log([gd, 'removed!']);\n",
              "            Plotly.purge(gd);\n",
              "            observer.disconnect();\n",
              "        }}\n",
              "}});\n",
              "\n",
              "// Listen for the removal of the full notebook cells\n",
              "var notebookContainer = gd.closest('#notebook-container');\n",
              "if (notebookContainer) {{\n",
              "    x.observe(notebookContainer, {childList: true});\n",
              "}}\n",
              "\n",
              "// Listen for the clearing of the current output cell\n",
              "var outputEl = gd.closest('.output');\n",
              "if (outputEl) {{\n",
              "    x.observe(outputEl, {childList: true});\n",
              "}}\n",
              "\n",
              "                        })                };                            </script>        </div>\n",
              "</body>\n",
              "</html>"
            ]
          },
          "metadata": {}
        }
      ]
    },
    {
      "cell_type": "code",
      "source": [
        "# Assimetria e Curtose\n",
        "assimetria(df_ideb.ideb)"
      ],
      "metadata": {
        "id": "7m5Xb9sL-TSp",
        "colab": {
          "base_uri": "https://localhost:8080/",
          "height": 35
        },
        "outputId": "09400eee-e898-4859-8d7c-6249a5ac2949"
      },
      "execution_count": 132,
      "outputs": [
        {
          "output_type": "execute_result",
          "data": {
            "text/plain": [
              "'Simétrica'"
            ],
            "application/vnd.google.colaboratory.intrinsic+json": {
              "type": "string"
            }
          },
          "metadata": {},
          "execution_count": 132
        }
      ]
    },
    {
      "cell_type": "code",
      "source": [
        "curtose(df_ideb.ideb)"
      ],
      "metadata": {
        "colab": {
          "base_uri": "https://localhost:8080/",
          "height": 35
        },
        "id": "hyPacEp1uN5U",
        "outputId": "99564b83-ab29-4f2a-ddaf-62983c10e8de"
      },
      "execution_count": 133,
      "outputs": [
        {
          "output_type": "execute_result",
          "data": {
            "text/plain": [
              "'platicúrtica'"
            ],
            "application/vnd.google.colaboratory.intrinsic+json": {
              "type": "string"
            }
          },
          "metadata": {},
          "execution_count": 133
        }
      ]
    },
    {
      "cell_type": "markdown",
      "source": [
        "# Pergunta Aberta\n",
        "\n",
        "Quais variáveis podemos afirmar que possui distribuição próxima da normal?"
      ],
      "metadata": {
        "id": "rTGmG05RqPEP"
      }
    },
    {
      "cell_type": "markdown",
      "source": [
        "Resposta:"
      ],
      "metadata": {
        "id": "tHGmSXPDsudH"
      }
    },
    {
      "cell_type": "markdown",
      "source": [
        "# Comparando Distribuições Estatísticas\n",
        "\n",
        "Na biblioteca plotly, podemos plotar histogramas sobrepostos. Essa á uma excelente ferramenta para a comparação de distribuições. Simplesmente use o parâmetro color='coluna' na função px.histogram().\n",
        "\n",
        "Exercício: compare a distribuição do IDEB entre os três estados da base filtrada (que usou para comparar as médias)."
      ],
      "metadata": {
        "id": "V4VB0g71sxYs"
      }
    },
    {
      "cell_type": "code",
      "source": [
        "# Código \n",
        "px.histogram(df_filtrado,x='sigla_uf',y='ideb',color='sigla_uf')"
      ],
      "metadata": {
        "id": "WocyEwbStlhK",
        "colab": {
          "base_uri": "https://localhost:8080/",
          "height": 542
        },
        "outputId": "6aa18ca6-c20f-4b10-ae46-98b5f3f2d310"
      },
      "execution_count": 134,
      "outputs": [
        {
          "output_type": "display_data",
          "data": {
            "text/html": [
              "<html>\n",
              "<head><meta charset=\"utf-8\" /></head>\n",
              "<body>\n",
              "    <div>            <script src=\"https://cdnjs.cloudflare.com/ajax/libs/mathjax/2.7.5/MathJax.js?config=TeX-AMS-MML_SVG\"></script><script type=\"text/javascript\">if (window.MathJax) {MathJax.Hub.Config({SVG: {font: \"STIX-Web\"}});}</script>                <script type=\"text/javascript\">window.PlotlyConfig = {MathJaxConfig: 'local'};</script>\n",
              "        <script src=\"https://cdn.plot.ly/plotly-2.8.3.min.js\"></script>                <div id=\"01f8f36f-e336-4988-9ddf-350391024a21\" class=\"plotly-graph-div\" style=\"height:525px; width:100%;\"></div>            <script type=\"text/javascript\">                                    window.PLOTLYENV=window.PLOTLYENV || {};                                    if (document.getElementById(\"01f8f36f-e336-4988-9ddf-350391024a21\")) {                    Plotly.newPlot(                        \"01f8f36f-e336-4988-9ddf-350391024a21\",                        [{\"alignmentgroup\":\"True\",\"bingroup\":\"x\",\"histfunc\":\"sum\",\"hovertemplate\":\"sigla_uf=%{x}<br>sum of ideb=%{y}<extra></extra>\",\"legendgroup\":\"MG\",\"marker\":{\"color\":\"#636efa\",\"pattern\":{\"shape\":\"\"}},\"name\":\"MG\",\"offsetgroup\":\"MG\",\"orientation\":\"v\",\"showlegend\":true,\"x\":[\"MG\",\"MG\",\"MG\",\"MG\",\"MG\",\"MG\",\"MG\",\"MG\",\"MG\",\"MG\",\"MG\",\"MG\",\"MG\",\"MG\",\"MG\",\"MG\",\"MG\",\"MG\",\"MG\",\"MG\",\"MG\",\"MG\",\"MG\",\"MG\",\"MG\",\"MG\",\"MG\",\"MG\",\"MG\",\"MG\",\"MG\",\"MG\",\"MG\",\"MG\",\"MG\",\"MG\",\"MG\",\"MG\",\"MG\",\"MG\",\"MG\",\"MG\",\"MG\",\"MG\",\"MG\",\"MG\",\"MG\",\"MG\",\"MG\",\"MG\",\"MG\",\"MG\",\"MG\",\"MG\",\"MG\",\"MG\",\"MG\",\"MG\",\"MG\",\"MG\",\"MG\",\"MG\",\"MG\",\"MG\",\"MG\",\"MG\",\"MG\",\"MG\",\"MG\",\"MG\",\"MG\",\"MG\",\"MG\",\"MG\",\"MG\",\"MG\",\"MG\",\"MG\",\"MG\",\"MG\",\"MG\",\"MG\",\"MG\"],\"xaxis\":\"x\",\"y\":[5.5,6.2,5.6,5.5,5.9,6.5,6.9,5.4,6.1,4.9,5.5,6.8,5.8,5.2,7.8,6.1,6.7,6.0,5.3,5.7,6.6,4.8,4.6,6.1,6.7,6.6,5.0,6.4,5.3,5.9,5.3,5.8,6.6,6.9,5.9,6.4,7.1,6.6,6.1,6.4,5.2,6.0,6.2,6.2,6.1,4.2,6.5,6.3,5.2,6.7,6.8,5.5,6.0,5.9,6.8,6.7,6.8,5.2,6.5,5.2,5.6,6.5,5.8,6.6,6.1,5.6,6.8,5.4,7.1,5.9,4.5,5.8,6.1,6.3,5.5,6.2,6.6,6.0,7.1,6.6,5.5,5.9,5.8],\"yaxis\":\"y\",\"type\":\"histogram\"},{\"alignmentgroup\":\"True\",\"bingroup\":\"x\",\"histfunc\":\"sum\",\"hovertemplate\":\"sigla_uf=%{x}<br>sum of ideb=%{y}<extra></extra>\",\"legendgroup\":\"SP\",\"marker\":{\"color\":\"#EF553B\",\"pattern\":{\"shape\":\"\"}},\"name\":\"SP\",\"offsetgroup\":\"SP\",\"orientation\":\"v\",\"showlegend\":true,\"x\":[\"SP\",\"SP\",\"SP\",\"SP\",\"SP\",\"SP\",\"SP\",\"SP\",\"SP\",\"SP\",\"SP\",\"SP\",\"SP\",\"SP\",\"SP\",\"SP\",\"SP\",\"SP\",\"SP\",\"SP\",\"SP\",\"SP\",\"SP\",\"SP\",\"SP\",\"SP\",\"SP\",\"SP\",\"SP\",\"SP\",\"SP\",\"SP\",\"SP\",\"SP\",\"SP\",\"SP\",\"SP\",\"SP\",\"SP\",\"SP\",\"SP\",\"SP\",\"SP\",\"SP\",\"SP\",\"SP\",\"SP\",\"SP\",\"SP\",\"SP\",\"SP\",\"SP\",\"SP\",\"SP\",\"SP\",\"SP\",\"SP\",\"SP\",\"SP\",\"SP\",\"SP\",\"SP\",\"SP\",\"SP\",\"SP\",\"SP\",\"SP\",\"SP\",\"SP\",\"SP\",\"SP\",\"SP\",\"SP\",\"SP\",\"SP\",\"SP\",\"SP\",\"SP\",\"SP\",\"SP\",\"SP\",\"SP\",\"SP\",\"SP\",\"SP\",\"SP\",\"SP\",\"SP\",\"SP\",\"SP\",\"SP\",\"SP\",\"SP\",\"SP\",\"SP\",\"SP\",\"SP\",\"SP\",\"SP\",\"SP\",\"SP\",\"SP\",\"SP\",\"SP\",\"SP\",\"SP\",\"SP\",\"SP\",\"SP\",\"SP\",\"SP\",\"SP\",\"SP\",\"SP\",\"SP\",\"SP\",\"SP\",\"SP\",\"SP\",\"SP\",\"SP\",\"SP\"],\"xaxis\":\"x\",\"y\":[6.3,6.6,6.3,6.0,6.6,7.5,6.8,5.8,6.8,6.6,5.9,5.9,7.6,7.1,7.1,6.1,7.1,7.0,7.5,6.6,7.1,7.1,6.6,6.9,5.9,7.0,6.9,6.3,7.1,7.1,7.8,5.3,6.2,6.7,6.3,5.3,6.9,6.4,5.9,6.4,6.2,6.7,6.2,7.2,5.9,6.6,5.9,6.0,7.7,7.3,5.8,6.5,7.0,6.8,6.9,6.0,5.7,5.9,7.1,6.3,6.3,5.5,6.6,7.1,6.4,7.1,7.3,7.2,6.9,6.4,5.8,5.5,5.8,6.6,7.4,6.2,6.2,6.7,6.0,5.7,6.7,6.6,6.9,6.8,4.9,6.7,7.2,7.3,6.2,6.0,7.4,7.2,5.7,6.1,7.2,6.9,6.1,6.0,5.9,6.7,5.9,7.3,6.3,6.8,5.8,7.1,6.3,5.6,7.4,7.9,6.4,6.6,5.8,7.0,5.4,5.3,7.1,5.0,5.9,7.1,6.6,6.4],\"yaxis\":\"y\",\"type\":\"histogram\"},{\"alignmentgroup\":\"True\",\"bingroup\":\"x\",\"histfunc\":\"sum\",\"hovertemplate\":\"sigla_uf=%{x}<br>sum of ideb=%{y}<extra></extra>\",\"legendgroup\":\"RS\",\"marker\":{\"color\":\"#00cc96\",\"pattern\":{\"shape\":\"\"}},\"name\":\"RS\",\"offsetgroup\":\"RS\",\"orientation\":\"v\",\"showlegend\":true,\"x\":[\"RS\",\"RS\",\"RS\",\"RS\",\"RS\",\"RS\",\"RS\",\"RS\",\"RS\",\"RS\",\"RS\",\"RS\",\"RS\",\"RS\",\"RS\",\"RS\",\"RS\",\"RS\",\"RS\",\"RS\",\"RS\",\"RS\",\"RS\",\"RS\",\"RS\",\"RS\",\"RS\",\"RS\",\"RS\",\"RS\",\"RS\",\"RS\",\"RS\",\"RS\",\"RS\",\"RS\",\"RS\",\"RS\",\"RS\",\"RS\",\"RS\",\"RS\",\"RS\",\"RS\",\"RS\",\"RS\",\"RS\",\"RS\",\"RS\",\"RS\",\"RS\",\"RS\",\"RS\",\"RS\",\"RS\",\"RS\",\"RS\",\"RS\",\"RS\",\"RS\"],\"xaxis\":\"x\",\"y\":[6.8,4.5,6.5,4.7,6.5,7.1,4.4,4.3,4.2,6.5,5.5,6.3,6.6,6.1,6.0,6.2,6.3,5.8,6.6,5.5,5.9,6.0,7.1,5.9,6.3,6.1,5.2,6.4,6.1,7.4,5.1,5.5,6.7,5.5,4.8,6.2,6.6,6.1,5.4,5.4,6.9,4.5,5.7,6.7,6.3,5.3,6.3,6.4,6.1,7.2,5.1,4.7,6.4,5.5,5.7,5.1,3.9,6.9,5.1,7.2],\"yaxis\":\"y\",\"type\":\"histogram\"}],                        {\"template\":{\"data\":{\"bar\":[{\"error_x\":{\"color\":\"#2a3f5f\"},\"error_y\":{\"color\":\"#2a3f5f\"},\"marker\":{\"line\":{\"color\":\"#E5ECF6\",\"width\":0.5},\"pattern\":{\"fillmode\":\"overlay\",\"size\":10,\"solidity\":0.2}},\"type\":\"bar\"}],\"barpolar\":[{\"marker\":{\"line\":{\"color\":\"#E5ECF6\",\"width\":0.5},\"pattern\":{\"fillmode\":\"overlay\",\"size\":10,\"solidity\":0.2}},\"type\":\"barpolar\"}],\"carpet\":[{\"aaxis\":{\"endlinecolor\":\"#2a3f5f\",\"gridcolor\":\"white\",\"linecolor\":\"white\",\"minorgridcolor\":\"white\",\"startlinecolor\":\"#2a3f5f\"},\"baxis\":{\"endlinecolor\":\"#2a3f5f\",\"gridcolor\":\"white\",\"linecolor\":\"white\",\"minorgridcolor\":\"white\",\"startlinecolor\":\"#2a3f5f\"},\"type\":\"carpet\"}],\"choropleth\":[{\"colorbar\":{\"outlinewidth\":0,\"ticks\":\"\"},\"type\":\"choropleth\"}],\"contour\":[{\"colorbar\":{\"outlinewidth\":0,\"ticks\":\"\"},\"colorscale\":[[0.0,\"#0d0887\"],[0.1111111111111111,\"#46039f\"],[0.2222222222222222,\"#7201a8\"],[0.3333333333333333,\"#9c179e\"],[0.4444444444444444,\"#bd3786\"],[0.5555555555555556,\"#d8576b\"],[0.6666666666666666,\"#ed7953\"],[0.7777777777777778,\"#fb9f3a\"],[0.8888888888888888,\"#fdca26\"],[1.0,\"#f0f921\"]],\"type\":\"contour\"}],\"contourcarpet\":[{\"colorbar\":{\"outlinewidth\":0,\"ticks\":\"\"},\"type\":\"contourcarpet\"}],\"heatmap\":[{\"colorbar\":{\"outlinewidth\":0,\"ticks\":\"\"},\"colorscale\":[[0.0,\"#0d0887\"],[0.1111111111111111,\"#46039f\"],[0.2222222222222222,\"#7201a8\"],[0.3333333333333333,\"#9c179e\"],[0.4444444444444444,\"#bd3786\"],[0.5555555555555556,\"#d8576b\"],[0.6666666666666666,\"#ed7953\"],[0.7777777777777778,\"#fb9f3a\"],[0.8888888888888888,\"#fdca26\"],[1.0,\"#f0f921\"]],\"type\":\"heatmap\"}],\"heatmapgl\":[{\"colorbar\":{\"outlinewidth\":0,\"ticks\":\"\"},\"colorscale\":[[0.0,\"#0d0887\"],[0.1111111111111111,\"#46039f\"],[0.2222222222222222,\"#7201a8\"],[0.3333333333333333,\"#9c179e\"],[0.4444444444444444,\"#bd3786\"],[0.5555555555555556,\"#d8576b\"],[0.6666666666666666,\"#ed7953\"],[0.7777777777777778,\"#fb9f3a\"],[0.8888888888888888,\"#fdca26\"],[1.0,\"#f0f921\"]],\"type\":\"heatmapgl\"}],\"histogram\":[{\"marker\":{\"pattern\":{\"fillmode\":\"overlay\",\"size\":10,\"solidity\":0.2}},\"type\":\"histogram\"}],\"histogram2d\":[{\"colorbar\":{\"outlinewidth\":0,\"ticks\":\"\"},\"colorscale\":[[0.0,\"#0d0887\"],[0.1111111111111111,\"#46039f\"],[0.2222222222222222,\"#7201a8\"],[0.3333333333333333,\"#9c179e\"],[0.4444444444444444,\"#bd3786\"],[0.5555555555555556,\"#d8576b\"],[0.6666666666666666,\"#ed7953\"],[0.7777777777777778,\"#fb9f3a\"],[0.8888888888888888,\"#fdca26\"],[1.0,\"#f0f921\"]],\"type\":\"histogram2d\"}],\"histogram2dcontour\":[{\"colorbar\":{\"outlinewidth\":0,\"ticks\":\"\"},\"colorscale\":[[0.0,\"#0d0887\"],[0.1111111111111111,\"#46039f\"],[0.2222222222222222,\"#7201a8\"],[0.3333333333333333,\"#9c179e\"],[0.4444444444444444,\"#bd3786\"],[0.5555555555555556,\"#d8576b\"],[0.6666666666666666,\"#ed7953\"],[0.7777777777777778,\"#fb9f3a\"],[0.8888888888888888,\"#fdca26\"],[1.0,\"#f0f921\"]],\"type\":\"histogram2dcontour\"}],\"mesh3d\":[{\"colorbar\":{\"outlinewidth\":0,\"ticks\":\"\"},\"type\":\"mesh3d\"}],\"parcoords\":[{\"line\":{\"colorbar\":{\"outlinewidth\":0,\"ticks\":\"\"}},\"type\":\"parcoords\"}],\"pie\":[{\"automargin\":true,\"type\":\"pie\"}],\"scatter\":[{\"marker\":{\"colorbar\":{\"outlinewidth\":0,\"ticks\":\"\"}},\"type\":\"scatter\"}],\"scatter3d\":[{\"line\":{\"colorbar\":{\"outlinewidth\":0,\"ticks\":\"\"}},\"marker\":{\"colorbar\":{\"outlinewidth\":0,\"ticks\":\"\"}},\"type\":\"scatter3d\"}],\"scattercarpet\":[{\"marker\":{\"colorbar\":{\"outlinewidth\":0,\"ticks\":\"\"}},\"type\":\"scattercarpet\"}],\"scattergeo\":[{\"marker\":{\"colorbar\":{\"outlinewidth\":0,\"ticks\":\"\"}},\"type\":\"scattergeo\"}],\"scattergl\":[{\"marker\":{\"colorbar\":{\"outlinewidth\":0,\"ticks\":\"\"}},\"type\":\"scattergl\"}],\"scattermapbox\":[{\"marker\":{\"colorbar\":{\"outlinewidth\":0,\"ticks\":\"\"}},\"type\":\"scattermapbox\"}],\"scatterpolar\":[{\"marker\":{\"colorbar\":{\"outlinewidth\":0,\"ticks\":\"\"}},\"type\":\"scatterpolar\"}],\"scatterpolargl\":[{\"marker\":{\"colorbar\":{\"outlinewidth\":0,\"ticks\":\"\"}},\"type\":\"scatterpolargl\"}],\"scatterternary\":[{\"marker\":{\"colorbar\":{\"outlinewidth\":0,\"ticks\":\"\"}},\"type\":\"scatterternary\"}],\"surface\":[{\"colorbar\":{\"outlinewidth\":0,\"ticks\":\"\"},\"colorscale\":[[0.0,\"#0d0887\"],[0.1111111111111111,\"#46039f\"],[0.2222222222222222,\"#7201a8\"],[0.3333333333333333,\"#9c179e\"],[0.4444444444444444,\"#bd3786\"],[0.5555555555555556,\"#d8576b\"],[0.6666666666666666,\"#ed7953\"],[0.7777777777777778,\"#fb9f3a\"],[0.8888888888888888,\"#fdca26\"],[1.0,\"#f0f921\"]],\"type\":\"surface\"}],\"table\":[{\"cells\":{\"fill\":{\"color\":\"#EBF0F8\"},\"line\":{\"color\":\"white\"}},\"header\":{\"fill\":{\"color\":\"#C8D4E3\"},\"line\":{\"color\":\"white\"}},\"type\":\"table\"}]},\"layout\":{\"annotationdefaults\":{\"arrowcolor\":\"#2a3f5f\",\"arrowhead\":0,\"arrowwidth\":1},\"autotypenumbers\":\"strict\",\"coloraxis\":{\"colorbar\":{\"outlinewidth\":0,\"ticks\":\"\"}},\"colorscale\":{\"diverging\":[[0,\"#8e0152\"],[0.1,\"#c51b7d\"],[0.2,\"#de77ae\"],[0.3,\"#f1b6da\"],[0.4,\"#fde0ef\"],[0.5,\"#f7f7f7\"],[0.6,\"#e6f5d0\"],[0.7,\"#b8e186\"],[0.8,\"#7fbc41\"],[0.9,\"#4d9221\"],[1,\"#276419\"]],\"sequential\":[[0.0,\"#0d0887\"],[0.1111111111111111,\"#46039f\"],[0.2222222222222222,\"#7201a8\"],[0.3333333333333333,\"#9c179e\"],[0.4444444444444444,\"#bd3786\"],[0.5555555555555556,\"#d8576b\"],[0.6666666666666666,\"#ed7953\"],[0.7777777777777778,\"#fb9f3a\"],[0.8888888888888888,\"#fdca26\"],[1.0,\"#f0f921\"]],\"sequentialminus\":[[0.0,\"#0d0887\"],[0.1111111111111111,\"#46039f\"],[0.2222222222222222,\"#7201a8\"],[0.3333333333333333,\"#9c179e\"],[0.4444444444444444,\"#bd3786\"],[0.5555555555555556,\"#d8576b\"],[0.6666666666666666,\"#ed7953\"],[0.7777777777777778,\"#fb9f3a\"],[0.8888888888888888,\"#fdca26\"],[1.0,\"#f0f921\"]]},\"colorway\":[\"#636efa\",\"#EF553B\",\"#00cc96\",\"#ab63fa\",\"#FFA15A\",\"#19d3f3\",\"#FF6692\",\"#B6E880\",\"#FF97FF\",\"#FECB52\"],\"font\":{\"color\":\"#2a3f5f\"},\"geo\":{\"bgcolor\":\"white\",\"lakecolor\":\"white\",\"landcolor\":\"#E5ECF6\",\"showlakes\":true,\"showland\":true,\"subunitcolor\":\"white\"},\"hoverlabel\":{\"align\":\"left\"},\"hovermode\":\"closest\",\"mapbox\":{\"style\":\"light\"},\"paper_bgcolor\":\"white\",\"plot_bgcolor\":\"#E5ECF6\",\"polar\":{\"angularaxis\":{\"gridcolor\":\"white\",\"linecolor\":\"white\",\"ticks\":\"\"},\"bgcolor\":\"#E5ECF6\",\"radialaxis\":{\"gridcolor\":\"white\",\"linecolor\":\"white\",\"ticks\":\"\"}},\"scene\":{\"xaxis\":{\"backgroundcolor\":\"#E5ECF6\",\"gridcolor\":\"white\",\"gridwidth\":2,\"linecolor\":\"white\",\"showbackground\":true,\"ticks\":\"\",\"zerolinecolor\":\"white\"},\"yaxis\":{\"backgroundcolor\":\"#E5ECF6\",\"gridcolor\":\"white\",\"gridwidth\":2,\"linecolor\":\"white\",\"showbackground\":true,\"ticks\":\"\",\"zerolinecolor\":\"white\"},\"zaxis\":{\"backgroundcolor\":\"#E5ECF6\",\"gridcolor\":\"white\",\"gridwidth\":2,\"linecolor\":\"white\",\"showbackground\":true,\"ticks\":\"\",\"zerolinecolor\":\"white\"}},\"shapedefaults\":{\"line\":{\"color\":\"#2a3f5f\"}},\"ternary\":{\"aaxis\":{\"gridcolor\":\"white\",\"linecolor\":\"white\",\"ticks\":\"\"},\"baxis\":{\"gridcolor\":\"white\",\"linecolor\":\"white\",\"ticks\":\"\"},\"bgcolor\":\"#E5ECF6\",\"caxis\":{\"gridcolor\":\"white\",\"linecolor\":\"white\",\"ticks\":\"\"}},\"title\":{\"x\":0.05},\"xaxis\":{\"automargin\":true,\"gridcolor\":\"white\",\"linecolor\":\"white\",\"ticks\":\"\",\"title\":{\"standoff\":15},\"zerolinecolor\":\"white\",\"zerolinewidth\":2},\"yaxis\":{\"automargin\":true,\"gridcolor\":\"white\",\"linecolor\":\"white\",\"ticks\":\"\",\"title\":{\"standoff\":15},\"zerolinecolor\":\"white\",\"zerolinewidth\":2}}},\"xaxis\":{\"anchor\":\"y\",\"domain\":[0.0,1.0],\"title\":{\"text\":\"sigla_uf\"},\"categoryorder\":\"array\",\"categoryarray\":[\"MG\",\"SP\",\"RS\"]},\"yaxis\":{\"anchor\":\"x\",\"domain\":[0.0,1.0],\"title\":{\"text\":\"sum of ideb\"}},\"legend\":{\"title\":{\"text\":\"sigla_uf\"},\"tracegroupgap\":0},\"margin\":{\"t\":60},\"barmode\":\"relative\"},                        {\"responsive\": true}                    ).then(function(){\n",
              "                            \n",
              "var gd = document.getElementById('01f8f36f-e336-4988-9ddf-350391024a21');\n",
              "var x = new MutationObserver(function (mutations, observer) {{\n",
              "        var display = window.getComputedStyle(gd).display;\n",
              "        if (!display || display === 'none') {{\n",
              "            console.log([gd, 'removed!']);\n",
              "            Plotly.purge(gd);\n",
              "            observer.disconnect();\n",
              "        }}\n",
              "}});\n",
              "\n",
              "// Listen for the removal of the full notebook cells\n",
              "var notebookContainer = gd.closest('#notebook-container');\n",
              "if (notebookContainer) {{\n",
              "    x.observe(notebookContainer, {childList: true});\n",
              "}}\n",
              "\n",
              "// Listen for the clearing of the current output cell\n",
              "var outputEl = gd.closest('.output');\n",
              "if (outputEl) {{\n",
              "    x.observe(outputEl, {childList: true});\n",
              "}}\n",
              "\n",
              "                        })                };                            </script>        </div>\n",
              "</body>\n",
              "</html>"
            ]
          },
          "metadata": {}
        }
      ]
    },
    {
      "cell_type": "markdown",
      "source": [
        "# Calculando um Intervalo de Confiança para uma Estimativa de Média\n",
        "\n",
        "A partir da fórmula do Intervalo de Confiança abaixo, estime dois intervalos de confiança para a média do IDEB: um com uma amostra aleatória de 1000 municípios (dataset que você já importou) e outro para uma amostra de no máximo 50 municípios. É sugerido usar o nível de 95% de confiança.\n",
        "\n",
        "*Utilize a query abaixo no Google BigQuery alterando o valor após 'LIMIT' para definir a quantidade de municípios que quiser (menos de 50). Sugere-se baixar o arquivo .csv do BigQuery e utilizar no Google Colab/Deepnote.\n",
        "\n",
        "Após calcular o intervalo de confiança, vá até o Google Big Query e calcule a verdadeira média do IDEB e verifique se ficou dentro do intervalo de confiança.\n",
        "\n",
        "*Fique à vontade também para alterar o nível de confiança (valor Z) e ver o que acontece com o intervalo de confiança!"
      ],
      "metadata": {
        "id": "hTLVG7u-vUZb"
      }
    },
    {
      "cell_type": "markdown",
      "source": [
        "`SELECT * FROM basedosdados.br_inep_ideb.escola WHERE (ano=2019) AND nota_saeb_matematica IS NOT NULL AND anos_escolares = 'iniciais (1-5)' ORDER BY RAND() LIMIT 800;`"
      ],
      "metadata": {
        "id": "rmLSXGshxXRi"
      }
    },
    {
      "cell_type": "markdown",
      "source": [
        "Utilize a Query abaixo para calcular a média populacional no Google BigQuery\n",
        "\n",
        "`SELECT avg(***nomecoluna***) FROM basedosdados.br_inep_ideb.escola WHERE (ano=2019) AND nota_saeb_matematica IS NOT NULL AND anos_escolares = 'iniciais (1-5)' ORDER BY RAND();`"
      ],
      "metadata": {
        "id": "bcgr2Evo2xVG"
      }
    },
    {
      "cell_type": "markdown",
      "source": [
        "![CI.webp](data:image/webp;base64,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)"
      ],
      "metadata": {
        "id": "TCad2rq9UmAU"
      }
    },
    {
      "cell_type": "markdown",
      "source": [
        "Parte 1: Amostra Grande (1000 municípios)\n",
        "\n"
      ],
      "metadata": {
        "id": "rNyXf9K3-9UB"
      }
    },
    {
      "cell_type": "code",
      "source": [
        "# Calcular o valor de Z\n",
        "from math import sqrt\n",
        "import scipy.stats as st"
      ],
      "metadata": {
        "id": "LGaS5nad0oNQ"
      },
      "execution_count": 135,
      "outputs": []
    },
    {
      "cell_type": "code",
      "source": [
        "sig=0.05\n",
        "z=st.norm.ppf(1-sig/2)"
      ],
      "metadata": {
        "id": "Q4-32g2XLT5r"
      },
      "execution_count": 136,
      "outputs": []
    },
    {
      "cell_type": "code",
      "source": [
        "# Calcular demais estatísticas da fórmula do IC e gerar o IC!\n",
        "def ci(df_column):\n",
        "  return [df_column.mean()-z*(df_column.std()/sqrt(len(df_column))),df_column.mean()+z*(df_column.std()/sqrt(len(df_column)))]\n",
        "ci(df_ideb.taxa_aprovacao)\n"
      ],
      "metadata": {
        "id": "ujc0jxJ10vPI",
        "colab": {
          "base_uri": "https://localhost:8080/"
        },
        "outputId": "5b965cf8-8992-429a-cf33-df832981bbc9"
      },
      "execution_count": 137,
      "outputs": [
        {
          "output_type": "execute_result",
          "data": {
            "text/plain": [
              "[93.31284593794673, 94.16135406205329]"
            ]
          },
          "metadata": {},
          "execution_count": 137
        }
      ]
    },
    {
      "cell_type": "code",
      "source": [
        "ci(df_ideb.ideb)"
      ],
      "metadata": {
        "colab": {
          "base_uri": "https://localhost:8080/"
        },
        "id": "xcV8KBts91VI",
        "outputId": "d1cfa514-1151-4970-dca5-21742c87559f"
      },
      "execution_count": 138,
      "outputs": [
        {
          "output_type": "execute_result",
          "data": {
            "text/plain": [
              "[5.4205282792056515, 5.5588717207943485]"
            ]
          },
          "metadata": {},
          "execution_count": 138
        }
      ]
    },
    {
      "cell_type": "code",
      "source": [
        "ci(df_ideb.indicador_rendimento)"
      ],
      "metadata": {
        "colab": {
          "base_uri": "https://localhost:8080/"
        },
        "id": "IG0RkmCU99dE",
        "outputId": "54d00182-e28e-43c1-dc2c-29f02b747438"
      },
      "execution_count": 139,
      "outputs": [
        {
          "output_type": "execute_result",
          "data": {
            "text/plain": [
              "[0.9314934394216454, 0.9402290550583545]"
            ]
          },
          "metadata": {},
          "execution_count": 139
        }
      ]
    },
    {
      "cell_type": "code",
      "source": [
        "ci(df_ideb.nota_saeb_lingua_portuguesa)"
      ],
      "metadata": {
        "colab": {
          "base_uri": "https://localhost:8080/"
        },
        "id": "-1t8jkKx-C7K",
        "outputId": "138131f7-511d-4f13-a984-47f5490b5d9d"
      },
      "execution_count": 140,
      "outputs": [
        {
          "output_type": "execute_result",
          "data": {
            "text/plain": [
              "[202.7525727964693, 205.8771272035307]"
            ]
          },
          "metadata": {},
          "execution_count": 140
        }
      ]
    },
    {
      "cell_type": "code",
      "source": [
        "ci(df_ideb.nota_saeb_matematica)"
      ],
      "metadata": {
        "colab": {
          "base_uri": "https://localhost:8080/"
        },
        "id": "P5jPFdmQ-IIA",
        "outputId": "7e618f95-b959-4e50-8db7-9636182ffe37"
      },
      "execution_count": 141,
      "outputs": [
        {
          "output_type": "execute_result",
          "data": {
            "text/plain": [
              "[216.04727340740746, 219.28080659259254]"
            ]
          },
          "metadata": {},
          "execution_count": 141
        }
      ]
    },
    {
      "cell_type": "code",
      "source": [
        "ci(df_ideb.nota_saeb_media_padronizada)"
      ],
      "metadata": {
        "colab": {
          "base_uri": "https://localhost:8080/"
        },
        "id": "BKz5UaUb-Mf6",
        "outputId": "aa7c374b-f6ef-4c3b-ba3c-07798f377943"
      },
      "execution_count": 142,
      "outputs": [
        {
          "output_type": "execute_result",
          "data": {
            "text/plain": [
              "[5.774555724175273, 5.8913192414247275]"
            ]
          },
          "metadata": {},
          "execution_count": 142
        }
      ]
    },
    {
      "cell_type": "markdown",
      "source": [
        "Parte 2: Amostra Pequena (menos de 50 municípios)"
      ],
      "metadata": {
        "id": "ClhQpInN_E8i"
      }
    },
    {
      "cell_type": "code",
      "source": [
        "# Importar novo DataFrame (amostra pequena)\n",
        "#Para pegar 50 municipios, devemos levar em consideração que eles se repetem, por isso usei o metodo unique para me trazer os únicos valores e armazenar em um lista\n",
        "mun=df_ideb.id_municipio.unique().tolist()\n",
        "#Faço um slice das 50 posições\n",
        "mun=mun[:50]\n",
        "#pego o ultimo municipio\n",
        "mun[len(mun)-1]"
      ],
      "metadata": {
        "id": "xsQM21ua_TDa",
        "colab": {
          "base_uri": "https://localhost:8080/",
          "height": 35
        },
        "outputId": "db03921d-f15d-4c78-9e4d-f6aedab507a6"
      },
      "execution_count": 143,
      "outputs": [
        {
          "output_type": "execute_result",
          "data": {
            "text/plain": [
              "'2307304'"
            ],
            "application/vnd.google.colaboratory.intrinsic+json": {
              "type": "string"
            }
          },
          "metadata": {},
          "execution_count": 143
        }
      ]
    },
    {
      "cell_type": "code",
      "source": [
        "#Faço um filtro para saber a ultima ocorrencia da ultima posição pois encontro o valor dessa posição e a partir disso, as posições anteriores são dos 50 municipios\n",
        "df_ideb[df_ideb['id_municipio']==mun[len(mun)-1]]\n"
      ],
      "metadata": {
        "colab": {
          "base_uri": "https://localhost:8080/",
          "height": 81
        },
        "id": "_VZRBd_OCzW8",
        "outputId": "3040cccc-6d7e-4ad7-f7b1-627b3020960a"
      },
      "execution_count": 144,
      "outputs": [
        {
          "output_type": "execute_result",
          "data": {
            "text/plain": [
              "     ano sigla_uf id_municipio id_escola       rede       ensino  \\\n",
              "52  2019       CE      2307304  23262702  municipal  fundamental   \n",
              "\n",
              "    anos_escolares  taxa_aprovacao  indicador_rendimento  \\\n",
              "52  iniciais (1-5)            99.5              0.994755   \n",
              "\n",
              "    nota_saeb_matematica  nota_saeb_lingua_portuguesa  \\\n",
              "52                209.02                        207.0   \n",
              "\n",
              "    nota_saeb_media_padronizada  ideb  projecao  \n",
              "52                      5.71662   5.7       4.9  "
            ],
            "text/html": [
              "\n",
              "  <div id=\"df-16decf25-5f50-4a7c-95fc-6856c4d482d7\">\n",
              "    <div class=\"colab-df-container\">\n",
              "      <div>\n",
              "<style scoped>\n",
              "    .dataframe tbody tr th:only-of-type {\n",
              "        vertical-align: middle;\n",
              "    }\n",
              "\n",
              "    .dataframe tbody tr th {\n",
              "        vertical-align: top;\n",
              "    }\n",
              "\n",
              "    .dataframe thead th {\n",
              "        text-align: right;\n",
              "    }\n",
              "</style>\n",
              "<table border=\"1\" class=\"dataframe\">\n",
              "  <thead>\n",
              "    <tr style=\"text-align: right;\">\n",
              "      <th></th>\n",
              "      <th>ano</th>\n",
              "      <th>sigla_uf</th>\n",
              "      <th>id_municipio</th>\n",
              "      <th>id_escola</th>\n",
              "      <th>rede</th>\n",
              "      <th>ensino</th>\n",
              "      <th>anos_escolares</th>\n",
              "      <th>taxa_aprovacao</th>\n",
              "      <th>indicador_rendimento</th>\n",
              "      <th>nota_saeb_matematica</th>\n",
              "      <th>nota_saeb_lingua_portuguesa</th>\n",
              "      <th>nota_saeb_media_padronizada</th>\n",
              "      <th>ideb</th>\n",
              "      <th>projecao</th>\n",
              "    </tr>\n",
              "  </thead>\n",
              "  <tbody>\n",
              "    <tr>\n",
              "      <th>52</th>\n",
              "      <td>2019</td>\n",
              "      <td>CE</td>\n",
              "      <td>2307304</td>\n",
              "      <td>23262702</td>\n",
              "      <td>municipal</td>\n",
              "      <td>fundamental</td>\n",
              "      <td>iniciais (1-5)</td>\n",
              "      <td>99.5</td>\n",
              "      <td>0.994755</td>\n",
              "      <td>209.02</td>\n",
              "      <td>207.0</td>\n",
              "      <td>5.71662</td>\n",
              "      <td>5.7</td>\n",
              "      <td>4.9</td>\n",
              "    </tr>\n",
              "  </tbody>\n",
              "</table>\n",
              "</div>\n",
              "      <button class=\"colab-df-convert\" onclick=\"convertToInteractive('df-16decf25-5f50-4a7c-95fc-6856c4d482d7')\"\n",
              "              title=\"Convert this dataframe to an interactive table.\"\n",
              "              style=\"display:none;\">\n",
              "        \n",
              "  <svg xmlns=\"http://www.w3.org/2000/svg\" height=\"24px\"viewBox=\"0 0 24 24\"\n",
              "       width=\"24px\">\n",
              "    <path d=\"M0 0h24v24H0V0z\" fill=\"none\"/>\n",
              "    <path d=\"M18.56 5.44l.94 2.06.94-2.06 2.06-.94-2.06-.94-.94-2.06-.94 2.06-2.06.94zm-11 1L8.5 8.5l.94-2.06 2.06-.94-2.06-.94L8.5 2.5l-.94 2.06-2.06.94zm10 10l.94 2.06.94-2.06 2.06-.94-2.06-.94-.94-2.06-.94 2.06-2.06.94z\"/><path d=\"M17.41 7.96l-1.37-1.37c-.4-.4-.92-.59-1.43-.59-.52 0-1.04.2-1.43.59L10.3 9.45l-7.72 7.72c-.78.78-.78 2.05 0 2.83L4 21.41c.39.39.9.59 1.41.59.51 0 1.02-.2 1.41-.59l7.78-7.78 2.81-2.81c.8-.78.8-2.07 0-2.86zM5.41 20L4 18.59l7.72-7.72 1.47 1.35L5.41 20z\"/>\n",
              "  </svg>\n",
              "      </button>\n",
              "      \n",
              "  <style>\n",
              "    .colab-df-container {\n",
              "      display:flex;\n",
              "      flex-wrap:wrap;\n",
              "      gap: 12px;\n",
              "    }\n",
              "\n",
              "    .colab-df-convert {\n",
              "      background-color: #E8F0FE;\n",
              "      border: none;\n",
              "      border-radius: 50%;\n",
              "      cursor: pointer;\n",
              "      display: none;\n",
              "      fill: #1967D2;\n",
              "      height: 32px;\n",
              "      padding: 0 0 0 0;\n",
              "      width: 32px;\n",
              "    }\n",
              "\n",
              "    .colab-df-convert:hover {\n",
              "      background-color: #E2EBFA;\n",
              "      box-shadow: 0px 1px 2px rgba(60, 64, 67, 0.3), 0px 1px 3px 1px rgba(60, 64, 67, 0.15);\n",
              "      fill: #174EA6;\n",
              "    }\n",
              "\n",
              "    [theme=dark] .colab-df-convert {\n",
              "      background-color: #3B4455;\n",
              "      fill: #D2E3FC;\n",
              "    }\n",
              "\n",
              "    [theme=dark] .colab-df-convert:hover {\n",
              "      background-color: #434B5C;\n",
              "      box-shadow: 0px 1px 3px 1px rgba(0, 0, 0, 0.15);\n",
              "      filter: drop-shadow(0px 1px 2px rgba(0, 0, 0, 0.3));\n",
              "      fill: #FFFFFF;\n",
              "    }\n",
              "  </style>\n",
              "\n",
              "      <script>\n",
              "        const buttonEl =\n",
              "          document.querySelector('#df-16decf25-5f50-4a7c-95fc-6856c4d482d7 button.colab-df-convert');\n",
              "        buttonEl.style.display =\n",
              "          google.colab.kernel.accessAllowed ? 'block' : 'none';\n",
              "\n",
              "        async function convertToInteractive(key) {\n",
              "          const element = document.querySelector('#df-16decf25-5f50-4a7c-95fc-6856c4d482d7');\n",
              "          const dataTable =\n",
              "            await google.colab.kernel.invokeFunction('convertToInteractive',\n",
              "                                                     [key], {});\n",
              "          if (!dataTable) return;\n",
              "\n",
              "          const docLinkHtml = 'Like what you see? Visit the ' +\n",
              "            '<a target=\"_blank\" href=https://colab.research.google.com/notebooks/data_table.ipynb>data table notebook</a>'\n",
              "            + ' to learn more about interactive tables.';\n",
              "          element.innerHTML = '';\n",
              "          dataTable['output_type'] = 'display_data';\n",
              "          await google.colab.output.renderOutput(dataTable, element);\n",
              "          const docLink = document.createElement('div');\n",
              "          docLink.innerHTML = docLinkHtml;\n",
              "          element.appendChild(docLink);\n",
              "        }\n",
              "      </script>\n",
              "    </div>\n",
              "  </div>\n",
              "  "
            ]
          },
          "metadata": {},
          "execution_count": 144
        }
      ]
    },
    {
      "cell_type": "code",
      "source": [
        "df_50=df_ideb[:234]\n",
        "df_50"
      ],
      "metadata": {
        "colab": {
          "base_uri": "https://localhost:8080/",
          "height": 424
        },
        "id": "y7fztFb8_KwP",
        "outputId": "83e8b899-7bcd-4754-c149-231e3c809d31"
      },
      "execution_count": 145,
      "outputs": [
        {
          "output_type": "execute_result",
          "data": {
            "text/plain": [
              "      ano sigla_uf id_municipio id_escola       rede       ensino  \\\n",
              "0    2019       MG      3120805  31172430  municipal  fundamental   \n",
              "1    2019       PE      2613701  26171562  municipal  fundamental   \n",
              "2    2019       RJ      3302502  33052972  municipal  fundamental   \n",
              "3    2019       SP      3505500  35206404  municipal  fundamental   \n",
              "4    2019       PA      1507201  15094847  municipal  fundamental   \n",
              "..    ...      ...          ...       ...        ...          ...   \n",
              "229  2019       PR      4101804  41123751  municipal  fundamental   \n",
              "230  2019       PE      2611606  26126389  municipal  fundamental   \n",
              "231  2019       PB      2516201  25019090  municipal  fundamental   \n",
              "232  2019       PB      2509008  25035444   estadual  fundamental   \n",
              "233  2019       DF      5300108  53008090   estadual  fundamental   \n",
              "\n",
              "     anos_escolares  taxa_aprovacao  indicador_rendimento  \\\n",
              "0    iniciais (1-5)            97.0              0.970562   \n",
              "1    iniciais (1-5)            90.9              0.935397   \n",
              "2    iniciais (1-5)            93.9              0.937895   \n",
              "3    iniciais (1-5)            94.4              0.948370   \n",
              "4    iniciais (1-5)            68.5              0.678305   \n",
              "..              ...             ...                   ...   \n",
              "229  iniciais (1-5)            95.1              0.942091   \n",
              "230  iniciais (1-5)            90.4              0.899553   \n",
              "231  iniciais (1-5)            94.4              0.946232   \n",
              "232  iniciais (1-5)            88.7              0.881277   \n",
              "233  iniciais (1-5)            97.6              0.976194   \n",
              "\n",
              "     nota_saeb_matematica  nota_saeb_lingua_portuguesa  \\\n",
              "0                  215.97                       198.88   \n",
              "1                  188.46                       185.38   \n",
              "2                  204.86                       201.55   \n",
              "3                  241.07                       224.83   \n",
              "4                  179.35                       159.00   \n",
              "..                    ...                          ...   \n",
              "229                222.63                       207.86   \n",
              "230                201.61                       200.08   \n",
              "231                230.00                       215.75   \n",
              "232                218.19                       200.03   \n",
              "233                232.00                       221.52   \n",
              "\n",
              "     nota_saeb_media_padronizada  ideb  projecao  \n",
              "0                       5.701618   5.5       5.6  \n",
              "1                       4.931345   4.6       4.3  \n",
              "2                       5.538513   5.2       4.8  \n",
              "3                       6.652443   6.3       5.8  \n",
              "4                       4.277672   2.9       4.3  \n",
              "..                           ...   ...       ...  \n",
              "229                     5.992171   5.6       5.8  \n",
              "230                     5.449581   4.9       4.8  \n",
              "231                     6.276284   5.9       4.5  \n",
              "232                     5.765075   5.1       4.2  \n",
              "233                     6.419361   6.3       6.4  \n",
              "\n",
              "[234 rows x 14 columns]"
            ],
            "text/html": [
              "\n",
              "  <div id=\"df-e48b55af-9042-425f-b541-d296f18bdee7\">\n",
              "    <div class=\"colab-df-container\">\n",
              "      <div>\n",
              "<style scoped>\n",
              "    .dataframe tbody tr th:only-of-type {\n",
              "        vertical-align: middle;\n",
              "    }\n",
              "\n",
              "    .dataframe tbody tr th {\n",
              "        vertical-align: top;\n",
              "    }\n",
              "\n",
              "    .dataframe thead th {\n",
              "        text-align: right;\n",
              "    }\n",
              "</style>\n",
              "<table border=\"1\" class=\"dataframe\">\n",
              "  <thead>\n",
              "    <tr style=\"text-align: right;\">\n",
              "      <th></th>\n",
              "      <th>ano</th>\n",
              "      <th>sigla_uf</th>\n",
              "      <th>id_municipio</th>\n",
              "      <th>id_escola</th>\n",
              "      <th>rede</th>\n",
              "      <th>ensino</th>\n",
              "      <th>anos_escolares</th>\n",
              "      <th>taxa_aprovacao</th>\n",
              "      <th>indicador_rendimento</th>\n",
              "      <th>nota_saeb_matematica</th>\n",
              "      <th>nota_saeb_lingua_portuguesa</th>\n",
              "      <th>nota_saeb_media_padronizada</th>\n",
              "      <th>ideb</th>\n",
              "      <th>projecao</th>\n",
              "    </tr>\n",
              "  </thead>\n",
              "  <tbody>\n",
              "    <tr>\n",
              "      <th>0</th>\n",
              "      <td>2019</td>\n",
              "      <td>MG</td>\n",
              "      <td>3120805</td>\n",
              "      <td>31172430</td>\n",
              "      <td>municipal</td>\n",
              "      <td>fundamental</td>\n",
              "      <td>iniciais (1-5)</td>\n",
              "      <td>97.0</td>\n",
              "      <td>0.970562</td>\n",
              "      <td>215.97</td>\n",
              "      <td>198.88</td>\n",
              "      <td>5.701618</td>\n",
              "      <td>5.5</td>\n",
              "      <td>5.6</td>\n",
              "    </tr>\n",
              "    <tr>\n",
              "      <th>1</th>\n",
              "      <td>2019</td>\n",
              "      <td>PE</td>\n",
              "      <td>2613701</td>\n",
              "      <td>26171562</td>\n",
              "      <td>municipal</td>\n",
              "      <td>fundamental</td>\n",
              "      <td>iniciais (1-5)</td>\n",
              "      <td>90.9</td>\n",
              "      <td>0.935397</td>\n",
              "      <td>188.46</td>\n",
              "      <td>185.38</td>\n",
              "      <td>4.931345</td>\n",
              "      <td>4.6</td>\n",
              "      <td>4.3</td>\n",
              "    </tr>\n",
              "    <tr>\n",
              "      <th>2</th>\n",
              "      <td>2019</td>\n",
              "      <td>RJ</td>\n",
              "      <td>3302502</td>\n",
              "      <td>33052972</td>\n",
              "      <td>municipal</td>\n",
              "      <td>fundamental</td>\n",
              "      <td>iniciais (1-5)</td>\n",
              "      <td>93.9</td>\n",
              "      <td>0.937895</td>\n",
              "      <td>204.86</td>\n",
              "      <td>201.55</td>\n",
              "      <td>5.538513</td>\n",
              "      <td>5.2</td>\n",
              "      <td>4.8</td>\n",
              "    </tr>\n",
              "    <tr>\n",
              "      <th>3</th>\n",
              "      <td>2019</td>\n",
              "      <td>SP</td>\n",
              "      <td>3505500</td>\n",
              "      <td>35206404</td>\n",
              "      <td>municipal</td>\n",
              "      <td>fundamental</td>\n",
              "      <td>iniciais (1-5)</td>\n",
              "      <td>94.4</td>\n",
              "      <td>0.948370</td>\n",
              "      <td>241.07</td>\n",
              "      <td>224.83</td>\n",
              "      <td>6.652443</td>\n",
              "      <td>6.3</td>\n",
              "      <td>5.8</td>\n",
              "    </tr>\n",
              "    <tr>\n",
              "      <th>4</th>\n",
              "      <td>2019</td>\n",
              "      <td>PA</td>\n",
              "      <td>1507201</td>\n",
              "      <td>15094847</td>\n",
              "      <td>municipal</td>\n",
              "      <td>fundamental</td>\n",
              "      <td>iniciais (1-5)</td>\n",
              "      <td>68.5</td>\n",
              "      <td>0.678305</td>\n",
              "      <td>179.35</td>\n",
              "      <td>159.00</td>\n",
              "      <td>4.277672</td>\n",
              "      <td>2.9</td>\n",
              "      <td>4.3</td>\n",
              "    </tr>\n",
              "    <tr>\n",
              "      <th>...</th>\n",
              "      <td>...</td>\n",
              "      <td>...</td>\n",
              "      <td>...</td>\n",
              "      <td>...</td>\n",
              "      <td>...</td>\n",
              "      <td>...</td>\n",
              "      <td>...</td>\n",
              "      <td>...</td>\n",
              "      <td>...</td>\n",
              "      <td>...</td>\n",
              "      <td>...</td>\n",
              "      <td>...</td>\n",
              "      <td>...</td>\n",
              "      <td>...</td>\n",
              "    </tr>\n",
              "    <tr>\n",
              "      <th>229</th>\n",
              "      <td>2019</td>\n",
              "      <td>PR</td>\n",
              "      <td>4101804</td>\n",
              "      <td>41123751</td>\n",
              "      <td>municipal</td>\n",
              "      <td>fundamental</td>\n",
              "      <td>iniciais (1-5)</td>\n",
              "      <td>95.1</td>\n",
              "      <td>0.942091</td>\n",
              "      <td>222.63</td>\n",
              "      <td>207.86</td>\n",
              "      <td>5.992171</td>\n",
              "      <td>5.6</td>\n",
              "      <td>5.8</td>\n",
              "    </tr>\n",
              "    <tr>\n",
              "      <th>230</th>\n",
              "      <td>2019</td>\n",
              "      <td>PE</td>\n",
              "      <td>2611606</td>\n",
              "      <td>26126389</td>\n",
              "      <td>municipal</td>\n",
              "      <td>fundamental</td>\n",
              "      <td>iniciais (1-5)</td>\n",
              "      <td>90.4</td>\n",
              "      <td>0.899553</td>\n",
              "      <td>201.61</td>\n",
              "      <td>200.08</td>\n",
              "      <td>5.449581</td>\n",
              "      <td>4.9</td>\n",
              "      <td>4.8</td>\n",
              "    </tr>\n",
              "    <tr>\n",
              "      <th>231</th>\n",
              "      <td>2019</td>\n",
              "      <td>PB</td>\n",
              "      <td>2516201</td>\n",
              "      <td>25019090</td>\n",
              "      <td>municipal</td>\n",
              "      <td>fundamental</td>\n",
              "      <td>iniciais (1-5)</td>\n",
              "      <td>94.4</td>\n",
              "      <td>0.946232</td>\n",
              "      <td>230.00</td>\n",
              "      <td>215.75</td>\n",
              "      <td>6.276284</td>\n",
              "      <td>5.9</td>\n",
              "      <td>4.5</td>\n",
              "    </tr>\n",
              "    <tr>\n",
              "      <th>232</th>\n",
              "      <td>2019</td>\n",
              "      <td>PB</td>\n",
              "      <td>2509008</td>\n",
              "      <td>25035444</td>\n",
              "      <td>estadual</td>\n",
              "      <td>fundamental</td>\n",
              "      <td>iniciais (1-5)</td>\n",
              "      <td>88.7</td>\n",
              "      <td>0.881277</td>\n",
              "      <td>218.19</td>\n",
              "      <td>200.03</td>\n",
              "      <td>5.765075</td>\n",
              "      <td>5.1</td>\n",
              "      <td>4.2</td>\n",
              "    </tr>\n",
              "    <tr>\n",
              "      <th>233</th>\n",
              "      <td>2019</td>\n",
              "      <td>DF</td>\n",
              "      <td>5300108</td>\n",
              "      <td>53008090</td>\n",
              "      <td>estadual</td>\n",
              "      <td>fundamental</td>\n",
              "      <td>iniciais (1-5)</td>\n",
              "      <td>97.6</td>\n",
              "      <td>0.976194</td>\n",
              "      <td>232.00</td>\n",
              "      <td>221.52</td>\n",
              "      <td>6.419361</td>\n",
              "      <td>6.3</td>\n",
              "      <td>6.4</td>\n",
              "    </tr>\n",
              "  </tbody>\n",
              "</table>\n",
              "<p>234 rows × 14 columns</p>\n",
              "</div>\n",
              "      <button class=\"colab-df-convert\" onclick=\"convertToInteractive('df-e48b55af-9042-425f-b541-d296f18bdee7')\"\n",
              "              title=\"Convert this dataframe to an interactive table.\"\n",
              "              style=\"display:none;\">\n",
              "        \n",
              "  <svg xmlns=\"http://www.w3.org/2000/svg\" height=\"24px\"viewBox=\"0 0 24 24\"\n",
              "       width=\"24px\">\n",
              "    <path d=\"M0 0h24v24H0V0z\" fill=\"none\"/>\n",
              "    <path d=\"M18.56 5.44l.94 2.06.94-2.06 2.06-.94-2.06-.94-.94-2.06-.94 2.06-2.06.94zm-11 1L8.5 8.5l.94-2.06 2.06-.94-2.06-.94L8.5 2.5l-.94 2.06-2.06.94zm10 10l.94 2.06.94-2.06 2.06-.94-2.06-.94-.94-2.06-.94 2.06-2.06.94z\"/><path d=\"M17.41 7.96l-1.37-1.37c-.4-.4-.92-.59-1.43-.59-.52 0-1.04.2-1.43.59L10.3 9.45l-7.72 7.72c-.78.78-.78 2.05 0 2.83L4 21.41c.39.39.9.59 1.41.59.51 0 1.02-.2 1.41-.59l7.78-7.78 2.81-2.81c.8-.78.8-2.07 0-2.86zM5.41 20L4 18.59l7.72-7.72 1.47 1.35L5.41 20z\"/>\n",
              "  </svg>\n",
              "      </button>\n",
              "      \n",
              "  <style>\n",
              "    .colab-df-container {\n",
              "      display:flex;\n",
              "      flex-wrap:wrap;\n",
              "      gap: 12px;\n",
              "    }\n",
              "\n",
              "    .colab-df-convert {\n",
              "      background-color: #E8F0FE;\n",
              "      border: none;\n",
              "      border-radius: 50%;\n",
              "      cursor: pointer;\n",
              "      display: none;\n",
              "      fill: #1967D2;\n",
              "      height: 32px;\n",
              "      padding: 0 0 0 0;\n",
              "      width: 32px;\n",
              "    }\n",
              "\n",
              "    .colab-df-convert:hover {\n",
              "      background-color: #E2EBFA;\n",
              "      box-shadow: 0px 1px 2px rgba(60, 64, 67, 0.3), 0px 1px 3px 1px rgba(60, 64, 67, 0.15);\n",
              "      fill: #174EA6;\n",
              "    }\n",
              "\n",
              "    [theme=dark] .colab-df-convert {\n",
              "      background-color: #3B4455;\n",
              "      fill: #D2E3FC;\n",
              "    }\n",
              "\n",
              "    [theme=dark] .colab-df-convert:hover {\n",
              "      background-color: #434B5C;\n",
              "      box-shadow: 0px 1px 3px 1px rgba(0, 0, 0, 0.15);\n",
              "      filter: drop-shadow(0px 1px 2px rgba(0, 0, 0, 0.3));\n",
              "      fill: #FFFFFF;\n",
              "    }\n",
              "  </style>\n",
              "\n",
              "      <script>\n",
              "        const buttonEl =\n",
              "          document.querySelector('#df-e48b55af-9042-425f-b541-d296f18bdee7 button.colab-df-convert');\n",
              "        buttonEl.style.display =\n",
              "          google.colab.kernel.accessAllowed ? 'block' : 'none';\n",
              "\n",
              "        async function convertToInteractive(key) {\n",
              "          const element = document.querySelector('#df-e48b55af-9042-425f-b541-d296f18bdee7');\n",
              "          const dataTable =\n",
              "            await google.colab.kernel.invokeFunction('convertToInteractive',\n",
              "                                                     [key], {});\n",
              "          if (!dataTable) return;\n",
              "\n",
              "          const docLinkHtml = 'Like what you see? Visit the ' +\n",
              "            '<a target=\"_blank\" href=https://colab.research.google.com/notebooks/data_table.ipynb>data table notebook</a>'\n",
              "            + ' to learn more about interactive tables.';\n",
              "          element.innerHTML = '';\n",
              "          dataTable['output_type'] = 'display_data';\n",
              "          await google.colab.output.renderOutput(dataTable, element);\n",
              "          const docLink = document.createElement('div');\n",
              "          docLink.innerHTML = docLinkHtml;\n",
              "          element.appendChild(docLink);\n",
              "        }\n",
              "      </script>\n",
              "    </div>\n",
              "  </div>\n",
              "  "
            ]
          },
          "metadata": {},
          "execution_count": 145
        }
      ]
    },
    {
      "cell_type": "code",
      "source": [
        "# Calcular o valor de Z\n",
        "z"
      ],
      "metadata": {
        "id": "AntVErH2_RnS",
        "colab": {
          "base_uri": "https://localhost:8080/"
        },
        "outputId": "bddfb1a5-452a-402a-bf90-a6e7ac753c9e"
      },
      "execution_count": 148,
      "outputs": [
        {
          "output_type": "execute_result",
          "data": {
            "text/plain": [
              "1.959963984540054"
            ]
          },
          "metadata": {},
          "execution_count": 148
        }
      ]
    },
    {
      "cell_type": "code",
      "source": [
        "# Calcular demais estatísticas da fórmula do IC e gerar o IC!\n",
        "\n"
      ],
      "metadata": {
        "id": "YGJzZoA-_RnT"
      },
      "execution_count": 147,
      "outputs": []
    },
    {
      "cell_type": "code",
      "source": [
        "ci(df_50.ideb)"
      ],
      "metadata": {
        "colab": {
          "base_uri": "https://localhost:8080/"
        },
        "outputId": "01bcaa7e-e6d0-4148-cc02-c0064a59f627",
        "id": "r1e95KJ3OVZj"
      },
      "execution_count": 149,
      "outputs": [
        {
          "output_type": "execute_result",
          "data": {
            "text/plain": [
              "[5.319960689407347, 5.60738973794308]"
            ]
          },
          "metadata": {},
          "execution_count": 149
        }
      ]
    },
    {
      "cell_type": "code",
      "source": [
        "ci(df_50.indicador_rendimento)"
      ],
      "metadata": {
        "colab": {
          "base_uri": "https://localhost:8080/"
        },
        "outputId": "d84b44eb-8c25-435c-8ea2-bc68762adba2",
        "id": "fplbk6j8OkJk"
      },
      "execution_count": 150,
      "outputs": [
        {
          "output_type": "execute_result",
          "data": {
            "text/plain": [
              "[0.9227617324024754, 0.9418010033240202]"
            ]
          },
          "metadata": {},
          "execution_count": 150
        }
      ]
    },
    {
      "cell_type": "code",
      "source": [
        "ci(df_50.nota_saeb_lingua_portuguesa)"
      ],
      "metadata": {
        "colab": {
          "base_uri": "https://localhost:8080/"
        },
        "outputId": "0c5dcf3c-abcd-4abf-bd1c-a905d3d83961",
        "id": "Qn4rvJ2IOk9I"
      },
      "execution_count": 151,
      "outputs": [
        {
          "output_type": "execute_result",
          "data": {
            "text/plain": [
              "[201.00527681176422, 207.32694541045802]"
            ]
          },
          "metadata": {},
          "execution_count": 151
        }
      ]
    },
    {
      "cell_type": "code",
      "source": [
        "ci(df_50.nota_saeb_matematica)"
      ],
      "metadata": {
        "colab": {
          "base_uri": "https://localhost:8080/"
        },
        "outputId": "995da8be-a821-42fa-b249-7595b9af16b4",
        "id": "JnnJiW8gOla4"
      },
      "execution_count": 152,
      "outputs": [
        {
          "output_type": "execute_result",
          "data": {
            "text/plain": [
              "[214.2078723600109, 220.6654609733225]"
            ]
          },
          "metadata": {},
          "execution_count": 152
        }
      ]
    },
    {
      "cell_type": "code",
      "source": [
        "ci(df_50.nota_saeb_media_padronizada)"
      ],
      "metadata": {
        "colab": {
          "base_uri": "https://localhost:8080/"
        },
        "outputId": "3473a38c-92c3-4387-dae9-34e121bdfac1",
        "id": "U_s_larROloI"
      },
      "execution_count": 153,
      "outputs": [
        {
          "output_type": "execute_result",
          "data": {
            "text/plain": [
              "[5.708514272189457, 5.943270471400287]"
            ]
          },
          "metadata": {},
          "execution_count": 153
        }
      ]
    }
  ]
}